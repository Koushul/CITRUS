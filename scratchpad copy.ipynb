{
 "cells": [
  {
   "cell_type": "code",
   "execution_count": 257,
   "metadata": {},
   "outputs": [],
   "source": [
    "import seaborn as sns\n",
    "import matplotlib.pyplot as plt\n",
    "import numpy as np\n",
    "import pandas as pd\n",
    "import torch\n",
    "import argparse\n",
    "from utils import cfh, logger, Data, bool_ext, checkCorrelations, generate_masks_from_ppi\n",
    "import os\n",
    "import argparse\n",
    "import random\n",
    "from utils import cfh, logger, Data, bool_ext, checkCorrelations, generate_masks_from_ppi\n",
    "from biomodels import BioCitrus\n",
    "import torch\n",
    "import numpy as np\n",
    "import sys\n",
    "from biomodels import weightConstraint\n",
    "from utils import logger, get_minibatch, evaluate, EarlyStopping, shuffle_data\n",
    "from tqdm import tqdm\n",
    "from pathlib import Path\n",
    "from IPython.display import clear_output\n",
    "from collections import defaultdict\n",
    "\n",
    "import warnings\n",
    "warnings.filterwarnings(\"ignore\") ##This is bad but temporary"
   ]
  },
  {
   "cell_type": "code",
   "execution_count": 3,
   "metadata": {},
   "outputs": [],
   "source": [
    "parser = argparse.ArgumentParser()"
   ]
  },
  {
   "cell_type": "code",
   "execution_count": 4,
   "metadata": {},
   "outputs": [
    {
     "name": "stderr",
     "output_type": "stream",
     "text": [
      "\u001b[38;21m(utils.py : 371) -    DEBUG | Loaded 352251 edges from the SIGNOR and SNAP Networks\u001b[0m\n",
      "\u001b[38;21m(utils.py : 395) -    DEBUG | Using induced overlap network with 10270 common genes\u001b[0m\n",
      "\u001b[38;5;39m(utils.py : 489) -     INFO | Using dense COACH clustering algorithm\u001b[0m\n",
      "\u001b[38;5;39m(utils.py : 550) -     INFO | Generated sga-ppi mask with 3862 clusters and 6533 edges\u001b[0m\n",
      "\u001b[38;5;39m(utils.py : 569) -     INFO | Generated ppi-tf mask with 3862 clusters and 268 edges\u001b[0m\n"
     ]
    }
   ],
   "source": [
    "parser.add_argument(\n",
    "    \"--input_dir\", \n",
    "    help=\"directory of input files\", \n",
    "    type=str, \n",
    "    default=\"./data\"\n",
    ")\n",
    "parser.add_argument(\n",
    "    \"--output_dir\",\n",
    "    help=\"directory of output files\",\n",
    "    type=str,\n",
    "    default=\"./output\",\n",
    ")\n",
    "\n",
    "parser.add_argument(\n",
    "    \"--algo\", \n",
    "    help=\"clustering algorithm to use on the portein-protein network (DPCLUS, MCODE, COACH)\", \n",
    "    type=str, \n",
    "    default='COACH'\n",
    ")\n",
    "\n",
    "\n",
    "parser.add_argument(\n",
    "    \"--learning_rate\", \n",
    "    help=\"learning rate for Adam\", \n",
    "    type=float, \n",
    "    default=1e-2\n",
    ")\n",
    "parser.add_argument(\n",
    "    \"--max_iter\", \n",
    "    help=\"maximum number of training iterations\", \n",
    "    type=int, \n",
    "    default=300\n",
    ")\n",
    "parser.add_argument(\n",
    "    \"--max_fscore\",\n",
    "    help=\"Max F1 score to early stop model from training\",\n",
    "    type=float,\n",
    "    default=0.7\n",
    ")\n",
    "parser.add_argument(\n",
    "    \"--batch_size\", \n",
    "    help=\"training batch size\", \n",
    "    type=int, \n",
    "    default=100\n",
    ")\n",
    "parser.add_argument(\n",
    "    \"--test_batch_size\", \n",
    "    help=\"test batch size\", \n",
    "    type=int, \n",
    "    default=100\n",
    ")\n",
    "parser.add_argument(\n",
    "    \"--test_inc_size\",\n",
    "    help=\"increment interval size between log outputs\",\n",
    "    type=int,\n",
    "    default=256\n",
    ")\n",
    "parser.add_argument(\n",
    "    \"--dropout_rate\", \n",
    "    help=\"dropout rate\", \n",
    "    type=float, \n",
    "    default=0.1\n",
    ")\n",
    "\n",
    "parser.add_argument(\n",
    "    \"--weight_decay\", \n",
    "    help=\"coefficient of l2 regularizer\", \n",
    "    type=float, \n",
    "    default=1e-2\n",
    ")\n",
    "parser.add_argument(\n",
    "    \"--activation\",\n",
    "    help=\"activation function used in hidden layer\",\n",
    "    type=str,\n",
    "    default=\"tanh\",\n",
    ")\n",
    "parser.add_argument(\n",
    "    \"--patience\", \n",
    "    help=\"earlystopping patience\", \n",
    "    type=int, \n",
    "    default=20\n",
    ")\n",
    "parser.add_argument(\n",
    "    \"--mask01\",\n",
    "    help=\"wether to ignore the float value and convert mask to 01\",\n",
    "    type=bool_ext,\n",
    "    default=True,\n",
    ")\n",
    "parser.add_argument(\n",
    "    \"--gep_normalization\", \n",
    "    help=\"how to normalize gep\", \n",
    "    type=str, \n",
    "    default=\"scaleRow\"\n",
    ")\n",
    "\n",
    "parser.add_argument(\n",
    "    \"--cancer_type\",\n",
    "    help=\"whether to use cancer type or not\",\n",
    "    type=bool_ext,\n",
    "    default=False,\n",
    ")\n",
    "parser.add_argument(\n",
    "    \"--train_model\",\n",
    "    help=\"whether to train model or load model\",\n",
    "    type=bool_ext,\n",
    "    default=True,\n",
    ")\n",
    "parser.add_argument(\n",
    "    \"--dataset_name\",\n",
    "    help=\"the dataset name loaded and saved\",\n",
    "    type=str,\n",
    "    default=\"dataset_CITRUS\",\n",
    ")\n",
    "parser.add_argument(\n",
    "    \"--tag\", \n",
    "    help=\"a tag passed from command line\", \n",
    "    type=str, \n",
    "    default=\"\"\n",
    ")\n",
    "parser.add_argument(\n",
    "    \"--run_count\", \n",
    "    help=\"the count for training\", \n",
    "    type=str, \n",
    "    default=\"1\"\n",
    ")\n",
    "\n",
    "parser.add_argument(\n",
    "    \"--ppi_weights\", \n",
    "    help=\"\", \n",
    "    type=bool_ext, \n",
    "    default=False\n",
    ")\n",
    "\n",
    "parser.add_argument(\n",
    "    \"--verbose\", \n",
    "    help=\"\", \n",
    "    type=bool_ext, \n",
    "    default=False\n",
    ")\n",
    "\n",
    "parser.add_argument(\n",
    "    \"--constrain\", \n",
    "    help=\"force weight and biases to be strictly non-negative\", \n",
    "    type=bool_ext, \n",
    "    default=False\n",
    ")\n",
    "\n",
    "parser.add_argument(\n",
    "    \"--biases\", \n",
    "    help=\"enable all nn.Linear biases\", \n",
    "    type=bool_ext, \n",
    "    default=True\n",
    ")\n",
    "\n",
    "parser.add_argument(\n",
    "    \"--sparse\", \n",
    "    help=\"only use SIGNOR data, resulting in sparser connections\", \n",
    "    type=bool_ext, \n",
    "    default=False\n",
    ")\n",
    "\n",
    "args = parser.parse_args([])\n",
    "\n",
    "data = Data(\n",
    "    fGEP_SGA = 'data/CITRUS_GEP_SGAseparated.csv',\n",
    "    fgene_tf_SGA = 'data/CITRUS_gene_tf_SGAseparated.csv',\n",
    "    fcancerType_SGA = 'data/CITRUS_canType_SGAseparated.csv',\n",
    "    fSGA_SGA = 'data/CITRUS_SGA_SGAseparated.csv',\n",
    "    cancer_type='BRCA'\n",
    ")\n",
    "\n",
    "train_set, test_set = data.get_train_test()\n",
    "args.gep_size = train_set['gep'].shape[1]\n",
    "args.tf_gene = data.gene_tf_sga.values.T\n",
    "args.can_size = len(np.unique(data.cancer_types))\n",
    "\n",
    "\n",
    "sga_mask, sga_weights, tf_mask, tf_weights = generate_masks_from_ppi(sga = data.sga_sga, tf = data.gene_tf_sga, clust_algo=args.algo, sparse=args.sparse)\n",
    "\n",
    "\n",
    "sga_mask = sga_mask\n",
    "sga_weights = sga_weights.t()\n",
    "tf_mask = tf_mask.t()\n",
    "tf_weights = tf_weights\n"
   ]
  },
  {
   "cell_type": "code",
   "execution_count": 5,
   "metadata": {},
   "outputs": [],
   "source": [
    "from captum.attr import LayerConductance, LayerActivation, LayerIntegratedGradients\n",
    "from captum.attr import IntegratedGradients"
   ]
  },
  {
   "cell_type": "code",
   "execution_count": 6,
   "metadata": {},
   "outputs": [
    {
     "name": "stderr",
     "output_type": "stream",
     "text": [
      "\u001b[38;21m(biomodels.py : 106) -    DEBUG | sga_layer.0.mask | False | (3862, 11998)\u001b[0m\n",
      "\u001b[38;21m(biomodels.py : 106) -    DEBUG | sga_layer.0.weight | True | (3862, 11998)\u001b[0m\n",
      "\u001b[38;21m(biomodels.py : 106) -    DEBUG | sga_layer.0.bias | True | (3862,)\u001b[0m\n",
      "\u001b[38;21m(biomodels.py : 106) -    DEBUG | tf_layer.0.mask | False | (320, 3862)\u001b[0m\n",
      "\u001b[38;21m(biomodels.py : 106) -    DEBUG | tf_layer.0.weight | True | (320, 3862)\u001b[0m\n",
      "\u001b[38;21m(biomodels.py : 106) -    DEBUG | tf_layer.0.bias | True | (320,)\u001b[0m\n",
      "\u001b[38;21m(biomodels.py : 106) -    DEBUG | gep_output_layer.weight | True | (5541, 320)\u001b[0m\n",
      "\u001b[38;21m(biomodels.py : 106) -    DEBUG | gep_output_layer.bias | True | (5541,)\u001b[0m\n",
      "\u001b[38;21m(biomodels.py : 108) -    DEBUG | Constraints Enabled: False\u001b[0m\n",
      "\u001b[38;21m(biomodels.py : 109) -    DEBUG | Biases Enabled: True\u001b[0m\n"
     ]
    },
    {
     "name": "stdout",
     "output_type": "stream",
     "text": [
      "\n"
     ]
    }
   ],
   "source": [
    "models = []\n",
    "for i in range(30):\n",
    "    \n",
    "    model = BioCitrus(\n",
    "        args = args, \n",
    "        sga_ppi_mask = sga_mask, \n",
    "        ppi_tf_mask = tf_mask, \n",
    "        sga_ppi_weights = None, \n",
    "        ppi_tf_weights = None,\n",
    "        enable_bias = args.biases\n",
    "    )\n",
    "\n",
    "    model.load_state_dict(torch.load(f'/ix/hosmanbeyoglu/kor11/CITRUS_models/BRCA_{i}.pth', \n",
    "                                map_location=torch.device('cpu')))\n",
    "    \n",
    "    model.eval()\n",
    "    \n",
    "    models.append(model)\n",
    "    clear_output(wait=True)"
   ]
  },
  {
   "cell_type": "code",
   "execution_count": 7,
   "metadata": {},
   "outputs": [],
   "source": [
    "X = torch.tensor(test_set['sga'])\n",
    "Y = test_set['gep']"
   ]
  },
  {
   "cell_type": "code",
   "execution_count": 8,
   "metadata": {},
   "outputs": [],
   "source": [
    "all_attr_scores = np.load('all_attr_scores.npy')"
   ]
  },
  {
   "cell_type": "code",
   "execution_count": 9,
   "metadata": {},
   "outputs": [],
   "source": [
    "models = np.array(models)[[21, 20, 10, 17, 5, 11, 12, 14, 6, 25]]"
   ]
  },
  {
   "cell_type": "code",
   "execution_count": 10,
   "metadata": {},
   "outputs": [],
   "source": [
    "dff = pd.DataFrame(all_attr_scores[0], \n",
    "    columns=data.sga_sga.columns, index=data.gep_sga.columns).sum(0).sort_values(ascending=False)"
   ]
  },
  {
   "cell_type": "code",
   "execution_count": 11,
   "metadata": {},
   "outputs": [],
   "source": [
    "df = pd.DataFrame([data.sga_sga.sum().loc[dff.index].values, dff.values], \n",
    "                  columns=dff.index, index=['alt_freq', 'int_grad']).T"
   ]
  },
  {
   "cell_type": "code",
   "execution_count": 12,
   "metadata": {},
   "outputs": [],
   "source": [
    "df['int_grad'] = ((df['int_grad'] - df['int_grad'].min())/(df['int_grad'].max()-df['int_grad'].min()))*10000"
   ]
  },
  {
   "cell_type": "code",
   "execution_count": 13,
   "metadata": {},
   "outputs": [
    {
     "data": {
      "text/plain": [
       "1.6811278043547329"
      ]
     },
     "execution_count": 13,
     "metadata": {},
     "output_type": "execute_result"
    }
   ],
   "source": [
    "df['int_grad'].mean()"
   ]
  },
  {
   "cell_type": "code",
   "execution_count": 14,
   "metadata": {},
   "outputs": [],
   "source": [
    "df['int_grad'] = np.log10(df['int_grad'])\n",
    "df['alt_freq'] = np.log10(df['alt_freq'])"
   ]
  },
  {
   "cell_type": "code",
   "execution_count": 15,
   "metadata": {},
   "outputs": [],
   "source": [
    "# plt.figure(figsize=(10, 8))\n",
    "# ax = sns.scatterplot(data=df, x='alt_freq', y='int_grad')\n",
    "# plt.xlabel('Log10 Alteration Frequency')\n",
    "# plt.ylabel('Log10 Integrated Gradient Importance')\n",
    "# # plt.savefig('frequency_plots.png', dpi=180)\n",
    "# plt.show()"
   ]
  },
  {
   "cell_type": "code",
   "execution_count": 16,
   "metadata": {},
   "outputs": [],
   "source": [
    "def tf_activity(model, target_gene):\n",
    "    lc = LayerConductance(model, model.gep_output_layer)\n",
    "    ix = list(data.gep_sga.columns).index(target_gene)\n",
    "    a = lc.attribute(X, n_steps=5, attribute_to_layer_input=False, target=[ix]*len(X))\n",
    "    \n",
    "    ig_attr_test_sum = a.detach().numpy().sum(0)\n",
    "    ig_attr_test_norm_sum = ig_attr_test_sum / np.linalg.norm(ig_attr_test_sum, ord=1)\n",
    "    \n",
    "    g = np.array(data.gene_tf_sga.columns)[np.where(ig_attr_test_norm_sum != 0)[0]]\n",
    "    at = ig_attr_test_norm_sum[np.where(ig_attr_test_norm_sum != 0)[0]]\n",
    "    \n",
    "    df = pd.DataFrame([g, at]).T\n",
    "    df.columns = ['TF', 'score']\n",
    "    \n",
    "    return df.sort_values(by='score', ascending=False)"
   ]
  },
  {
   "cell_type": "code",
   "execution_count": 17,
   "metadata": {},
   "outputs": [],
   "source": [
    "with open('/ihome/hosmanbeyoglu/kor11/tools/CITRUS/COACH_clusters_large.txt', \"r\") as fh:\n",
    "        lines = fh.readlines()\n",
    "        clusterindex_to_genes = {}\n",
    "        for i, c in enumerate(lines):\n",
    "            clustlist = c.strip().split(\" \")\n",
    "            if len(c) == 0:\n",
    "                continue\n",
    "            clusterindex_to_genes[i] = clustlist \n",
    "\n",
    "from collections import defaultdict\n",
    "gene_to_clusterindices = defaultdict(list) ## 'MAPK1':[0, 75, 129, 373]\n",
    "\n",
    "## Create mapping between genes and the protein clusters\n",
    "for c in clusterindex_to_genes.keys():\n",
    "    for g in clusterindex_to_genes[c]:\n",
    "        gene_to_clusterindices[g].append(c)  "
   ]
  },
  {
   "cell_type": "code",
   "execution_count": 18,
   "metadata": {},
   "outputs": [],
   "source": [
    "cancers = ['BLCA', 'BRCA', 'CESC', 'COAD', 'ESCA', 'GBM', 'HNSC', 'KIRC',\n",
    "       'KIRP', 'LIHC', 'LUAD', 'LUSC', 'PCPG', 'PRAD', 'STAD', 'THCA',\n",
    "       'UCEC']"
   ]
  },
  {
   "cell_type": "code",
   "execution_count": 19,
   "metadata": {},
   "outputs": [],
   "source": [
    "# r = []\n",
    "# for cancer in cancers:\n",
    "#     m = np.load(f'./metrics/{cancer}_shuffled_metrics.npy')\n",
    "#     mean_loss, mean_corr = np.around(np.array([x[-1] for x in m]).mean(0), 3)\n",
    "#     std_loss, std_corr = np.round(np.array([x[-1] for x in m]).std(0), 3)\n",
    "#     r.append((cancer, f'{mean_corr}+/-{std_corr}', f'{mean_loss}+/-{std_loss}'))\n",
    "# pd.DataFrame(r, columns = ['cancer type', 'mse', 'pearson'])"
   ]
  },
  {
   "cell_type": "code",
   "execution_count": 20,
   "metadata": {},
   "outputs": [],
   "source": [
    "data = Data(\n",
    "    fGEP_SGA = 'data/CITRUS_GEP_SGAseparated.csv',\n",
    "    fgene_tf_SGA = 'data/CITRUS_gene_tf_SGAseparated.csv',\n",
    "    fcancerType_SGA = 'data/CITRUS_canType_SGAseparated.csv',\n",
    "    fSGA_SGA = 'data/CITRUS_SGA_SGAseparated.csv',\n",
    "    cancer_type='BRCA'\n",
    ")\n",
    "\n",
    "train_set, test_set = data.get_train_test()\n"
   ]
  },
  {
   "cell_type": "code",
   "execution_count": 21,
   "metadata": {},
   "outputs": [
    {
     "data": {
      "text/plain": [
       "(720, 11998)"
      ]
     },
     "execution_count": 21,
     "metadata": {},
     "output_type": "execute_result"
    }
   ],
   "source": [
    "df = data.sga_sga\n",
    "X = df.values\n",
    "X.shape"
   ]
  },
  {
   "cell_type": "code",
   "execution_count": 22,
   "metadata": {},
   "outputs": [
    {
     "data": {
      "text/plain": [
       "(265, 11998)"
      ]
     },
     "execution_count": 22,
     "metadata": {},
     "output_type": "execute_result"
    }
   ],
   "source": [
    "X1 = df[(df['SM_PIK3CA']==1)]\n",
    "X1.shape"
   ]
  },
  {
   "cell_type": "code",
   "execution_count": 23,
   "metadata": {},
   "outputs": [
    {
     "data": {
      "text/plain": [
       "(455, 11998)"
      ]
     },
     "execution_count": 23,
     "metadata": {},
     "output_type": "execute_result"
    }
   ],
   "source": [
    "X0 = df[(df['SM_PIK3CA']==0)]\n",
    "X0.shape"
   ]
  },
  {
   "cell_type": "code",
   "execution_count": 24,
   "metadata": {},
   "outputs": [],
   "source": [
    "tf_profiles1 = np.load('tf_profiles_1.npy')\n",
    "tf_profiles2 = np.load('tf_profiles_2.npy')\n"
   ]
  },
  {
   "cell_type": "code",
   "execution_count": 25,
   "metadata": {},
   "outputs": [],
   "source": [
    "r = [tf_profiles1, tf_profiles2]"
   ]
  },
  {
   "cell_type": "code",
   "execution_count": 26,
   "metadata": {},
   "outputs": [],
   "source": [
    "from scipy.stats import mannwhitneyu"
   ]
  },
  {
   "cell_type": "code",
   "execution_count": 27,
   "metadata": {},
   "outputs": [
    {
     "name": "stdout",
     "output_type": "stream",
     "text": [
      "(50, 3)\n"
     ]
    }
   ],
   "source": [
    "rf = pd.DataFrame([data.gene_tf_sga.columns, \n",
    "        [mannwhitneyu(r[0][:, i][:], r[1][:, i]).pvalue * 5541 for i in range(320)]]).T.sort_values(by=1)\n",
    "\n",
    "rf.columns = ['TF', 'P']\n",
    "rf['EFFECTSIZE'] = abs(tf_profiles1.mean(0)  - tf_profiles2.mean(0))\n",
    "print(rf[rf.P < 0.05].shape)\n",
    "# rf[rf.AdjPvalue < 0.05].sort_values(by='foldchange', ascending=False)\n",
    "rf = rf[rf.P < 1]"
   ]
  },
  {
   "cell_type": "code",
   "execution_count": 28,
   "metadata": {},
   "outputs": [],
   "source": [
    "rf.P = rf.P.astype(np.float)"
   ]
  },
  {
   "cell_type": "code",
   "execution_count": 29,
   "metadata": {},
   "outputs": [
    {
     "data": {
      "text/html": [
       "<div>\n",
       "<style scoped>\n",
       "    .dataframe tbody tr th:only-of-type {\n",
       "        vertical-align: middle;\n",
       "    }\n",
       "\n",
       "    .dataframe tbody tr th {\n",
       "        vertical-align: top;\n",
       "    }\n",
       "\n",
       "    .dataframe thead th {\n",
       "        text-align: right;\n",
       "    }\n",
       "</style>\n",
       "<table border=\"1\" class=\"dataframe\">\n",
       "  <thead>\n",
       "    <tr style=\"text-align: right;\">\n",
       "      <th></th>\n",
       "      <th>TF</th>\n",
       "      <th>P</th>\n",
       "      <th>EFFECTSIZE</th>\n",
       "    </tr>\n",
       "  </thead>\n",
       "  <tbody>\n",
       "    <tr>\n",
       "      <th>294</th>\n",
       "      <td>HEY1</td>\n",
       "      <td>1.247146e-108</td>\n",
       "      <td>1.288033e-01</td>\n",
       "    </tr>\n",
       "    <tr>\n",
       "      <th>128</th>\n",
       "      <td>TCF12</td>\n",
       "      <td>5.787345e-35</td>\n",
       "      <td>7.084708e-01</td>\n",
       "    </tr>\n",
       "    <tr>\n",
       "      <th>121</th>\n",
       "      <td>NFYC</td>\n",
       "      <td>5.657469e-08</td>\n",
       "      <td>1.046785e-07</td>\n",
       "    </tr>\n",
       "    <tr>\n",
       "      <th>153</th>\n",
       "      <td>FLI1</td>\n",
       "      <td>1.543887e-06</td>\n",
       "      <td>5.049044e-01</td>\n",
       "    </tr>\n",
       "    <tr>\n",
       "      <th>83</th>\n",
       "      <td>ERG</td>\n",
       "      <td>1.681252e-06</td>\n",
       "      <td>0.000000e+00</td>\n",
       "    </tr>\n",
       "    <tr>\n",
       "      <th>...</th>\n",
       "      <td>...</td>\n",
       "      <td>...</td>\n",
       "      <td>...</td>\n",
       "    </tr>\n",
       "    <tr>\n",
       "      <th>257</th>\n",
       "      <td>ETV1</td>\n",
       "      <td>6.305362e-01</td>\n",
       "      <td>0.000000e+00</td>\n",
       "    </tr>\n",
       "    <tr>\n",
       "      <th>47</th>\n",
       "      <td>RUNX1</td>\n",
       "      <td>8.064497e-01</td>\n",
       "      <td>1.074662e-06</td>\n",
       "    </tr>\n",
       "    <tr>\n",
       "      <th>154</th>\n",
       "      <td>HIC1</td>\n",
       "      <td>8.492413e-01</td>\n",
       "      <td>4.700601e-03</td>\n",
       "    </tr>\n",
       "    <tr>\n",
       "      <th>26</th>\n",
       "      <td>HIVEP1</td>\n",
       "      <td>8.729153e-01</td>\n",
       "      <td>1.254514e-06</td>\n",
       "    </tr>\n",
       "    <tr>\n",
       "      <th>43</th>\n",
       "      <td>ETV6</td>\n",
       "      <td>9.222162e-01</td>\n",
       "      <td>2.053237e-05</td>\n",
       "    </tr>\n",
       "  </tbody>\n",
       "</table>\n",
       "<p>71 rows × 3 columns</p>\n",
       "</div>"
      ],
      "text/plain": [
       "         TF              P    EFFECTSIZE\n",
       "294    HEY1  1.247146e-108  1.288033e-01\n",
       "128   TCF12   5.787345e-35  7.084708e-01\n",
       "121    NFYC   5.657469e-08  1.046785e-07\n",
       "153    FLI1   1.543887e-06  5.049044e-01\n",
       "83      ERG   1.681252e-06  0.000000e+00\n",
       "..      ...            ...           ...\n",
       "257    ETV1   6.305362e-01  0.000000e+00\n",
       "47    RUNX1   8.064497e-01  1.074662e-06\n",
       "154    HIC1   8.492413e-01  4.700601e-03\n",
       "26   HIVEP1   8.729153e-01  1.254514e-06\n",
       "43     ETV6   9.222162e-01  2.053237e-05\n",
       "\n",
       "[71 rows x 3 columns]"
      ]
     },
     "execution_count": 29,
     "metadata": {},
     "output_type": "execute_result"
    }
   ],
   "source": [
    "rf"
   ]
  },
  {
   "cell_type": "code",
   "execution_count": 92,
   "metadata": {},
   "outputs": [],
   "source": [
    "import requests\n",
    "import json \n",
    "import pandas as pd\n",
    "\n",
    "class Enrichr(object):\n",
    "    \n",
    "    def __init__(self):\n",
    "        self.ENRICHR_URL_ADDLIST = 'https://maayanlab.cloud/Enrichr/addList'\n",
    "        self.ENRICHR_URL = 'https://maayanlab.cloud/Enrichr/enrich'\n",
    "        self.QUERY_STR = '?userListId=%s&backgroundType=%s'\n",
    "        self.libraries = [\n",
    "            'VirusMINT', \n",
    "            'GO_Biological_Process_2021', \n",
    "            'MSigDB_Hallmark_2020', \n",
    "            'KEGG_2021_Human', \n",
    "            'Reactome_2016']\n",
    "        \n",
    "    \n",
    "    def _addlist(self, geneset):\n",
    "        genes_str = '\\n'.join(geneset)\n",
    "        description = ''\n",
    "        payload = {\n",
    "            'list': (None, genes_str),\n",
    "            'description': (None, description)\n",
    "        }\n",
    "        response = requests.post(self.ENRICHR_URL_ADDLIST, files=payload)\n",
    "        data = json.loads(response.text)\n",
    "        \n",
    "        return data['userListId']\n",
    "    \n",
    "    def get_enrichment_results(self, geneset, gene_set_library = 'GO_Biological_Process_2021'):\n",
    "        user_list_id = self._addlist(geneset)\n",
    "        response = requests.get(\n",
    "        self.ENRICHR_URL + self.QUERY_STR % (user_list_id, gene_set_library))\n",
    "        data = json.loads(response.text)\n",
    "        df = pd.DataFrame(data[gene_set_library])[[1, 2, 3, 4, 5, 6]]\n",
    "        df.columns = ['Terms', 'Pval', 'OddsRatio', 'Score', 'Genes', 'AdjPval']\n",
    "        \n",
    "        return df[round(df.AdjPval, 3) < 0.05].sort_values(by='AdjPval')"
   ]
  },
  {
   "cell_type": "code",
   "execution_count": 31,
   "metadata": {},
   "outputs": [],
   "source": [
    "model = models[0]\n",
    "target_gene = 'PIK3CA'"
   ]
  },
  {
   "cell_type": "code",
   "execution_count": 108,
   "metadata": {},
   "outputs": [
    {
     "data": {
      "text/plain": [
       "(211, 7650)"
      ]
     },
     "execution_count": 108,
     "metadata": {},
     "output_type": "execute_result"
    }
   ],
   "source": [
    "list(data.sga_sga.columns).index('SM_PIK3CA'), list(data.sga_sga.columns).index('SCNA_PIK3CA')"
   ]
  },
  {
   "cell_type": "code",
   "execution_count": 110,
   "metadata": {},
   "outputs": [
    {
     "data": {
      "text/plain": [
       "19"
      ]
     },
     "execution_count": 110,
     "metadata": {},
     "output_type": "execute_result"
    }
   ],
   "source": [
    "np.where(model.sga_layer[0].mask[:, 211] == 1)[0].__len__()"
   ]
  },
  {
   "cell_type": "code",
   "execution_count": 248,
   "metadata": {},
   "outputs": [
    {
     "data": {
      "text/plain": [
       "19"
      ]
     },
     "execution_count": 248,
     "metadata": {},
     "output_type": "execute_result"
    }
   ],
   "source": [
    "np.where(model.sga_layer[0].mask[:, 7650] == 1)[0].__len__()"
   ]
  },
  {
   "cell_type": "code",
   "execution_count": 93,
   "metadata": {},
   "outputs": [],
   "source": [
    "enrichr = Enrichr()"
   ]
  },
  {
   "cell_type": "code",
   "execution_count": 220,
   "metadata": {},
   "outputs": [
    {
     "data": {
      "text/plain": [
       "['T cell receptor signaling pathway | Natural killer cell mediated cytotoxicity',\n",
       " 'Inflammatory mediator regulation of TRP channels | Insulin resistance',\n",
       " 'ErbB signaling pathway | Chronic myeloid leukemia',\n",
       " 'JAK-STAT signaling pathway | Pathways in cancer',\n",
       " 'Pathways in cancer | Proteoglycans in cancer',\n",
       " 'Focal adhesion | Neurotrophin signaling pathway',\n",
       " 'ErbB signaling pathway | Renal cell carcinoma',\n",
       " 'ErbB signaling pathway | Chronic myeloid leukemia',\n",
       " 'Hepatitis C | Proteoglycans in cancer',\n",
       " 'Thyroid hormone signaling pathway | Pathways in cancer',\n",
       " 'Autophagy | Neurotrophin signaling pathway',\n",
       " 'Pathways in cancer | Transcriptional misregulation in cancer',\n",
       " 'Growth hormone synthesis, secretion and action | Insulin signaling pathway',\n",
       " 'PI3K-Akt signaling pathway | MicroRNAs in cancer',\n",
       " 'TNF signaling pathway | NF-kappa B signaling pathway',\n",
       " 'Prostate cancer | PI3K-Akt signaling pathway',\n",
       " 'Pathways in cancer | Thyroid hormone signaling pathway',\n",
       " 'Insulin resistance | Estrogen signaling pathway',\n",
       " 'ErbB signaling pathway | Focal adhesion']"
      ]
     },
     "execution_count": 220,
     "metadata": {},
     "output_type": "execute_result"
    }
   ],
   "source": [
    "[' | '.join(enrichr.get_enrichment_results(geneset=set(clusterindex_to_genes[i]), gene_set_library='KEGG_2021_Human').Terms[:2].values) \n",
    "        for i in np.where(model.sga_layer[0].mask[:, 211] == 1)[0]]"
   ]
  },
  {
   "cell_type": "code",
   "execution_count": 229,
   "metadata": {},
   "outputs": [],
   "source": [
    "libraries = [\n",
    "    'VirusMINT', \n",
    "    'GO_Biological_Process_2021', \n",
    "    'MSigDB_Hallmark_2020', \n",
    "    'KEGG_2021_Human', \n",
    "    'Reactome_2016']"
   ]
  },
  {
   "cell_type": "code",
   "execution_count": 247,
   "metadata": {},
   "outputs": [
    {
     "data": {
      "text/plain": [
       "torch.Size([3862, 11998])"
      ]
     },
     "execution_count": 247,
     "metadata": {},
     "output_type": "execute_result"
    }
   ],
   "source": [
    "model.sga_layer[0].mask.shape"
   ]
  },
  {
   "cell_type": "code",
   "execution_count": 113,
   "metadata": {},
   "outputs": [
    {
     "data": {
      "text/plain": [
       "array([  32,  304,  413,  437, 1379, 1388, 1725, 1784, 1841, 1997, 2100,\n",
       "       2118, 2248, 2693, 2888, 2967, 3293, 3628, 3852])"
      ]
     },
     "execution_count": 113,
     "metadata": {},
     "output_type": "execute_result"
    }
   ],
   "source": [
    "np.where(model.sga_layer[0].mask[:, 211] == 1)[0]"
   ]
  },
  {
   "cell_type": "code",
   "execution_count": 112,
   "metadata": {},
   "outputs": [
    {
     "data": {
      "text/plain": [
       "torch.Size([320, 3862])"
      ]
     },
     "execution_count": 112,
     "metadata": {},
     "output_type": "execute_result"
    }
   ],
   "source": [
    "model.tf_layer[0].mask.shape"
   ]
  },
  {
   "cell_type": "code",
   "execution_count": 123,
   "metadata": {},
   "outputs": [],
   "source": [
    "cluster2tf = dict(zip(np.where(model.sga_layer[0].mask[:, 211] == 1)[0], [np.where(model.tf_layer[0].mask[:, i] == 1)[0].tolist() for i in np.where(model.sga_layer[0].mask[:, 211] == 1)[0]]))"
   ]
  },
  {
   "cell_type": "code",
   "execution_count": 134,
   "metadata": {},
   "outputs": [],
   "source": [
    "tfs = set()\n",
    "for k, v in cluster2tf.items():\n",
    "    for i in v:\n",
    "        tfs.add(i)"
   ]
  },
  {
   "cell_type": "code",
   "execution_count": 136,
   "metadata": {},
   "outputs": [
    {
     "data": {
      "text/plain": [
       "44"
      ]
     },
     "execution_count": 136,
     "metadata": {},
     "output_type": "execute_result"
    }
   ],
   "source": [
    "tfs.__len__()"
   ]
  },
  {
   "cell_type": "code",
   "execution_count": 249,
   "metadata": {},
   "outputs": [
    {
     "data": {
      "text/plain": [
       "320"
      ]
     },
     "execution_count": 249,
     "metadata": {},
     "output_type": "execute_result"
    }
   ],
   "source": [
    "data.gene_tf_sga.columns.__len__()"
   ]
  },
  {
   "cell_type": "code",
   "execution_count": 141,
   "metadata": {},
   "outputs": [
    {
     "data": {
      "text/plain": [
       "Index(['SMARCC1', 'PPARG', 'FOXO3', 'TCF12', 'FOXH1', 'BRCA1', 'MAFK', 'RUNX2',\n",
       "       'TP73', 'YY1', 'FLI1', 'FOXP3', 'CREB1', 'TP53', 'HIF1A', 'HEY1',\n",
       "       'MECOM', 'SMARCC2', 'SMAD3', 'RUNX1', 'JUN', 'E2F5', 'AR', 'MYC',\n",
       "       'TGIF1', 'STAT3', 'ESR2', 'SMAD4', 'STAT1', 'CEBPA', 'CEBPB', 'GLI3',\n",
       "       'PLAGL1', 'SMAD1', 'ZEB1', 'ATF3', 'RELA', 'RUNX3', 'ESR1', 'NFYC',\n",
       "       'CEBPD', 'NR3C1', 'SMAD2', 'E2F4'],\n",
       "      dtype='object')"
      ]
     },
     "execution_count": 141,
     "metadata": {},
     "output_type": "execute_result"
    }
   ],
   "source": [
    "data.gene_tf_sga.columns[list(tfs)]"
   ]
  },
  {
   "cell_type": "code",
   "execution_count": 232,
   "metadata": {},
   "outputs": [
    {
     "data": {
      "text/plain": [
       "((285, 11998), (435, 11998))"
      ]
     },
     "execution_count": 232,
     "metadata": {},
     "output_type": "execute_result"
    }
   ],
   "source": [
    "X1 = df[(df['SM_PIK3CA']==1) | (df['SCNA_PIK3CA']==1)]\n",
    "X0 = df[(df['SM_PIK3CA']==0) & (df['SCNA_PIK3CA']==0)]\n",
    "\n",
    "X1.shape, X0.shape"
   ]
  },
  {
   "cell_type": "code",
   "execution_count": 233,
   "metadata": {},
   "outputs": [],
   "source": [
    "attrs_a = []\n",
    "attrs_b = []\n",
    "model = models[1]\n",
    "\n",
    "for xx in [X1, X0]:\n",
    "    patient = torch.from_numpy(xx.values)\n",
    "    lc = LayerConductance(model, model.tf_layer)\n",
    "    ix = list(data.gep_sga.columns).index('PIK3CA')\n",
    "    a = lc.attribute(patient, n_steps=50, attribute_to_layer_input=True, target=ix)\n",
    "    b = lc.attribute(patient, n_steps=50, attribute_to_layer_input=False, target=ix)\n",
    "\n",
    "\n",
    "    ig_attr_test_sum = a.detach().numpy().mean(0)\n",
    "    ig_attr_test_norm_sum = ig_attr_test_sum / np.linalg.norm(ig_attr_test_sum, ord=1)\n",
    "\n",
    "    ig_attr_test_sum_b = b.detach().numpy().mean(0)\n",
    "    ig_attr_test_norm_sum_b = ig_attr_test_sum_b / np.linalg.norm(ig_attr_test_sum_b, ord=1)\n",
    "\n",
    "    ig_attr_test_sum.shape, ig_attr_test_sum_b.shape\n",
    "    \n",
    "    attrs_a.append(ig_attr_test_norm_sum)\n",
    "    attrs_b.append(ig_attr_test_norm_sum_b)\n",
    "    "
   ]
  },
  {
   "cell_type": "code",
   "execution_count": 239,
   "metadata": {},
   "outputs": [
    {
     "data": {
      "text/html": [
       "<div>\n",
       "<style scoped>\n",
       "    .dataframe tbody tr th:only-of-type {\n",
       "        vertical-align: middle;\n",
       "    }\n",
       "\n",
       "    .dataframe tbody tr th {\n",
       "        vertical-align: top;\n",
       "    }\n",
       "\n",
       "    .dataframe thead th {\n",
       "        text-align: right;\n",
       "    }\n",
       "</style>\n",
       "<table border=\"1\" class=\"dataframe\">\n",
       "  <thead>\n",
       "    <tr style=\"text-align: right;\">\n",
       "      <th></th>\n",
       "      <th>X1</th>\n",
       "      <th>X0</th>\n",
       "      <th>delta</th>\n",
       "    </tr>\n",
       "  </thead>\n",
       "  <tbody>\n",
       "    <tr>\n",
       "      <th>1997</th>\n",
       "      <td>0.081387</td>\n",
       "      <td>0.014886</td>\n",
       "      <td>0.066501</td>\n",
       "    </tr>\n",
       "    <tr>\n",
       "      <th>3229</th>\n",
       "      <td>0.120188</td>\n",
       "      <td>0.133060</td>\n",
       "      <td>0.012872</td>\n",
       "    </tr>\n",
       "    <tr>\n",
       "      <th>3151</th>\n",
       "      <td>0.082730</td>\n",
       "      <td>0.092031</td>\n",
       "      <td>0.009301</td>\n",
       "    </tr>\n",
       "    <tr>\n",
       "      <th>3018</th>\n",
       "      <td>0.102026</td>\n",
       "      <td>0.107705</td>\n",
       "      <td>0.005679</td>\n",
       "    </tr>\n",
       "    <tr>\n",
       "      <th>1571</th>\n",
       "      <td>0.052090</td>\n",
       "      <td>0.057322</td>\n",
       "      <td>0.005231</td>\n",
       "    </tr>\n",
       "    <tr>\n",
       "      <th>3162</th>\n",
       "      <td>0.030771</td>\n",
       "      <td>0.035194</td>\n",
       "      <td>0.004423</td>\n",
       "    </tr>\n",
       "    <tr>\n",
       "      <th>2460</th>\n",
       "      <td>0.025059</td>\n",
       "      <td>0.029040</td>\n",
       "      <td>0.003981</td>\n",
       "    </tr>\n",
       "    <tr>\n",
       "      <th>53</th>\n",
       "      <td>0.048185</td>\n",
       "      <td>0.050850</td>\n",
       "      <td>0.002665</td>\n",
       "    </tr>\n",
       "    <tr>\n",
       "      <th>3767</th>\n",
       "      <td>0.036190</td>\n",
       "      <td>0.038307</td>\n",
       "      <td>0.002117</td>\n",
       "    </tr>\n",
       "    <tr>\n",
       "      <th>3600</th>\n",
       "      <td>0.027042</td>\n",
       "      <td>0.028902</td>\n",
       "      <td>0.001860</td>\n",
       "    </tr>\n",
       "    <tr>\n",
       "      <th>2763</th>\n",
       "      <td>0.023245</td>\n",
       "      <td>0.024987</td>\n",
       "      <td>0.001742</td>\n",
       "    </tr>\n",
       "    <tr>\n",
       "      <th>2430</th>\n",
       "      <td>0.016021</td>\n",
       "      <td>0.017542</td>\n",
       "      <td>0.001521</td>\n",
       "    </tr>\n",
       "    <tr>\n",
       "      <th>3816</th>\n",
       "      <td>0.026761</td>\n",
       "      <td>0.028213</td>\n",
       "      <td>0.001452</td>\n",
       "    </tr>\n",
       "    <tr>\n",
       "      <th>3636</th>\n",
       "      <td>0.021503</td>\n",
       "      <td>0.022824</td>\n",
       "      <td>0.001321</td>\n",
       "    </tr>\n",
       "    <tr>\n",
       "      <th>3712</th>\n",
       "      <td>0.017987</td>\n",
       "      <td>0.019130</td>\n",
       "      <td>0.001143</td>\n",
       "    </tr>\n",
       "    <tr>\n",
       "      <th>1448</th>\n",
       "      <td>0.041943</td>\n",
       "      <td>0.042745</td>\n",
       "      <td>0.000802</td>\n",
       "    </tr>\n",
       "    <tr>\n",
       "      <th>1928</th>\n",
       "      <td>0.021046</td>\n",
       "      <td>0.021551</td>\n",
       "      <td>0.000505</td>\n",
       "    </tr>\n",
       "    <tr>\n",
       "      <th>2114</th>\n",
       "      <td>0.033539</td>\n",
       "      <td>0.033990</td>\n",
       "      <td>0.000451</td>\n",
       "    </tr>\n",
       "    <tr>\n",
       "      <th>1160</th>\n",
       "      <td>0.016448</td>\n",
       "      <td>0.016073</td>\n",
       "      <td>0.000375</td>\n",
       "    </tr>\n",
       "    <tr>\n",
       "      <th>1919</th>\n",
       "      <td>0.022367</td>\n",
       "      <td>0.022321</td>\n",
       "      <td>0.000046</td>\n",
       "    </tr>\n",
       "  </tbody>\n",
       "</table>\n",
       "</div>"
      ],
      "text/plain": [
       "            X1        X0     delta\n",
       "1997  0.081387  0.014886  0.066501\n",
       "3229  0.120188  0.133060  0.012872\n",
       "3151  0.082730  0.092031  0.009301\n",
       "3018  0.102026  0.107705  0.005679\n",
       "1571  0.052090  0.057322  0.005231\n",
       "3162  0.030771  0.035194  0.004423\n",
       "2460  0.025059  0.029040  0.003981\n",
       "53    0.048185  0.050850  0.002665\n",
       "3767  0.036190  0.038307  0.002117\n",
       "3600  0.027042  0.028902  0.001860\n",
       "2763  0.023245  0.024987  0.001742\n",
       "2430  0.016021  0.017542  0.001521\n",
       "3816  0.026761  0.028213  0.001452\n",
       "3636  0.021503  0.022824  0.001321\n",
       "3712  0.017987  0.019130  0.001143\n",
       "1448  0.041943  0.042745  0.000802\n",
       "1928  0.021046  0.021551  0.000505\n",
       "2114  0.033539  0.033990  0.000451\n",
       "1160  0.016448  0.016073  0.000375\n",
       "1919  0.022367  0.022321  0.000046"
      ]
     },
     "execution_count": 239,
     "metadata": {},
     "output_type": "execute_result"
    }
   ],
   "source": [
    "f = pd.DataFrame(attrs_a).T.sort_values(by=0, ascending=False)[:20]\n",
    "f.columns = ['X1', 'X0']\n",
    "f['delta'] = abs(f.X1 - f.X0)\n",
    "f = f.sort_values(by='delta', ascending=False)\n",
    "f\n"
   ]
  },
  {
   "cell_type": "code",
   "execution_count": 262,
   "metadata": {},
   "outputs": [],
   "source": [
    "gene_counter = defaultdict(int)\n",
    "for i in f.index:\n",
    "    for g in clusterindex_to_genes[i]:\n",
    "        gene_counter[g]+=1"
   ]
  },
  {
   "cell_type": "code",
   "execution_count": 273,
   "metadata": {},
   "outputs": [
    {
     "data": {
      "text/html": [
       "<div>\n",
       "<style scoped>\n",
       "    .dataframe tbody tr th:only-of-type {\n",
       "        vertical-align: middle;\n",
       "    }\n",
       "\n",
       "    .dataframe tbody tr th {\n",
       "        vertical-align: top;\n",
       "    }\n",
       "\n",
       "    .dataframe thead th {\n",
       "        text-align: right;\n",
       "    }\n",
       "</style>\n",
       "<table border=\"1\" class=\"dataframe\">\n",
       "  <thead>\n",
       "    <tr style=\"text-align: right;\">\n",
       "      <th></th>\n",
       "      <th>1</th>\n",
       "    </tr>\n",
       "    <tr>\n",
       "      <th>0</th>\n",
       "      <th></th>\n",
       "    </tr>\n",
       "  </thead>\n",
       "  <tbody>\n",
       "    <tr>\n",
       "      <th>SMARCA4</th>\n",
       "      <td>0.95</td>\n",
       "    </tr>\n",
       "    <tr>\n",
       "      <th>HDAC1</th>\n",
       "      <td>0.90</td>\n",
       "    </tr>\n",
       "    <tr>\n",
       "      <th>ESR1</th>\n",
       "      <td>0.90</td>\n",
       "    </tr>\n",
       "    <tr>\n",
       "      <th>TP53</th>\n",
       "      <td>0.90</td>\n",
       "    </tr>\n",
       "    <tr>\n",
       "      <th>MYC</th>\n",
       "      <td>0.85</td>\n",
       "    </tr>\n",
       "    <tr>\n",
       "      <th>CREBBP</th>\n",
       "      <td>0.85</td>\n",
       "    </tr>\n",
       "    <tr>\n",
       "      <th>EP300</th>\n",
       "      <td>0.80</td>\n",
       "    </tr>\n",
       "    <tr>\n",
       "      <th>BRCA1</th>\n",
       "      <td>0.80</td>\n",
       "    </tr>\n",
       "    <tr>\n",
       "      <th>JUN</th>\n",
       "      <td>0.80</td>\n",
       "    </tr>\n",
       "    <tr>\n",
       "      <th>AR</th>\n",
       "      <td>0.80</td>\n",
       "    </tr>\n",
       "  </tbody>\n",
       "</table>\n",
       "</div>"
      ],
      "text/plain": [
       "            1\n",
       "0            \n",
       "SMARCA4  0.95\n",
       "HDAC1    0.90\n",
       "ESR1     0.90\n",
       "TP53     0.90\n",
       "MYC      0.85\n",
       "CREBBP   0.85\n",
       "EP300    0.80\n",
       "BRCA1    0.80\n",
       "JUN      0.80\n",
       "AR       0.80"
      ]
     },
     "execution_count": 273,
     "metadata": {},
     "output_type": "execute_result"
    }
   ],
   "source": [
    "pd.DataFrame(gene_counter.items()).set_index(0).sort_values(by=1, ascending=False)[:10] / len(f)"
   ]
  },
  {
   "cell_type": "code",
   "execution_count": 250,
   "metadata": {},
   "outputs": [
    {
     "data": {
      "text/plain": [
       "{'AKT1',\n",
       " 'BRCA1',\n",
       " 'CDK8',\n",
       " 'CREBBP',\n",
       " 'CTNNB1',\n",
       " 'EP300',\n",
       " 'ESR1',\n",
       " 'FHL2',\n",
       " 'FOXO3',\n",
       " 'HDAC1',\n",
       " 'JUN',\n",
       " 'MAPK1',\n",
       " 'MAPK3',\n",
       " 'MYC',\n",
       " 'NCOA3',\n",
       " 'NCOR1',\n",
       " 'PPARG',\n",
       " 'SMAD2',\n",
       " 'SMAD3',\n",
       " 'SMAD4',\n",
       " 'SMARCA4',\n",
       " 'TP53'}"
      ]
     },
     "execution_count": 250,
     "metadata": {},
     "output_type": "execute_result"
    }
   ],
   "source": [
    "set(clusterindex_to_genes[1997]).intersection(clusterindex_to_genes[1919])"
   ]
  },
  {
   "cell_type": "code",
   "execution_count": 243,
   "metadata": {},
   "outputs": [
    {
     "data": {
      "text/plain": [
       "['positive regulation of nucleic acid-templated transcription (GO:1903508) | positive regulation of transcription, DNA-templated (GO:0045893)',\n",
       " 'transcription initiation from RNA polymerase II promoter (GO:0006367) | DNA-templated transcription, initiation (GO:0006352)',\n",
       " 'negative regulation of transcription by RNA polymerase II (GO:0000122) | negative regulation of transcription, DNA-templated (GO:0045892)',\n",
       " 'negative regulation of transcription, DNA-templated (GO:0045892) | regulation of transcription by RNA polymerase II (GO:0006357)',\n",
       " 'negative regulation of transcription, DNA-templated (GO:0045892) | negative regulation of transcription by RNA polymerase II (GO:0000122)',\n",
       " 'negative regulation of transcription, DNA-templated (GO:0045892) | negative regulation of transcription by RNA polymerase II (GO:0000122)',\n",
       " 'positive regulation of transcription, DNA-templated (GO:0045893) | positive regulation of nucleic acid-templated transcription (GO:1903508)',\n",
       " 'negative regulation of transcription, DNA-templated (GO:0045892) | positive regulation of transcription, DNA-templated (GO:0045893)',\n",
       " 'protein phosphorylation (GO:0006468) | phosphorylation (GO:0016310)',\n",
       " 'positive regulation of transcription by RNA polymerase II (GO:0045944) | positive regulation of transcription, DNA-templated (GO:0045893)',\n",
       " 'positive regulation of transcription, DNA-templated (GO:0045893) | positive regulation of transcription by RNA polymerase II (GO:0045944)',\n",
       " 'negative regulation of transcription, DNA-templated (GO:0045892) | negative regulation of transcription by RNA polymerase II (GO:0000122)',\n",
       " 'chromatin remodeling (GO:0006338) | ATP-dependent chromatin remodeling (GO:0043044)',\n",
       " 'negative regulation of transcription, DNA-templated (GO:0045892) | negative regulation of transcription by RNA polymerase II (GO:0000122)',\n",
       " 'regulation of transcription by RNA polymerase II (GO:0006357) | positive regulation of transcription by RNA polymerase II (GO:0045944)',\n",
       " 'regulation of transcription by RNA polymerase II (GO:0006357) | negative regulation of transcription, DNA-templated (GO:0045892)',\n",
       " 'positive regulation of transcription by RNA polymerase II (GO:0045944) | positive regulation of transcription, DNA-templated (GO:0045893)',\n",
       " 'negative regulation of transcription, DNA-templated (GO:0045892) | regulation of transcription by RNA polymerase II (GO:0006357)',\n",
       " 'ATP-dependent chromatin remodeling (GO:0043044) | chromatin remodeling (GO:0006338)',\n",
       " 'positive regulation of transcription, DNA-templated (GO:0045893) | positive regulation of transcription by RNA polymerase II (GO:0045944)']"
      ]
     },
     "execution_count": 243,
     "metadata": {},
     "output_type": "execute_result"
    }
   ],
   "source": [
    "[' | '.join(enrichr.get_enrichment_results(geneset=set(clusterindex_to_genes[i]), gene_set_library='GO_Biological_Process_2021').Terms[:2].values) \n",
    "        for i in f.index]"
   ]
  },
  {
   "cell_type": "code",
   "execution_count": 241,
   "metadata": {},
   "outputs": [
    {
     "data": {
      "text/html": [
       "<div>\n",
       "<style scoped>\n",
       "    .dataframe tbody tr th:only-of-type {\n",
       "        vertical-align: middle;\n",
       "    }\n",
       "\n",
       "    .dataframe tbody tr th {\n",
       "        vertical-align: top;\n",
       "    }\n",
       "\n",
       "    .dataframe thead th {\n",
       "        text-align: right;\n",
       "    }\n",
       "</style>\n",
       "<table border=\"1\" class=\"dataframe\">\n",
       "  <thead>\n",
       "    <tr style=\"text-align: right;\">\n",
       "      <th></th>\n",
       "      <th>0</th>\n",
       "      <th>1</th>\n",
       "    </tr>\n",
       "  </thead>\n",
       "  <tbody>\n",
       "    <tr>\n",
       "      <th>FOXO3</th>\n",
       "      <td>0.25577</td>\n",
       "      <td>0.23517</td>\n",
       "    </tr>\n",
       "    <tr>\n",
       "      <th>SMARCC1</th>\n",
       "      <td>0.20519</td>\n",
       "      <td>0.21889</td>\n",
       "    </tr>\n",
       "    <tr>\n",
       "      <th>SMARCC2</th>\n",
       "      <td>0.20119</td>\n",
       "      <td>0.18387</td>\n",
       "    </tr>\n",
       "    <tr>\n",
       "      <th>E2F1</th>\n",
       "      <td>0.17454</td>\n",
       "      <td>0.18513</td>\n",
       "    </tr>\n",
       "    <tr>\n",
       "      <th>DNMT1</th>\n",
       "      <td>0.07626</td>\n",
       "      <td>0.08275</td>\n",
       "    </tr>\n",
       "    <tr>\n",
       "      <th>CTCFL</th>\n",
       "      <td>0.06303</td>\n",
       "      <td>0.06964</td>\n",
       "    </tr>\n",
       "    <tr>\n",
       "      <th>FOXO1</th>\n",
       "      <td>0.02106</td>\n",
       "      <td>0.02167</td>\n",
       "    </tr>\n",
       "    <tr>\n",
       "      <th>KLF6</th>\n",
       "      <td>0.00265</td>\n",
       "      <td>0.00266</td>\n",
       "    </tr>\n",
       "    <tr>\n",
       "      <th>TEAD3</th>\n",
       "      <td>0.00017</td>\n",
       "      <td>0.00013</td>\n",
       "    </tr>\n",
       "    <tr>\n",
       "      <th>FOXP2</th>\n",
       "      <td>0.00005</td>\n",
       "      <td>0.00004</td>\n",
       "    </tr>\n",
       "    <tr>\n",
       "      <th>RUNX2</th>\n",
       "      <td>0.00002</td>\n",
       "      <td>0.00002</td>\n",
       "    </tr>\n",
       "    <tr>\n",
       "      <th>ZEB1</th>\n",
       "      <td>0.00002</td>\n",
       "      <td>0.00001</td>\n",
       "    </tr>\n",
       "    <tr>\n",
       "      <th>NFE2L2</th>\n",
       "      <td>0.00001</td>\n",
       "      <td>0.00001</td>\n",
       "    </tr>\n",
       "    <tr>\n",
       "      <th>FOSL1</th>\n",
       "      <td>0.00001</td>\n",
       "      <td>0.00000</td>\n",
       "    </tr>\n",
       "    <tr>\n",
       "      <th>FLI1</th>\n",
       "      <td>0.00000</td>\n",
       "      <td>0.00000</td>\n",
       "    </tr>\n",
       "    <tr>\n",
       "      <th>FOSB</th>\n",
       "      <td>0.00000</td>\n",
       "      <td>0.00000</td>\n",
       "    </tr>\n",
       "    <tr>\n",
       "      <th>RUNX3</th>\n",
       "      <td>0.00000</td>\n",
       "      <td>0.00000</td>\n",
       "    </tr>\n",
       "    <tr>\n",
       "      <th>JDP2</th>\n",
       "      <td>0.00000</td>\n",
       "      <td>0.00000</td>\n",
       "    </tr>\n",
       "    <tr>\n",
       "      <th>NFAT5</th>\n",
       "      <td>0.00000</td>\n",
       "      <td>0.00000</td>\n",
       "    </tr>\n",
       "    <tr>\n",
       "      <th>TCF7L2</th>\n",
       "      <td>0.00000</td>\n",
       "      <td>0.00000</td>\n",
       "    </tr>\n",
       "  </tbody>\n",
       "</table>\n",
       "</div>"
      ],
      "text/plain": [
       "               0        1\n",
       "FOXO3    0.25577  0.23517\n",
       "SMARCC1  0.20519  0.21889\n",
       "SMARCC2  0.20119  0.18387\n",
       "E2F1     0.17454  0.18513\n",
       "DNMT1    0.07626  0.08275\n",
       "CTCFL    0.06303  0.06964\n",
       "FOXO1    0.02106  0.02167\n",
       "KLF6     0.00265  0.00266\n",
       "TEAD3    0.00017  0.00013\n",
       "FOXP2    0.00005  0.00004\n",
       "RUNX2    0.00002  0.00002\n",
       "ZEB1     0.00002  0.00001\n",
       "NFE2L2   0.00001  0.00001\n",
       "FOSL1    0.00001  0.00000\n",
       "FLI1     0.00000  0.00000\n",
       "FOSB     0.00000  0.00000\n",
       "RUNX3    0.00000  0.00000\n",
       "JDP2     0.00000  0.00000\n",
       "NFAT5    0.00000  0.00000\n",
       "TCF7L2   0.00000  0.00000"
      ]
     },
     "execution_count": 241,
     "metadata": {},
     "output_type": "execute_result"
    }
   ],
   "source": [
    "round(pd.DataFrame(attrs_b, columns=data.gene_tf_sga.columns).T\n",
    "        # .loc[data.gene_tf_sga.columns[list(tfs)]]\n",
    "        .sort_values(by=0, ascending=False), 5)[:20]\n"
   ]
  },
  {
   "cell_type": "code",
   "execution_count": null,
   "metadata": {},
   "outputs": [],
   "source": []
  }
 ],
 "metadata": {
  "kernelspec": {
   "display_name": "Python 3.7.0 ('deepbio')",
   "language": "python",
   "name": "python3"
  },
  "language_info": {
   "codemirror_mode": {
    "name": "ipython",
    "version": 3
   },
   "file_extension": ".py",
   "mimetype": "text/x-python",
   "name": "python",
   "nbconvert_exporter": "python",
   "pygments_lexer": "ipython3",
   "version": "3.7.0"
  },
  "orig_nbformat": 4,
  "vscode": {
   "interpreter": {
    "hash": "6acab715838f00affcecba94e2037a8e32fb53ad3a082152ed1c0f4b0ff3b1f7"
   }
  }
 },
 "nbformat": 4,
 "nbformat_minor": 2
}
