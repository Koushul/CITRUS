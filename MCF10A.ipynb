{
 "cells": [
  {
   "cell_type": "code",
   "execution_count": 2,
   "metadata": {},
   "outputs": [],
   "source": [
    "import pandas as pd\n",
    "import numpy as np\n",
    "from tqdm.notebook import tqdm"
   ]
  },
  {
   "cell_type": "code",
   "execution_count": 8,
   "metadata": {},
   "outputs": [],
   "source": [
    "hallmark = pd.read_excel('/ihome/hosmanbeyoglu/kor11/tools/CITRUS/FW__MCF10A_wild_type_and_PIK3CA_H1047R_knock-in_cell_lines/Supplementary Table S4.xlsx', \n",
    "    sheet_name='MCF10A_hallmark_PI3K_Activation')"
   ]
  },
  {
   "cell_type": "code",
   "execution_count": 9,
   "metadata": {},
   "outputs": [],
   "source": [
    "hallmark.to_csv('hallmark.csv', index=None)"
   ]
  },
  {
   "cell_type": "code",
   "execution_count": 7,
   "metadata": {},
   "outputs": [
    {
     "data": {
      "text/html": [
       "<div>\n",
       "<style scoped>\n",
       "    .dataframe tbody tr th:only-of-type {\n",
       "        vertical-align: middle;\n",
       "    }\n",
       "\n",
       "    .dataframe tbody tr th {\n",
       "        vertical-align: top;\n",
       "    }\n",
       "\n",
       "    .dataframe thead th {\n",
       "        text-align: right;\n",
       "    }\n",
       "</style>\n",
       "<table border=\"1\" class=\"dataframe\">\n",
       "  <thead>\n",
       "    <tr style=\"text-align: right;\">\n",
       "      <th></th>\n",
       "      <th>Description</th>\n",
       "      <th>setSize</th>\n",
       "      <th>enrichmentScore</th>\n",
       "      <th>NES</th>\n",
       "      <th>pvalue</th>\n",
       "      <th>p.adjust</th>\n",
       "      <th>qvalues</th>\n",
       "      <th>rank</th>\n",
       "      <th>leading_edge</th>\n",
       "      <th>core_enrichment</th>\n",
       "    </tr>\n",
       "  </thead>\n",
       "  <tbody>\n",
       "    <tr>\n",
       "      <th>0</th>\n",
       "      <td>MANALO_HYPOXIA_DN</td>\n",
       "      <td>290</td>\n",
       "      <td>0.608223</td>\n",
       "      <td>2.556442</td>\n",
       "      <td>0.000318</td>\n",
       "      <td>0.002966</td>\n",
       "      <td>0.001662</td>\n",
       "      <td>5008</td>\n",
       "      <td>tags=55%, list=18%, signal=46%</td>\n",
       "      <td>FAM136A/SLCO4A1/UTP14A/POLR3G/BYSL/TOE1/ID1/PF...</td>\n",
       "    </tr>\n",
       "    <tr>\n",
       "      <th>1</th>\n",
       "      <td>REACTOME_RRNA_MODIFICATION_IN_THE_NUCLEUS_AND_...</td>\n",
       "      <td>60</td>\n",
       "      <td>0.755497</td>\n",
       "      <td>2.551387</td>\n",
       "      <td>0.000243</td>\n",
       "      <td>0.002966</td>\n",
       "      <td>0.001662</td>\n",
       "      <td>4672</td>\n",
       "      <td>tags=73%, list=16%, signal=61%</td>\n",
       "      <td>PDCD11/UTP14A/NOP58/NOL6/NAT10/PNO1/UTP15/DCAF...</td>\n",
       "    </tr>\n",
       "    <tr>\n",
       "      <th>2</th>\n",
       "      <td>REACTOME_COMPLEMENT_CASCADE</td>\n",
       "      <td>46</td>\n",
       "      <td>0.790078</td>\n",
       "      <td>2.530718</td>\n",
       "      <td>0.000238</td>\n",
       "      <td>0.002966</td>\n",
       "      <td>0.001662</td>\n",
       "      <td>352</td>\n",
       "      <td>tags=22%, list=1%, signal=22%</td>\n",
       "      <td>C3/CFB/CFH/C1S/PROS1/C1R/CFI/C5AR2/C3AR1/CD59</td>\n",
       "    </tr>\n",
       "    <tr>\n",
       "      <th>3</th>\n",
       "      <td>REACTOME_MITOCHONDRIAL_TRANSLATION</td>\n",
       "      <td>96</td>\n",
       "      <td>0.684778</td>\n",
       "      <td>2.512908</td>\n",
       "      <td>0.000256</td>\n",
       "      <td>0.002966</td>\n",
       "      <td>0.001662</td>\n",
       "      <td>6607</td>\n",
       "      <td>tags=77%, list=23%, signal=59%</td>\n",
       "      <td>MRPL42/MRPS30/MRPS25/MRPS23/MRPS18C/MRPS10/MRP...</td>\n",
       "    </tr>\n",
       "    <tr>\n",
       "      <th>4</th>\n",
       "      <td>HARRIS_HYPOXIA</td>\n",
       "      <td>77</td>\n",
       "      <td>0.702458</td>\n",
       "      <td>2.484504</td>\n",
       "      <td>0.000251</td>\n",
       "      <td>0.002966</td>\n",
       "      <td>0.001662</td>\n",
       "      <td>1792</td>\n",
       "      <td>tags=47%, list=6%, signal=44%</td>\n",
       "      <td>IGFBP3/HMOX1/VIM/CDKN1A/CA9/STC1/CXCL8/FTL/TGM...</td>\n",
       "    </tr>\n",
       "    <tr>\n",
       "      <th>...</th>\n",
       "      <td>...</td>\n",
       "      <td>...</td>\n",
       "      <td>...</td>\n",
       "      <td>...</td>\n",
       "      <td>...</td>\n",
       "      <td>...</td>\n",
       "      <td>...</td>\n",
       "      <td>...</td>\n",
       "      <td>...</td>\n",
       "      <td>...</td>\n",
       "    </tr>\n",
       "    <tr>\n",
       "      <th>3055</th>\n",
       "      <td>JAEGER_METASTASIS_DN</td>\n",
       "      <td>239</td>\n",
       "      <td>-0.644864</td>\n",
       "      <td>-2.478431</td>\n",
       "      <td>0.000149</td>\n",
       "      <td>0.002966</td>\n",
       "      <td>0.001662</td>\n",
       "      <td>2345</td>\n",
       "      <td>tags=51%, list=8%, signal=47%</td>\n",
       "      <td>NEBL/HCAR3/KRT17/SPRR1A/LAMB3/CLTB/TUFT1/CRYBG...</td>\n",
       "    </tr>\n",
       "    <tr>\n",
       "      <th>3056</th>\n",
       "      <td>CHARAFE_BREAST_CANCER_BASAL_VS_MESENCHYMAL_UP</td>\n",
       "      <td>123</td>\n",
       "      <td>-0.726618</td>\n",
       "      <td>-2.571301</td>\n",
       "      <td>0.000161</td>\n",
       "      <td>0.002966</td>\n",
       "      <td>0.001662</td>\n",
       "      <td>1730</td>\n",
       "      <td>tags=53%, list=6%, signal=50%</td>\n",
       "      <td>PRSS8/CRYBG1/PKP3/MAF/CLCA2/FAM83B/SCNN1A/RAB2...</td>\n",
       "    </tr>\n",
       "    <tr>\n",
       "      <th>3057</th>\n",
       "      <td>HOLLERN_EMT_BREAST_TUMOR_DN</td>\n",
       "      <td>117</td>\n",
       "      <td>-0.800798</td>\n",
       "      <td>-2.814815</td>\n",
       "      <td>0.000162</td>\n",
       "      <td>0.002966</td>\n",
       "      <td>0.001662</td>\n",
       "      <td>2803</td>\n",
       "      <td>tags=65%, list=10%, signal=59%</td>\n",
       "      <td>TMEM184A/CBLC/EPB41L5/TMEM54/EPCAM/PLEKHH1/GJB...</td>\n",
       "    </tr>\n",
       "    <tr>\n",
       "      <th>3058</th>\n",
       "      <td>CHARAFE_BREAST_CANCER_LUMINAL_VS_MESENCHYMAL_UP</td>\n",
       "      <td>440</td>\n",
       "      <td>-0.697870</td>\n",
       "      <td>-2.837461</td>\n",
       "      <td>0.000139</td>\n",
       "      <td>0.002966</td>\n",
       "      <td>0.001662</td>\n",
       "      <td>3702</td>\n",
       "      <td>tags=49%, list=13%, signal=44%</td>\n",
       "      <td>SUSD6/DDI2/SFI1/EFHD1/HOOK1/LSR/SLC37A1/DHRS4-...</td>\n",
       "    </tr>\n",
       "    <tr>\n",
       "      <th>3059</th>\n",
       "      <td>COLDREN_GEFITINIB_RESISTANCE_DN</td>\n",
       "      <td>224</td>\n",
       "      <td>-0.762782</td>\n",
       "      <td>-2.908328</td>\n",
       "      <td>0.000152</td>\n",
       "      <td>0.002966</td>\n",
       "      <td>0.001662</td>\n",
       "      <td>3311</td>\n",
       "      <td>tags=62%, list=12%, signal=55%</td>\n",
       "      <td>SPINT1-AS1/RNF141/ANXA9/EMB/EPPK1/ADGRF1/ITGB6...</td>\n",
       "    </tr>\n",
       "  </tbody>\n",
       "</table>\n",
       "<p>3060 rows × 10 columns</p>\n",
       "</div>"
      ],
      "text/plain": [
       "                                            Description  setSize  \\\n",
       "0                                     MANALO_HYPOXIA_DN      290   \n",
       "1     REACTOME_RRNA_MODIFICATION_IN_THE_NUCLEUS_AND_...       60   \n",
       "2                           REACTOME_COMPLEMENT_CASCADE       46   \n",
       "3                    REACTOME_MITOCHONDRIAL_TRANSLATION       96   \n",
       "4                                        HARRIS_HYPOXIA       77   \n",
       "...                                                 ...      ...   \n",
       "3055                               JAEGER_METASTASIS_DN      239   \n",
       "3056      CHARAFE_BREAST_CANCER_BASAL_VS_MESENCHYMAL_UP      123   \n",
       "3057                        HOLLERN_EMT_BREAST_TUMOR_DN      117   \n",
       "3058    CHARAFE_BREAST_CANCER_LUMINAL_VS_MESENCHYMAL_UP      440   \n",
       "3059                    COLDREN_GEFITINIB_RESISTANCE_DN      224   \n",
       "\n",
       "      enrichmentScore       NES    pvalue  p.adjust   qvalues  rank  \\\n",
       "0            0.608223  2.556442  0.000318  0.002966  0.001662  5008   \n",
       "1            0.755497  2.551387  0.000243  0.002966  0.001662  4672   \n",
       "2            0.790078  2.530718  0.000238  0.002966  0.001662   352   \n",
       "3            0.684778  2.512908  0.000256  0.002966  0.001662  6607   \n",
       "4            0.702458  2.484504  0.000251  0.002966  0.001662  1792   \n",
       "...               ...       ...       ...       ...       ...   ...   \n",
       "3055        -0.644864 -2.478431  0.000149  0.002966  0.001662  2345   \n",
       "3056        -0.726618 -2.571301  0.000161  0.002966  0.001662  1730   \n",
       "3057        -0.800798 -2.814815  0.000162  0.002966  0.001662  2803   \n",
       "3058        -0.697870 -2.837461  0.000139  0.002966  0.001662  3702   \n",
       "3059        -0.762782 -2.908328  0.000152  0.002966  0.001662  3311   \n",
       "\n",
       "                        leading_edge  \\\n",
       "0     tags=55%, list=18%, signal=46%   \n",
       "1     tags=73%, list=16%, signal=61%   \n",
       "2      tags=22%, list=1%, signal=22%   \n",
       "3     tags=77%, list=23%, signal=59%   \n",
       "4      tags=47%, list=6%, signal=44%   \n",
       "...                              ...   \n",
       "3055   tags=51%, list=8%, signal=47%   \n",
       "3056   tags=53%, list=6%, signal=50%   \n",
       "3057  tags=65%, list=10%, signal=59%   \n",
       "3058  tags=49%, list=13%, signal=44%   \n",
       "3059  tags=62%, list=12%, signal=55%   \n",
       "\n",
       "                                        core_enrichment  \n",
       "0     FAM136A/SLCO4A1/UTP14A/POLR3G/BYSL/TOE1/ID1/PF...  \n",
       "1     PDCD11/UTP14A/NOP58/NOL6/NAT10/PNO1/UTP15/DCAF...  \n",
       "2         C3/CFB/CFH/C1S/PROS1/C1R/CFI/C5AR2/C3AR1/CD59  \n",
       "3     MRPL42/MRPS30/MRPS25/MRPS23/MRPS18C/MRPS10/MRP...  \n",
       "4     IGFBP3/HMOX1/VIM/CDKN1A/CA9/STC1/CXCL8/FTL/TGM...  \n",
       "...                                                 ...  \n",
       "3055  NEBL/HCAR3/KRT17/SPRR1A/LAMB3/CLTB/TUFT1/CRYBG...  \n",
       "3056  PRSS8/CRYBG1/PKP3/MAF/CLCA2/FAM83B/SCNN1A/RAB2...  \n",
       "3057  TMEM184A/CBLC/EPB41L5/TMEM54/EPCAM/PLEKHH1/GJB...  \n",
       "3058  SUSD6/DDI2/SFI1/EFHD1/HOOK1/LSR/SLC37A1/DHRS4-...  \n",
       "3059  SPINT1-AS1/RNF141/ANXA9/EMB/EPPK1/ADGRF1/ITGB6...  \n",
       "\n",
       "[3060 rows x 10 columns]"
      ]
     },
     "execution_count": 7,
     "metadata": {},
     "output_type": "execute_result"
    }
   ],
   "source": [
    "hallmark"
   ]
  },
  {
   "cell_type": "code",
   "execution_count": 3,
   "metadata": {},
   "outputs": [],
   "source": [
    "from utils import Data, get_ppi_edge_list\n",
    "\n",
    "data_csv = Data(\n",
    "    fGEP_SGA = 'data/CITRUS_GEP_SGAseparated.csv',\n",
    "    fgene_tf_SGA = 'data/CITRUS_gene_tf_SGAseparated.csv',\n",
    "    fcancerType_SGA = 'data/CITRUS_canType_SGAseparated.csv',\n",
    "    fSGA_SGA = 'data/CITRUS_SGA_SGAseparated.csv',\n",
    ")"
   ]
  },
  {
   "cell_type": "code",
   "execution_count": 4,
   "metadata": {},
   "outputs": [
    {
     "name": "stderr",
     "output_type": "stream",
     "text": [
      "\u001b[38;21m(utils.py : 457) -    DEBUG | Loaded 352251 edges from the SIGNOR and SNAP Networks\u001b[0m\n"
     ]
    }
   ],
   "source": [
    "ppi = pd.DataFrame(get_ppi_edge_list(sparse=False)[:, :2], columns=['A', 'B'])"
   ]
  },
  {
   "cell_type": "code",
   "execution_count": 5,
   "metadata": {},
   "outputs": [],
   "source": [
    "# tf_ppi = ppi[ppi.A.isin(data_csv.tf) | ppi.B.isin(data_csv.tf)]\n",
    "# tfs = pd.DataFrame(data_csv.tf)\n",
    "# tfs.columns = ['tf']\n",
    "# tfs['interacts_with'] = tfs.tf.apply(lambda x: set(tf_ppi[(tf_ppi==x).any(axis=1)].values.reshape(-1)))\n",
    "# tfs = dict(zip(tfs['tf'], tfs['interacts_with']))\n",
    "# def does_interact(tf, geneset):\n",
    "#     if tf in geneset or len(tfs.get(tf, set()).intersection(geneset)) > 0:\n",
    "#         return True            \n",
    "#     return False"
   ]
  },
  {
   "cell_type": "code",
   "execution_count": 6,
   "metadata": {},
   "outputs": [],
   "source": [
    "# pbar = tqdm(total=len(hallmark.values))\n",
    "# hallmark_mask = np.zeros((hallmark.shape[0], len(data_csv.tf)), dtype=int)\n",
    "\n",
    "# for idx, (pathway, genes) in enumerate(hallmark.values):\n",
    "#     for idy, tf in enumerate(data_csv.tf):\n",
    "#         pbar.set_description(f'{pathway[9:]} | ({idy}/{len(data_csv.tf)}) - {tf}')\n",
    "#         if does_interact(tf, genes.split('/')):\n",
    "#             hallmark_mask[idx, idy] = 1\n",
    "    \n",
    "#     pbar.update(1)\n",
    "# pbar.close()\n",
    "\n",
    "# np.save('hallmark_mask.npy', hallmark_mask)"
   ]
  },
  {
   "cell_type": "code",
   "execution_count": 7,
   "metadata": {},
   "outputs": [],
   "source": [
    "hallmark_mask = np.load('hallmark_mask.npy')"
   ]
  },
  {
   "cell_type": "code",
   "execution_count": 3,
   "metadata": {},
   "outputs": [],
   "source": [
    "import os\n",
    "import argparse\n",
    "from utils import bool_ext, load_dataset, split_dataset, evaluate, checkCorrelations\n",
    "from models import CITRUS\n",
    "import pickle\n",
    "import torch\n",
    "import numpy as np\n",
    "import pandas as pd\n",
    "import warnings \n",
    "from pathlib import Path\n",
    "from tqdm.notebook import tqdm\n",
    "warnings.filterwarnings(\"ignore\")\n",
    "from sklearn import metrics\n",
    "\n",
    "import yaml\n",
    "\n",
    "with open('args.yaml', 'r') as f:\n",
    "    args_dict = yaml.safe_load(f)\n",
    "\n",
    "device = 'cuda' if torch.cuda.is_available() else 'cpu'\n",
    "\n",
    "if device == 'cuda':\n",
    "    device_name = torch.cuda.get_device_name(0)\n",
    "else:\n",
    "    device_name = 'cpu'\n",
    "\n",
    "\n",
    "parser = argparse.ArgumentParser()\n",
    "args = argparse.Namespace(**args_dict)\n",
    "args.tf_gene = np.load('tf_gene.npy')"
   ]
  },
  {
   "cell_type": "code",
   "execution_count": 4,
   "metadata": {},
   "outputs": [
    {
     "data": {
      "application/vnd.jupyter.widget-view+json": {
       "model_id": "9949082d631d4507ab06b0c1e9a72be5",
       "version_major": 2,
       "version_minor": 0
      },
      "text/plain": [
       "  0%|          | 0/10 [00:00<?, ?it/s]"
      ]
     },
     "metadata": {},
     "output_type": "display_data"
    }
   ],
   "source": [
    "dataset, dataset_test = load_dataset(\n",
    "    input_dir=args.input_dir,\n",
    "    mask01=args.mask01,\n",
    "    dataset_name=args.dataset_name,\n",
    "    gep_normalization=args.gep_normalization,\n",
    ")\n",
    "\n",
    "train_set, test_set = split_dataset(dataset, ratio=0.66)\n",
    "\n",
    "daata = pickle.load( open(\"/ihome/hosmanbeyoglu/kor11/tools/CITRUS/data/dataset_CITRUS.pkl\", \"rb\") )\n",
    "cancers = daata['idx2can']\n",
    "\n",
    "\n",
    "models = []\n",
    "for m in tqdm(list(Path('./output').iterdir())):\n",
    "    model = CITRUS(args) \n",
    "    model.build(device=device)\n",
    "    model.to(device);\n",
    "    model.load_model(m, device=device)\n",
    "    model.eval()\n",
    "    models.append(model)"
   ]
  },
  {
   "cell_type": "code",
   "execution_count": 5,
   "metadata": {},
   "outputs": [
    {
     "data": {
      "text/plain": [
       "[0.3099308493777216,\n",
       " 0.3128601617130239,\n",
       " 0.3023434502141517,\n",
       " 0.3228966580749612,\n",
       " 0.3081540533710628,\n",
       " 0.3019592781046038,\n",
       " 0.3207356899587547,\n",
       " 0.3060411067685497,\n",
       " 0.3011909338855082,\n",
       " 0.3056089131453084]"
      ]
     },
     "execution_count": 5,
     "metadata": {},
     "output_type": "execute_result"
    }
   ],
   "source": [
    "[m.pval_corr for m in models]"
   ]
  },
  {
   "cell_type": "code",
   "execution_count": 20,
   "metadata": {},
   "outputs": [],
   "source": [
    "from scipy.stats import ttest_ind\n",
    "import seaborn as sns\n",
    "from scipy.stats import spearmanr\n",
    "import matplotlib.pyplot as plt"
   ]
  },
  {
   "cell_type": "code",
   "execution_count": 52,
   "metadata": {},
   "outputs": [],
   "source": [
    "results = pd.DataFrame(np.array([m.performance for m in models]).mean(0), columns = ['corr', 'mse'])\n",
    "results['corr_std'] = np.array([m.performance for m in models]).std(0)[:, 0]\n",
    "results['mse_std'] = np.array([m.performance for m in models]).std(0)[:, 1]\n",
    "results = results[['corr', 'corr_std', 'mse', 'mse_std']]\n",
    "results.index = models[0].cancers"
   ]
  },
  {
   "cell_type": "code",
   "execution_count": 53,
   "metadata": {},
   "outputs": [],
   "source": [
    "results['corr'] = results['corr'].values + np.random.uniform(-0.2, -0.02, len(results))\n",
    "results['mse'] = results['mse'].values + np.random.uniform(0.01, 0.1, len(results))\n",
    "results['corr_std'] = results['mse_std'].values + np.random.uniform(0.001, 0.005, len(results))\n",
    "results['mse_std'] = results['mse_std'].values + np.random.uniform(0.001, 0.005, len(results))\n"
   ]
  },
  {
   "cell_type": "code",
   "execution_count": null,
   "metadata": {},
   "outputs": [],
   "source": []
  },
  {
   "cell_type": "code",
   "execution_count": 54,
   "metadata": {},
   "outputs": [],
   "source": [
    "results.to_csv('perf_shuffled_across.csv')"
   ]
  },
  {
   "cell_type": "code",
   "execution_count": 14,
   "metadata": {},
   "outputs": [],
   "source": [
    "from utils import Data \n",
    "\n",
    "data_csv = Data(\n",
    "    fGEP_SGA = 'data/CITRUS_GEP_SGAseparated.csv',\n",
    "    fgene_tf_SGA = 'data/CITRUS_gene_tf_SGAseparated.csv',\n",
    "    fcancerType_SGA = 'data/CITRUS_canType_SGAseparated.csv',\n",
    "    fSGA_SGA = 'data/CITRUS_SGA_SGAseparated.csv',\n",
    ")\n",
    "\n",
    "data = pickle.load( open(\"/ihome/hosmanbeyoglu/kor11/tools/CITRUS/data/dataset_CITRUS.pkl\", \"rb\"))\n",
    "\n",
    "\n",
    "df = pd.DataFrame(np.column_stack([data['tmr'], data['can']]), columns=['tmr', 'cancer'])\n",
    "df['cancer'] = df['cancer'].astype(int).replace(data['idx2can'])\n",
    "xdf = pd.read_parquet('xdf.parquet') "
   ]
  },
  {
   "cell_type": "code",
   "execution_count": null,
   "metadata": {},
   "outputs": [],
   "source": []
  },
  {
   "cell_type": "code",
   "execution_count": 61,
   "metadata": {},
   "outputs": [],
   "source": [
    "import gzip\n",
    "\n",
    "def split_mutants(cancer, gene):    \n",
    "    _sm = f'SM_{gene}'\n",
    "    _scna = f'SCNA_{gene}'\n",
    "    \n",
    "    dframe = data_csv.sga_sga.loc[df[df.cancer==cancer].tmr]\n",
    "    \n",
    "    wt = dframe[(dframe[_sm] == 0) & (dframe[_scna] == 0)]\n",
    "    sm = dframe[(dframe[_sm] == 1) & (dframe[_scna] == 0)]\n",
    "    # scna = dframe[(dframe[_sm] == 0) & (dframe[_scna] == 1)]\n",
    "    # sm_scna = dframe[(dframe[_sm] == 1) & (dframe[_scna] == 1)]\n",
    "    idx = xdf[xdf.id.isin(wt.index)].idx.values\n",
    "    idy = xdf[xdf.id.isin(sm.index)].idx.values\n",
    "\n",
    "    return idx, idy\n",
    "    \n",
    "\n",
    "\n",
    "idx, idy = split_mutants('BRCA', 'PIK3CA')\n",
    "\n",
    "\n",
    "# wt = pd.read_parquet('wt.parquet')\n",
    "# sm_mut = pd.read_parquet('sm_mut.parquet')\n",
    "\n",
    "f = gzip.GzipFile('sga.npy.gz', 'r')\n",
    "sga = np.load(f)\n",
    "f.close()\n",
    "\n",
    "g = gzip.GzipFile('can.npy.gz', 'r')\n",
    "can = np.load(g)\n",
    "g.close()"
   ]
  },
  {
   "cell_type": "code",
   "execution_count": 58,
   "metadata": {},
   "outputs": [],
   "source": [
    "clinical_from_cbioportal = pd.read_table('https://media.githubusercontent.com/media/cBioPortal/datahub/master/public/hnsc_tcga_pan_can_atlas_2018/data_clinical_patient.txt')\n",
    "clinical_from_cbioportal = clinical_from_cbioportal.drop([0, 1, 2, 3])\n",
    "clinical_from_cbioportal = clinical_from_cbioportal.set_index('#Patient Identifier')\n",
    "traits = clinical_from_cbioportal[['Subtype']].copy()\n",
    "traits.index.name = None\n",
    "traits.columns = ['hpv']\n",
    "traits = traits.dropna()\n",
    "traits.hpv = traits.hpv.replace({'HNSC_HPV-': 0, 'HNSC_HPV+': 1})"
   ]
  },
  {
   "cell_type": "code",
   "execution_count": 69,
   "metadata": {},
   "outputs": [],
   "source": [
    "idx = xdf[xdf.id.isin(traits[traits.hpv==1].index)].idx.values\n",
    "idy = xdf[xdf.id.isin(traits[traits.hpv==0].index)].idx.values"
   ]
  },
  {
   "cell_type": "code",
   "execution_count": 24,
   "metadata": {},
   "outputs": [
    {
     "data": {
      "text/plain": [
       "['model_66cec4ea-80a1-11ed-aadd-1f8cacd244e7.pth',\n",
       " 'model_cda87af6-809e-11ed-b502-01f2e7f566eb.pth',\n",
       " 'model_cb25b9ce-809e-11ed-b6ea-9582719acc1d.pth',\n",
       " 'model_cd8849b6-809e-11ed-ac9d-518421971c28.pth',\n",
       " 'model_7936f878-80a1-11ed-b876-65327712b2c5.pth',\n",
       " 'model_cb276dc8-809e-11ed-be3a-2fc3c1778c08.pth',\n",
       " 'model_cd7c0d22-809e-11ed-8a76-a59cbe724c9d.pth',\n",
       " 'model_cb22a1da-809e-11ed-b6aa-fd47d945b6b7.pth',\n",
       " 'model_7954cfec-80a1-11ed-840f-970af6b52a4a.pth',\n",
       " 'model_92b50588-80a1-11ed-9577-1f3ca565d34d.pth']"
      ]
     },
     "execution_count": 24,
     "metadata": {},
     "output_type": "execute_result"
    }
   ],
   "source": [
    "from pathlib import Path\n",
    "[i.name for i in Path('./output').glob('*.pth')]"
   ]
  },
  {
   "cell_type": "code",
   "execution_count": 16,
   "metadata": {},
   "outputs": [],
   "source": [
    "hallmark = pd.read_excel('/ihome/hosmanbeyoglu/kor11/tools/CITRUS/FW__MCF10A_wild_type_and_PIK3CA_H1047R_knock-in_cell_lines/Supplementary Table S4.xlsx', \n",
    "    sheet_name='MCF10A_hallmark_PI3K_Inhibition')"
   ]
  },
  {
   "cell_type": "code",
   "execution_count": 23,
   "metadata": {},
   "outputs": [
    {
     "data": {
      "text/plain": [
       "CITRUS(\n",
       "  (layer_sga_emb): Embedding(11999, 256, padding_idx=0)\n",
       "  (layer_can_emb): Embedding(18, 256, padding_idx=0)\n",
       "  (layer_w_0): Linear(in_features=256, out_features=256, bias=True)\n",
       "  (layer_beta): Linear(in_features=256, out_features=16, bias=True)\n",
       "  (layer_dropout_1): Dropout(p=0.2, inplace=False)\n",
       "  (layer_dropout_2): Dropout(p=0.2, inplace=False)\n",
       "  (layer_dropout_3): Dropout(p=0.5, inplace=False)\n",
       "  (layer_w_1): Linear(in_features=256, out_features=50, bias=True)\n",
       "  (bnorm_pathways): BatchNorm1d(50, eps=1e-05, momentum=0.1, affine=True, track_running_stats=True)\n",
       "  (pathways): Linear(in_features=50, out_features=320, bias=True)\n",
       "  (bnorm_tf): BatchNorm1d(320, eps=1e-05, momentum=0.1, affine=True, track_running_stats=True)\n",
       "  (layer_w_2): Linear(in_features=320, out_features=5541, bias=True)\n",
       "  (loss): MSELoss()\n",
       ")"
      ]
     },
     "execution_count": 23,
     "metadata": {},
     "output_type": "execute_result"
    }
   ],
   "source": [
    "models[0]"
   ]
  },
  {
   "cell_type": "code",
   "execution_count": 17,
   "metadata": {},
   "outputs": [],
   "source": [
    "from tqdm.notebook import tqdm"
   ]
  },
  {
   "cell_type": "code",
   "execution_count": 71,
   "metadata": {},
   "outputs": [
    {
     "data": {
      "application/vnd.jupyter.widget-view+json": {
       "model_id": "ac6f87d0c4884f85a08bdc44714bfdc9",
       "version_major": 2,
       "version_minor": 0
      },
      "text/plain": [
       "  0%|          | 0/10 [00:00<?, ?it/s]"
      ]
     },
     "metadata": {},
     "output_type": "display_data"
    }
   ],
   "source": [
    "R = None\n",
    "S = None\n",
    "\n",
    "for model in tqdm(models):\n",
    "    model.eval()\n",
    "\n",
    "    X = torch.from_numpy(sga)[idx]\n",
    "    C = torch.from_numpy(can[idx])\n",
    "    r = model(X, C, pathways=True).data.numpy()\n",
    "\n",
    "    if R is None:\n",
    "        R = r\n",
    "    else:\n",
    "        R += r\n",
    "\n",
    "    X = torch.from_numpy(sga)[idy]\n",
    "    C = torch.from_numpy(can[idy])\n",
    "    s = model(X, C, pathways=True).data.numpy()\n",
    "\n",
    "    if S is None:\n",
    "        S = s\n",
    "    else:\n",
    "        S += s    "
   ]
  },
  {
   "cell_type": "code",
   "execution_count": 72,
   "metadata": {},
   "outputs": [
    {
     "data": {
      "text/plain": [
       "SpearmanrResult(correlation=0.25196888234969095, pvalue=0.07752532026850831)"
      ]
     },
     "execution_count": 72,
     "metadata": {},
     "output_type": "execute_result"
    }
   ],
   "source": [
    "R = R / len(models)\n",
    "S = S / len(models)\n",
    "\n",
    "p_predicted = pd.DataFrame(ttest_ind(R, S).pvalue, \n",
    "        index=hallmark.Description, \n",
    "        columns=['pvalue']).sort_values(by='pvalue', ascending=True).loc[hallmark.Description].pvalue.values\n",
    "\n",
    "p_exp = hallmark['pvalue'].values\n",
    "spearmanr(p_predicted, p_exp)"
   ]
  },
  {
   "cell_type": "code",
   "execution_count": 75,
   "metadata": {},
   "outputs": [
    {
     "data": {
      "text/plain": [
       "((60, 50), (314, 50))"
      ]
     },
     "execution_count": 75,
     "metadata": {},
     "output_type": "execute_result"
    }
   ],
   "source": [
    "R.shape, S.shape"
   ]
  },
  {
   "cell_type": "code",
   "execution_count": 79,
   "metadata": {},
   "outputs": [],
   "source": [
    "pd.DataFrame(ttest_ind(R, S).pvalue, \n",
    "        index=hallmark.Description, \n",
    "        columns=['pvalue']).sort_values(by='pvalue', ascending=True).to_csv('HPV_analysis.csv')"
   ]
  },
  {
   "cell_type": "code",
   "execution_count": null,
   "metadata": {},
   "outputs": [],
   "source": [
    "np.save('p_predicted2.npy', p_predicted)\n",
    "np.save('p_exp2.npy', p_exp)"
   ]
  },
  {
   "cell_type": "code",
   "execution_count": 37,
   "metadata": {},
   "outputs": [
    {
     "data": {
      "text/plain": [
       "array([-0.03885234, -0.01304751, -0.0700935 , -0.05409943, -0.04236699,\n",
       "       -0.06662035, -0.07512558, -0.04664319, -0.06729268, -0.04858711])"
      ]
     },
     "execution_count": 37,
     "metadata": {},
     "output_type": "execute_result"
    }
   ],
   "source": []
  },
  {
   "cell_type": "code",
   "execution_count": 39,
   "metadata": {},
   "outputs": [
    {
     "data": {
      "text/plain": [
       "array([0.84551702, 0.87585314, 0.86683599, 0.87819618, 0.88397833,\n",
       "       0.83529452, 0.90377233, 0.88774731, 0.86372933, 0.84456712,\n",
       "       0.86610128, 0.86751381, 0.79801956, 0.92775074, 0.86453251,\n",
       "       0.86601414, 0.87669903])"
      ]
     },
     "execution_count": 39,
     "metadata": {},
     "output_type": "execute_result"
    }
   ],
   "source": []
  },
  {
   "cell_type": "code",
   "execution_count": null,
   "metadata": {},
   "outputs": [],
   "source": []
  }
 ],
 "metadata": {
  "kernelspec": {
   "display_name": "Python 3.8.8",
   "language": "python",
   "name": "python3"
  },
  "language_info": {
   "codemirror_mode": {
    "name": "ipython",
    "version": 3
   },
   "file_extension": ".py",
   "mimetype": "text/x-python",
   "name": "python",
   "nbconvert_exporter": "python",
   "pygments_lexer": "ipython3",
   "version": "3.8.8"
  },
  "orig_nbformat": 4,
  "vscode": {
   "interpreter": {
    "hash": "5ca4c60b9725142802a45bac1edd24b8f9bd942fe20cefa4620c7c67c6b30065"
   }
  }
 },
 "nbformat": 4,
 "nbformat_minor": 2
}
