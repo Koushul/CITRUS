{
 "cells": [
  {
   "cell_type": "code",
   "execution_count": 14,
   "metadata": {},
   "outputs": [],
   "source": [
    "import pandas as pd\n",
    "import numpy as np\n",
    "from tqdm.notebook import tqdm"
   ]
  },
  {
   "cell_type": "code",
   "execution_count": 39,
   "metadata": {},
   "outputs": [],
   "source": [
    "hallmark = pd.read_excel('/ihome/hosmanbeyoglu/kor11/tools/CITRUS/FW__MCF10A_wild_type_and_PIK3CA_H1047R_knock-in_cell_lines/Supplementary Table S4.xlsx', \n",
    "    sheet_name='MCF10A_hallmark_PI3K_Inhibition')"
   ]
  },
  {
   "cell_type": "code",
   "execution_count": 96,
   "metadata": {},
   "outputs": [],
   "source": [
    "hallmark.to_csv('hallmark.csv', index=None)"
   ]
  },
  {
   "cell_type": "code",
   "execution_count": 6,
   "metadata": {},
   "outputs": [],
   "source": [
    "hallmark = hallmark[['Description', 'core_enrichment']]"
   ]
  },
  {
   "cell_type": "code",
   "execution_count": 8,
   "metadata": {},
   "outputs": [],
   "source": [
    "from utils import Data, get_ppi_edge_list\n",
    "\n",
    "data_csv = Data(\n",
    "    fGEP_SGA = 'data/CITRUS_GEP_SGAseparated.csv',\n",
    "    fgene_tf_SGA = 'data/CITRUS_gene_tf_SGAseparated.csv',\n",
    "    fcancerType_SGA = 'data/CITRUS_canType_SGAseparated.csv',\n",
    "    fSGA_SGA = 'data/CITRUS_SGA_SGAseparated.csv',\n",
    ")"
   ]
  },
  {
   "cell_type": "code",
   "execution_count": 19,
   "metadata": {},
   "outputs": [
    {
     "name": "stderr",
     "output_type": "stream",
     "text": [
      "\u001b[38;21m(utils.py : 456) -    DEBUG | Loaded 352251 edges from the SIGNOR and SNAP Networks\u001b[0m\n"
     ]
    },
    {
     "data": {
      "text/html": [
       "<div>\n",
       "<style scoped>\n",
       "    .dataframe tbody tr th:only-of-type {\n",
       "        vertical-align: middle;\n",
       "    }\n",
       "\n",
       "    .dataframe tbody tr th {\n",
       "        vertical-align: top;\n",
       "    }\n",
       "\n",
       "    .dataframe thead th {\n",
       "        text-align: right;\n",
       "    }\n",
       "</style>\n",
       "<table border=\"1\" class=\"dataframe\">\n",
       "  <thead>\n",
       "    <tr style=\"text-align: right;\">\n",
       "      <th></th>\n",
       "      <th>A</th>\n",
       "      <th>B</th>\n",
       "    </tr>\n",
       "  </thead>\n",
       "  <tbody>\n",
       "    <tr>\n",
       "      <th>0</th>\n",
       "      <td>GOLGA7</td>\n",
       "      <td>HRAS</td>\n",
       "    </tr>\n",
       "    <tr>\n",
       "      <th>1</th>\n",
       "      <td>GOLGA7</td>\n",
       "      <td>ZDHHC9</td>\n",
       "    </tr>\n",
       "    <tr>\n",
       "      <th>2</th>\n",
       "      <td>ARHGAP22</td>\n",
       "      <td>CDC42</td>\n",
       "    </tr>\n",
       "    <tr>\n",
       "      <th>3</th>\n",
       "      <td>ARHGAP22</td>\n",
       "      <td>RHOA</td>\n",
       "    </tr>\n",
       "    <tr>\n",
       "      <th>4</th>\n",
       "      <td>ARHGAP22</td>\n",
       "      <td>RAC1</td>\n",
       "    </tr>\n",
       "    <tr>\n",
       "      <th>...</th>\n",
       "      <td>...</td>\n",
       "      <td>...</td>\n",
       "    </tr>\n",
       "    <tr>\n",
       "      <th>352246</th>\n",
       "      <td>PCSK5</td>\n",
       "      <td>LCE3D</td>\n",
       "    </tr>\n",
       "    <tr>\n",
       "      <th>352247</th>\n",
       "      <td>ICE2</td>\n",
       "      <td>LTF</td>\n",
       "    </tr>\n",
       "    <tr>\n",
       "      <th>352248</th>\n",
       "      <td>CDO1</td>\n",
       "      <td>GAD2</td>\n",
       "    </tr>\n",
       "    <tr>\n",
       "      <th>352249</th>\n",
       "      <td>H2BC8</td>\n",
       "      <td>CCDC25</td>\n",
       "    </tr>\n",
       "    <tr>\n",
       "      <th>352250</th>\n",
       "      <td>RAB7A</td>\n",
       "      <td>TMEM43</td>\n",
       "    </tr>\n",
       "  </tbody>\n",
       "</table>\n",
       "<p>352251 rows × 2 columns</p>\n",
       "</div>"
      ],
      "text/plain": [
       "               A       B\n",
       "0         GOLGA7    HRAS\n",
       "1         GOLGA7  ZDHHC9\n",
       "2       ARHGAP22   CDC42\n",
       "3       ARHGAP22    RHOA\n",
       "4       ARHGAP22    RAC1\n",
       "...          ...     ...\n",
       "352246     PCSK5   LCE3D\n",
       "352247      ICE2     LTF\n",
       "352248      CDO1    GAD2\n",
       "352249     H2BC8  CCDC25\n",
       "352250     RAB7A  TMEM43\n",
       "\n",
       "[352251 rows x 2 columns]"
      ]
     },
     "execution_count": 19,
     "metadata": {},
     "output_type": "execute_result"
    }
   ],
   "source": [
    "ppi = pd.DataFrame(get_ppi_edge_list(sparse=False)[:, :2], columns=['A', 'B'])"
   ]
  },
  {
   "cell_type": "code",
   "execution_count": 30,
   "metadata": {},
   "outputs": [],
   "source": []
  },
  {
   "cell_type": "code",
   "execution_count": 55,
   "metadata": {},
   "outputs": [],
   "source": [
    "tf_ppi = ppi[ppi.A.isin(data_csv.tf) | ppi.B.isin(data_csv.tf)]"
   ]
  },
  {
   "cell_type": "code",
   "execution_count": 80,
   "metadata": {},
   "outputs": [
    {
     "data": {
      "text/html": [
       "<div>\n",
       "<style scoped>\n",
       "    .dataframe tbody tr th:only-of-type {\n",
       "        vertical-align: middle;\n",
       "    }\n",
       "\n",
       "    .dataframe tbody tr th {\n",
       "        vertical-align: top;\n",
       "    }\n",
       "\n",
       "    .dataframe thead th {\n",
       "        text-align: right;\n",
       "    }\n",
       "</style>\n",
       "<table border=\"1\" class=\"dataframe\">\n",
       "  <thead>\n",
       "    <tr style=\"text-align: right;\">\n",
       "      <th></th>\n",
       "      <th>tf</th>\n",
       "    </tr>\n",
       "  </thead>\n",
       "  <tbody>\n",
       "    <tr>\n",
       "      <th>0</th>\n",
       "      <td>CDC5L</td>\n",
       "    </tr>\n",
       "    <tr>\n",
       "      <th>1</th>\n",
       "      <td>PPARG</td>\n",
       "    </tr>\n",
       "    <tr>\n",
       "      <th>2</th>\n",
       "      <td>HOXB8</td>\n",
       "    </tr>\n",
       "    <tr>\n",
       "      <th>3</th>\n",
       "      <td>NFATC1</td>\n",
       "    </tr>\n",
       "    <tr>\n",
       "      <th>4</th>\n",
       "      <td>OVOL1</td>\n",
       "    </tr>\n",
       "    <tr>\n",
       "      <th>...</th>\n",
       "      <td>...</td>\n",
       "    </tr>\n",
       "    <tr>\n",
       "      <th>315</th>\n",
       "      <td>HMBOX1</td>\n",
       "    </tr>\n",
       "    <tr>\n",
       "      <th>316</th>\n",
       "      <td>FUBP1</td>\n",
       "    </tr>\n",
       "    <tr>\n",
       "      <th>317</th>\n",
       "      <td>ZNF740</td>\n",
       "    </tr>\n",
       "    <tr>\n",
       "      <th>318</th>\n",
       "      <td>CEBPZ</td>\n",
       "    </tr>\n",
       "    <tr>\n",
       "      <th>319</th>\n",
       "      <td>DDIT3</td>\n",
       "    </tr>\n",
       "  </tbody>\n",
       "</table>\n",
       "<p>320 rows × 1 columns</p>\n",
       "</div>"
      ],
      "text/plain": [
       "         tf\n",
       "0     CDC5L\n",
       "1     PPARG\n",
       "2     HOXB8\n",
       "3    NFATC1\n",
       "4     OVOL1\n",
       "..      ...\n",
       "315  HMBOX1\n",
       "316   FUBP1\n",
       "317  ZNF740\n",
       "318   CEBPZ\n",
       "319   DDIT3\n",
       "\n",
       "[320 rows x 1 columns]"
      ]
     },
     "execution_count": 80,
     "metadata": {},
     "output_type": "execute_result"
    }
   ],
   "source": [
    "tfs = pd.DataFrame(data_csv.tf)\n",
    "tfs.columns = ['tf']\n",
    "tfs"
   ]
  },
  {
   "cell_type": "code",
   "execution_count": 83,
   "metadata": {},
   "outputs": [],
   "source": [
    "tfs['interacts_with'] = tfs.tf.apply(lambda x: set(tf_ppi[(tf_ppi==x).any(axis=1)].values.reshape(-1)))"
   ]
  },
  {
   "cell_type": "code",
   "execution_count": 93,
   "metadata": {},
   "outputs": [],
   "source": [
    "tfs = dict(zip(tfs['tf'], tfs['interacts_with']))"
   ]
  },
  {
   "cell_type": "code",
   "execution_count": 101,
   "metadata": {},
   "outputs": [],
   "source": [
    "def does_interact(tf, geneset):\n",
    "    if tf in geneset or len(tfs.get(tf, set()).intersection(geneset)) > 0:\n",
    "        return True            \n",
    "    return False"
   ]
  },
  {
   "cell_type": "code",
   "execution_count": 102,
   "metadata": {},
   "outputs": [
    {
     "data": {
      "application/vnd.jupyter.widget-view+json": {
       "model_id": "6c411b4d5b5f44dead2510588b27a8ad",
       "version_major": 2,
       "version_minor": 0
      },
      "text/plain": [
       "  0%|          | 0/50 [00:00<?, ?it/s]"
      ]
     },
     "metadata": {},
     "output_type": "display_data"
    }
   ],
   "source": [
    "pbar = tqdm(total=len(hallmark.values))\n",
    "hallmark_mask = np.zeros((hallmark.shape[0], len(data_csv.tf)), dtype=int)\n",
    "\n",
    "for idx, (pathway, genes) in enumerate(hallmark.values):\n",
    "    for idy, tf in enumerate(data_csv.tf):\n",
    "        pbar.set_description(f'{pathway[9:]} | ({idy}/{len(data_csv.tf)}) - {tf}')\n",
    "        if does_interact(tf, genes.split('/')):\n",
    "            hallmark_mask[idx, idy] = 1\n",
    "    \n",
    "    pbar.update(1)\n",
    "pbar.close()\n",
    "\n",
    "np.save('hallmark_mask.npy', hallmark_mask)"
   ]
  },
  {
   "cell_type": "code",
   "execution_count": 112,
   "metadata": {},
   "outputs": [
    {
     "data": {
      "text/plain": [
       "TP53     45\n",
       "MYC      44\n",
       "SMAD3    44\n",
       "ESR1     44\n",
       "STAT3    41\n",
       "RELA     40\n",
       "NR3C1    40\n",
       "SMAD2    40\n",
       "AR       39\n",
       "JUN      39\n",
       "BRCA1    39\n",
       "CREB1    36\n",
       "FOXO3    35\n",
       "YBX1     35\n",
       "SMAD4    34\n",
       "dtype: int64"
      ]
     },
     "execution_count": 112,
     "metadata": {},
     "output_type": "execute_result"
    }
   ],
   "source": [
    "pd.DataFrame(hallmark_mask, index=hallmark.Description, columns=data_csv.tf).sum(0).sort_values(ascending=False)[:15]"
   ]
  },
  {
   "cell_type": "code",
   "execution_count": 113,
   "metadata": {},
   "outputs": [
    {
     "data": {
      "text/plain": [
       "Description\n",
       "HALLMARK_APOPTOSIS                    166\n",
       "HALLMARK_G2M_CHECKPOINT               164\n",
       "HALLMARK_MYC_TARGETS_V1               150\n",
       "HALLMARK_PI3K_AKT_MTOR_SIGNALING      141\n",
       "HALLMARK_E2F_TARGETS                  136\n",
       "HALLMARK_TNFA_SIGNALING_VIA_NFKB      136\n",
       "HALLMARK_P53_PATHWAY                  129\n",
       "HALLMARK_MYOGENESIS                   118\n",
       "HALLMARK_HEME_METABOLISM              117\n",
       "HALLMARK_UV_RESPONSE_DN               116\n",
       "HALLMARK_MTORC1_SIGNALING             107\n",
       "HALLMARK_HYPOXIA                      103\n",
       "HALLMARK_IL2_STAT5_SIGNALING           98\n",
       "HALLMARK_ALLOGRAFT_REJECTION           97\n",
       "HALLMARK_UNFOLDED_PROTEIN_RESPONSE     96\n",
       "dtype: int64"
      ]
     },
     "execution_count": 113,
     "metadata": {},
     "output_type": "execute_result"
    }
   ],
   "source": [
    "pd.DataFrame(hallmark_mask, index=hallmark.Description, columns=data_csv.tf).sum(1).sort_values(ascending=False)[:15]"
   ]
  },
  {
   "cell_type": "code",
   "execution_count": 29,
   "metadata": {},
   "outputs": [],
   "source": [
    "import os\n",
    "import argparse\n",
    "from utils import bool_ext, load_dataset, split_dataset, evaluate, checkCorrelations\n",
    "from models import CITRUS\n",
    "import pickle\n",
    "import torch\n",
    "import numpy as np\n",
    "import pandas as pd\n",
    "import warnings \n",
    "warnings.filterwarnings(\"ignore\") ##This is bad but temporary\n",
    "\n",
    "import yaml\n",
    "\n",
    "with open('args.yaml', 'r') as f:\n",
    "    args_dict = yaml.safe_load(f)\n",
    "\n",
    "device = 'cuda' if torch.cuda.is_available() else 'cpu'\n",
    "\n",
    "if device == 'cuda':\n",
    "    device_name = torch.cuda.get_device_name(0)\n",
    "else:\n",
    "    device_name = 'cpu'\n",
    "\n",
    "\n",
    "parser = argparse.ArgumentParser()\n",
    "args = argparse.Namespace(**args_dict)\n",
    "args.tf_gene = np.load('tf_gene.npy')"
   ]
  },
  {
   "cell_type": "code",
   "execution_count": 30,
   "metadata": {},
   "outputs": [],
   "source": [
    "dataset, dataset_test = load_dataset(\n",
    "    input_dir=args.input_dir,\n",
    "    mask01=args.mask01,\n",
    "    dataset_name=args.dataset_name,\n",
    "    gep_normalization=args.gep_normalization,\n",
    ")\n",
    "\n",
    "train_set, test_set = split_dataset(dataset, ratio=0.66)\n",
    "\n",
    "# args.can_size = dataset[\"can\"].max()  # cancer type dimension\n",
    "# args.sga_size = dataset[\"sga\"].max()  # SGA dimension\n",
    "# args.gep_size = dataset[\"gep\"].shape[1]  # GEP output dimension\n",
    "# args.num_max_sga = dataset[\"sga\"].shape[1]  # maximum number of SGAs in a tumor\n",
    "\n",
    "# args.hidden_size = dataset[\"tf_gene\"].shape[0]\n",
    "# # args.tf_gene = dataset[\"tf_gene\"]\n",
    "\n",
    "\n",
    "model = CITRUS(args)  # initialize CITRUS model\n",
    "model.build(device=device)  # build CITRUS model\n",
    "model.to(device);"
   ]
  },
  {
   "cell_type": "code",
   "execution_count": 15,
   "metadata": {},
   "outputs": [],
   "source": [
    "# with open('args.yaml', 'w') as f:\n",
    "#     yaml.dump(vars(args), f, default_flow_style=False)"
   ]
  },
  {
   "cell_type": "code",
   "execution_count": 31,
   "metadata": {},
   "outputs": [
    {
     "data": {
      "text/plain": [
       "CITRUS(\n",
       "  (layer_sga_emb): Embedding(11999, 256, padding_idx=0)\n",
       "  (layer_can_emb): Embedding(18, 256, padding_idx=0)\n",
       "  (layer_w_0): Linear(in_features=256, out_features=256, bias=True)\n",
       "  (layer_beta): Linear(in_features=256, out_features=16, bias=True)\n",
       "  (layer_dropout_1): Dropout(p=0.2, inplace=False)\n",
       "  (layer_dropout_2): Dropout(p=0.2, inplace=False)\n",
       "  (layer_w_1): Linear(in_features=256, out_features=50, bias=True)\n",
       "  (bnorm_pathways): BatchNorm1d(50, eps=1e-05, momentum=0.1, affine=True, track_running_stats=True)\n",
       "  (pathways): Linear(in_features=50, out_features=320, bias=True)\n",
       "  (bnorm_tf): BatchNorm1d(320, eps=1e-05, momentum=0.1, affine=True, track_running_stats=True)\n",
       "  (layer_w_2): Linear(in_features=320, out_features=5541, bias=True)\n",
       "  (loss): MSELoss()\n",
       ")"
      ]
     },
     "execution_count": 31,
     "metadata": {},
     "output_type": "execute_result"
    }
   ],
   "source": [
    "model.load_state_dict(torch.load(f'/ihome/hosmanbeyoglu/kor11/tools/CITRUS/output/model_4.pth', \n",
    "                    map_location=torch.device('cpu')))\n",
    "model.eval()"
   ]
  },
  {
   "cell_type": "code",
   "execution_count": 36,
   "metadata": {},
   "outputs": [],
   "source": [
    "from captum.attr import LayerConductance, LayerActivation, LayerIntegratedGradients\n",
    "from captum.attr import IntegratedGradients\n",
    "from scipy.stats import ttest_ind"
   ]
  },
  {
   "cell_type": "code",
   "execution_count": 48,
   "metadata": {},
   "outputs": [
    {
     "data": {
      "text/plain": [
       "torch.Size([320, 50])"
      ]
     },
     "execution_count": 48,
     "metadata": {},
     "output_type": "execute_result"
    }
   ],
   "source": [
    "model.pathways.weight.shape"
   ]
  },
  {
   "cell_type": "code",
   "execution_count": null,
   "metadata": {},
   "outputs": [],
   "source": []
  },
  {
   "cell_type": "code",
   "execution_count": 32,
   "metadata": {},
   "outputs": [
    {
     "data": {
      "text/plain": [
       "((435, 11998), (253, 11998), (20, 11998), (12, 11998))"
      ]
     },
     "execution_count": 32,
     "metadata": {},
     "output_type": "execute_result"
    }
   ],
   "source": [
    "from utils import Data\n",
    "from utils import get_ppi_edge_list\n",
    "\n",
    "data = Data(\n",
    "    fGEP_SGA = 'data/CITRUS_GEP_SGAseparated.csv',\n",
    "    fgene_tf_SGA = 'data/CITRUS_gene_tf_SGAseparated.csv',\n",
    "    fcancerType_SGA = 'data/CITRUS_canType_SGAseparated.csv',\n",
    "    fSGA_SGA = 'data/CITRUS_SGA_SGAseparated.csv',\n",
    ")\n",
    "\n",
    "d = data.cancerType_sga.loc[dataset['tmr']]\n",
    "d['index'] = dataset['can'].reshape(-1)\n",
    "\n",
    "xdf = pd.DataFrame(enumerate(dataset['tmr']))\n",
    "xdf.columns = ['idx', 'id']\n",
    "\n",
    "brca = pd.DataFrame(data.sga_sga.loc[data.cancerType_sga[data.cancerType_sga['type']=='BRCA'].index])\n",
    "# brca = pd.DataFrame(data.sga_sga.loc[data.cancerType_sga.index])\n",
    "\n",
    "is_mutated_gene = 'PIK3CA'\n",
    "\n",
    "wt = brca[(brca[f'SM_{is_mutated_gene}'] == 0) & (brca[f'SCNA_{is_mutated_gene}'] == 0)]\n",
    "sm_mut = brca[(brca[f'SM_{is_mutated_gene}'] == 1) & (brca[f'SCNA_{is_mutated_gene}'] == 0)]\n",
    "scna_mut = brca[(brca[f'SM_{is_mutated_gene}'] == 0) & (brca[f'SCNA_{is_mutated_gene}'] == 1)]\n",
    "sm_scna_mut = brca[(brca[f'SM_{is_mutated_gene}'] == 1) & (brca[f'SCNA_{is_mutated_gene}'] == 1)]\n",
    "wt.shape, sm_mut.shape, scna_mut.shape, sm_scna_mut.shape"
   ]
  },
  {
   "cell_type": "code",
   "execution_count": 33,
   "metadata": {},
   "outputs": [],
   "source": [
    "idx = xdf[xdf.id.isin(wt.index)].idx.values\n",
    "X = torch.from_numpy(dataset['sga'])[idx]\n",
    "C = torch.from_numpy(dataset['can'][idx])\n",
    "r = model(X, C, pathways=True).data.numpy()"
   ]
  },
  {
   "cell_type": "code",
   "execution_count": 34,
   "metadata": {},
   "outputs": [],
   "source": [
    "idx = xdf[xdf.id.isin(sm_mut.index)].idx.values\n",
    "X = torch.from_numpy(dataset['sga'])[idx]\n",
    "C = torch.from_numpy(dataset['can'][idx])\n",
    "s = model(X, C, pathways=True).data.numpy()"
   ]
  },
  {
   "cell_type": "code",
   "execution_count": 40,
   "metadata": {},
   "outputs": [],
   "source": [
    "p_predicted = pd.DataFrame(ttest_ind(r, s).pvalue, \n",
    "        index=hallmark.Description, \n",
    "        columns=['pvalue']).sort_values(by='pvalue', ascending=True).loc[hallmark.Description].pvalue.values"
   ]
  },
  {
   "cell_type": "code",
   "execution_count": 41,
   "metadata": {},
   "outputs": [],
   "source": [
    "p_exp = hallmark['pvalue'].values"
   ]
  },
  {
   "cell_type": "code",
   "execution_count": 42,
   "metadata": {},
   "outputs": [],
   "source": [
    "import seaborn as sns"
   ]
  },
  {
   "cell_type": "code",
   "execution_count": 44,
   "metadata": {},
   "outputs": [
    {
     "data": {
      "text/plain": [
       "<AxesSubplot:>"
      ]
     },
     "execution_count": 44,
     "metadata": {},
     "output_type": "execute_result"
    },
    {
     "data": {
      "image/png": "[encoded data removed]",
      "text/plain": [
       "<Figure size 432x288 with 1 Axes>"
      ]
     },
     "metadata": {
      "needs_background": "light"
     },
     "output_type": "display_data"
    }
   ],
   "source": [
    "sns.scatterplot(-np.log(p_predicted), -np.log(p_exp))"
   ]
  },
  {
   "cell_type": "code",
   "execution_count": 82,
   "metadata": {},
   "outputs": [],
   "source": [
    "from scipy.stats import spearmanr"
   ]
  },
  {
   "cell_type": "code",
   "execution_count": null,
   "metadata": {},
   "outputs": [],
   "source": []
  },
  {
   "cell_type": "code",
   "execution_count": null,
   "metadata": {},
   "outputs": [],
   "source": [
    "M = model\n",
    "M.analysis_mode = True\n",
    "lc = LayerConductance(M, M.pathways)\n",
    "\n",
    "results = []\n",
    "AA = []\n",
    "\n",
    "for frame, name in zip([wt, sm_mut, scna_mut, sm_scna_mut], ['WT', 'SM', 'SCNA', 'SM_SCNA']):\n",
    "    if len(frame) == 0:\n",
    "        break\n",
    "    scores = []\n",
    "\n",
    "    idx = xdf[xdf.id.isin(frame.index)].idx.values\n",
    "    X = torch.from_numpy(dataset['sga'])\n",
    "\n",
    "    # G = [i for i in data.gene_tf_sga.index if 'AKT' in i] + [i for i in data.gene_tf_sga.index if 'PIK' in i]\n",
    "    # G = ['PIK3CA']\n",
    "    # G = [i for i in data.gene_tf_sga.index if 'AKT' in i]\n",
    "    # G = [i for i in data.gene_tf_sga.index if 'PIK' in i]\n",
    "    \n",
    "    # G = ['AKT1', 'PIK3CA', 'AKT2']\n",
    "    \n",
    "    G = ['NFE2L2']\n",
    "    \n",
    "    # G = merged2['PI3K/AKT Signaling in Cancer']\n",
    "    \n",
    "    # G = ['AKT1']\n",
    "\n",
    "    for ix in tqdm([list(data.gep_sga.columns).index(g) for g in G if g in data.gep_sga.columns]):\n",
    "        a = lc.attribute((X[idx], torch.from_numpy(dataset['can'][idx])), n_steps=5, \n",
    "                        attribute_to_layer_input=True, target=[ix]*len(X[idx]))\n",
    "        ig_attr_test_sum = a.detach().cpu().numpy().sum(0)\n",
    "        ig_attr_test_norm_sum = ig_attr_test_sum / np.linalg.norm(ig_attr_test_sum, ord=1)\n",
    "        scores.append(ig_attr_test_norm_sum)\n",
    "        \n",
    "    AA.append(a)\n",
    "    g = np.array(_pathways[2])\n",
    "    at = np.sum(scores, 0)\n",
    "\n",
    "    assert g.shape == at.shape\n",
    "\n",
    "    df = pd.DataFrame([g, at]).T\n",
    "    df.columns = ['Pathways', f'score_{name}']\n",
    "    results.append(df.set_index('Pathways'))\n",
    "    \n",
    "AA = np.array([i.detach().numpy() for i in AA])"
   ]
  }
 ],
 "metadata": {
  "kernelspec": {
   "display_name": "Python 3.8.5 ('base')",
   "language": "python",
   "name": "python3"
  },
  "language_info": {
   "codemirror_mode": {
    "name": "ipython",
    "version": 3
   },
   "file_extension": ".py",
   "mimetype": "text/x-python",
   "name": "python",
   "nbconvert_exporter": "python",
   "pygments_lexer": "ipython3",
   "version": "3.8.5"
  },
  "orig_nbformat": 4,
  "vscode": {
   "interpreter": {
    "hash": "ba717acba6bbc10ecee861af44b959e6410892cef75714266950d58c109ec6e4"
   }
  }
 },
 "nbformat": 4,
 "nbformat_minor": 2
}
