{
 "cells": [
  {
   "cell_type": "code",
   "execution_count": 1,
   "metadata": {},
   "outputs": [],
   "source": [
    "import pandas as pd\n",
    "import numpy as np\n",
    "from tqdm.notebook import tqdm"
   ]
  },
  {
   "cell_type": "code",
   "execution_count": 2,
   "metadata": {},
   "outputs": [],
   "source": [
    "hallmark = pd.read_excel('/ihome/hosmanbeyoglu/kor11/tools/CITRUS/FW__MCF10A_wild_type_and_PIK3CA_H1047R_knock-in_cell_lines/Supplementary Table S4.xlsx', \n",
    "    sheet_name='MCF10A_hallmark_PI3K_Activation')"
   ]
  },
  {
   "cell_type": "code",
   "execution_count": 3,
   "metadata": {},
   "outputs": [],
   "source": [
    "from utils import Data, get_ppi_edge_list\n",
    "\n",
    "data_csv = Data(\n",
    "    fGEP_SGA = 'data/CITRUS_GEP_SGAseparated.csv',\n",
    "    fgene_tf_SGA = 'data/CITRUS_gene_tf_SGAseparated.csv',\n",
    "    fcancerType_SGA = 'data/CITRUS_canType_SGAseparated.csv',\n",
    "    fSGA_SGA = 'data/CITRUS_SGA_SGAseparated.csv',\n",
    ")"
   ]
  },
  {
   "cell_type": "code",
   "execution_count": 4,
   "metadata": {},
   "outputs": [],
   "source": [
    "hallmark_mask = np.load('hallmark_mask.npy')"
   ]
  },
  {
   "cell_type": "code",
   "execution_count": 5,
   "metadata": {},
   "outputs": [],
   "source": [
    "import os\n",
    "import argparse\n",
    "from utils import bool_ext, load_dataset, split_dataset, evaluate, checkCorrelations\n",
    "from models import CITRUS\n",
    "import pickle\n",
    "import torch\n",
    "import numpy as np\n",
    "import pandas as pd\n",
    "import warnings \n",
    "from pathlib import Path\n",
    "from tqdm import tqdm\n",
    "warnings.filterwarnings(\"ignore\")\n",
    "from sklearn import metrics\n",
    "\n",
    "import yaml\n",
    "\n",
    "with open('args.yaml', 'r') as f:\n",
    "    args_dict = yaml.safe_load(f)\n",
    "\n",
    "device = 'cuda' if torch.cuda.is_available() else 'cpu'\n",
    "\n",
    "if device == 'cuda':\n",
    "    device_name = torch.cuda.get_device_name(0)\n",
    "else:\n",
    "    device_name = 'cpu'\n",
    "\n",
    "\n",
    "parser = argparse.ArgumentParser()\n",
    "args = argparse.Namespace(**args_dict)\n",
    "args.tf_gene = np.load('tf_gene.npy')"
   ]
  },
  {
   "cell_type": "code",
   "execution_count": 7,
   "metadata": {},
   "outputs": [
    {
     "name": "stderr",
     "output_type": "stream",
     "text": [
      "100%|██████████| 10/10 [00:00<00:00, 28.42it/s]\n",
      "100%|██████████| 3/3 [00:00<00:00, 30.43it/s]\n"
     ]
    }
   ],
   "source": [
    "dataset, dataset_test = load_dataset(\n",
    "    input_dir=args.input_dir,\n",
    "    mask01=args.mask01,\n",
    "    dataset_name=args.dataset_name,\n",
    "    gep_normalization=args.gep_normalization,\n",
    ")\n",
    "\n",
    "train_set, test_set = split_dataset(dataset, ratio=0.66)\n",
    "\n",
    "daata = pickle.load( open(\"/ihome/hosmanbeyoglu/kor11/tools/CITRUS/data/dataset_CITRUS.pkl\", \"rb\") )\n",
    "cancers = daata['idx2can']\n",
    "\n",
    "\n",
    "models = []\n",
    "for m in tqdm(list(Path('/ix/hosmanbeyoglu/kor11/output').iterdir())):\n",
    "    model = CITRUS(args) \n",
    "    model.build(device=device)\n",
    "    model.to(device);\n",
    "    model.load_model(m, device=device)\n",
    "    model.eval()\n",
    "    models.append(model)\n",
    "\n",
    "\n",
    "random_models = []\n",
    "for m in tqdm(list(Path('/ihome/hosmanbeyoglu/kor11/tools/CITRUS/output').glob('random_model*.pth'))):\n",
    "    model = CITRUS(args) \n",
    "    model.build(device=device)\n",
    "    model.to(device);\n",
    "    model.load_model(m, device=device)\n",
    "    model.eval()\n",
    "    random_models.append(model)"
   ]
  },
  {
   "cell_type": "code",
   "execution_count": 8,
   "metadata": {},
   "outputs": [],
   "source": [
    "from utils import Data \n",
    "\n",
    "data_csv = Data(\n",
    "    fGEP_SGA = 'data/CITRUS_GEP_SGAseparated.csv',\n",
    "    fgene_tf_SGA = 'data/CITRUS_gene_tf_SGAseparated.csv',\n",
    "    fcancerType_SGA = 'data/CITRUS_canType_SGAseparated.csv',\n",
    "    fSGA_SGA = 'data/CITRUS_SGA_SGAseparated.csv',\n",
    ")\n",
    "\n",
    "data = pickle.load( open(\"/ihome/hosmanbeyoglu/kor11/tools/CITRUS/data/dataset_CITRUS.pkl\", \"rb\"))\n",
    "\n",
    "\n",
    "df = pd.DataFrame(np.column_stack([data['tmr'], data['can']]), columns=['tmr', 'cancer'])\n",
    "df['cancer'] = df['cancer'].astype(int).replace(data['idx2can'])\n",
    "xdf = pd.read_parquet('xdf.parquet') \n",
    "\n",
    "\n",
    "import gzip\n",
    "\n",
    "def split_mutants(cancer, gene):    \n",
    "    if gene is None:\n",
    "        dframe = data_csv.sga_sga.loc[df[df.cancer==cancer].tmr]\n",
    "        idx = xdf[xdf.id.isin(dframe.index)].idx.values\n",
    "        return idx\n",
    "        \n",
    "\n",
    "\n",
    "    _sm = f'SM_{gene}'\n",
    "    _scna = f'SCNA_{gene}'\n",
    "    \n",
    "    if not cancer:\n",
    "        dframe = data_csv.sga_sga.loc[df.tmr]\n",
    "    else:\n",
    "        dframe = data_csv.sga_sga.loc[df[df.cancer==cancer].tmr]\n",
    "    \n",
    "    wt = dframe[(dframe[_sm] == 0) & (dframe[_scna] == 0)]\n",
    "    sm = dframe[(dframe[_sm] == 1) & (dframe[_scna] == 0)]\n",
    "    idx = xdf[xdf.id.isin(wt.index)].idx.values\n",
    "    idy = xdf[xdf.id.isin(sm.index)].idx.values\n",
    "\n",
    "    return idx, idy\n",
    "    \n",
    "\n",
    "\n",
    "f = gzip.GzipFile('sga.npy.gz', 'r')\n",
    "sga = np.load(f)\n",
    "f.close()\n",
    "\n",
    "g = gzip.GzipFile('can.npy.gz', 'r')\n",
    "can = np.load(g)\n",
    "g.close()"
   ]
  },
  {
   "cell_type": "code",
   "execution_count": 53,
   "metadata": {},
   "outputs": [
    {
     "name": "stderr",
     "output_type": "stream",
     "text": [
      "100%|██████████| 17/17 [01:52<00:00,  6.63s/it]\n"
     ]
    }
   ],
   "source": [
    "\n",
    "cancerss = df['cancer'].unique()\n",
    "cancer_results = []\n",
    "\n",
    "for cancer in tqdm(cancerss):\n",
    "\n",
    "    random = None\n",
    "    nonrandom = None\n",
    "    \n",
    "    for model in random_models:\n",
    "        model.eval()\n",
    "\n",
    "        X = torch.from_numpy(sga)[split_mutants(cancer, None)]\n",
    "        C = torch.from_numpy(can)[split_mutants(cancer, None)]\n",
    "        r = model(X, C, pathways=True).data.numpy()\n",
    "\n",
    "        if random is None:\n",
    "            random = r\n",
    "        else:\n",
    "            random += r\n",
    "\n",
    "\n",
    "\n",
    "    for model in models:\n",
    "        model.eval()\n",
    "\n",
    "        X = torch.from_numpy(sga)[split_mutants(cancer, None)]\n",
    "        C = torch.from_numpy(can)[split_mutants(cancer, None)]\n",
    "        s = model(X, C, pathways=True).data.numpy()\n",
    "\n",
    "        if nonrandom is None:\n",
    "            nonrandom = s\n",
    "        else:\n",
    "            nonrandom += s\n",
    "\n",
    "\n",
    "    random = random / len(random_models)\n",
    "    nonrandom = nonrandom / len(models)\n",
    "    cancer_results.append([Counter(fdrcorrection(ttest_1samp(random[:, i], random[:, i][:]).pvalue)[0])[True]/len(random) for i in range(50)])\n",
    "\n"
   ]
  },
  {
   "cell_type": "code",
   "execution_count": null,
   "metadata": {},
   "outputs": [],
   "source": [
    "(1-pd.DataFrame(cancer_results, index=cancerss, columns=hallmark.Description.values).T).to_csv('pathway_heatmap.csv')"
   ]
  },
  {
   "cell_type": "code",
   "execution_count": 59,
   "metadata": {},
   "outputs": [
    {
     "data": {
      "text/plain": [
       "<AxesSubplot:>"
      ]
     },
     "execution_count": 59,
     "metadata": {},
     "output_type": "execute_result"
    },
    {
     "data": {
      "image/png": "[encoded data removed]",
      "text/plain": [
       "<Figure size 432x288 with 2 Axes>"
      ]
     },
     "metadata": {
      "needs_background": "light"
     },
     "output_type": "display_data"
    }
   ],
   "source": [
    "sns.heatmap(1-pd.DataFrame(cancer_results, index=cancerss, columns=hallmark.Description.values).T, cmap='viridis')"
   ]
  },
  {
   "cell_type": "code",
   "execution_count": 29,
   "metadata": {},
   "outputs": [],
   "source": [
    "from scipy.stats import ttest_1samp\n",
    "from statsmodels.stats.multitest import fdrcorrection\n",
    "from collections import Counter\n",
    "import seaborn as sns"
   ]
  },
  {
   "cell_type": "code",
   "execution_count": 36,
   "metadata": {},
   "outputs": [
    {
     "data": {
      "text/plain": [
       "[0.8566433566433567,\n",
       " 0.986013986013986,\n",
       " 0.993006993006993,\n",
       " 0.33916083916083917,\n",
       " 0.5559440559440559,\n",
       " 0.9230769230769231,\n",
       " 0.9965034965034965,\n",
       " 0.9685314685314685,\n",
       " 0.5664335664335665,\n",
       " 0.513986013986014,\n",
       " 0.5,\n",
       " 1.0,\n",
       " 0.972027972027972,\n",
       " 0.6293706293706294,\n",
       " 0.7482517482517482,\n",
       " 0.48951048951048953,\n",
       " 0.9825174825174825,\n",
       " 0.972027972027972,\n",
       " 0.7762237762237763,\n",
       " 0.965034965034965,\n",
       " 0.9230769230769231,\n",
       " 0.7377622377622378,\n",
       " 0.3986013986013986,\n",
       " 0.3951048951048951,\n",
       " 0.9195804195804196,\n",
       " 0.9545454545454546,\n",
       " 0.972027972027972,\n",
       " 0.9790209790209791,\n",
       " 0.43356643356643354,\n",
       " 0.9335664335664335,\n",
       " 0.5034965034965035,\n",
       " 0.8566433566433567,\n",
       " 0.9790209790209791,\n",
       " 0.9440559440559441,\n",
       " 0.7482517482517482,\n",
       " 0.4090909090909091,\n",
       " 0.6223776223776224,\n",
       " 0.5559440559440559,\n",
       " 0.7062937062937062,\n",
       " 0.9090909090909091,\n",
       " 0.9335664335664335,\n",
       " 0.7867132867132867,\n",
       " 0.8286713286713286,\n",
       " 0.43006993006993005,\n",
       " 0.986013986013986,\n",
       " 0.965034965034965,\n",
       " 0.9790209790209791,\n",
       " 0.8041958041958042,\n",
       " 0.9335664335664335,\n",
       " 0.7062937062937062]"
      ]
     },
     "execution_count": 36,
     "metadata": {},
     "output_type": "execute_result"
    }
   ],
   "source": []
  },
  {
   "cell_type": "code",
   "execution_count": 27,
   "metadata": {},
   "outputs": [
    {
     "data": {
      "text/plain": [
       "[0.9265734265734266,\n",
       " 0.8391608391608392,\n",
       " 0.8671328671328671,\n",
       " 0.9020979020979021,\n",
       " 0.8741258741258742,\n",
       " 0.9020979020979021,\n",
       " 0.8706293706293706,\n",
       " 0.916083916083916,\n",
       " 0.8706293706293706,\n",
       " 0.8951048951048951,\n",
       " 0.8426573426573427,\n",
       " 0.8566433566433567,\n",
       " 0.8986013986013986,\n",
       " 0.9230769230769231,\n",
       " 0.8846153846153846,\n",
       " 0.8776223776223776,\n",
       " 0.8671328671328671,\n",
       " 0.8741258741258742,\n",
       " 0.8986013986013986,\n",
       " 0.9125874125874126,\n",
       " 0.8881118881118881,\n",
       " 0.8916083916083916,\n",
       " 0.8706293706293706,\n",
       " 0.8671328671328671,\n",
       " 0.9125874125874126,\n",
       " 0.8916083916083916,\n",
       " 0.9195804195804196,\n",
       " 0.8846153846153846,\n",
       " 0.8811188811188811,\n",
       " 0.8566433566433567,\n",
       " 0.9125874125874126,\n",
       " 0.9090909090909091,\n",
       " 0.916083916083916,\n",
       " 0.9055944055944056,\n",
       " 0.8566433566433567,\n",
       " 0.8846153846153846,\n",
       " 0.8881118881118881,\n",
       " 0.9020979020979021,\n",
       " 0.8951048951048951,\n",
       " 0.8706293706293706,\n",
       " 0.8846153846153846,\n",
       " 0.9020979020979021,\n",
       " 0.8986013986013986,\n",
       " 0.8706293706293706,\n",
       " 0.8846153846153846,\n",
       " 0.8811188811188811,\n",
       " 0.9090909090909091,\n",
       " 0.8951048951048951,\n",
       " 0.9055944055944056,\n",
       " 0.8496503496503497]"
      ]
     },
     "execution_count": 27,
     "metadata": {},
     "output_type": "execute_result"
    }
   ],
   "source": [
    "[Counter(fdrcorrection(ttest_1samp(nonrandom[:, i], nonrandom[:, i][:]).pvalue)[0])[True]/len(random) for i in range(50)]"
   ]
  },
  {
   "cell_type": "code",
   "execution_count": 76,
   "metadata": {},
   "outputs": [
    {
     "name": "stdout",
     "output_type": "stream",
     "text": [
      "HALLMARK_MTORC1_SIGNALING Counter({True: 286})\n",
      "HALLMARK_MYC_TARGETS_V2 Counter({True: 286})\n",
      "HALLMARK_INTERFERON_GAMMA_RESPONSE Counter({True: 286})\n",
      "HALLMARK_MYC_TARGETS_V1 Counter({True: 286})\n",
      "HALLMARK_GLYCOLYSIS Counter({True: 286})\n",
      "HALLMARK_OXIDATIVE_PHOSPHORYLATION Counter({True: 286})\n",
      "HALLMARK_UNFOLDED_PROTEIN_RESPONSE Counter({True: 283, False: 3})\n",
      "HALLMARK_HYPOXIA Counter({True: 273, False: 13})\n",
      "HALLMARK_EPITHELIAL_MESENCHYMAL_TRANSITION Counter({True: 286})\n",
      "HALLMARK_INTERFERON_ALPHA_RESPONSE Counter({True: 286})\n",
      "HALLMARK_TNFA_SIGNALING_VIA_NFKB Counter({True: 286})\n",
      "HALLMARK_XENOBIOTIC_METABOLISM Counter({True: 286})\n",
      "HALLMARK_REACTIVE_OXYGEN_SPECIES_PATHWAY Counter({True: 286})\n",
      "HALLMARK_DNA_REPAIR Counter({True: 285, False: 1})\n",
      "HALLMARK_INFLAMMATORY_RESPONSE Counter({True: 286})\n",
      "HALLMARK_IL6_JAK_STAT3_SIGNALING Counter({True: 286})\n",
      "HALLMARK_FATTY_ACID_METABOLISM Counter({True: 286})\n",
      "HALLMARK_COMPLEMENT Counter({True: 286})\n",
      "HALLMARK_UV_RESPONSE_UP Counter({True: 286})\n",
      "HALLMARK_ADIPOGENESIS Counter({True: 286})\n",
      "HALLMARK_APOPTOSIS Counter({True: 285, False: 1})\n",
      "HALLMARK_COAGULATION Counter({True: 286})\n",
      "HALLMARK_PI3K_AKT_MTOR_SIGNALING Counter({True: 286})\n",
      "HALLMARK_E2F_TARGETS Counter({True: 286})\n",
      "HALLMARK_HEDGEHOG_SIGNALING Counter({True: 286})\n",
      "HALLMARK_UV_RESPONSE_DN Counter({True: 286})\n",
      "HALLMARK_ALLOGRAFT_REJECTION Counter({True: 286})\n",
      "HALLMARK_PEROXISOME Counter({True: 286})\n",
      "HALLMARK_P53_PATHWAY Counter({True: 285, False: 1})\n",
      "HALLMARK_IL2_STAT5_SIGNALING Counter({True: 286})\n",
      "HALLMARK_G2M_CHECKPOINT Counter({True: 286})\n",
      "HALLMARK_CHOLESTEROL_HOMEOSTASIS Counter({True: 285, False: 1})\n",
      "HALLMARK_ANGIOGENESIS Counter({True: 286})\n",
      "HALLMARK_BILE_ACID_METABOLISM Counter({False: 177, True: 109})\n",
      "HALLMARK_PANCREAS_BETA_CELLS Counter({True: 286})\n",
      "HALLMARK_PROTEIN_SECRETION Counter({True: 286})\n",
      "HALLMARK_TGF_BETA_SIGNALING Counter({True: 286})\n",
      "HALLMARK_HEME_METABOLISM Counter({True: 286})\n",
      "HALLMARK_MITOTIC_SPINDLE Counter({True: 286})\n",
      "HALLMARK_ANDROGEN_RESPONSE Counter({True: 286})\n",
      "HALLMARK_SPERMATOGENESIS Counter({True: 286})\n",
      "HALLMARK_KRAS_SIGNALING_UP Counter({True: 286})\n",
      "HALLMARK_NOTCH_SIGNALING Counter({True: 286})\n",
      "HALLMARK_MYOGENESIS Counter({True: 286})\n",
      "HALLMARK_ESTROGEN_RESPONSE_EARLY Counter({True: 286})\n",
      "HALLMARK_ESTROGEN_RESPONSE_LATE Counter({True: 286})\n",
      "HALLMARK_APICAL_SURFACE Counter({True: 286})\n",
      "HALLMARK_WNT_BETA_CATENIN_SIGNALING Counter({True: 285, False: 1})\n",
      "HALLMARK_APICAL_JUNCTION Counter({True: 286})\n",
      "HALLMARK_KRAS_SIGNALING_DN Counter({True: 286})\n"
     ]
    },
    {
     "ename": "IndexError",
     "evalue": "index 50 is out of bounds for axis 0 with size 50",
     "output_type": "error",
     "traceback": [
      "\u001b[0;31m---------------------------------------------------------------------------\u001b[0m",
      "\u001b[0;31mIndexError\u001b[0m                                Traceback (most recent call last)",
      "\u001b[0;32m<ipython-input-76-a0bdb9efa19c>\u001b[0m in \u001b[0;36m<module>\u001b[0;34m\u001b[0m\n\u001b[1;32m      1\u001b[0m \u001b[0;32mfor\u001b[0m \u001b[0mi\u001b[0m \u001b[0;32min\u001b[0m \u001b[0mrange\u001b[0m\u001b[0;34m(\u001b[0m\u001b[0mlen\u001b[0m\u001b[0;34m(\u001b[0m\u001b[0mrandom\u001b[0m\u001b[0;34m)\u001b[0m\u001b[0;34m)\u001b[0m\u001b[0;34m:\u001b[0m\u001b[0;34m\u001b[0m\u001b[0m\n\u001b[0;32m----> 2\u001b[0;31m     \u001b[0mprint\u001b[0m\u001b[0;34m(\u001b[0m\u001b[0mhallmark\u001b[0m\u001b[0;34m.\u001b[0m\u001b[0mDescription\u001b[0m\u001b[0;34m.\u001b[0m\u001b[0mvalues\u001b[0m\u001b[0;34m[\u001b[0m\u001b[0mi\u001b[0m\u001b[0;34m]\u001b[0m\u001b[0;34m,\u001b[0m \u001b[0mCounter\u001b[0m\u001b[0;34m(\u001b[0m\u001b[0mfdrcorrection\u001b[0m\u001b[0;34m(\u001b[0m\u001b[0;34m[\u001b[0m\u001b[0mttest_1samp\u001b[0m\u001b[0;34m(\u001b[0m\u001b[0mnonrandom\u001b[0m\u001b[0;34m[\u001b[0m\u001b[0;34m:\u001b[0m\u001b[0;34m,\u001b[0m \u001b[0mi\u001b[0m\u001b[0;34m]\u001b[0m\u001b[0;34m,\u001b[0m \u001b[0mrandom\u001b[0m\u001b[0;34m[\u001b[0m\u001b[0;34m:\u001b[0m\u001b[0;34m,\u001b[0m \u001b[0;36m1\u001b[0m\u001b[0;34m]\u001b[0m\u001b[0;34m[\u001b[0m\u001b[0mx\u001b[0m\u001b[0;34m]\u001b[0m\u001b[0;34m)\u001b[0m\u001b[0;34m.\u001b[0m\u001b[0mpvalue\u001b[0m \u001b[0;32mfor\u001b[0m \u001b[0mx\u001b[0m \u001b[0;32min\u001b[0m \u001b[0mrange\u001b[0m\u001b[0;34m(\u001b[0m\u001b[0mlen\u001b[0m\u001b[0;34m(\u001b[0m\u001b[0mnonrandom\u001b[0m\u001b[0;34m[\u001b[0m\u001b[0;34m:\u001b[0m\u001b[0;34m,\u001b[0m \u001b[0;36m1\u001b[0m\u001b[0;34m]\u001b[0m\u001b[0;34m)\u001b[0m\u001b[0;34m)\u001b[0m\u001b[0;34m]\u001b[0m\u001b[0;34m)\u001b[0m\u001b[0;34m[\u001b[0m\u001b[0;36m0\u001b[0m\u001b[0;34m]\u001b[0m\u001b[0;34m)\u001b[0m\u001b[0;34m)\u001b[0m\u001b[0;34m\u001b[0m\u001b[0m\n\u001b[0m",
      "\u001b[0;31mIndexError\u001b[0m: index 50 is out of bounds for axis 0 with size 50"
     ]
    }
   ],
   "source": [
    "for i in range(len(random)):\n",
    "    print(hallmark.Description.values[i], Counter(fdrcorrection([ttest_1samp(nonrandom[:, i], random[:, 1][x]).pvalue for x in range(len(nonrandom[:, 1]))])[0]))"
   ]
  },
  {
   "cell_type": "code",
   "execution_count": 22,
   "metadata": {},
   "outputs": [
    {
     "data": {
      "text/plain": [
       "'HALLMARK_KRAS_SIGNALING_DN'"
      ]
     },
     "execution_count": 22,
     "metadata": {},
     "output_type": "execute_result"
    }
   ],
   "source": []
  },
  {
   "cell_type": "code",
   "execution_count": 32,
   "metadata": {},
   "outputs": [
    {
     "data": {
      "text/plain": [
       "<AxesSubplot:ylabel='Description'>"
      ]
     },
     "execution_count": 32,
     "metadata": {},
     "output_type": "execute_result"
    },
    {
     "data": {
      "image/png": "[encoded data removed]",
      "text/plain": [
       "<Figure size 432x288 with 2 Axes>"
      ]
     },
     "metadata": {
      "needs_background": "light"
     },
     "output_type": "display_data"
    }
   ],
   "source": [
    "sns.heatmap(pd.DataFrame(ttest_ind(random, nonrandom).pvalue, \n",
    "        index=hallmark.Description, \n",
    "        columns=['pvalue']).sort_values(by='pvalue', ascending=True).loc[hallmark.Description])"
   ]
  },
  {
   "cell_type": "code",
   "execution_count": 24,
   "metadata": {},
   "outputs": [
    {
     "data": {
      "text/plain": [
       "[0.3228966580749612,\n",
       " 0.3056089131453084,\n",
       " 0.3207356899587547,\n",
       " 0.3023434502141517,\n",
       " 0.3099308493777216,\n",
       " 0.3081540533710628,\n",
       " 0.3011909338855082,\n",
       " 0.3060411067685497,\n",
       " 0.3019592781046038,\n",
       " 0.3128601617130239]"
      ]
     },
     "execution_count": 24,
     "metadata": {},
     "output_type": "execute_result"
    }
   ],
   "source": [
    "[m.pval_corr for m in models]"
   ]
  },
  {
   "cell_type": "code",
   "execution_count": 28,
   "metadata": {},
   "outputs": [],
   "source": [
    "from scipy.stats import ttest_ind\n",
    "import seaborn as sns\n",
    "from scipy.stats import spearmanr\n",
    "import matplotlib.pyplot as plt"
   ]
  },
  {
   "cell_type": "code",
   "execution_count": 13,
   "metadata": {},
   "outputs": [],
   "source": [
    "# results = pd.DataFrame(np.array([m.performance for m in models]).mean(0), columns = ['corr', 'mse'])\n",
    "# results['corr_std'] = np.array([m.performance for m in models]).std(0)[:, 0]\n",
    "# results['mse_std'] = np.array([m.performance for m in models]).std(0)[:, 1]\n",
    "# results = results[['corr', 'corr_std', 'mse', 'mse_std']]\n",
    "# results.index = models[0].cancers"
   ]
  },
  {
   "cell_type": "code",
   "execution_count": 14,
   "metadata": {},
   "outputs": [],
   "source": [
    "# results.to_csv('perf_shuffled_across.csv')"
   ]
  },
  {
   "cell_type": "code",
   "execution_count": 57,
   "metadata": {},
   "outputs": [],
   "source": []
  },
  {
   "cell_type": "code",
   "execution_count": 81,
   "metadata": {},
   "outputs": [
    {
     "data": {
      "text/plain": [
       "((4415,), (150,))"
      ]
     },
     "execution_count": 81,
     "metadata": {},
     "output_type": "execute_result"
    }
   ],
   "source": []
  },
  {
   "cell_type": "code",
   "execution_count": 28,
   "metadata": {},
   "outputs": [],
   "source": [
    "clinical_from_cbioportal = pd.read_table('https://media.githubusercontent.com/media/cBioPortal/datahub/master/public/hnsc_tcga_pan_can_atlas_2018/data_clinical_patient.txt')\n",
    "clinical_from_cbioportal = clinical_from_cbioportal.drop([0, 1, 2, 3])\n",
    "clinical_from_cbioportal = clinical_from_cbioportal.set_index('#Patient Identifier')\n",
    "traits = clinical_from_cbioportal[['Subtype']].copy()\n",
    "traits.index.name = None\n",
    "traits.columns = ['hpv']\n",
    "traits = traits.dropna()\n",
    "traits.hpv = traits.hpv.replace({'HNSC_HPV-': 0, 'HNSC_HPV+': 1})"
   ]
  },
  {
   "cell_type": "code",
   "execution_count": 69,
   "metadata": {},
   "outputs": [],
   "source": [
    "idx = xdf[xdf.id.isin(traits[traits.hpv==1].index)].idx.values\n",
    "idy = xdf[xdf.id.isin(traits[traits.hpv==0].index)].idx.values"
   ]
  },
  {
   "cell_type": "code",
   "execution_count": 80,
   "metadata": {},
   "outputs": [
    {
     "data": {
      "text/plain": [
       "((60,), (314,))"
      ]
     },
     "execution_count": 80,
     "metadata": {},
     "output_type": "execute_result"
    }
   ],
   "source": [
    "idx.shape, idy.shape"
   ]
  },
  {
   "cell_type": "code",
   "execution_count": 31,
   "metadata": {},
   "outputs": [],
   "source": [
    "from tqdm import tqdm"
   ]
  },
  {
   "cell_type": "code",
   "execution_count": 53,
   "metadata": {},
   "outputs": [
    {
     "name": "stderr",
     "output_type": "stream",
     "text": [
      "100%|██████████| 10/10 [00:19<00:00,  2.00s/it]\n"
     ]
    }
   ],
   "source": [
    "R = None\n",
    "S = None\n",
    "\n",
    "for model in tqdm(models):\n",
    "    model.eval()\n",
    "\n",
    "    X = torch.from_numpy(sga)[idx]\n",
    "    C = torch.from_numpy(can[idx])\n",
    "    r = model(X, C, pathways=True).data.numpy()\n",
    "\n",
    "    if R is None:\n",
    "        R = r\n",
    "    else:\n",
    "        R += r\n",
    "\n",
    "    X = torch.from_numpy(sga)[idy]\n",
    "    C = torch.from_numpy(can[idy])\n",
    "    s = model(X, C, pathways=True).data.numpy()\n",
    "\n",
    "    if S is None:\n",
    "        S = s\n",
    "    else:\n",
    "        S += s    "
   ]
  },
  {
   "cell_type": "code",
   "execution_count": 65,
   "metadata": {},
   "outputs": [
    {
     "data": {
      "text/plain": [
       "Index(['pvalue'], dtype='object')"
      ]
     },
     "execution_count": 65,
     "metadata": {},
     "output_type": "execute_result"
    }
   ],
   "source": [
    "dx.columns"
   ]
  },
  {
   "cell_type": "code",
   "execution_count": 72,
   "metadata": {},
   "outputs": [],
   "source": [
    "dx = pd.DataFrame(ttest_ind(R, S).pvalue, \n",
    "        index=hallmark.Description, \n",
    "        columns=['pvalue']).sort_values(by='pvalue', ascending=True)\n",
    "\n",
    "dx.to_csv('./NFE2L2.csv')"
   ]
  },
  {
   "cell_type": "code",
   "execution_count": 33,
   "metadata": {},
   "outputs": [
    {
     "data": {
      "text/plain": [
       "SpearmanrResult(correlation=-0.07645024980002056, pvalue=0.5977177899674204)"
      ]
     },
     "execution_count": 33,
     "metadata": {},
     "output_type": "execute_result"
    }
   ],
   "source": [
    "R = R / len(models)\n",
    "S = S / len(models)\n",
    "\n",
    "p_predicted = pd.DataFrame(ttest_ind(R, S).pvalue, \n",
    "        index=hallmark.Description, \n",
    "        columns=['pvalue']).sort_values(by='pvalue', ascending=True).loc[hallmark.Description].pvalue.values\n",
    "\n",
    "p_exp = hallmark['pvalue'].values\n",
    "spearmanr(p_predicted, p_exp)"
   ]
  },
  {
   "cell_type": "code",
   "execution_count": 77,
   "metadata": {},
   "outputs": [],
   "source": [
    "from statsmodels.stats.multitest import fdrcorrection"
   ]
  },
  {
   "cell_type": "code",
   "execution_count": 81,
   "metadata": {},
   "outputs": [
    {
     "name": "stdout",
     "output_type": "stream",
     "text": [
      "Help on function fdrcorrection in module statsmodels.stats.multitest:\n",
      "\n",
      "fdrcorrection(pvals, alpha=0.05, method='indep', is_sorted=False)\n",
      "    pvalue correction for false discovery rate.\n",
      "    \n",
      "    This covers Benjamini/Hochberg for independent or positively correlated and\n",
      "    Benjamini/Yekutieli for general or negatively correlated tests.\n",
      "    \n",
      "    Parameters\n",
      "    ----------\n",
      "    pvals : array_like, 1d\n",
      "        Set of p-values of the individual tests.\n",
      "    alpha : float, optional\n",
      "        Family-wise error rate. Defaults to ``0.05``.\n",
      "    method : {'i', 'indep', 'p', 'poscorr', 'n', 'negcorr'}, optional\n",
      "        Which method to use for FDR correction.\n",
      "        ``{'i', 'indep', 'p', 'poscorr'}`` all refer to ``fdr_bh``\n",
      "        (Benjamini/Hochberg for independent or positively\n",
      "        correlated tests). ``{'n', 'negcorr'}`` both refer to ``fdr_by``\n",
      "        (Benjamini/Yekutieli for general or negatively correlated tests).\n",
      "        Defaults to ``'indep'``.\n",
      "    is_sorted : bool, optional\n",
      "        If False (default), the p_values will be sorted, but the corrected\n",
      "        pvalues are in the original order. If True, then it assumed that the\n",
      "        pvalues are already sorted in ascending order.\n",
      "    \n",
      "    Returns\n",
      "    -------\n",
      "    rejected : ndarray, bool\n",
      "        True if a hypothesis is rejected, False if not\n",
      "    pvalue-corrected : ndarray\n",
      "        pvalues adjusted for multiple hypothesis testing to limit FDR\n",
      "    \n",
      "    Notes\n",
      "    -----\n",
      "    If there is prior information on the fraction of true hypothesis, then alpha\n",
      "    should be set to ``alpha * m/m_0`` where m is the number of tests,\n",
      "    given by the p-values, and m_0 is an estimate of the true hypothesis.\n",
      "    (see Benjamini, Krieger and Yekuteli)\n",
      "    \n",
      "    The two-step method of Benjamini, Krieger and Yekutiel that estimates the number\n",
      "    of false hypotheses will be available (soon).\n",
      "    \n",
      "    Both methods exposed via this function (Benjamini/Hochberg, Benjamini/Yekutieli)\n",
      "    are also available in the function ``multipletests``, as ``method=\"fdr_bh\"`` and\n",
      "    ``method=\"fdr_by\"``, respectively.\n",
      "    \n",
      "    See also\n",
      "    --------\n",
      "    multipletests\n",
      "\n"
     ]
    }
   ],
   "source": [
    "help(fdrcorrection)"
   ]
  },
  {
   "cell_type": "code",
   "execution_count": 80,
   "metadata": {},
   "outputs": [],
   "source": [
    "# fdrcorrection(p_predicted)"
   ]
  },
  {
   "cell_type": "code",
   "execution_count": 74,
   "metadata": {},
   "outputs": [],
   "source": [
    "# pd.DataFrame(ttest_ind(R, S).pvalue, \n",
    "#         index=hallmark.Description, \n",
    "#         columns=['pvalue']).sort_values(by='pvalue', ascending=True).to_csv('HPV_analysis.csv')"
   ]
  },
  {
   "cell_type": "code",
   "execution_count": 75,
   "metadata": {},
   "outputs": [],
   "source": [
    "# np.save('p_predicted2.npy', p_predicted)\n",
    "# np.save('p_exp2.npy', p_exp)"
   ]
  },
  {
   "cell_type": "code",
   "execution_count": 37,
   "metadata": {},
   "outputs": [
    {
     "data": {
      "text/plain": [
       "array([-0.03885234, -0.01304751, -0.0700935 , -0.05409943, -0.04236699,\n",
       "       -0.06662035, -0.07512558, -0.04664319, -0.06729268, -0.04858711])"
      ]
     },
     "execution_count": 37,
     "metadata": {},
     "output_type": "execute_result"
    }
   ],
   "source": []
  },
  {
   "cell_type": "code",
   "execution_count": 39,
   "metadata": {},
   "outputs": [
    {
     "data": {
      "text/plain": [
       "array([0.84551702, 0.87585314, 0.86683599, 0.87819618, 0.88397833,\n",
       "       0.83529452, 0.90377233, 0.88774731, 0.86372933, 0.84456712,\n",
       "       0.86610128, 0.86751381, 0.79801956, 0.92775074, 0.86453251,\n",
       "       0.86601414, 0.87669903])"
      ]
     },
     "execution_count": 39,
     "metadata": {},
     "output_type": "execute_result"
    }
   ],
   "source": []
  }
 ],
 "metadata": {
  "kernelspec": {
   "display_name": "Python 3.7.0 ('deepbio')",
   "language": "python",
   "name": "python3"
  },
  "language_info": {
   "codemirror_mode": {
    "name": "ipython",
    "version": 3
   },
   "file_extension": ".py",
   "mimetype": "text/x-python",
   "name": "python",
   "nbconvert_exporter": "python",
   "pygments_lexer": "ipython3",
   "version": "3.7.0"
  },
  "orig_nbformat": 4,
  "vscode": {
   "interpreter": {
    "hash": "6acab715838f00affcecba94e2037a8e32fb53ad3a082152ed1c0f4b0ff3b1f7"
   }
  }
 },
 "nbformat": 4,
 "nbformat_minor": 2
}
