{
 "cells": [
  {
   "cell_type": "code",
   "execution_count": 12,
   "metadata": {},
   "outputs": [],
   "source": [
    "import pandas as pd\n",
    "import numpy as np\n",
    "from tqdm.notebook import tqdm"
   ]
  },
  {
   "cell_type": "code",
   "execution_count": 13,
   "metadata": {},
   "outputs": [],
   "source": [
    "hallmark = pd.read_excel('/ihome/hosmanbeyoglu/kor11/tools/CITRUS/FW__MCF10A_wild_type_and_PIK3CA_H1047R_knock-in_cell_lines/Supplementary Table S4.xlsx', \n",
    "    sheet_name='MCF10A_hallmark_PI3K_Activation')"
   ]
  },
  {
   "cell_type": "code",
   "execution_count": 14,
   "metadata": {},
   "outputs": [],
   "source": [
    "from utils import Data, get_ppi_edge_list\n",
    "\n",
    "data_csv = Data(\n",
    "    fGEP_SGA = 'data/CITRUS_GEP_SGAseparated.csv',\n",
    "    fgene_tf_SGA = 'data/CITRUS_gene_tf_SGAseparated.csv',\n",
    "    fcancerType_SGA = 'data/CITRUS_canType_SGAseparated.csv',\n",
    "    fSGA_SGA = 'data/CITRUS_SGA_SGAseparated.csv',\n",
    ")"
   ]
  },
  {
   "cell_type": "code",
   "execution_count": 15,
   "metadata": {},
   "outputs": [],
   "source": [
    "hallmark_mask = np.load('hallmark_mask.npy')"
   ]
  },
  {
   "cell_type": "code",
   "execution_count": 334,
   "metadata": {},
   "outputs": [
    {
     "data": {
      "text/plain": [
       "<matplotlib.lines.Line2D at 0x7f837bce2c50>"
      ]
     },
     "execution_count": 334,
     "metadata": {},
     "output_type": "execute_result"
    },
    {
     "data": {
      "image/png": "[encoded data removed]",
      "text/plain": [
       "<Figure size 432x288 with 1 Axes>"
      ]
     },
     "metadata": {
      "needs_background": "light"
     },
     "output_type": "display_data"
    }
   ],
   "source": [
    "from scipy import sparse\n",
    "\n",
    "\n",
    "plt.spy(sparse.csr_matrix(hallmark_mask), markersize=0.75)"
   ]
  },
  {
   "cell_type": "code",
   "execution_count": 16,
   "metadata": {},
   "outputs": [],
   "source": [
    "import os\n",
    "import argparse\n",
    "from utils import bool_ext, load_dataset, split_dataset, evaluate, checkCorrelations\n",
    "from models import CITRUS\n",
    "import pickle\n",
    "import torch\n",
    "import numpy as np\n",
    "import pandas as pd\n",
    "import warnings \n",
    "from pathlib import Path\n",
    "from tqdm import tqdm\n",
    "warnings.filterwarnings(\"ignore\")\n",
    "from sklearn import metrics\n",
    "\n",
    "import yaml\n",
    "\n",
    "with open('args.yaml', 'r') as f:\n",
    "    args_dict = yaml.safe_load(f)\n",
    "\n",
    "device = 'cuda' if torch.cuda.is_available() else 'cpu'\n",
    "\n",
    "if device == 'cuda':\n",
    "    device_name = torch.cuda.get_device_name(0)\n",
    "else:\n",
    "    device_name = 'cpu'\n",
    "\n",
    "\n",
    "parser = argparse.ArgumentParser()\n",
    "args = argparse.Namespace(**args_dict)\n",
    "args.tf_gene = np.load('tf_gene.npy')"
   ]
  },
  {
   "cell_type": "code",
   "execution_count": 18,
   "metadata": {},
   "outputs": [],
   "source": [
    "dataset, dataset_test = load_dataset(\n",
    "    input_dir=args.input_dir,\n",
    "    mask01=args.mask01,\n",
    "    dataset_name=args.dataset_name,\n",
    "    gep_normalization=args.gep_normalization,\n",
    ")\n",
    "\n",
    "train_set, test_set = split_dataset(dataset, ratio=0.66)\n",
    "\n",
    "daata = pickle.load( open(\"/ihome/hosmanbeyoglu/kor11/tools/CITRUS/data/dataset_CITRUS.pkl\", \"rb\") )\n",
    "cancers = daata['idx2can']\n",
    "\n",
    "from utils import Data \n",
    "\n",
    "data_csv = Data(\n",
    "    fGEP_SGA = 'data/CITRUS_GEP_SGAseparated.csv',\n",
    "    fgene_tf_SGA = 'data/CITRUS_gene_tf_SGAseparated.csv',\n",
    "    fcancerType_SGA = 'data/CITRUS_canType_SGAseparated.csv',\n",
    "    fSGA_SGA = 'data/CITRUS_SGA_SGAseparated.csv',\n",
    ")\n",
    "\n",
    "data = pickle.load( open(\"/ihome/hosmanbeyoglu/kor11/tools/CITRUS/data/dataset_CITRUS.pkl\", \"rb\"))\n",
    "\n",
    "\n",
    "df = pd.DataFrame(np.column_stack([data['tmr'], data['can']]), columns=['tmr', 'cancer'])\n",
    "df['cancer'] = df['cancer'].astype(int).replace(data['idx2can'])\n",
    "xdf = pd.read_parquet('xdf.parquet') \n",
    "\n",
    "\n",
    "import gzip\n",
    "\n",
    "def split_mutants(cancer, gene):    \n",
    "    if gene is None:\n",
    "        dframe = data_csv.sga_sga.loc[df[df.cancer==cancer].tmr]\n",
    "        idx = xdf[xdf.id.isin(dframe.index)].idx.values\n",
    "        return idx\n",
    "        \n",
    "\n",
    "\n",
    "    _sm = f'SM_{gene}'\n",
    "    _scna = f'SCNA_{gene}'\n",
    "    \n",
    "    if not cancer:\n",
    "        dframe = data_csv.sga_sga.loc[df.tmr]\n",
    "    else:\n",
    "        dframe = data_csv.sga_sga.loc[df[df.cancer==cancer].tmr]\n",
    "    \n",
    "    wt = dframe[(dframe[_sm] == 0) & (dframe[_scna] == 0)]\n",
    "    sm = dframe[(dframe[_sm] == 1) & (dframe[_scna] == 0)]\n",
    "    idx = xdf[xdf.id.isin(wt.index)].idx.values\n",
    "    idy = xdf[xdf.id.isin(sm.index)].idx.values\n",
    "\n",
    "    return idx, idy\n",
    "    \n",
    "\n",
    "\n",
    "f = gzip.GzipFile('sga.npy.gz', 'r')\n",
    "sga = np.load(f)\n",
    "f.close()\n",
    "\n",
    "g = gzip.GzipFile('can.npy.gz', 'r')\n",
    "can = np.load(g)\n",
    "g.close()\n"
   ]
  },
  {
   "cell_type": "code",
   "execution_count": 19,
   "metadata": {},
   "outputs": [
    {
     "name": "stderr",
     "output_type": "stream",
     "text": [
      "100%|██████████| 10/10 [00:01<00:00,  5.13it/s]\n",
      "100%|██████████| 3/3 [00:00<00:00, 15.89it/s]\n"
     ]
    }
   ],
   "source": [
    "models = []\n",
    "for m in tqdm(list(Path('/ix/hosmanbeyoglu/kor11/output').iterdir())):\n",
    "    model = CITRUS(args) \n",
    "    model.build(device=device)\n",
    "    model.to(device);\n",
    "    model.load_model(m, device=device)\n",
    "    model.eval()\n",
    "    models.append(model)\n",
    "\n",
    "\n",
    "random_models = []\n",
    "for m in tqdm(list(Path('/ihome/hosmanbeyoglu/kor11/tools/CITRUS/output').glob('random_model*.pth'))):\n",
    "    model = CITRUS(args) \n",
    "    model.build(device=device)\n",
    "    model.to(device);\n",
    "    model.load_model(m, device=device)\n",
    "    model.eval()\n",
    "    random_models.append(model)"
   ]
  },
  {
   "cell_type": "code",
   "execution_count": 20,
   "metadata": {},
   "outputs": [],
   "source": [
    "from statsmodels.stats.multitest import fdrcorrection"
   ]
  },
  {
   "cell_type": "code",
   "execution_count": 53,
   "metadata": {},
   "outputs": [
    {
     "name": "stderr",
     "output_type": "stream",
     "text": [
      "100%|██████████| 17/17 [01:52<00:00,  6.63s/it]\n"
     ]
    }
   ],
   "source": [
    "\n",
    "cancerss = df['cancer'].unique()\n",
    "cancer_results = []\n",
    "\n",
    "for cancer in tqdm(cancerss):\n",
    "\n",
    "    random = None\n",
    "    nonrandom = None\n",
    "    \n",
    "    for model in random_models:\n",
    "        model.eval()\n",
    "\n",
    "        X = torch.from_numpy(sga)[split_mutants(cancer, None)]\n",
    "        C = torch.from_numpy(can)[split_mutants(cancer, None)]\n",
    "        r = model(X, C, pathways=True).data.numpy()\n",
    "\n",
    "        if random is None:\n",
    "            random = r\n",
    "        else:\n",
    "            random += r\n",
    "\n",
    "\n",
    "\n",
    "    for model in models:\n",
    "        model.eval()\n",
    "\n",
    "        X = torch.from_numpy(sga)[split_mutants(cancer, None)]\n",
    "        C = torch.from_numpy(can)[split_mutants(cancer, None)]\n",
    "        s = model(X, C, pathways=True).data.numpy()\n",
    "\n",
    "        if nonrandom is None:\n",
    "            nonrandom = s\n",
    "        else:\n",
    "            nonrandom += s\n",
    "\n",
    "\n",
    "    random = random / len(random_models)\n",
    "    nonrandom = nonrandom / len(models)\n",
    "    cancer_results.append([Counter(fdrcorrection(ttest_1samp(random[:, i], random[:, i][:]).pvalue)[0])[True]/len(random) for i in range(50)])\n",
    "\n"
   ]
  },
  {
   "cell_type": "code",
   "execution_count": 61,
   "metadata": {},
   "outputs": [],
   "source": [
    "(1-pd.DataFrame(cancer_results, index=cancerss, columns=hallmark.Description.values).T).to_csv('pathway_heatmap.csv')"
   ]
  },
  {
   "cell_type": "code",
   "execution_count": 69,
   "metadata": {},
   "outputs": [],
   "source": [
    "import matplotlib.pyplot as plt"
   ]
  },
  {
   "cell_type": "code",
   "execution_count": 88,
   "metadata": {},
   "outputs": [
    {
     "data": {
      "image/png": "[encoded data removed]",
      "text/plain": [
       "<Figure size 1080x1080 with 2 Axes>"
      ]
     },
     "metadata": {
      "needs_background": "light"
     },
     "output_type": "display_data"
    }
   ],
   "source": [
    "plt.figure(figsize=(15, 15))\n",
    "pdf = pd.read_csv('pathway_heatmap.csv').set_index('Unnamed: 0')\n",
    "pdf.index.name='Pathways'\n",
    "sns.heatmap(pdf, cmap='viridis', square=False)\n",
    "plt.ylabel('Pathways')\n",
    "plt.xlabel('Cancer Type')\n",
    "plt.tight_layout()\n",
    "\n",
    "plt.savefig('heatmap.png', dpi=300)\n",
    "plt.show()\n"
   ]
  },
  {
   "cell_type": "code",
   "execution_count": 50,
   "metadata": {},
   "outputs": [],
   "source": [
    "from scipy.stats import ttest_1samp\n",
    "from statsmodels.stats.multitest import fdrcorrection\n",
    "from collections import Counter\n",
    "import seaborn as sns\n",
    "\n",
    "from scipy.stats import ttest_ind\n",
    "import seaborn as sns\n",
    "from scipy.stats import spearmanr\n",
    "import matplotlib.pyplot as plt"
   ]
  },
  {
   "cell_type": "code",
   "execution_count": 22,
   "metadata": {},
   "outputs": [],
   "source": [
    "clinical_from_cbioportal = pd.read_table('https://media.githubusercontent.com/media/cBioPortal/datahub/master/public/hnsc_tcga_pan_can_atlas_2018/data_clinical_patient.txt')\n",
    "clinical_from_cbioportal = clinical_from_cbioportal.drop([0, 1, 2, 3])\n",
    "clinical_from_cbioportal = clinical_from_cbioportal.set_index('#Patient Identifier')\n",
    "traits = clinical_from_cbioportal[['Subtype']].copy()\n",
    "traits.index.name = None\n",
    "traits.columns = ['hpv']\n",
    "traits = traits.dropna()\n",
    "traits.hpv = traits.hpv.replace({'HNSC_HPV-': 0, 'HNSC_HPV+': 1})\n",
    "\n",
    "idx = xdf[xdf.id.isin(traits[traits.hpv==1].index)].idx.values\n",
    "idy = xdf[xdf.id.isin(traits[traits.hpv==0].index)].idx.values"
   ]
  },
  {
   "cell_type": "code",
   "execution_count": 31,
   "metadata": {},
   "outputs": [],
   "source": [
    "from tqdm import tqdm"
   ]
  },
  {
   "cell_type": "code",
   "execution_count": 53,
   "metadata": {},
   "outputs": [
    {
     "name": "stderr",
     "output_type": "stream",
     "text": [
      "100%|██████████| 10/10 [00:19<00:00,  2.00s/it]\n"
     ]
    }
   ],
   "source": [
    "R = None\n",
    "S = None\n",
    "\n",
    "for model in tqdm(models):\n",
    "    model.eval()\n",
    "\n",
    "    X = torch.from_numpy(sga)[idx]\n",
    "    C = torch.from_numpy(can[idx])\n",
    "    r = model(X, C, pathways=True).data.numpy()\n",
    "\n",
    "    if R is None:\n",
    "        R = r\n",
    "    else:\n",
    "        R += r\n",
    "\n",
    "    X = torch.from_numpy(sga)[idy]\n",
    "    C = torch.from_numpy(can[idy])\n",
    "    s = model(X, C, pathways=True).data.numpy()\n",
    "\n",
    "    if S is None:\n",
    "        S = s\n",
    "    else:\n",
    "        S += s    "
   ]
  },
  {
   "cell_type": "code",
   "execution_count": 65,
   "metadata": {},
   "outputs": [
    {
     "data": {
      "text/plain": [
       "Index(['pvalue'], dtype='object')"
      ]
     },
     "execution_count": 65,
     "metadata": {},
     "output_type": "execute_result"
    }
   ],
   "source": [
    "dx.columns"
   ]
  },
  {
   "cell_type": "code",
   "execution_count": 72,
   "metadata": {},
   "outputs": [],
   "source": [
    "dx = pd.DataFrame(ttest_ind(R, S).pvalue, \n",
    "        index=hallmark.Description, \n",
    "        columns=['pvalue']).sort_values(by='pvalue', ascending=True)\n",
    "\n",
    "# dx.to_csv('./NFE2L2.csv')"
   ]
  },
  {
   "cell_type": "code",
   "execution_count": 33,
   "metadata": {},
   "outputs": [
    {
     "data": {
      "text/plain": [
       "SpearmanrResult(correlation=-0.07645024980002056, pvalue=0.5977177899674204)"
      ]
     },
     "execution_count": 33,
     "metadata": {},
     "output_type": "execute_result"
    }
   ],
   "source": [
    "R = R / len(models)\n",
    "S = S / len(models)\n",
    "\n",
    "p_predicted = pd.DataFrame(ttest_ind(R, S).pvalue, \n",
    "        index=hallmark.Description, \n",
    "        columns=['pvalue']).sort_values(by='pvalue', ascending=True).loc[hallmark.Description].pvalue.values\n",
    "\n",
    "p_exp = hallmark['pvalue'].values\n",
    "spearmanr(p_predicted, p_exp)"
   ]
  },
  {
   "cell_type": "code",
   "execution_count": 11,
   "metadata": {},
   "outputs": [],
   "source": [
    "import numpy as np\n",
    "import pandas as pd"
   ]
  },
  {
   "cell_type": "code",
   "execution_count": 23,
   "metadata": {},
   "outputs": [
    {
     "name": "stderr",
     "output_type": "stream",
     "text": [
      "100%|██████████| 13/13 [00:35<00:00,  2.77s/it]\n"
     ]
    }
   ],
   "source": [
    "from tqdm import tqdm\n",
    "from pathlib import Path\n",
    "import pickle \n",
    "\n",
    "run = list()\n",
    "\n",
    "for d in tqdm(list(Path('/ix/hosmanbeyoglu/kor11/CITRUS_PKL').glob('*.pkl'))):\n",
    "    dataset = pickle.load( open(d, \"rb\") )\n",
    "    run.append(dataset) \n",
    "    \n",
    "tfs = list()\n",
    "for i in range(len(run)):\n",
    "    tfs.append(run[i][\"hid_tmr\"])\n",
    "\n",
    "tf_ensemble = 0\n",
    "for i in range(len(run)):\n",
    "    tf_ensemble += tfs[i]\n",
    "    \n",
    "tf_ensemble = tf_ensemble/len(run)"
   ]
  },
  {
   "cell_type": "code",
   "execution_count": 25,
   "metadata": {},
   "outputs": [
    {
     "data": {
      "text/html": [
       "<div>\n",
       "<style scoped>\n",
       "    .dataframe tbody tr th:only-of-type {\n",
       "        vertical-align: middle;\n",
       "    }\n",
       "\n",
       "    .dataframe tbody tr th {\n",
       "        vertical-align: top;\n",
       "    }\n",
       "\n",
       "    .dataframe thead th {\n",
       "        text-align: right;\n",
       "    }\n",
       "</style>\n",
       "<table border=\"1\" class=\"dataframe\">\n",
       "  <thead>\n",
       "    <tr style=\"text-align: right;\">\n",
       "      <th></th>\n",
       "      <th>0</th>\n",
       "      <th>1</th>\n",
       "      <th>2</th>\n",
       "      <th>3</th>\n",
       "      <th>4</th>\n",
       "      <th>5</th>\n",
       "      <th>6</th>\n",
       "      <th>7</th>\n",
       "      <th>8</th>\n",
       "      <th>9</th>\n",
       "      <th>...</th>\n",
       "      <th>310</th>\n",
       "      <th>311</th>\n",
       "      <th>312</th>\n",
       "      <th>313</th>\n",
       "      <th>314</th>\n",
       "      <th>315</th>\n",
       "      <th>316</th>\n",
       "      <th>317</th>\n",
       "      <th>318</th>\n",
       "      <th>319</th>\n",
       "    </tr>\n",
       "  </thead>\n",
       "  <tbody>\n",
       "    <tr>\n",
       "      <th>8</th>\n",
       "      <td>0.724059</td>\n",
       "      <td>-0.345777</td>\n",
       "      <td>0.533876</td>\n",
       "      <td>0.274598</td>\n",
       "      <td>-0.216675</td>\n",
       "      <td>0.741299</td>\n",
       "      <td>-0.191870</td>\n",
       "      <td>0.073369</td>\n",
       "      <td>0.504060</td>\n",
       "      <td>0.265650</td>\n",
       "      <td>...</td>\n",
       "      <td>-0.772245</td>\n",
       "      <td>-0.442598</td>\n",
       "      <td>-0.731769</td>\n",
       "      <td>0.216854</td>\n",
       "      <td>0.381547</td>\n",
       "      <td>0.195883</td>\n",
       "      <td>0.415247</td>\n",
       "      <td>0.845829</td>\n",
       "      <td>-0.321920</td>\n",
       "      <td>0.239764</td>\n",
       "    </tr>\n",
       "    <tr>\n",
       "      <th>25</th>\n",
       "      <td>0.799076</td>\n",
       "      <td>-0.363978</td>\n",
       "      <td>0.474229</td>\n",
       "      <td>0.131638</td>\n",
       "      <td>-0.288875</td>\n",
       "      <td>0.845225</td>\n",
       "      <td>-0.139799</td>\n",
       "      <td>0.072042</td>\n",
       "      <td>0.416422</td>\n",
       "      <td>0.109785</td>\n",
       "      <td>...</td>\n",
       "      <td>-0.641740</td>\n",
       "      <td>-0.577534</td>\n",
       "      <td>-0.776019</td>\n",
       "      <td>0.209670</td>\n",
       "      <td>0.310812</td>\n",
       "      <td>0.326084</td>\n",
       "      <td>0.297525</td>\n",
       "      <td>1.112511</td>\n",
       "      <td>-0.413679</td>\n",
       "      <td>0.163640</td>\n",
       "    </tr>\n",
       "    <tr>\n",
       "      <th>33</th>\n",
       "      <td>0.630442</td>\n",
       "      <td>-0.342871</td>\n",
       "      <td>0.442607</td>\n",
       "      <td>0.217076</td>\n",
       "      <td>-0.271857</td>\n",
       "      <td>0.778734</td>\n",
       "      <td>-0.249646</td>\n",
       "      <td>0.012957</td>\n",
       "      <td>0.550132</td>\n",
       "      <td>0.130122</td>\n",
       "      <td>...</td>\n",
       "      <td>-0.508508</td>\n",
       "      <td>-0.413839</td>\n",
       "      <td>-0.663965</td>\n",
       "      <td>0.223625</td>\n",
       "      <td>0.286649</td>\n",
       "      <td>0.075163</td>\n",
       "      <td>0.426995</td>\n",
       "      <td>0.716764</td>\n",
       "      <td>-0.324654</td>\n",
       "      <td>0.294979</td>\n",
       "    </tr>\n",
       "    <tr>\n",
       "      <th>35</th>\n",
       "      <td>0.316574</td>\n",
       "      <td>-0.611317</td>\n",
       "      <td>0.094221</td>\n",
       "      <td>0.019382</td>\n",
       "      <td>-0.215554</td>\n",
       "      <td>1.021958</td>\n",
       "      <td>-0.003361</td>\n",
       "      <td>-0.106718</td>\n",
       "      <td>0.578056</td>\n",
       "      <td>0.457875</td>\n",
       "      <td>...</td>\n",
       "      <td>-0.500437</td>\n",
       "      <td>-0.096140</td>\n",
       "      <td>-0.556799</td>\n",
       "      <td>0.159318</td>\n",
       "      <td>0.214532</td>\n",
       "      <td>0.211188</td>\n",
       "      <td>0.974130</td>\n",
       "      <td>0.667016</td>\n",
       "      <td>-0.041272</td>\n",
       "      <td>0.340927</td>\n",
       "    </tr>\n",
       "    <tr>\n",
       "      <th>37</th>\n",
       "      <td>0.621495</td>\n",
       "      <td>-0.385567</td>\n",
       "      <td>0.295777</td>\n",
       "      <td>0.201740</td>\n",
       "      <td>-0.294825</td>\n",
       "      <td>1.282272</td>\n",
       "      <td>-0.020725</td>\n",
       "      <td>0.088449</td>\n",
       "      <td>0.377462</td>\n",
       "      <td>0.004710</td>\n",
       "      <td>...</td>\n",
       "      <td>-0.672029</td>\n",
       "      <td>-0.375155</td>\n",
       "      <td>-0.717200</td>\n",
       "      <td>0.223117</td>\n",
       "      <td>0.317477</td>\n",
       "      <td>0.190096</td>\n",
       "      <td>0.739546</td>\n",
       "      <td>0.951125</td>\n",
       "      <td>-0.282254</td>\n",
       "      <td>0.208477</td>\n",
       "    </tr>\n",
       "    <tr>\n",
       "      <th>...</th>\n",
       "      <td>...</td>\n",
       "      <td>...</td>\n",
       "      <td>...</td>\n",
       "      <td>...</td>\n",
       "      <td>...</td>\n",
       "      <td>...</td>\n",
       "      <td>...</td>\n",
       "      <td>...</td>\n",
       "      <td>...</td>\n",
       "      <td>...</td>\n",
       "      <td>...</td>\n",
       "      <td>...</td>\n",
       "      <td>...</td>\n",
       "      <td>...</td>\n",
       "      <td>...</td>\n",
       "      <td>...</td>\n",
       "      <td>...</td>\n",
       "      <td>...</td>\n",
       "      <td>...</td>\n",
       "      <td>...</td>\n",
       "      <td>...</td>\n",
       "    </tr>\n",
       "    <tr>\n",
       "      <th>4614</th>\n",
       "      <td>0.638325</td>\n",
       "      <td>-0.440274</td>\n",
       "      <td>0.358625</td>\n",
       "      <td>0.185809</td>\n",
       "      <td>-0.352990</td>\n",
       "      <td>1.380663</td>\n",
       "      <td>-0.157253</td>\n",
       "      <td>0.148165</td>\n",
       "      <td>0.551628</td>\n",
       "      <td>0.032013</td>\n",
       "      <td>...</td>\n",
       "      <td>-0.555230</td>\n",
       "      <td>-0.373554</td>\n",
       "      <td>-0.590118</td>\n",
       "      <td>0.106041</td>\n",
       "      <td>0.309127</td>\n",
       "      <td>0.226812</td>\n",
       "      <td>0.810398</td>\n",
       "      <td>0.806068</td>\n",
       "      <td>-0.370461</td>\n",
       "      <td>0.178743</td>\n",
       "    </tr>\n",
       "    <tr>\n",
       "      <th>4615</th>\n",
       "      <td>0.529161</td>\n",
       "      <td>-0.265350</td>\n",
       "      <td>0.336692</td>\n",
       "      <td>0.082009</td>\n",
       "      <td>-0.184504</td>\n",
       "      <td>0.623915</td>\n",
       "      <td>-0.079366</td>\n",
       "      <td>0.020346</td>\n",
       "      <td>0.347692</td>\n",
       "      <td>0.300064</td>\n",
       "      <td>...</td>\n",
       "      <td>-0.568785</td>\n",
       "      <td>-0.481278</td>\n",
       "      <td>-0.666045</td>\n",
       "      <td>0.173187</td>\n",
       "      <td>0.136652</td>\n",
       "      <td>0.227933</td>\n",
       "      <td>0.270746</td>\n",
       "      <td>0.829084</td>\n",
       "      <td>-0.198004</td>\n",
       "      <td>0.202158</td>\n",
       "    </tr>\n",
       "    <tr>\n",
       "      <th>4618</th>\n",
       "      <td>0.288261</td>\n",
       "      <td>-0.161690</td>\n",
       "      <td>0.295936</td>\n",
       "      <td>0.095132</td>\n",
       "      <td>-0.295854</td>\n",
       "      <td>1.150134</td>\n",
       "      <td>-0.103112</td>\n",
       "      <td>0.006895</td>\n",
       "      <td>0.424984</td>\n",
       "      <td>0.170083</td>\n",
       "      <td>...</td>\n",
       "      <td>-0.549821</td>\n",
       "      <td>-0.467286</td>\n",
       "      <td>-0.735134</td>\n",
       "      <td>0.218477</td>\n",
       "      <td>0.350273</td>\n",
       "      <td>0.113049</td>\n",
       "      <td>0.759140</td>\n",
       "      <td>0.789518</td>\n",
       "      <td>-0.272559</td>\n",
       "      <td>0.147998</td>\n",
       "    </tr>\n",
       "    <tr>\n",
       "      <th>4620</th>\n",
       "      <td>0.599857</td>\n",
       "      <td>-0.351496</td>\n",
       "      <td>0.290445</td>\n",
       "      <td>0.042431</td>\n",
       "      <td>-0.187098</td>\n",
       "      <td>1.063681</td>\n",
       "      <td>-0.051042</td>\n",
       "      <td>0.114153</td>\n",
       "      <td>0.356304</td>\n",
       "      <td>0.269035</td>\n",
       "      <td>...</td>\n",
       "      <td>-0.746522</td>\n",
       "      <td>-0.381131</td>\n",
       "      <td>-0.720233</td>\n",
       "      <td>0.233318</td>\n",
       "      <td>0.138772</td>\n",
       "      <td>0.239691</td>\n",
       "      <td>0.471016</td>\n",
       "      <td>1.067172</td>\n",
       "      <td>-0.229864</td>\n",
       "      <td>0.195996</td>\n",
       "    </tr>\n",
       "    <tr>\n",
       "      <th>4635</th>\n",
       "      <td>0.775514</td>\n",
       "      <td>-0.352893</td>\n",
       "      <td>0.526093</td>\n",
       "      <td>0.301037</td>\n",
       "      <td>-0.274747</td>\n",
       "      <td>1.105539</td>\n",
       "      <td>-0.218206</td>\n",
       "      <td>0.165311</td>\n",
       "      <td>0.586047</td>\n",
       "      <td>0.127990</td>\n",
       "      <td>...</td>\n",
       "      <td>-0.715884</td>\n",
       "      <td>-0.455904</td>\n",
       "      <td>-0.811477</td>\n",
       "      <td>0.226446</td>\n",
       "      <td>0.443282</td>\n",
       "      <td>0.129686</td>\n",
       "      <td>0.671633</td>\n",
       "      <td>0.796540</td>\n",
       "      <td>-0.348380</td>\n",
       "      <td>0.261589</td>\n",
       "    </tr>\n",
       "  </tbody>\n",
       "</table>\n",
       "<p>576 rows × 320 columns</p>\n",
       "</div>"
      ],
      "text/plain": [
       "           0         1         2         3         4         5         6    \\\n",
       "8     0.724059 -0.345777  0.533876  0.274598 -0.216675  0.741299 -0.191870   \n",
       "25    0.799076 -0.363978  0.474229  0.131638 -0.288875  0.845225 -0.139799   \n",
       "33    0.630442 -0.342871  0.442607  0.217076 -0.271857  0.778734 -0.249646   \n",
       "35    0.316574 -0.611317  0.094221  0.019382 -0.215554  1.021958 -0.003361   \n",
       "37    0.621495 -0.385567  0.295777  0.201740 -0.294825  1.282272 -0.020725   \n",
       "...        ...       ...       ...       ...       ...       ...       ...   \n",
       "4614  0.638325 -0.440274  0.358625  0.185809 -0.352990  1.380663 -0.157253   \n",
       "4615  0.529161 -0.265350  0.336692  0.082009 -0.184504  0.623915 -0.079366   \n",
       "4618  0.288261 -0.161690  0.295936  0.095132 -0.295854  1.150134 -0.103112   \n",
       "4620  0.599857 -0.351496  0.290445  0.042431 -0.187098  1.063681 -0.051042   \n",
       "4635  0.775514 -0.352893  0.526093  0.301037 -0.274747  1.105539 -0.218206   \n",
       "\n",
       "           7         8         9    ...       310       311       312  \\\n",
       "8     0.073369  0.504060  0.265650  ... -0.772245 -0.442598 -0.731769   \n",
       "25    0.072042  0.416422  0.109785  ... -0.641740 -0.577534 -0.776019   \n",
       "33    0.012957  0.550132  0.130122  ... -0.508508 -0.413839 -0.663965   \n",
       "35   -0.106718  0.578056  0.457875  ... -0.500437 -0.096140 -0.556799   \n",
       "37    0.088449  0.377462  0.004710  ... -0.672029 -0.375155 -0.717200   \n",
       "...        ...       ...       ...  ...       ...       ...       ...   \n",
       "4614  0.148165  0.551628  0.032013  ... -0.555230 -0.373554 -0.590118   \n",
       "4615  0.020346  0.347692  0.300064  ... -0.568785 -0.481278 -0.666045   \n",
       "4618  0.006895  0.424984  0.170083  ... -0.549821 -0.467286 -0.735134   \n",
       "4620  0.114153  0.356304  0.269035  ... -0.746522 -0.381131 -0.720233   \n",
       "4635  0.165311  0.586047  0.127990  ... -0.715884 -0.455904 -0.811477   \n",
       "\n",
       "           313       314       315       316       317       318       319  \n",
       "8     0.216854  0.381547  0.195883  0.415247  0.845829 -0.321920  0.239764  \n",
       "25    0.209670  0.310812  0.326084  0.297525  1.112511 -0.413679  0.163640  \n",
       "33    0.223625  0.286649  0.075163  0.426995  0.716764 -0.324654  0.294979  \n",
       "35    0.159318  0.214532  0.211188  0.974130  0.667016 -0.041272  0.340927  \n",
       "37    0.223117  0.317477  0.190096  0.739546  0.951125 -0.282254  0.208477  \n",
       "...        ...       ...       ...       ...       ...       ...       ...  \n",
       "4614  0.106041  0.309127  0.226812  0.810398  0.806068 -0.370461  0.178743  \n",
       "4615  0.173187  0.136652  0.227933  0.270746  0.829084 -0.198004  0.202158  \n",
       "4618  0.218477  0.350273  0.113049  0.759140  0.789518 -0.272559  0.147998  \n",
       "4620  0.233318  0.138772  0.239691  0.471016  1.067172 -0.229864  0.195996  \n",
       "4635  0.226446  0.443282  0.129686  0.671633  0.796540 -0.348380  0.261589  \n",
       "\n",
       "[576 rows x 320 columns]"
      ]
     },
     "execution_count": 25,
     "metadata": {},
     "output_type": "execute_result"
    }
   ],
   "source": [
    "pd.DataFrame(tf_ensemble).iloc[split_mutants('BRCA', None)]"
   ]
  },
  {
   "cell_type": "code",
   "execution_count": null,
   "metadata": {},
   "outputs": [],
   "source": [
    "import pandas as pd\n",
    "import dash_bio\n",
    "df_tf = pd.read_csv('df_tf.csv', index_col=0)"
   ]
  },
  {
   "cell_type": "code",
   "execution_count": 193,
   "metadata": {},
   "outputs": [
    {
     "name": "stderr",
     "output_type": "stream",
     "text": [
      "100%|██████████| 17/17 [04:01<00:00, 14.19s/it]\n"
     ]
    }
   ],
   "source": [
    "# cancerss = df['cancer'].unique()\n",
    "# cancer_results = []\n",
    "# cancer_results2 = []\n",
    "# cancer_results3 = []\n",
    "\n",
    "\n",
    "# for cancer in tqdm(cancerss):\n",
    "\n",
    "#     random = None\n",
    "#     nonrandom = None\n",
    "    \n",
    "#     for model in random_models:\n",
    "#         model.eval()\n",
    "\n",
    "#         X = torch.from_numpy(sga)[split_mutants(cancer, None)]\n",
    "#         C = torch.from_numpy(can)[split_mutants(cancer, None)]\n",
    "#         preds, tf, hid_tmr, emb_tmr, emb_sga, attn_wt = model(X, C, pathways=False)\n",
    "#         r = hid_tmr.data.numpy()\n",
    "\n",
    "\n",
    "#         if random is None:\n",
    "#             random = r\n",
    "#         else:\n",
    "#             random += r\n",
    "\n",
    "\n",
    "\n",
    "#     for model in models:\n",
    "#         model.eval()\n",
    "\n",
    "#         X = torch.from_numpy(sga)[split_mutants(cancer, None)]\n",
    "#         C = torch.from_numpy(can)[split_mutants(cancer, None)]\n",
    "#         preds, tf, hid_tmr, emb_tmr, emb_sga, attn_wt = model(X, C, pathways=False)\n",
    "#         s = hid_tmr.data.numpy()\n",
    "\n",
    "\n",
    "#         if nonrandom is None:\n",
    "#             nonrandom = s\n",
    "#         else:\n",
    "#             nonrandom += s\n",
    "\n",
    "\n",
    "#     random = random / len(random_models)\n",
    "#     nonrandom = nonrandom / len(models)\n",
    "#     cancer_results.append([Counter(fdrcorrection(ttest_1samp(random[:, i], random[:, i][:]).pvalue)[0])[True]/len(random) for i in range(hid_tmr.shape[1])])\n",
    "#     cancer_results2.append([Counter(fdrcorrection(ttest_1samp(nonrandom[:, i], nonrandom[:, i][:]).pvalue)[0])[True]/len(random) for i in range(hid_tmr.shape[1])])\n",
    "\n",
    "\n"
   ]
  },
  {
   "cell_type": "code",
   "execution_count": 230,
   "metadata": {},
   "outputs": [
    {
     "data": {
      "text/plain": [
       "(346, 18)"
      ]
     },
     "execution_count": 230,
     "metadata": {},
     "output_type": "execute_result"
    }
   ],
   "source": []
  },
  {
   "cell_type": "code",
   "execution_count": 233,
   "metadata": {},
   "outputs": [],
   "source": [
    "wt_values = df_tf[['CDC5L']].values[[wt]].reshape(-1)\n",
    "sm_valuesdf_tf[['CDC5L']].values[[sm]].reshape(-1))"
   ]
  },
  {
   "cell_type": "code",
   "execution_count": 235,
   "metadata": {},
   "outputs": [
    {
     "data": {
      "text/plain": [
       "-0.12829958731856128"
      ]
     },
     "execution_count": 235,
     "metadata": {},
     "output_type": "execute_result"
    }
   ],
   "source": [
    "wt_values.mean() - sm_values.mean"
   ]
  },
  {
   "cell_type": "code",
   "execution_count": 228,
   "metadata": {},
   "outputs": [
    {
     "data": {
      "text/plain": [
       "(573,)"
      ]
     },
     "execution_count": 228,
     "metadata": {},
     "output_type": "execute_result"
    }
   ],
   "source": [
    "df_tf[['CDC5L']].values[[wt]].reshape(-1)"
   ]
  },
  {
   "cell_type": "code",
   "execution_count": 237,
   "metadata": {},
   "outputs": [
    {
     "data": {
      "text/plain": [
       "Ttest_indResult(statistic=-3.96031014718891, pvalue=9.014354280472099e-05)"
      ]
     },
     "execution_count": 237,
     "metadata": {},
     "output_type": "execute_result"
    }
   ],
   "source": [
    "wt, sm = split_mutants(cancer='HNSC', gene='NFE2L2')\n",
    "\n",
    "effect_size = wt_values.mean() - sm_values.mean()\n",
    "\n",
    "tf = 'TP53'\n",
    "wt_values = df_tf[[tf]].values[[wt]].reshape(-1)\n",
    "sm_values = df_tf[[tf]].values[[sm]].reshape(-1)\n",
    "\n",
    "ttest_ind(wt_values, sm_values)"
   ]
  },
  {
   "cell_type": "code",
   "execution_count": 284,
   "metadata": {},
   "outputs": [],
   "source": [
    "from scipy.stats import mannwhitneyu"
   ]
  },
  {
   "cell_type": "code",
   "execution_count": 313,
   "metadata": {},
   "outputs": [
    {
     "name": "stderr",
     "output_type": "stream",
     "text": [
      "100%|██████████| 17/17 [00:09<00:00,  1.88it/s]\n"
     ]
    }
   ],
   "source": [
    "volcanos = []\n",
    "\n",
    "for cancer in tqdm(cancerss):\n",
    "    e_values = []\n",
    "    p_values = []\n",
    "    f_values = []\n",
    "    tf_values = []\n",
    "\n",
    "    wt, sm = split_mutants(cancer=cancer, gene='NFE2L2')\n",
    "\n",
    "\n",
    "    for tf in data_csv.tf:\n",
    "\n",
    "        wt_values = df_tf[[tf]].values[[wt]].reshape(-1)\n",
    "        sm_values = df_tf[[tf]].values[[sm]].reshape(-1)\n",
    "        # effect_size = wt_values.mean() - sm_values.mean()\n",
    "\n",
    "\n",
    "        if len(wt_values) > 1 and len(sm_values) > 1 :\n",
    "\n",
    "            # pval = ttest_ind(wt_values, sm_values).pvalue\n",
    "            pval = float(mannwhitneyu(wt_values, sm_values).pvalue)\n",
    "            p_values.append(pval)\n",
    "            e_values.append(float(wt_values.mean()-sm_values.mean()))\n",
    "            tf_values.append(tf)\n",
    "\n",
    "            \n",
    "            \n",
    "    p_values = np.array(p_values)\n",
    "    e_values = np.array(e_values)\n",
    "\n",
    "\n",
    "    volcano = pd.DataFrame([p_values.astype(float), e_values.astype(float), tf_values]).T\n",
    "    volcano['FDR'] = fdrcorrection(p_values)[1]\n",
    "    volcano.columns = ['P', 'EFFECTSIZE', 'TF', 'FDR']\n",
    "    # volcano['EFFECTSIZE'] = np.log10(tf_volcano['EFFECTSIZE'])\n",
    "    volcano['SNP'] = ''\n",
    "    volcano['GENE'] = tf_values\n",
    "\n",
    "    volcano['P'] = volcano['P'].astype(float)\n",
    "    volcano['EFFECTSIZE'] = volcano['EFFECTSIZE'].astype(float)\n",
    "\n",
    "\n",
    "    volcanos.append(volcano)\n"
   ]
  },
  {
   "cell_type": "code",
   "execution_count": 315,
   "metadata": {},
   "outputs": [],
   "source": [
    "for v,c  in zip(volcanos, cancerss):\n",
    "    v.to_csv(f'NFE2L2_{c}.csv')"
   ]
  },
  {
   "cell_type": "code",
   "execution_count": 314,
   "metadata": {},
   "outputs": [
    {
     "data": {
      "application/vnd.plotly.v1+json": {
       "config": {
        "plotlyServerURL": "https://plot.ly"
       },
       "data": [
        {
         "marker": {
          "color": "#2186f4",
          "size": 7
         },
         "mode": "markers",
         "name": "Dataset",
         "text": [
          "SNP: <br>GENE: CDC5L",
          "SNP: <br>GENE: PPARG",
          "SNP: <br>GENE: HOXB8",
          "SNP: <br>GENE: NFATC1",
          "SNP: <br>GENE: OVOL1",
          "SNP: <br>GENE: ZNF219",
          "SNP: <br>GENE: TBX1",
          "SNP: <br>GENE: NFATC2",
          "SNP: <br>GENE: BHLHA15",
          "SNP: <br>GENE: SOX4",
          "SNP: <br>GENE: MAFK",
          "SNP: <br>GENE: HOXA7",
          "SNP: <br>GENE: TEF",
          "SNP: <br>GENE: MXI1",
          "SNP: <br>GENE: TEAD1",
          "SNP: <br>GENE: EMX1",
          "SNP: <br>GENE: TP73",
          "SNP: <br>GENE: THRA",
          "SNP: <br>GENE: YY1",
          "SNP: <br>GENE: FOXP1",
          "SNP: <br>GENE: IRF3",
          "SNP: <br>GENE: CTCFL",
          "SNP: <br>GENE: TCF7L2",
          "SNP: <br>GENE: BATF3",
          "SNP: <br>GENE: TCF4",
          "SNP: <br>GENE: SOX9",
          "SNP: <br>GENE: HIVEP1",
          "SNP: <br>GENE: BPTF",
          "SNP: <br>GENE: SIX5",
          "SNP: <br>GENE: SPIB",
          "SNP: <br>GENE: CUX1",
          "SNP: <br>GENE: HMGA2",
          "SNP: <br>GENE: RORA",
          "SNP: <br>GENE: TWIST1",
          "SNP: <br>GENE: RFX1",
          "SNP: <br>GENE: FOSL1",
          "SNP: <br>GENE: ZFHX3",
          "SNP: <br>GENE: HLF",
          "SNP: <br>GENE: NR3C2",
          "SNP: <br>GENE: SP4",
          "SNP: <br>GENE: ZNF423",
          "SNP: <br>GENE: GRHL1",
          "SNP: <br>GENE: SMARCC2",
          "SNP: <br>GENE: ETV6",
          "SNP: <br>GENE: GCM1",
          "SNP: <br>GENE: SMAD3",
          "SNP: <br>GENE: EMX2",
          "SNP: <br>GENE: RUNX1",
          "SNP: <br>GENE: TP63",
          "SNP: <br>GENE: FOXO1",
          "SNP: <br>GENE: KLF8",
          "SNP: <br>GENE: E2F8",
          "SNP: <br>GENE: CUX2",
          "SNP: <br>GENE: EPAS1",
          "SNP: <br>GENE: TFEB",
          "SNP: <br>GENE: SOX18",
          "SNP: <br>GENE: POU2F2",
          "SNP: <br>GENE: MAFF",
          "SNP: <br>GENE: AR",
          "SNP: <br>GENE: NR2F6",
          "SNP: <br>GENE: ZBTB7C",
          "SNP: <br>GENE: NFYB",
          "SNP: <br>GENE: THAP1",
          "SNP: <br>GENE: TEAD3",
          "SNP: <br>GENE: RBPJ",
          "SNP: <br>GENE: FOXA3",
          "SNP: <br>GENE: ZNF274",
          "SNP: <br>GENE: ARID5B",
          "SNP: <br>GENE: TGIF1",
          "SNP: <br>GENE: PAX5",
          "SNP: <br>GENE: GLI1",
          "SNP: <br>GENE: BCL11A",
          "SNP: <br>GENE: BACH2",
          "SNP: <br>GENE: TFDP1",
          "SNP: <br>GENE: ESR2",
          "SNP: <br>GENE: ELK3",
          "SNP: <br>GENE: RFX2",
          "SNP: <br>GENE: FOXK1",
          "SNP: <br>GENE: RARG",
          "SNP: <br>GENE: TBX2",
          "SNP: <br>GENE: NR4A1",
          "SNP: <br>GENE: TEAD4",
          "SNP: <br>GENE: E4F1",
          "SNP: <br>GENE: ERG",
          "SNP: <br>GENE: STAT1",
          "SNP: <br>GENE: PBX1",
          "SNP: <br>GENE: HIVEP2",
          "SNP: <br>GENE: FOXP2",
          "SNP: <br>GENE: BCL6B",
          "SNP: <br>GENE: REL",
          "SNP: <br>GENE: HOXA9",
          "SNP: <br>GENE: ENO1",
          "SNP: <br>GENE: TCF3",
          "SNP: <br>GENE: CEBPA",
          "SNP: <br>GENE: ARX",
          "SNP: <br>GENE: THRB",
          "SNP: <br>GENE: RARB",
          "SNP: <br>GENE: NR4A2",
          "SNP: <br>GENE: SPDEF",
          "SNP: <br>GENE: EBF1",
          "SNP: <br>GENE: E2F3",
          "SNP: <br>GENE: RFX3",
          "SNP: <br>GENE: GLIS3",
          "SNP: <br>GENE: GATA3",
          "SNP: <br>GENE: AHR",
          "SNP: <br>GENE: NFE2L2",
          "SNP: <br>GENE: CREB3L1",
          "SNP: <br>GENE: IRF5",
          "SNP: <br>GENE: ARID3A",
          "SNP: <br>GENE: ID4",
          "SNP: <br>GENE: ETV2",
          "SNP: <br>GENE: CEBPG",
          "SNP: <br>GENE: ATF3",
          "SNP: <br>GENE: IRF8",
          "SNP: <br>GENE: NR1I2",
          "SNP: <br>GENE: TFAP4",
          "SNP: <br>GENE: RUNX3",
          "SNP: <br>GENE: TAL1",
          "SNP: <br>GENE: ESR1",
          "SNP: <br>GENE: BATF",
          "SNP: <br>GENE: MEIS2",
          "SNP: <br>GENE: NFYC",
          "SNP: <br>GENE: CEBPD",
          "SNP: <br>GENE: STAT6",
          "SNP: <br>GENE: NR3C1",
          "SNP: <br>GENE: NR1D1",
          "SNP: <br>GENE: HINFP",
          "SNP: <br>GENE: ZNF282",
          "SNP: <br>GENE: TCF12",
          "SNP: <br>GENE: HOXD8",
          "SNP: <br>GENE: FOXO3",
          "SNP: <br>GENE: EGR2",
          "SNP: <br>GENE: GLI2",
          "SNP: <br>GENE: FOXH1",
          "SNP: <br>GENE: BHLHE41",
          "SNP: <br>GENE: ELF1",
          "SNP: <br>GENE: NR6A1",
          "SNP: <br>GENE: GLIS1",
          "SNP: <br>GENE: HSF4",
          "SNP: <br>GENE: HOXB6",
          "SNP: <br>GENE: POU4F1",
          "SNP: <br>GENE: MEOX1",
          "SNP: <br>GENE: ARNTL",
          "SNP: <br>GENE: RUNX2",
          "SNP: <br>GENE: PAX8",
          "SNP: <br>GENE: MAX",
          "SNP: <br>GENE: NFIA",
          "SNP: <br>GENE: RORC",
          "SNP: <br>GENE: DBP",
          "SNP: <br>GENE: ZNF524",
          "SNP: <br>GENE: GATA5",
          "SNP: <br>GENE: ZNF350",
          "SNP: <br>GENE: NR1H2",
          "SNP: <br>GENE: FLI1",
          "SNP: <br>GENE: HIC1",
          "SNP: <br>GENE: MLXIPL",
          "SNP: <br>GENE: PPARD",
          "SNP: <br>GENE: DNMT1",
          "SNP: <br>GENE: JDP2",
          "SNP: <br>GENE: MNT",
          "SNP: <br>GENE: GATA2",
          "SNP: <br>GENE: TCF7L1",
          "SNP: <br>GENE: HIC2",
          "SNP: <br>GENE: ETV7",
          "SNP: <br>GENE: SRF",
          "SNP: <br>GENE: MITF",
          "SNP: <br>GENE: HOXA5",
          "SNP: <br>GENE: PBX3",
          "SNP: <br>GENE: IRX5",
          "SNP: <br>GENE: MECOM",
          "SNP: <br>GENE: HOXC6",
          "SNP: <br>GENE: BCL6",
          "SNP: <br>GENE: TCF7",
          "SNP: <br>GENE: CDX2",
          "SNP: <br>GENE: TBX19",
          "SNP: <br>GENE: ATF6",
          "SNP: <br>GENE: POU6F1",
          "SNP: <br>GENE: KDM2B",
          "SNP: <br>GENE: USF1",
          "SNP: <br>GENE: ETV5",
          "SNP: <br>GENE: ARNT2",
          "SNP: <br>GENE: HOXB2",
          "SNP: <br>GENE: ETS2",
          "SNP: <br>GENE: MEF2B",
          "SNP: <br>GENE: IRF2",
          "SNP: <br>GENE: MSX1",
          "SNP: <br>GENE: SREBF2",
          "SNP: <br>GENE: NFATC3",
          "SNP: <br>GENE: ONECUT2",
          "SNP: <br>GENE: HNF1A",
          "SNP: <br>GENE: SPI1",
          "SNP: <br>GENE: FOXJ3",
          "SNP: <br>GENE: MYC",
          "SNP: <br>GENE: ZNF683",
          "SNP: <br>GENE: NFYA",
          "SNP: <br>GENE: HOXA13",
          "SNP: <br>GENE: PLAG1",
          "SNP: <br>GENE: TBX3",
          "SNP: <br>GENE: STAT3",
          "SNP: <br>GENE: HES1",
          "SNP: <br>GENE: KLF6",
          "SNP: <br>GENE: JUND",
          "SNP: <br>GENE: FOXC1",
          "SNP: <br>GENE: ELF3",
          "SNP: <br>GENE: RFX5",
          "SNP: <br>GENE: TBX15",
          "SNP: <br>GENE: TFAP2A",
          "SNP: <br>GENE: SMAD4",
          "SNP: <br>GENE: ELK1",
          "SNP: <br>GENE: ZNF333",
          "SNP: <br>GENE: ZBTB33",
          "SNP: <br>GENE: XBP1",
          "SNP: <br>GENE: MEF2D",
          "SNP: <br>GENE: FOXI1",
          "SNP: <br>GENE: CTCF",
          "SNP: <br>GENE: HOXB3",
          "SNP: <br>GENE: STAT5B",
          "SNP: <br>GENE: TBX21",
          "SNP: <br>GENE: HOMEZ",
          "SNP: <br>GENE: MZF1",
          "SNP: <br>GENE: NFIL3",
          "SNP: <br>GENE: EGR3",
          "SNP: <br>GENE: KLF3",
          "SNP: <br>GENE: HOXB5",
          "SNP: <br>GENE: NR5A2",
          "SNP: <br>GENE: CEBPB",
          "SNP: <br>GENE: ZNF784",
          "SNP: <br>GENE: PKNOX1",
          "SNP: <br>GENE: HOXA1",
          "SNP: <br>GENE: TET1",
          "SNP: <br>GENE: GLI3",
          "SNP: <br>GENE: MSC",
          "SNP: <br>GENE: PLAGL1",
          "SNP: <br>GENE: NR2F1",
          "SNP: <br>GENE: MYBL2",
          "SNP: <br>GENE: ZEB1",
          "SNP: <br>GENE: ZBTB49",
          "SNP: <br>GENE: ELF5",
          "SNP: <br>GENE: USF2",
          "SNP: <br>GENE: ELF2",
          "SNP: <br>GENE: RELA",
          "SNP: <br>GENE: ZNF143",
          "SNP: <br>GENE: NFKB2",
          "SNP: <br>GENE: REST",
          "SNP: <br>GENE: ELF4",
          "SNP: <br>GENE: NR1I3",
          "SNP: <br>GENE: GFI1",
          "SNP: <br>GENE: MEIS1",
          "SNP: <br>GENE: CREB3",
          "SNP: <br>GENE: MLX",
          "SNP: <br>GENE: SMAD1",
          "SNP: <br>GENE: LBX2",
          "SNP: <br>GENE: FOXD2",
          "SNP: <br>GENE: ZFX",
          "SNP: <br>GENE: SMAD2",
          "SNP: <br>GENE: E2F4",
          "SNP: <br>GENE: SMARCC1",
          "SNP: <br>GENE: ETV1",
          "SNP: <br>GENE: FOSB",
          "SNP: <br>GENE: ATF1",
          "SNP: <br>GENE: PGR",
          "SNP: <br>GENE: ZNF589",
          "SNP: <br>GENE: BRCA1",
          "SNP: <br>GENE: ZNF232",
          "SNP: <br>GENE: TBP",
          "SNP: <br>GENE: RFX4",
          "SNP: <br>GENE: HEY2",
          "SNP: <br>GENE: IRF1",
          "SNP: <br>GENE: MYBL1",
          "SNP: <br>GENE: NRF1",
          "SNP: <br>GENE: YBX1",
          "SNP: <br>GENE: MESP1",
          "SNP: <br>GENE: MTF1",
          "SNP: <br>GENE: NR2C2",
          "SNP: <br>GENE: LHX2",
          "SNP: <br>GENE: E2F7",
          "SNP: <br>GENE: MEF2C",
          "SNP: <br>GENE: CREM",
          "SNP: <br>GENE: ELK4",
          "SNP: <br>GENE: MBD2",
          "SNP: <br>GENE: TFEC",
          "SNP: <br>GENE: RELB",
          "SNP: <br>GENE: FOXJ2",
          "SNP: <br>GENE: FOXP3",
          "SNP: <br>GENE: ZNF410",
          "SNP: <br>GENE: CENPB",
          "SNP: <br>GENE: EOMES",
          "SNP: <br>GENE: STAT4",
          "SNP: <br>GENE: GFI1B",
          "SNP: <br>GENE: NR2E3",
          "SNP: <br>GENE: HESX1",
          "SNP: <br>GENE: CREB1",
          "SNP: <br>GENE: TP53",
          "SNP: <br>GENE: HIF1A",
          "SNP: <br>GENE: HEY1",
          "SNP: <br>GENE: ALX3",
          "SNP: <br>GENE: AIRE",
          "SNP: <br>GENE: MAFB",
          "SNP: <br>GENE: TFCP2",
          "SNP: <br>GENE: ZNF713",
          "SNP: <br>GENE: BHLHE40",
          "SNP: <br>GENE: ZSCAN16",
          "SNP: <br>GENE: NR4A3",
          "SNP: <br>GENE: NFAT5",
          "SNP: <br>GENE: NR2C1",
          "SNP: <br>GENE: ZKSCAN3",
          "SNP: <br>GENE: ATF4",
          "SNP: <br>GENE: HLTF",
          "SNP: <br>GENE: JUN",
          "SNP: <br>GENE: E2F1",
          "SNP: <br>GENE: E2F6",
          "SNP: <br>GENE: E2F5",
          "SNP: <br>GENE: PAX6",
          "SNP: <br>GENE: ATF7",
          "SNP: <br>GENE: IRF4",
          "SNP: <br>GENE: HMBOX1",
          "SNP: <br>GENE: FUBP1",
          "SNP: <br>GENE: ZNF740",
          "SNP: <br>GENE: CEBPZ",
          "SNP: <br>GENE: DDIT3"
         ],
         "type": "scattergl",
         "x": [
          -0.11114240201282968,
          0.0367062046703297,
          -0.10663131810302198,
          -0.06505442330843403,
          -0.001520228571428639,
          0.04163522730769231,
          0.028982585796703153,
          0.030986933857142906,
          0.06426793729706043,
          0.05794640548351643,
          0.08291416205769231,
          0.006650025862637382,
          -0.20695552278571433,
          -0.012950044793956061,
          0.0034981524175824452,
          0.03908364564505497,
          -0.11437396066208783,
          0.007013026429120939,
          -0.044371396753022,
          0.05373729981620878,
          -0.04488509980164834,
          -0.017770107766483578,
          -0.08657079047225275,
          0.02188679142857136,
          -0.0033250285312088623,
          -0.1759202910164835,
          0.001871139390109855,
          0.03145265419354396,
          0.04615506143873632,
          0.030698329541208547,
          0.005070505223406595,
          0.004446874662088041,
          0.04606064175101099,
          -0.08886362568681327,
          -0.06004008260576915,
          -0.05185475068406603,
          0.024275610961538463,
          -0.025533626868131876,
          0.017561242004258237,
          0.08659285744505496,
          0.005292932019230756,
          -0.05198368519669232,
          0.058817285068681335,
          0.04988946828571422,
          -0.07279813467582413,
          0.035426168377692246,
          0.007082382939560539,
          0.07873218473159341,
          -0.1087661797256868,
          0.020864476891978068,
          -0.05994885727912086,
          0.008072520940384575,
          -0.026103701875054952,
          0.06130672075109894,
          -0.06579490010714295,
          -0.08988337697307693,
          -0.07330356502747254,
          -0.05466298946208789,
          -0.008297134313186683,
          -0.007492252901099006,
          -0.04515427912472528,
          0.17386961941005497,
          0.032147915245055,
          -0.0037373562362635893,
          -0.08487213003846153,
          0.03523032221263736,
          -0.006833039010988973,
          0.03356349050200552,
          0.01764210856502743,
          -0.027921733466126364,
          -0.12284856432967017,
          -0.18840422309065924,
          -0.09479343777692309,
          0.07726526295239011,
          0.05428155993532967,
          -0.04008559420329649,
          -0.025127435446428568,
          -0.07050772859999999,
          -0.0540695957417584,
          0.038546798076923405,
          -0.03858660939142855,
          -0.055361188244505366,
          -0.0434436942383132,
          -0.01690176515505495,
          0.03172165238736263,
          -0.03499267451923077,
          0.015235267840659317,
          0.04647780289010983,
          -0.012347427750000084,
          -0.02086667408667578,
          -0.02101665931318686,
          0.0067079046249999275,
          -0.031936624038461536,
          -0.043349509321428614,
          0.0617406246703297,
          0.07046604939560441,
          0.12594950142857142,
          -0.004265805357142882,
          -0.039857757757225276,
          -0.07290888311538457,
          -0.040598820137362546,
          0.02153502964285714,
          0.0329954667615934,
          0.0689978258802198,
          -0.04101736609230769,
          -0.2512920097417582,
          0.02128058213461534,
          0.06303068549450552,
          -0.03908266946678571,
          -0.07019885760236266,
          0.00429663977032968,
          -0.03799928556593424,
          0.021284383416346142,
          0.07531517832417578,
          -0.04747924803868134,
          -0.16022121515752746,
          -0.03647408496538457,
          0.008338637894203305,
          0.08152086900549438,
          0.005223987741758232,
          -0.06210984141126377,
          -0.011007236074175863,
          -0.0061407181381043785,
          -0.009208963265110004,
          0.004142289924725234,
          0.03178067061564558,
          0.06041922134615385,
          -0.06180449710989011,
          -0.019863824933791185,
          -0.03818427351648346,
          0.043374833515934054,
          0.04151819178571431,
          -0.05605028840944781,
          0.0018631770879118381,
          0.13970125120521976,
          -0.029443664458791208,
          -0.13691786339835166,
          -0.05360633728489006,
          -0.009292384670329668,
          0.07402016807692324,
          -0.024044893509615417,
          0.019339009488186815,
          0.042157178719395644,
          0.002401505876373611,
          -0.017007898873626415,
          -0.0906963980769232,
          0.02680798610964287,
          0.004533816016483727,
          -0.08877351004203296,
          0.14902970335373628,
          -0.07726531230252749,
          -0.07481126888186806,
          -0.1571239655879122,
          0.01395493053087915,
          -0.08047554707664833,
          -0.06036282769230761,
          -0.01298526040109893,
          0.0132108288214286,
          0.10596557240659343,
          0.16757228664972534,
          0.024124728508241655,
          -0.03976370538461527,
          -0.031768971346154085,
          -0.048838277457142865,
          -0.033368124096153806,
          -0.03103469562087907,
          -0.0025719275387362517,
          0.0049412772087912005,
          0.04220460120821429,
          0.03665775483516498,
          0.039327131234725254,
          0.15096787814835166,
          0.04052557813736263,
          0.08371668831593404,
          0.05805187345474175,
          -0.006757135383241762,
          0.02654883093571425,
          0.002611247715109871,
          0.044376342252747225,
          0.0005429219230769777,
          -0.06619115450291209,
          -0.08950669824175828,
          0.00885546485439559,
          -0.02125567112637361,
          -0.02363616376703298,
          0.08391475077692309,
          -0.07664320816016484,
          0.023765577207417565,
          0.03581962365384617,
          -0.05839021348076917,
          0.037154810851648346,
          0.06029554214285726,
          -0.13273248423076922,
          -0.08955261299725276,
          -0.20156136111263734,
          0.10524388001840657,
          0.017395098276648313,
          -0.08967874255357147,
          -0.026385537811923154,
          0.03151397498681319,
          0.10853646086263735,
          0.17921000243131868,
          0.11199810921098902,
          -0.0597317639010988,
          -0.03924733279670323,
          -0.10336934539560438,
          0.034069923239010924,
          -0.026196572085082442,
          -0.008652301922362618,
          -0.011913627320750006,
          0.06505724249175815,
          0.018350793063186932,
          -0.009021146730769147,
          0.06889663572802196,
          0.1315727164752748,
          -0.04935443153846153,
          -0.08172449934065928,
          0.025915917364862644,
          -0.020206799560439692,
          -0.07886421321428583,
          0.09979561972527473,
          0.04057377051098909,
          -0.11007537076126372,
          -0.049287459340384615,
          -0.04914541700686814,
          0.017770469820604373,
          0.006374908071428598,
          0.019891041108434065,
          -0.02265185989864288,
          0.09598454198571431,
          -0.08518668831401101,
          0.059217131456044236,
          0.029474733216373616,
          -0.059770863387362705,
          0.0852400518516484,
          -0.010761883865384514,
          0.009086593351648187,
          -0.021663526763186836,
          -0.023014935823351595,
          0.06517007089560439,
          0.0030717866428571217,
          0.00879950694203295,
          -0.022601010576923042,
          0.032099679532966885,
          0.012706623961469779,
          0.014519662029780223,
          0.05844915675824175,
          -0.0350654485439561,
          0.03949846806780221,
          0.05123448539258241,
          0.05809349563186794,
          -0.0255280290659341,
          0.07865442780219778,
          0.12282741675824171,
          0.08627178097527477,
          0.028161330914835137,
          -0.10332403910714277,
          -0.03402670325747252,
          0.0811927812637363,
          0.0626303693131868,
          0.04431973456043958,
          0.12290748403434065,
          -0.0698329319717857,
          0.019534523159285708,
          -0.15205464524629125,
          0.04246957539258242,
          0.015389638461538513,
          -0.04415454011571432,
          -0.0314248625412088,
          0.022499443024917576,
          -0.09626692432692308,
          -0.046740556675824135,
          -0.0298191538461538,
          -0.005638054313186869,
          -0.03906803264340661,
          -0.023399282220879114,
          0.03956641697802199,
          -0.005766482101648374,
          -0.03544408726648346,
          -0.023723806817582432,
          -0.023682542090659342,
          0.07982581263626373,
          0.0400165792032966,
          0.05221624597582418,
          0.03932023903846149,
          -0.011856673901098902,
          0.05868045107142861,
          -0.05750200431318686,
          -0.0671253970326923,
          -0.07417637450549452,
          0.0867448751098901,
          0.05306173188497252,
          -0.17501096852664833,
          0.05788652747252743,
          0.094061275625,
          -0.011581987697115381,
          0.011339933348983517,
          0.06280742878571433,
          0.06477916584642854,
          -0.04143563212445053,
          0.022891559862637356,
          -0.022439144520494496,
          0.034764545439560646,
          -0.06702446134338819,
          0.021319366527472572,
          -0.03144692863736276,
          -0.11102674930642858,
          0.04690888694780215,
          -0.05962294278010993,
          0.03861805564587911,
          -0.10742634285714286,
          -0.03401951309362636,
          0.004192465173076865,
          0.059152310553296755,
          0.039394126816208824,
          -0.0068081899725274675,
          0.06820622326923065,
          0.012018211170329696,
          0.06248370415274723,
          -0.03064778052197803
         ],
         "y": [
          1.1309130476460405,
          0.4042855544667241,
          1.1415978442627766,
          1.1559350419418168,
          0.0722373675296856,
          0.21334994514617817,
          0.34550816700737613,
          0.45069418649411774,
          0.3640206413120014,
          0.23098116762463522,
          2.108207255957533,
          0.15800073868275455,
          2.5099276120305594,
          0.10835910195866574,
          0.07645150736971183,
          0.6573896109440341,
          0.3640206413120014,
          0.03315578300823578,
          0.30563453064866813,
          0.4064497571304049,
          0.19103125126417922,
          0.14049681809013453,
          0.5770633846081935,
          0.28825217267364633,
          0.004242356002077327,
          2.869068855621696,
          0.27874368539940547,
          0.26374863723019454,
          0.6494020530827344,
          0.11586038084815034,
          0.09363522199712647,
          0.0006035335539839068,
          1.206942133899091,
          0.8975114924125787,
          0.26374863723019454,
          0.3536918864523233,
          0.11888708737105612,
          0.20813939960124528,
          0.12040607252797672,
          0.5745527507498065,
          0.025438315144424403,
          0.3293507204007447,
          0.4086184977377624,
          0.6573896109440341,
          0.5973278769117167,
          0.31150547564910186,
          0.021626152483770165,
          0.9709212145371671,
          0.9006387583539908,
          0.12498561162782211,
          0.5302039064655872,
          0.0018131156445363745,
          0.6388240668324505,
          0.7512130565984576,
          1.0104733580453784,
          0.8152379711297613,
          1.054313501155722,
          0.5896912173211033,
          0.1373641530561774,
          0.07645150736971183,
          0.4173389504429129,
          2.307817529073707,
          0.14680804659716684,
          0.08069823732811011,
          1.3245955380070034,
          0.09073471764891242,
          0.17267046426627847,
          0.5350532828581823,
          0.0892899691740223,
          0.3999707410080698,
          0.9226925056804353,
          2.449025304693594,
          1.5075782727211615,
          1.8577612459828394,
          0.36818311232904183,
          0.5038778853304402,
          0.1893423418658779,
          0.14522449042325178,
          0.32735062436017454,
          0.16448167663907878,
          0.4151520026573294,
          0.3253548631325501,
          0.668112124558445,
          0.06944598471937324,
          0.027996974688834636,
          0.29786647592077653,
          0.20813939960124528,
          0.3174150630630911,
          0.11888708737105612,
          0.11737185837674544,
          0.21160907222869937,
          0.004242356002077327,
          0.3598758882027662,
          0.4529548592530081,
          0.8788692421213455,
          0.8696257532483853,
          0.7035370498871656,
          0.16123344171419174,
          0.19612180927771847,
          0.5277864978784075,
          0.5253739342709773,
          0.0722373675296856,
          0.37236334399639615,
          0.4874269046677744,
          0.010606918371371917,
          2.982105617641384,
          0.37236334399639615,
          0.43055671172623916,
          0.19612180927771847,
          0.22919976877520545,
          0.020362300205535828,
          0.22564918941554715,
          0.37027100539521085,
          0.23814760442191782,
          0.22564918941554715,
          1.3090409626929969,
          0.4021258842738611,
          0.07363846742395218,
          0.7370299778841131,
          0.12651966814449292,
          0.30758722725146237,
          0.02928148366917333,
          0.006685062104298945,
          0.025438315144424403,
          0.0030260549240204017,
          0.5497183269412181,
          1.3639783201756126,
          0.42834228612493264,
          0.14364477007322765,
          0.5209884508327316,
          0.39782011921542004,
          0.6789178209423744,
          0.08212107790564248,
          0.06253041020975236,
          1.6651427391085356,
          0.134246737410545,
          1.2554781969874111,
          0.5350532828581823,
          0.012850982954713592,
          1.0577291266956252,
          0.12040607252797672,
          0.12192881849768947,
          0.5770633846081935,
          0.019101874507352345,
          0.21859676822895419,
          1.2180415795447197,
          0.05570420419492135,
          0.11284866155227324,
          1.8626447532702106,
          0.5770633846081935,
          0.6816322935738588,
          0.9322318378125933,
          1.6203295712455805,
          0.014094345096375483,
          0.9006387583539908,
          0.522966209513655,
          0.14680804659716684,
          0.10242512932695753,
          1.6247740207907237,
          1.6203295712455805,
          0.3154408984481862,
          0.4021258842738611,
          0.31150547564910186,
          0.6231107006165512,
          0.3640206413120014,
          0.602444073399793,
          0.09948039059868766,
          0.0344541556652793,
          0.3253548631325501,
          0.17267046426627847,
          0.3850110324517182,
          0.6573896109440341,
          0.4827694016740117,
          0.45976483668138773,
          0.4461867861491804,
          0.10687003524647874,
          0.17597335891091334,
          0.11435265013786167,
          0.4529548592530081,
          0.005462023525799591,
          0.5472619384129248,
          1.6606243449088536,
          0.15318072379368827,
          0.17431995116866542,
          0.1280575041858744,
          1.0104733580453784,
          0.4107917818514337,
          0.08784888364652846,
          0.29786647592077653,
          0.07363846742395218,
          0.45069418649411774,
          0.4827694016740117,
          0.9163622638776207,
          1.030577889165523,
          2.9605878913739154,
          1.3206963304021924,
          0.18262629342279843,
          1.5374103617089507,
          0.3536918864523233,
          0.20813939960124528,
          0.5695463649992589,
          1.469776769946224,
          1.0957147186362495,
          0.2526775322855274,
          0.5595929451712044,
          1.558953133990519,
          0.15158177721347718,
          0.27874368539940547,
          0.06666899360520406,
          0.14522449042325178,
          1.0204980420932095,
          0.15639019981255425,
          0.14680804659716684,
          1.2668419626472343,
          1.8626447532702106,
          0.522966209513655,
          1.1703766511573976,
          0.18429937670731672,
          0.1596151510675824,
          0.51099995695094,
          0.8331642560817436,
          0.37446013346007423,
          0.2730891233408571,
          0.5181652523880285,
          0.28253442266480283,
          0.19103125126417922,
          0.18429937670731672,
          0.3017419671410018,
          0.14206888087048788,
          1.0852794315116119,
          0.7035370498871656,
          1.078354165836468,
          0.09218313369863426,
          0.15158177721347718,
          2.2453262515514982,
          0.07786345670379133,
          0.12040607252797672,
          0.026715920049647388,
          0.3174150630630911,
          0.6361923990604742,
          0.026715920049647388,
          0.07645150736971183,
          0.3660996594044815,
          0.3373945567966945,
          0.16938323406057137,
          0.23994944834460732,
          1.1523409812336953,
          0.5038778853304402,
          0.5770633846081935,
          0.7370299778841131,
          0.8881644144821261,
          0.29980209004620684,
          0.4827694016740117,
          0.9069107001715458,
          1.5719734133264458,
          0.23098116762463522,
          0.45976483668138773,
          1.0887515318954453,
          0.7540658744951515,
          0.5277864978784075,
          0.4173389504429129,
          1.8094234852655342,
          0.984008630904171,
          0.2363498592800303,
          1.9928844142293192,
          0.5277864978784075,
          0.15158177721347718,
          0.2417553959045886,
          0.7146161356846166,
          0.24537962156740148,
          1.0714540798081829,
          0.7684113770851675,
          0.49679887592558475,
          0.0030260549240204017,
          0.38077726095928893,
          0.16774548127660815,
          0.2618930628310301,
          0.00914127097417623,
          0.28825217267364633,
          0.21684378831969023,
          0.18095715476877244,
          0.9971924833529789,
          0.31150547564910186,
          0.2618930628310301,
          0.14364477007322765,
          0.06944598471937324,
          0.5399221123249982,
          0.9037718247836979,
          0.7828932448081669,
          0.612736914836118,
          1.7761176409595976,
          1.0238518493052655,
          1.6970050260507896,
          1.1451723932513018,
          0.791648208081137,
          0.08069823732811011,
          0.011611019632142412,
          0.4086184977377624,
          0.5973278769117167,
          0.09948039059868766,
          0.28634203008527387,
          0.12651966814449292,
          0.10185184329120195,
          0.5947773121353669,
          0.33135515647833214,
          0.5820995659683379,
          1.7525908257039573,
          0.303686112322648,
          0.5472619384129248,
          0.15478352976378174,
          0.9676643606248969,
          0.4552201880603126,
          0.021626152483770165,
          1.6561142373022169,
          0.303686112322648,
          0.06666899360520406,
          0.4758186181010612,
          0.14049681809013453,
          0.8543341932360956,
          0.274969778180797
         ]
        }
       ],
       "layout": {
        "hovermode": "closest",
        "legend": {
         "bgcolor": "#ebf1fa",
         "font": {
          "family": "sans-serif"
         },
         "x": 1.01,
         "yanchor": "top"
        },
        "shapes": [
         {
          "line": {
           "color": "grey",
           "dash": "dash",
           "width": 0.5
          },
          "name": "effect size min line",
          "type": "line",
          "x0": -1,
          "x1": -1,
          "xref": "x",
          "y0": 0.0006035335539839068,
          "y1": 2.982105617641384,
          "yref": "y"
         },
         {
          "line": {
           "color": "grey",
           "dash": "dash",
           "width": 0.5
          },
          "name": "effect size max line",
          "type": "line",
          "x0": 1,
          "x1": 1,
          "xref": "x",
          "y0": 0.0006035335539839068,
          "y1": 2.982105617641384,
          "yref": "y"
         },
         {
          "line": {
           "color": "grey",
           "dash": "dash",
           "width": 1
          },
          "name": "genomewide_line",
          "type": "line",
          "x0": -0.2638566102288461,
          "x1": 0.2638566102288461,
          "xref": "x",
          "y0": 7.301029995663981,
          "y1": 7.301029995663981,
          "yref": "y"
         }
        ],
        "template": {
         "data": {
          "bar": [
           {
            "error_x": {
             "color": "#2a3f5f"
            },
            "error_y": {
             "color": "#2a3f5f"
            },
            "marker": {
             "line": {
              "color": "#E5ECF6",
              "width": 0.5
             },
             "pattern": {
              "fillmode": "overlay",
              "size": 10,
              "solidity": 0.2
             }
            },
            "type": "bar"
           }
          ],
          "barpolar": [
           {
            "marker": {
             "line": {
              "color": "#E5ECF6",
              "width": 0.5
             },
             "pattern": {
              "fillmode": "overlay",
              "size": 10,
              "solidity": 0.2
             }
            },
            "type": "barpolar"
           }
          ],
          "carpet": [
           {
            "aaxis": {
             "endlinecolor": "#2a3f5f",
             "gridcolor": "white",
             "linecolor": "white",
             "minorgridcolor": "white",
             "startlinecolor": "#2a3f5f"
            },
            "baxis": {
             "endlinecolor": "#2a3f5f",
             "gridcolor": "white",
             "linecolor": "white",
             "minorgridcolor": "white",
             "startlinecolor": "#2a3f5f"
            },
            "type": "carpet"
           }
          ],
          "choropleth": [
           {
            "colorbar": {
             "outlinewidth": 0,
             "ticks": ""
            },
            "type": "choropleth"
           }
          ],
          "contour": [
           {
            "colorbar": {
             "outlinewidth": 0,
             "ticks": ""
            },
            "colorscale": [
             [
              0,
              "#0d0887"
             ],
             [
              0.1111111111111111,
              "#46039f"
             ],
             [
              0.2222222222222222,
              "#7201a8"
             ],
             [
              0.3333333333333333,
              "#9c179e"
             ],
             [
              0.4444444444444444,
              "#bd3786"
             ],
             [
              0.5555555555555556,
              "#d8576b"
             ],
             [
              0.6666666666666666,
              "#ed7953"
             ],
             [
              0.7777777777777778,
              "#fb9f3a"
             ],
             [
              0.8888888888888888,
              "#fdca26"
             ],
             [
              1,
              "#f0f921"
             ]
            ],
            "type": "contour"
           }
          ],
          "contourcarpet": [
           {
            "colorbar": {
             "outlinewidth": 0,
             "ticks": ""
            },
            "type": "contourcarpet"
           }
          ],
          "heatmap": [
           {
            "colorbar": {
             "outlinewidth": 0,
             "ticks": ""
            },
            "colorscale": [
             [
              0,
              "#0d0887"
             ],
             [
              0.1111111111111111,
              "#46039f"
             ],
             [
              0.2222222222222222,
              "#7201a8"
             ],
             [
              0.3333333333333333,
              "#9c179e"
             ],
             [
              0.4444444444444444,
              "#bd3786"
             ],
             [
              0.5555555555555556,
              "#d8576b"
             ],
             [
              0.6666666666666666,
              "#ed7953"
             ],
             [
              0.7777777777777778,
              "#fb9f3a"
             ],
             [
              0.8888888888888888,
              "#fdca26"
             ],
             [
              1,
              "#f0f921"
             ]
            ],
            "type": "heatmap"
           }
          ],
          "heatmapgl": [
           {
            "colorbar": {
             "outlinewidth": 0,
             "ticks": ""
            },
            "colorscale": [
             [
              0,
              "#0d0887"
             ],
             [
              0.1111111111111111,
              "#46039f"
             ],
             [
              0.2222222222222222,
              "#7201a8"
             ],
             [
              0.3333333333333333,
              "#9c179e"
             ],
             [
              0.4444444444444444,
              "#bd3786"
             ],
             [
              0.5555555555555556,
              "#d8576b"
             ],
             [
              0.6666666666666666,
              "#ed7953"
             ],
             [
              0.7777777777777778,
              "#fb9f3a"
             ],
             [
              0.8888888888888888,
              "#fdca26"
             ],
             [
              1,
              "#f0f921"
             ]
            ],
            "type": "heatmapgl"
           }
          ],
          "histogram": [
           {
            "marker": {
             "pattern": {
              "fillmode": "overlay",
              "size": 10,
              "solidity": 0.2
             }
            },
            "type": "histogram"
           }
          ],
          "histogram2d": [
           {
            "colorbar": {
             "outlinewidth": 0,
             "ticks": ""
            },
            "colorscale": [
             [
              0,
              "#0d0887"
             ],
             [
              0.1111111111111111,
              "#46039f"
             ],
             [
              0.2222222222222222,
              "#7201a8"
             ],
             [
              0.3333333333333333,
              "#9c179e"
             ],
             [
              0.4444444444444444,
              "#bd3786"
             ],
             [
              0.5555555555555556,
              "#d8576b"
             ],
             [
              0.6666666666666666,
              "#ed7953"
             ],
             [
              0.7777777777777778,
              "#fb9f3a"
             ],
             [
              0.8888888888888888,
              "#fdca26"
             ],
             [
              1,
              "#f0f921"
             ]
            ],
            "type": "histogram2d"
           }
          ],
          "histogram2dcontour": [
           {
            "colorbar": {
             "outlinewidth": 0,
             "ticks": ""
            },
            "colorscale": [
             [
              0,
              "#0d0887"
             ],
             [
              0.1111111111111111,
              "#46039f"
             ],
             [
              0.2222222222222222,
              "#7201a8"
             ],
             [
              0.3333333333333333,
              "#9c179e"
             ],
             [
              0.4444444444444444,
              "#bd3786"
             ],
             [
              0.5555555555555556,
              "#d8576b"
             ],
             [
              0.6666666666666666,
              "#ed7953"
             ],
             [
              0.7777777777777778,
              "#fb9f3a"
             ],
             [
              0.8888888888888888,
              "#fdca26"
             ],
             [
              1,
              "#f0f921"
             ]
            ],
            "type": "histogram2dcontour"
           }
          ],
          "mesh3d": [
           {
            "colorbar": {
             "outlinewidth": 0,
             "ticks": ""
            },
            "type": "mesh3d"
           }
          ],
          "parcoords": [
           {
            "line": {
             "colorbar": {
              "outlinewidth": 0,
              "ticks": ""
             }
            },
            "type": "parcoords"
           }
          ],
          "pie": [
           {
            "automargin": true,
            "type": "pie"
           }
          ],
          "scatter": [
           {
            "fillpattern": {
             "fillmode": "overlay",
             "size": 10,
             "solidity": 0.2
            },
            "type": "scatter"
           }
          ],
          "scatter3d": [
           {
            "line": {
             "colorbar": {
              "outlinewidth": 0,
              "ticks": ""
             }
            },
            "marker": {
             "colorbar": {
              "outlinewidth": 0,
              "ticks": ""
             }
            },
            "type": "scatter3d"
           }
          ],
          "scattercarpet": [
           {
            "marker": {
             "colorbar": {
              "outlinewidth": 0,
              "ticks": ""
             }
            },
            "type": "scattercarpet"
           }
          ],
          "scattergeo": [
           {
            "marker": {
             "colorbar": {
              "outlinewidth": 0,
              "ticks": ""
             }
            },
            "type": "scattergeo"
           }
          ],
          "scattergl": [
           {
            "marker": {
             "colorbar": {
              "outlinewidth": 0,
              "ticks": ""
             }
            },
            "type": "scattergl"
           }
          ],
          "scattermapbox": [
           {
            "marker": {
             "colorbar": {
              "outlinewidth": 0,
              "ticks": ""
             }
            },
            "type": "scattermapbox"
           }
          ],
          "scatterpolar": [
           {
            "marker": {
             "colorbar": {
              "outlinewidth": 0,
              "ticks": ""
             }
            },
            "type": "scatterpolar"
           }
          ],
          "scatterpolargl": [
           {
            "marker": {
             "colorbar": {
              "outlinewidth": 0,
              "ticks": ""
             }
            },
            "type": "scatterpolargl"
           }
          ],
          "scatterternary": [
           {
            "marker": {
             "colorbar": {
              "outlinewidth": 0,
              "ticks": ""
             }
            },
            "type": "scatterternary"
           }
          ],
          "surface": [
           {
            "colorbar": {
             "outlinewidth": 0,
             "ticks": ""
            },
            "colorscale": [
             [
              0,
              "#0d0887"
             ],
             [
              0.1111111111111111,
              "#46039f"
             ],
             [
              0.2222222222222222,
              "#7201a8"
             ],
             [
              0.3333333333333333,
              "#9c179e"
             ],
             [
              0.4444444444444444,
              "#bd3786"
             ],
             [
              0.5555555555555556,
              "#d8576b"
             ],
             [
              0.6666666666666666,
              "#ed7953"
             ],
             [
              0.7777777777777778,
              "#fb9f3a"
             ],
             [
              0.8888888888888888,
              "#fdca26"
             ],
             [
              1,
              "#f0f921"
             ]
            ],
            "type": "surface"
           }
          ],
          "table": [
           {
            "cells": {
             "fill": {
              "color": "#EBF0F8"
             },
             "line": {
              "color": "white"
             }
            },
            "header": {
             "fill": {
              "color": "#C8D4E3"
             },
             "line": {
              "color": "white"
             }
            },
            "type": "table"
           }
          ]
         },
         "layout": {
          "annotationdefaults": {
           "arrowcolor": "#2a3f5f",
           "arrowhead": 0,
           "arrowwidth": 1
          },
          "autotypenumbers": "strict",
          "coloraxis": {
           "colorbar": {
            "outlinewidth": 0,
            "ticks": ""
           }
          },
          "colorscale": {
           "diverging": [
            [
             0,
             "#8e0152"
            ],
            [
             0.1,
             "#c51b7d"
            ],
            [
             0.2,
             "#de77ae"
            ],
            [
             0.3,
             "#f1b6da"
            ],
            [
             0.4,
             "#fde0ef"
            ],
            [
             0.5,
             "#f7f7f7"
            ],
            [
             0.6,
             "#e6f5d0"
            ],
            [
             0.7,
             "#b8e186"
            ],
            [
             0.8,
             "#7fbc41"
            ],
            [
             0.9,
             "#4d9221"
            ],
            [
             1,
             "#276419"
            ]
           ],
           "sequential": [
            [
             0,
             "#0d0887"
            ],
            [
             0.1111111111111111,
             "#46039f"
            ],
            [
             0.2222222222222222,
             "#7201a8"
            ],
            [
             0.3333333333333333,
             "#9c179e"
            ],
            [
             0.4444444444444444,
             "#bd3786"
            ],
            [
             0.5555555555555556,
             "#d8576b"
            ],
            [
             0.6666666666666666,
             "#ed7953"
            ],
            [
             0.7777777777777778,
             "#fb9f3a"
            ],
            [
             0.8888888888888888,
             "#fdca26"
            ],
            [
             1,
             "#f0f921"
            ]
           ],
           "sequentialminus": [
            [
             0,
             "#0d0887"
            ],
            [
             0.1111111111111111,
             "#46039f"
            ],
            [
             0.2222222222222222,
             "#7201a8"
            ],
            [
             0.3333333333333333,
             "#9c179e"
            ],
            [
             0.4444444444444444,
             "#bd3786"
            ],
            [
             0.5555555555555556,
             "#d8576b"
            ],
            [
             0.6666666666666666,
             "#ed7953"
            ],
            [
             0.7777777777777778,
             "#fb9f3a"
            ],
            [
             0.8888888888888888,
             "#fdca26"
            ],
            [
             1,
             "#f0f921"
            ]
           ]
          },
          "colorway": [
           "#636efa",
           "#EF553B",
           "#00cc96",
           "#ab63fa",
           "#FFA15A",
           "#19d3f3",
           "#FF6692",
           "#B6E880",
           "#FF97FF",
           "#FECB52"
          ],
          "font": {
           "color": "#2a3f5f"
          },
          "geo": {
           "bgcolor": "white",
           "lakecolor": "white",
           "landcolor": "#E5ECF6",
           "showlakes": true,
           "showland": true,
           "subunitcolor": "white"
          },
          "hoverlabel": {
           "align": "left"
          },
          "hovermode": "closest",
          "mapbox": {
           "style": "light"
          },
          "paper_bgcolor": "white",
          "plot_bgcolor": "#E5ECF6",
          "polar": {
           "angularaxis": {
            "gridcolor": "white",
            "linecolor": "white",
            "ticks": ""
           },
           "bgcolor": "#E5ECF6",
           "radialaxis": {
            "gridcolor": "white",
            "linecolor": "white",
            "ticks": ""
           }
          },
          "scene": {
           "xaxis": {
            "backgroundcolor": "#E5ECF6",
            "gridcolor": "white",
            "gridwidth": 2,
            "linecolor": "white",
            "showbackground": true,
            "ticks": "",
            "zerolinecolor": "white"
           },
           "yaxis": {
            "backgroundcolor": "#E5ECF6",
            "gridcolor": "white",
            "gridwidth": 2,
            "linecolor": "white",
            "showbackground": true,
            "ticks": "",
            "zerolinecolor": "white"
           },
           "zaxis": {
            "backgroundcolor": "#E5ECF6",
            "gridcolor": "white",
            "gridwidth": 2,
            "linecolor": "white",
            "showbackground": true,
            "ticks": "",
            "zerolinecolor": "white"
           }
          },
          "shapedefaults": {
           "line": {
            "color": "#2a3f5f"
           }
          },
          "ternary": {
           "aaxis": {
            "gridcolor": "white",
            "linecolor": "white",
            "ticks": ""
           },
           "baxis": {
            "gridcolor": "white",
            "linecolor": "white",
            "ticks": ""
           },
           "bgcolor": "#E5ECF6",
           "caxis": {
            "gridcolor": "white",
            "linecolor": "white",
            "ticks": ""
           }
          },
          "title": {
           "x": 0.05
          },
          "xaxis": {
           "automargin": true,
           "gridcolor": "white",
           "linecolor": "white",
           "ticks": "",
           "title": {
            "standoff": 15
           },
           "zerolinecolor": "white",
           "zerolinewidth": 2
          },
          "yaxis": {
           "automargin": true,
           "gridcolor": "white",
           "linecolor": "white",
           "ticks": "",
           "title": {
            "standoff": 15
           },
           "zerolinecolor": "white",
           "zerolinewidth": 2
          }
         }
        },
        "title": {
         "font": {
          "family": "sans-serif",
          "size": 20
         },
         "text": "Volcano Plot",
         "x": 0.5,
         "xanchor": "right",
         "yanchor": "top"
        },
        "xaxis": {
         "range": [
          -0.2638566102288461,
          0.2638566102288461
         ],
         "title": {
          "text": "Effect Size"
         },
         "zeroline": false
        },
        "yaxis": {
         "title": {
          "text": "-log10(p)"
         },
         "zeroline": false
        }
       }
      },
      "text/html": [
       "<div>                            <div id=\"f12c339c-770d-43eb-b3c0-54fd434c214c\" class=\"plotly-graph-div\" style=\"height:525px; width:100%;\"></div>            <script type=\"text/javascript\">                require([\"plotly\"], function(Plotly) {                    window.PLOTLYENV=window.PLOTLYENV || {};                                    if (document.getElementById(\"f12c339c-770d-43eb-b3c0-54fd434c214c\")) {                    Plotly.newPlot(                        \"f12c339c-770d-43eb-b3c0-54fd434c214c\",                        [{\"marker\":{\"color\":\"#2186f4\",\"size\":7},\"mode\":\"markers\",\"name\":\"Dataset\",\"text\":[\"SNP: <br>GENE: CDC5L\",\"SNP: <br>GENE: PPARG\",\"SNP: <br>GENE: HOXB8\",\"SNP: <br>GENE: NFATC1\",\"SNP: <br>GENE: OVOL1\",\"SNP: <br>GENE: ZNF219\",\"SNP: <br>GENE: TBX1\",\"SNP: <br>GENE: NFATC2\",\"SNP: <br>GENE: BHLHA15\",\"SNP: <br>GENE: SOX4\",\"SNP: <br>GENE: MAFK\",\"SNP: <br>GENE: HOXA7\",\"SNP: <br>GENE: TEF\",\"SNP: <br>GENE: MXI1\",\"SNP: <br>GENE: TEAD1\",\"SNP: <br>GENE: EMX1\",\"SNP: <br>GENE: TP73\",\"SNP: <br>GENE: THRA\",\"SNP: <br>GENE: YY1\",\"SNP: <br>GENE: FOXP1\",\"SNP: <br>GENE: IRF3\",\"SNP: <br>GENE: CTCFL\",\"SNP: <br>GENE: TCF7L2\",\"SNP: <br>GENE: BATF3\",\"SNP: <br>GENE: TCF4\",\"SNP: <br>GENE: SOX9\",\"SNP: <br>GENE: HIVEP1\",\"SNP: <br>GENE: BPTF\",\"SNP: <br>GENE: SIX5\",\"SNP: <br>GENE: SPIB\",\"SNP: <br>GENE: CUX1\",\"SNP: <br>GENE: HMGA2\",\"SNP: <br>GENE: RORA\",\"SNP: <br>GENE: TWIST1\",\"SNP: <br>GENE: RFX1\",\"SNP: <br>GENE: FOSL1\",\"SNP: <br>GENE: ZFHX3\",\"SNP: <br>GENE: HLF\",\"SNP: <br>GENE: NR3C2\",\"SNP: <br>GENE: SP4\",\"SNP: <br>GENE: ZNF423\",\"SNP: <br>GENE: GRHL1\",\"SNP: <br>GENE: SMARCC2\",\"SNP: <br>GENE: ETV6\",\"SNP: <br>GENE: GCM1\",\"SNP: <br>GENE: SMAD3\",\"SNP: <br>GENE: EMX2\",\"SNP: <br>GENE: RUNX1\",\"SNP: <br>GENE: TP63\",\"SNP: <br>GENE: FOXO1\",\"SNP: <br>GENE: KLF8\",\"SNP: <br>GENE: E2F8\",\"SNP: <br>GENE: CUX2\",\"SNP: <br>GENE: EPAS1\",\"SNP: <br>GENE: TFEB\",\"SNP: <br>GENE: SOX18\",\"SNP: <br>GENE: POU2F2\",\"SNP: <br>GENE: MAFF\",\"SNP: <br>GENE: AR\",\"SNP: <br>GENE: NR2F6\",\"SNP: <br>GENE: ZBTB7C\",\"SNP: <br>GENE: NFYB\",\"SNP: <br>GENE: THAP1\",\"SNP: <br>GENE: TEAD3\",\"SNP: <br>GENE: RBPJ\",\"SNP: <br>GENE: FOXA3\",\"SNP: <br>GENE: ZNF274\",\"SNP: <br>GENE: ARID5B\",\"SNP: <br>GENE: TGIF1\",\"SNP: <br>GENE: PAX5\",\"SNP: <br>GENE: GLI1\",\"SNP: <br>GENE: BCL11A\",\"SNP: <br>GENE: BACH2\",\"SNP: <br>GENE: TFDP1\",\"SNP: <br>GENE: ESR2\",\"SNP: <br>GENE: ELK3\",\"SNP: <br>GENE: RFX2\",\"SNP: <br>GENE: FOXK1\",\"SNP: <br>GENE: RARG\",\"SNP: <br>GENE: TBX2\",\"SNP: <br>GENE: NR4A1\",\"SNP: <br>GENE: TEAD4\",\"SNP: <br>GENE: E4F1\",\"SNP: <br>GENE: ERG\",\"SNP: <br>GENE: STAT1\",\"SNP: <br>GENE: PBX1\",\"SNP: <br>GENE: HIVEP2\",\"SNP: <br>GENE: FOXP2\",\"SNP: <br>GENE: BCL6B\",\"SNP: <br>GENE: REL\",\"SNP: <br>GENE: HOXA9\",\"SNP: <br>GENE: ENO1\",\"SNP: <br>GENE: TCF3\",\"SNP: <br>GENE: CEBPA\",\"SNP: <br>GENE: ARX\",\"SNP: <br>GENE: THRB\",\"SNP: <br>GENE: RARB\",\"SNP: <br>GENE: NR4A2\",\"SNP: <br>GENE: SPDEF\",\"SNP: <br>GENE: EBF1\",\"SNP: <br>GENE: E2F3\",\"SNP: <br>GENE: RFX3\",\"SNP: <br>GENE: GLIS3\",\"SNP: <br>GENE: GATA3\",\"SNP: <br>GENE: AHR\",\"SNP: <br>GENE: NFE2L2\",\"SNP: <br>GENE: CREB3L1\",\"SNP: <br>GENE: IRF5\",\"SNP: <br>GENE: ARID3A\",\"SNP: <br>GENE: ID4\",\"SNP: <br>GENE: ETV2\",\"SNP: <br>GENE: CEBPG\",\"SNP: <br>GENE: ATF3\",\"SNP: <br>GENE: IRF8\",\"SNP: <br>GENE: NR1I2\",\"SNP: <br>GENE: TFAP4\",\"SNP: <br>GENE: RUNX3\",\"SNP: <br>GENE: TAL1\",\"SNP: <br>GENE: ESR1\",\"SNP: <br>GENE: BATF\",\"SNP: <br>GENE: MEIS2\",\"SNP: <br>GENE: NFYC\",\"SNP: <br>GENE: CEBPD\",\"SNP: <br>GENE: STAT6\",\"SNP: <br>GENE: NR3C1\",\"SNP: <br>GENE: NR1D1\",\"SNP: <br>GENE: HINFP\",\"SNP: <br>GENE: ZNF282\",\"SNP: <br>GENE: TCF12\",\"SNP: <br>GENE: HOXD8\",\"SNP: <br>GENE: FOXO3\",\"SNP: <br>GENE: EGR2\",\"SNP: <br>GENE: GLI2\",\"SNP: <br>GENE: FOXH1\",\"SNP: <br>GENE: BHLHE41\",\"SNP: <br>GENE: ELF1\",\"SNP: <br>GENE: NR6A1\",\"SNP: <br>GENE: GLIS1\",\"SNP: <br>GENE: HSF4\",\"SNP: <br>GENE: HOXB6\",\"SNP: <br>GENE: POU4F1\",\"SNP: <br>GENE: MEOX1\",\"SNP: <br>GENE: ARNTL\",\"SNP: <br>GENE: RUNX2\",\"SNP: <br>GENE: PAX8\",\"SNP: <br>GENE: MAX\",\"SNP: <br>GENE: NFIA\",\"SNP: <br>GENE: RORC\",\"SNP: <br>GENE: DBP\",\"SNP: <br>GENE: ZNF524\",\"SNP: <br>GENE: GATA5\",\"SNP: <br>GENE: ZNF350\",\"SNP: <br>GENE: NR1H2\",\"SNP: <br>GENE: FLI1\",\"SNP: <br>GENE: HIC1\",\"SNP: <br>GENE: MLXIPL\",\"SNP: <br>GENE: PPARD\",\"SNP: <br>GENE: DNMT1\",\"SNP: <br>GENE: JDP2\",\"SNP: <br>GENE: MNT\",\"SNP: <br>GENE: GATA2\",\"SNP: <br>GENE: TCF7L1\",\"SNP: <br>GENE: HIC2\",\"SNP: <br>GENE: ETV7\",\"SNP: <br>GENE: SRF\",\"SNP: <br>GENE: MITF\",\"SNP: <br>GENE: HOXA5\",\"SNP: <br>GENE: PBX3\",\"SNP: <br>GENE: IRX5\",\"SNP: <br>GENE: MECOM\",\"SNP: <br>GENE: HOXC6\",\"SNP: <br>GENE: BCL6\",\"SNP: <br>GENE: TCF7\",\"SNP: <br>GENE: CDX2\",\"SNP: <br>GENE: TBX19\",\"SNP: <br>GENE: ATF6\",\"SNP: <br>GENE: POU6F1\",\"SNP: <br>GENE: KDM2B\",\"SNP: <br>GENE: USF1\",\"SNP: <br>GENE: ETV5\",\"SNP: <br>GENE: ARNT2\",\"SNP: <br>GENE: HOXB2\",\"SNP: <br>GENE: ETS2\",\"SNP: <br>GENE: MEF2B\",\"SNP: <br>GENE: IRF2\",\"SNP: <br>GENE: MSX1\",\"SNP: <br>GENE: SREBF2\",\"SNP: <br>GENE: NFATC3\",\"SNP: <br>GENE: ONECUT2\",\"SNP: <br>GENE: HNF1A\",\"SNP: <br>GENE: SPI1\",\"SNP: <br>GENE: FOXJ3\",\"SNP: <br>GENE: MYC\",\"SNP: <br>GENE: ZNF683\",\"SNP: <br>GENE: NFYA\",\"SNP: <br>GENE: HOXA13\",\"SNP: <br>GENE: PLAG1\",\"SNP: <br>GENE: TBX3\",\"SNP: <br>GENE: STAT3\",\"SNP: <br>GENE: HES1\",\"SNP: <br>GENE: KLF6\",\"SNP: <br>GENE: JUND\",\"SNP: <br>GENE: FOXC1\",\"SNP: <br>GENE: ELF3\",\"SNP: <br>GENE: RFX5\",\"SNP: <br>GENE: TBX15\",\"SNP: <br>GENE: TFAP2A\",\"SNP: <br>GENE: SMAD4\",\"SNP: <br>GENE: ELK1\",\"SNP: <br>GENE: ZNF333\",\"SNP: <br>GENE: ZBTB33\",\"SNP: <br>GENE: XBP1\",\"SNP: <br>GENE: MEF2D\",\"SNP: <br>GENE: FOXI1\",\"SNP: <br>GENE: CTCF\",\"SNP: <br>GENE: HOXB3\",\"SNP: <br>GENE: STAT5B\",\"SNP: <br>GENE: TBX21\",\"SNP: <br>GENE: HOMEZ\",\"SNP: <br>GENE: MZF1\",\"SNP: <br>GENE: NFIL3\",\"SNP: <br>GENE: EGR3\",\"SNP: <br>GENE: KLF3\",\"SNP: <br>GENE: HOXB5\",\"SNP: <br>GENE: NR5A2\",\"SNP: <br>GENE: CEBPB\",\"SNP: <br>GENE: ZNF784\",\"SNP: <br>GENE: PKNOX1\",\"SNP: <br>GENE: HOXA1\",\"SNP: <br>GENE: TET1\",\"SNP: <br>GENE: GLI3\",\"SNP: <br>GENE: MSC\",\"SNP: <br>GENE: PLAGL1\",\"SNP: <br>GENE: NR2F1\",\"SNP: <br>GENE: MYBL2\",\"SNP: <br>GENE: ZEB1\",\"SNP: <br>GENE: ZBTB49\",\"SNP: <br>GENE: ELF5\",\"SNP: <br>GENE: USF2\",\"SNP: <br>GENE: ELF2\",\"SNP: <br>GENE: RELA\",\"SNP: <br>GENE: ZNF143\",\"SNP: <br>GENE: NFKB2\",\"SNP: <br>GENE: REST\",\"SNP: <br>GENE: ELF4\",\"SNP: <br>GENE: NR1I3\",\"SNP: <br>GENE: GFI1\",\"SNP: <br>GENE: MEIS1\",\"SNP: <br>GENE: CREB3\",\"SNP: <br>GENE: MLX\",\"SNP: <br>GENE: SMAD1\",\"SNP: <br>GENE: LBX2\",\"SNP: <br>GENE: FOXD2\",\"SNP: <br>GENE: ZFX\",\"SNP: <br>GENE: SMAD2\",\"SNP: <br>GENE: E2F4\",\"SNP: <br>GENE: SMARCC1\",\"SNP: <br>GENE: ETV1\",\"SNP: <br>GENE: FOSB\",\"SNP: <br>GENE: ATF1\",\"SNP: <br>GENE: PGR\",\"SNP: <br>GENE: ZNF589\",\"SNP: <br>GENE: BRCA1\",\"SNP: <br>GENE: ZNF232\",\"SNP: <br>GENE: TBP\",\"SNP: <br>GENE: RFX4\",\"SNP: <br>GENE: HEY2\",\"SNP: <br>GENE: IRF1\",\"SNP: <br>GENE: MYBL1\",\"SNP: <br>GENE: NRF1\",\"SNP: <br>GENE: YBX1\",\"SNP: <br>GENE: MESP1\",\"SNP: <br>GENE: MTF1\",\"SNP: <br>GENE: NR2C2\",\"SNP: <br>GENE: LHX2\",\"SNP: <br>GENE: E2F7\",\"SNP: <br>GENE: MEF2C\",\"SNP: <br>GENE: CREM\",\"SNP: <br>GENE: ELK4\",\"SNP: <br>GENE: MBD2\",\"SNP: <br>GENE: TFEC\",\"SNP: <br>GENE: RELB\",\"SNP: <br>GENE: FOXJ2\",\"SNP: <br>GENE: FOXP3\",\"SNP: <br>GENE: ZNF410\",\"SNP: <br>GENE: CENPB\",\"SNP: <br>GENE: EOMES\",\"SNP: <br>GENE: STAT4\",\"SNP: <br>GENE: GFI1B\",\"SNP: <br>GENE: NR2E3\",\"SNP: <br>GENE: HESX1\",\"SNP: <br>GENE: CREB1\",\"SNP: <br>GENE: TP53\",\"SNP: <br>GENE: HIF1A\",\"SNP: <br>GENE: HEY1\",\"SNP: <br>GENE: ALX3\",\"SNP: <br>GENE: AIRE\",\"SNP: <br>GENE: MAFB\",\"SNP: <br>GENE: TFCP2\",\"SNP: <br>GENE: ZNF713\",\"SNP: <br>GENE: BHLHE40\",\"SNP: <br>GENE: ZSCAN16\",\"SNP: <br>GENE: NR4A3\",\"SNP: <br>GENE: NFAT5\",\"SNP: <br>GENE: NR2C1\",\"SNP: <br>GENE: ZKSCAN3\",\"SNP: <br>GENE: ATF4\",\"SNP: <br>GENE: HLTF\",\"SNP: <br>GENE: JUN\",\"SNP: <br>GENE: E2F1\",\"SNP: <br>GENE: E2F6\",\"SNP: <br>GENE: E2F5\",\"SNP: <br>GENE: PAX6\",\"SNP: <br>GENE: ATF7\",\"SNP: <br>GENE: IRF4\",\"SNP: <br>GENE: HMBOX1\",\"SNP: <br>GENE: FUBP1\",\"SNP: <br>GENE: ZNF740\",\"SNP: <br>GENE: CEBPZ\",\"SNP: <br>GENE: DDIT3\"],\"x\":[-0.11114240201282968,0.0367062046703297,-0.10663131810302198,-0.06505442330843403,-0.001520228571428639,0.04163522730769231,0.028982585796703153,0.030986933857142906,0.06426793729706043,0.05794640548351643,0.08291416205769231,0.006650025862637382,-0.20695552278571433,-0.012950044793956061,0.0034981524175824452,0.03908364564505497,-0.11437396066208783,0.007013026429120939,-0.044371396753022,0.05373729981620878,-0.04488509980164834,-0.017770107766483578,-0.08657079047225275,0.02188679142857136,-0.0033250285312088623,-0.1759202910164835,0.001871139390109855,0.03145265419354396,0.04615506143873632,0.030698329541208547,0.005070505223406595,0.004446874662088041,0.04606064175101099,-0.08886362568681327,-0.06004008260576915,-0.05185475068406603,0.024275610961538463,-0.025533626868131876,0.017561242004258237,0.08659285744505496,0.005292932019230756,-0.05198368519669232,0.058817285068681335,0.04988946828571422,-0.07279813467582413,0.035426168377692246,0.007082382939560539,0.07873218473159341,-0.1087661797256868,0.020864476891978068,-0.05994885727912086,0.008072520940384575,-0.026103701875054952,0.06130672075109894,-0.06579490010714295,-0.08988337697307693,-0.07330356502747254,-0.05466298946208789,-0.008297134313186683,-0.007492252901099006,-0.04515427912472528,0.17386961941005497,0.032147915245055,-0.0037373562362635893,-0.08487213003846153,0.03523032221263736,-0.006833039010988973,0.03356349050200552,0.01764210856502743,-0.027921733466126364,-0.12284856432967017,-0.18840422309065924,-0.09479343777692309,0.07726526295239011,0.05428155993532967,-0.04008559420329649,-0.025127435446428568,-0.07050772859999999,-0.0540695957417584,0.038546798076923405,-0.03858660939142855,-0.055361188244505366,-0.0434436942383132,-0.01690176515505495,0.03172165238736263,-0.03499267451923077,0.015235267840659317,0.04647780289010983,-0.012347427750000084,-0.02086667408667578,-0.02101665931318686,0.0067079046249999275,-0.031936624038461536,-0.043349509321428614,0.0617406246703297,0.07046604939560441,0.12594950142857142,-0.004265805357142882,-0.039857757757225276,-0.07290888311538457,-0.040598820137362546,0.02153502964285714,0.0329954667615934,0.0689978258802198,-0.04101736609230769,-0.2512920097417582,0.02128058213461534,0.06303068549450552,-0.03908266946678571,-0.07019885760236266,0.00429663977032968,-0.03799928556593424,0.021284383416346142,0.07531517832417578,-0.04747924803868134,-0.16022121515752746,-0.03647408496538457,0.008338637894203305,0.08152086900549438,0.005223987741758232,-0.06210984141126377,-0.011007236074175863,-0.0061407181381043785,-0.009208963265110004,0.004142289924725234,0.03178067061564558,0.06041922134615385,-0.06180449710989011,-0.019863824933791185,-0.03818427351648346,0.043374833515934054,0.04151819178571431,-0.05605028840944781,0.0018631770879118381,0.13970125120521976,-0.029443664458791208,-0.13691786339835166,-0.05360633728489006,-0.009292384670329668,0.07402016807692324,-0.024044893509615417,0.019339009488186815,0.042157178719395644,0.002401505876373611,-0.017007898873626415,-0.0906963980769232,0.02680798610964287,0.004533816016483727,-0.08877351004203296,0.14902970335373628,-0.07726531230252749,-0.07481126888186806,-0.1571239655879122,0.01395493053087915,-0.08047554707664833,-0.06036282769230761,-0.01298526040109893,0.0132108288214286,0.10596557240659343,0.16757228664972534,0.024124728508241655,-0.03976370538461527,-0.031768971346154085,-0.048838277457142865,-0.033368124096153806,-0.03103469562087907,-0.0025719275387362517,0.0049412772087912005,0.04220460120821429,0.03665775483516498,0.039327131234725254,0.15096787814835166,0.04052557813736263,0.08371668831593404,0.05805187345474175,-0.006757135383241762,0.02654883093571425,0.002611247715109871,0.044376342252747225,0.0005429219230769777,-0.06619115450291209,-0.08950669824175828,0.00885546485439559,-0.02125567112637361,-0.02363616376703298,0.08391475077692309,-0.07664320816016484,0.023765577207417565,0.03581962365384617,-0.05839021348076917,0.037154810851648346,0.06029554214285726,-0.13273248423076922,-0.08955261299725276,-0.20156136111263734,0.10524388001840657,0.017395098276648313,-0.08967874255357147,-0.026385537811923154,0.03151397498681319,0.10853646086263735,0.17921000243131868,0.11199810921098902,-0.0597317639010988,-0.03924733279670323,-0.10336934539560438,0.034069923239010924,-0.026196572085082442,-0.008652301922362618,-0.011913627320750006,0.06505724249175815,0.018350793063186932,-0.009021146730769147,0.06889663572802196,0.1315727164752748,-0.04935443153846153,-0.08172449934065928,0.025915917364862644,-0.020206799560439692,-0.07886421321428583,0.09979561972527473,0.04057377051098909,-0.11007537076126372,-0.049287459340384615,-0.04914541700686814,0.017770469820604373,0.006374908071428598,0.019891041108434065,-0.02265185989864288,0.09598454198571431,-0.08518668831401101,0.059217131456044236,0.029474733216373616,-0.059770863387362705,0.0852400518516484,-0.010761883865384514,0.009086593351648187,-0.021663526763186836,-0.023014935823351595,0.06517007089560439,0.0030717866428571217,0.00879950694203295,-0.022601010576923042,0.032099679532966885,0.012706623961469779,0.014519662029780223,0.05844915675824175,-0.0350654485439561,0.03949846806780221,0.05123448539258241,0.05809349563186794,-0.0255280290659341,0.07865442780219778,0.12282741675824171,0.08627178097527477,0.028161330914835137,-0.10332403910714277,-0.03402670325747252,0.0811927812637363,0.0626303693131868,0.04431973456043958,0.12290748403434065,-0.0698329319717857,0.019534523159285708,-0.15205464524629125,0.04246957539258242,0.015389638461538513,-0.04415454011571432,-0.0314248625412088,0.022499443024917576,-0.09626692432692308,-0.046740556675824135,-0.0298191538461538,-0.005638054313186869,-0.03906803264340661,-0.023399282220879114,0.03956641697802199,-0.005766482101648374,-0.03544408726648346,-0.023723806817582432,-0.023682542090659342,0.07982581263626373,0.0400165792032966,0.05221624597582418,0.03932023903846149,-0.011856673901098902,0.05868045107142861,-0.05750200431318686,-0.0671253970326923,-0.07417637450549452,0.0867448751098901,0.05306173188497252,-0.17501096852664833,0.05788652747252743,0.094061275625,-0.011581987697115381,0.011339933348983517,0.06280742878571433,0.06477916584642854,-0.04143563212445053,0.022891559862637356,-0.022439144520494496,0.034764545439560646,-0.06702446134338819,0.021319366527472572,-0.03144692863736276,-0.11102674930642858,0.04690888694780215,-0.05962294278010993,0.03861805564587911,-0.10742634285714286,-0.03401951309362636,0.004192465173076865,0.059152310553296755,0.039394126816208824,-0.0068081899725274675,0.06820622326923065,0.012018211170329696,0.06248370415274723,-0.03064778052197803],\"y\":[1.1309130476460405,0.4042855544667241,1.1415978442627766,1.1559350419418168,0.0722373675296856,0.21334994514617817,0.34550816700737613,0.45069418649411774,0.3640206413120014,0.23098116762463522,2.108207255957533,0.15800073868275455,2.5099276120305594,0.10835910195866574,0.07645150736971183,0.6573896109440341,0.3640206413120014,0.03315578300823578,0.30563453064866813,0.4064497571304049,0.19103125126417922,0.14049681809013453,0.5770633846081935,0.28825217267364633,0.004242356002077327,2.869068855621696,0.27874368539940547,0.26374863723019454,0.6494020530827344,0.11586038084815034,0.09363522199712647,0.0006035335539839068,1.206942133899091,0.8975114924125787,0.26374863723019454,0.3536918864523233,0.11888708737105612,0.20813939960124528,0.12040607252797672,0.5745527507498065,0.025438315144424403,0.3293507204007447,0.4086184977377624,0.6573896109440341,0.5973278769117167,0.31150547564910186,0.021626152483770165,0.9709212145371671,0.9006387583539908,0.12498561162782211,0.5302039064655872,0.0018131156445363745,0.6388240668324505,0.7512130565984576,1.0104733580453784,0.8152379711297613,1.054313501155722,0.5896912173211033,0.1373641530561774,0.07645150736971183,0.4173389504429129,2.307817529073707,0.14680804659716684,0.08069823732811011,1.3245955380070034,0.09073471764891242,0.17267046426627847,0.5350532828581823,0.0892899691740223,0.3999707410080698,0.9226925056804353,2.449025304693594,1.5075782727211615,1.8577612459828394,0.36818311232904183,0.5038778853304402,0.1893423418658779,0.14522449042325178,0.32735062436017454,0.16448167663907878,0.4151520026573294,0.3253548631325501,0.668112124558445,0.06944598471937324,0.027996974688834636,0.29786647592077653,0.20813939960124528,0.3174150630630911,0.11888708737105612,0.11737185837674544,0.21160907222869937,0.004242356002077327,0.3598758882027662,0.4529548592530081,0.8788692421213455,0.8696257532483853,0.7035370498871656,0.16123344171419174,0.19612180927771847,0.5277864978784075,0.5253739342709773,0.0722373675296856,0.37236334399639615,0.4874269046677744,0.010606918371371917,2.982105617641384,0.37236334399639615,0.43055671172623916,0.19612180927771847,0.22919976877520545,0.020362300205535828,0.22564918941554715,0.37027100539521085,0.23814760442191782,0.22564918941554715,1.3090409626929969,0.4021258842738611,0.07363846742395218,0.7370299778841131,0.12651966814449292,0.30758722725146237,0.02928148366917333,0.006685062104298945,0.025438315144424403,0.0030260549240204017,0.5497183269412181,1.3639783201756126,0.42834228612493264,0.14364477007322765,0.5209884508327316,0.39782011921542004,0.6789178209423744,0.08212107790564248,0.06253041020975236,1.6651427391085356,0.134246737410545,1.2554781969874111,0.5350532828581823,0.012850982954713592,1.0577291266956252,0.12040607252797672,0.12192881849768947,0.5770633846081935,0.019101874507352345,0.21859676822895419,1.2180415795447197,0.05570420419492135,0.11284866155227324,1.8626447532702106,0.5770633846081935,0.6816322935738588,0.9322318378125933,1.6203295712455805,0.014094345096375483,0.9006387583539908,0.522966209513655,0.14680804659716684,0.10242512932695753,1.6247740207907237,1.6203295712455805,0.3154408984481862,0.4021258842738611,0.31150547564910186,0.6231107006165512,0.3640206413120014,0.602444073399793,0.09948039059868766,0.0344541556652793,0.3253548631325501,0.17267046426627847,0.3850110324517182,0.6573896109440341,0.4827694016740117,0.45976483668138773,0.4461867861491804,0.10687003524647874,0.17597335891091334,0.11435265013786167,0.4529548592530081,0.005462023525799591,0.5472619384129248,1.6606243449088536,0.15318072379368827,0.17431995116866542,0.1280575041858744,1.0104733580453784,0.4107917818514337,0.08784888364652846,0.29786647592077653,0.07363846742395218,0.45069418649411774,0.4827694016740117,0.9163622638776207,1.030577889165523,2.9605878913739154,1.3206963304021924,0.18262629342279843,1.5374103617089507,0.3536918864523233,0.20813939960124528,0.5695463649992589,1.469776769946224,1.0957147186362495,0.2526775322855274,0.5595929451712044,1.558953133990519,0.15158177721347718,0.27874368539940547,0.06666899360520406,0.14522449042325178,1.0204980420932095,0.15639019981255425,0.14680804659716684,1.2668419626472343,1.8626447532702106,0.522966209513655,1.1703766511573976,0.18429937670731672,0.1596151510675824,0.51099995695094,0.8331642560817436,0.37446013346007423,0.2730891233408571,0.5181652523880285,0.28253442266480283,0.19103125126417922,0.18429937670731672,0.3017419671410018,0.14206888087048788,1.0852794315116119,0.7035370498871656,1.078354165836468,0.09218313369863426,0.15158177721347718,2.2453262515514982,0.07786345670379133,0.12040607252797672,0.026715920049647388,0.3174150630630911,0.6361923990604742,0.026715920049647388,0.07645150736971183,0.3660996594044815,0.3373945567966945,0.16938323406057137,0.23994944834460732,1.1523409812336953,0.5038778853304402,0.5770633846081935,0.7370299778841131,0.8881644144821261,0.29980209004620684,0.4827694016740117,0.9069107001715458,1.5719734133264458,0.23098116762463522,0.45976483668138773,1.0887515318954453,0.7540658744951515,0.5277864978784075,0.4173389504429129,1.8094234852655342,0.984008630904171,0.2363498592800303,1.9928844142293192,0.5277864978784075,0.15158177721347718,0.2417553959045886,0.7146161356846166,0.24537962156740148,1.0714540798081829,0.7684113770851675,0.49679887592558475,0.0030260549240204017,0.38077726095928893,0.16774548127660815,0.2618930628310301,0.00914127097417623,0.28825217267364633,0.21684378831969023,0.18095715476877244,0.9971924833529789,0.31150547564910186,0.2618930628310301,0.14364477007322765,0.06944598471937324,0.5399221123249982,0.9037718247836979,0.7828932448081669,0.612736914836118,1.7761176409595976,1.0238518493052655,1.6970050260507896,1.1451723932513018,0.791648208081137,0.08069823732811011,0.011611019632142412,0.4086184977377624,0.5973278769117167,0.09948039059868766,0.28634203008527387,0.12651966814449292,0.10185184329120195,0.5947773121353669,0.33135515647833214,0.5820995659683379,1.7525908257039573,0.303686112322648,0.5472619384129248,0.15478352976378174,0.9676643606248969,0.4552201880603126,0.021626152483770165,1.6561142373022169,0.303686112322648,0.06666899360520406,0.4758186181010612,0.14049681809013453,0.8543341932360956,0.274969778180797],\"type\":\"scattergl\"}],                        {\"hovermode\":\"closest\",\"legend\":{\"bgcolor\":\"#ebf1fa\",\"font\":{\"family\":\"sans-serif\"},\"x\":1.01,\"yanchor\":\"top\"},\"shapes\":[{\"line\":{\"color\":\"grey\",\"dash\":\"dash\",\"width\":0.5},\"name\":\"effect size min line\",\"type\":\"line\",\"x0\":-1,\"x1\":-1,\"xref\":\"x\",\"y0\":0.0006035335539839068,\"y1\":2.982105617641384,\"yref\":\"y\"},{\"line\":{\"color\":\"grey\",\"dash\":\"dash\",\"width\":0.5},\"name\":\"effect size max line\",\"type\":\"line\",\"x0\":1,\"x1\":1,\"xref\":\"x\",\"y0\":0.0006035335539839068,\"y1\":2.982105617641384,\"yref\":\"y\"},{\"line\":{\"color\":\"grey\",\"dash\":\"dash\",\"width\":1},\"name\":\"genomewide_line\",\"type\":\"line\",\"x0\":-0.2638566102288461,\"x1\":0.2638566102288461,\"xref\":\"x\",\"y0\":7.301029995663981,\"y1\":7.301029995663981,\"yref\":\"y\"}],\"title\":{\"font\":{\"family\":\"sans-serif\",\"size\":20},\"text\":\"Volcano Plot\",\"x\":0.5,\"xanchor\":\"right\",\"yanchor\":\"top\"},\"xaxis\":{\"range\":[-0.2638566102288461,0.2638566102288461],\"title\":{\"text\":\"Effect Size\"},\"zeroline\":false},\"yaxis\":{\"title\":{\"text\":\"-log10(p)\"},\"zeroline\":false},\"template\":{\"data\":{\"histogram2dcontour\":[{\"type\":\"histogram2dcontour\",\"colorbar\":{\"outlinewidth\":0,\"ticks\":\"\"},\"colorscale\":[[0.0,\"#0d0887\"],[0.1111111111111111,\"#46039f\"],[0.2222222222222222,\"#7201a8\"],[0.3333333333333333,\"#9c179e\"],[0.4444444444444444,\"#bd3786\"],[0.5555555555555556,\"#d8576b\"],[0.6666666666666666,\"#ed7953\"],[0.7777777777777778,\"#fb9f3a\"],[0.8888888888888888,\"#fdca26\"],[1.0,\"#f0f921\"]]}],\"choropleth\":[{\"type\":\"choropleth\",\"colorbar\":{\"outlinewidth\":0,\"ticks\":\"\"}}],\"histogram2d\":[{\"type\":\"histogram2d\",\"colorbar\":{\"outlinewidth\":0,\"ticks\":\"\"},\"colorscale\":[[0.0,\"#0d0887\"],[0.1111111111111111,\"#46039f\"],[0.2222222222222222,\"#7201a8\"],[0.3333333333333333,\"#9c179e\"],[0.4444444444444444,\"#bd3786\"],[0.5555555555555556,\"#d8576b\"],[0.6666666666666666,\"#ed7953\"],[0.7777777777777778,\"#fb9f3a\"],[0.8888888888888888,\"#fdca26\"],[1.0,\"#f0f921\"]]}],\"heatmap\":[{\"type\":\"heatmap\",\"colorbar\":{\"outlinewidth\":0,\"ticks\":\"\"},\"colorscale\":[[0.0,\"#0d0887\"],[0.1111111111111111,\"#46039f\"],[0.2222222222222222,\"#7201a8\"],[0.3333333333333333,\"#9c179e\"],[0.4444444444444444,\"#bd3786\"],[0.5555555555555556,\"#d8576b\"],[0.6666666666666666,\"#ed7953\"],[0.7777777777777778,\"#fb9f3a\"],[0.8888888888888888,\"#fdca26\"],[1.0,\"#f0f921\"]]}],\"heatmapgl\":[{\"type\":\"heatmapgl\",\"colorbar\":{\"outlinewidth\":0,\"ticks\":\"\"},\"colorscale\":[[0.0,\"#0d0887\"],[0.1111111111111111,\"#46039f\"],[0.2222222222222222,\"#7201a8\"],[0.3333333333333333,\"#9c179e\"],[0.4444444444444444,\"#bd3786\"],[0.5555555555555556,\"#d8576b\"],[0.6666666666666666,\"#ed7953\"],[0.7777777777777778,\"#fb9f3a\"],[0.8888888888888888,\"#fdca26\"],[1.0,\"#f0f921\"]]}],\"contourcarpet\":[{\"type\":\"contourcarpet\",\"colorbar\":{\"outlinewidth\":0,\"ticks\":\"\"}}],\"contour\":[{\"type\":\"contour\",\"colorbar\":{\"outlinewidth\":0,\"ticks\":\"\"},\"colorscale\":[[0.0,\"#0d0887\"],[0.1111111111111111,\"#46039f\"],[0.2222222222222222,\"#7201a8\"],[0.3333333333333333,\"#9c179e\"],[0.4444444444444444,\"#bd3786\"],[0.5555555555555556,\"#d8576b\"],[0.6666666666666666,\"#ed7953\"],[0.7777777777777778,\"#fb9f3a\"],[0.8888888888888888,\"#fdca26\"],[1.0,\"#f0f921\"]]}],\"surface\":[{\"type\":\"surface\",\"colorbar\":{\"outlinewidth\":0,\"ticks\":\"\"},\"colorscale\":[[0.0,\"#0d0887\"],[0.1111111111111111,\"#46039f\"],[0.2222222222222222,\"#7201a8\"],[0.3333333333333333,\"#9c179e\"],[0.4444444444444444,\"#bd3786\"],[0.5555555555555556,\"#d8576b\"],[0.6666666666666666,\"#ed7953\"],[0.7777777777777778,\"#fb9f3a\"],[0.8888888888888888,\"#fdca26\"],[1.0,\"#f0f921\"]]}],\"mesh3d\":[{\"type\":\"mesh3d\",\"colorbar\":{\"outlinewidth\":0,\"ticks\":\"\"}}],\"scatter\":[{\"fillpattern\":{\"fillmode\":\"overlay\",\"size\":10,\"solidity\":0.2},\"type\":\"scatter\"}],\"parcoords\":[{\"type\":\"parcoords\",\"line\":{\"colorbar\":{\"outlinewidth\":0,\"ticks\":\"\"}}}],\"scatterpolargl\":[{\"type\":\"scatterpolargl\",\"marker\":{\"colorbar\":{\"outlinewidth\":0,\"ticks\":\"\"}}}],\"bar\":[{\"error_x\":{\"color\":\"#2a3f5f\"},\"error_y\":{\"color\":\"#2a3f5f\"},\"marker\":{\"line\":{\"color\":\"#E5ECF6\",\"width\":0.5},\"pattern\":{\"fillmode\":\"overlay\",\"size\":10,\"solidity\":0.2}},\"type\":\"bar\"}],\"scattergeo\":[{\"type\":\"scattergeo\",\"marker\":{\"colorbar\":{\"outlinewidth\":0,\"ticks\":\"\"}}}],\"scatterpolar\":[{\"type\":\"scatterpolar\",\"marker\":{\"colorbar\":{\"outlinewidth\":0,\"ticks\":\"\"}}}],\"histogram\":[{\"marker\":{\"pattern\":{\"fillmode\":\"overlay\",\"size\":10,\"solidity\":0.2}},\"type\":\"histogram\"}],\"scattergl\":[{\"type\":\"scattergl\",\"marker\":{\"colorbar\":{\"outlinewidth\":0,\"ticks\":\"\"}}}],\"scatter3d\":[{\"type\":\"scatter3d\",\"line\":{\"colorbar\":{\"outlinewidth\":0,\"ticks\":\"\"}},\"marker\":{\"colorbar\":{\"outlinewidth\":0,\"ticks\":\"\"}}}],\"scattermapbox\":[{\"type\":\"scattermapbox\",\"marker\":{\"colorbar\":{\"outlinewidth\":0,\"ticks\":\"\"}}}],\"scatterternary\":[{\"type\":\"scatterternary\",\"marker\":{\"colorbar\":{\"outlinewidth\":0,\"ticks\":\"\"}}}],\"scattercarpet\":[{\"type\":\"scattercarpet\",\"marker\":{\"colorbar\":{\"outlinewidth\":0,\"ticks\":\"\"}}}],\"carpet\":[{\"aaxis\":{\"endlinecolor\":\"#2a3f5f\",\"gridcolor\":\"white\",\"linecolor\":\"white\",\"minorgridcolor\":\"white\",\"startlinecolor\":\"#2a3f5f\"},\"baxis\":{\"endlinecolor\":\"#2a3f5f\",\"gridcolor\":\"white\",\"linecolor\":\"white\",\"minorgridcolor\":\"white\",\"startlinecolor\":\"#2a3f5f\"},\"type\":\"carpet\"}],\"table\":[{\"cells\":{\"fill\":{\"color\":\"#EBF0F8\"},\"line\":{\"color\":\"white\"}},\"header\":{\"fill\":{\"color\":\"#C8D4E3\"},\"line\":{\"color\":\"white\"}},\"type\":\"table\"}],\"barpolar\":[{\"marker\":{\"line\":{\"color\":\"#E5ECF6\",\"width\":0.5},\"pattern\":{\"fillmode\":\"overlay\",\"size\":10,\"solidity\":0.2}},\"type\":\"barpolar\"}],\"pie\":[{\"automargin\":true,\"type\":\"pie\"}]},\"layout\":{\"autotypenumbers\":\"strict\",\"colorway\":[\"#636efa\",\"#EF553B\",\"#00cc96\",\"#ab63fa\",\"#FFA15A\",\"#19d3f3\",\"#FF6692\",\"#B6E880\",\"#FF97FF\",\"#FECB52\"],\"font\":{\"color\":\"#2a3f5f\"},\"hovermode\":\"closest\",\"hoverlabel\":{\"align\":\"left\"},\"paper_bgcolor\":\"white\",\"plot_bgcolor\":\"#E5ECF6\",\"polar\":{\"bgcolor\":\"#E5ECF6\",\"angularaxis\":{\"gridcolor\":\"white\",\"linecolor\":\"white\",\"ticks\":\"\"},\"radialaxis\":{\"gridcolor\":\"white\",\"linecolor\":\"white\",\"ticks\":\"\"}},\"ternary\":{\"bgcolor\":\"#E5ECF6\",\"aaxis\":{\"gridcolor\":\"white\",\"linecolor\":\"white\",\"ticks\":\"\"},\"baxis\":{\"gridcolor\":\"white\",\"linecolor\":\"white\",\"ticks\":\"\"},\"caxis\":{\"gridcolor\":\"white\",\"linecolor\":\"white\",\"ticks\":\"\"}},\"coloraxis\":{\"colorbar\":{\"outlinewidth\":0,\"ticks\":\"\"}},\"colorscale\":{\"sequential\":[[0.0,\"#0d0887\"],[0.1111111111111111,\"#46039f\"],[0.2222222222222222,\"#7201a8\"],[0.3333333333333333,\"#9c179e\"],[0.4444444444444444,\"#bd3786\"],[0.5555555555555556,\"#d8576b\"],[0.6666666666666666,\"#ed7953\"],[0.7777777777777778,\"#fb9f3a\"],[0.8888888888888888,\"#fdca26\"],[1.0,\"#f0f921\"]],\"sequentialminus\":[[0.0,\"#0d0887\"],[0.1111111111111111,\"#46039f\"],[0.2222222222222222,\"#7201a8\"],[0.3333333333333333,\"#9c179e\"],[0.4444444444444444,\"#bd3786\"],[0.5555555555555556,\"#d8576b\"],[0.6666666666666666,\"#ed7953\"],[0.7777777777777778,\"#fb9f3a\"],[0.8888888888888888,\"#fdca26\"],[1.0,\"#f0f921\"]],\"diverging\":[[0,\"#8e0152\"],[0.1,\"#c51b7d\"],[0.2,\"#de77ae\"],[0.3,\"#f1b6da\"],[0.4,\"#fde0ef\"],[0.5,\"#f7f7f7\"],[0.6,\"#e6f5d0\"],[0.7,\"#b8e186\"],[0.8,\"#7fbc41\"],[0.9,\"#4d9221\"],[1,\"#276419\"]]},\"xaxis\":{\"gridcolor\":\"white\",\"linecolor\":\"white\",\"ticks\":\"\",\"title\":{\"standoff\":15},\"zerolinecolor\":\"white\",\"automargin\":true,\"zerolinewidth\":2},\"yaxis\":{\"gridcolor\":\"white\",\"linecolor\":\"white\",\"ticks\":\"\",\"title\":{\"standoff\":15},\"zerolinecolor\":\"white\",\"automargin\":true,\"zerolinewidth\":2},\"scene\":{\"xaxis\":{\"backgroundcolor\":\"#E5ECF6\",\"gridcolor\":\"white\",\"linecolor\":\"white\",\"showbackground\":true,\"ticks\":\"\",\"zerolinecolor\":\"white\",\"gridwidth\":2},\"yaxis\":{\"backgroundcolor\":\"#E5ECF6\",\"gridcolor\":\"white\",\"linecolor\":\"white\",\"showbackground\":true,\"ticks\":\"\",\"zerolinecolor\":\"white\",\"gridwidth\":2},\"zaxis\":{\"backgroundcolor\":\"#E5ECF6\",\"gridcolor\":\"white\",\"linecolor\":\"white\",\"showbackground\":true,\"ticks\":\"\",\"zerolinecolor\":\"white\",\"gridwidth\":2}},\"shapedefaults\":{\"line\":{\"color\":\"#2a3f5f\"}},\"annotationdefaults\":{\"arrowcolor\":\"#2a3f5f\",\"arrowhead\":0,\"arrowwidth\":1},\"geo\":{\"bgcolor\":\"white\",\"landcolor\":\"#E5ECF6\",\"subunitcolor\":\"white\",\"showland\":true,\"showlakes\":true,\"lakecolor\":\"white\"},\"title\":{\"x\":0.05},\"mapbox\":{\"style\":\"light\"}}}},                        {\"responsive\": true}                    ).then(function(){\n",
       "                            \n",
       "var gd = document.getElementById('f12c339c-770d-43eb-b3c0-54fd434c214c');\n",
       "var x = new MutationObserver(function (mutations, observer) {{\n",
       "        var display = window.getComputedStyle(gd).display;\n",
       "        if (!display || display === 'none') {{\n",
       "            console.log([gd, 'removed!']);\n",
       "            Plotly.purge(gd);\n",
       "            observer.disconnect();\n",
       "        }}\n",
       "}});\n",
       "\n",
       "// Listen for the removal of the full notebook cells\n",
       "var notebookContainer = gd.closest('#notebook-container');\n",
       "if (notebookContainer) {{\n",
       "    x.observe(notebookContainer, {childList: true});\n",
       "}}\n",
       "\n",
       "// Listen for the clearing of the current output cell\n",
       "var outputEl = gd.closest('.output');\n",
       "if (outputEl) {{\n",
       "    x.observe(outputEl, {childList: true});\n",
       "}}\n",
       "\n",
       "                        })                };                });            </script>        </div>"
      ]
     },
     "metadata": {},
     "output_type": "display_data"
    }
   ],
   "source": [
    "pp = 'P'\n",
    "dash_bio.VolcanoPlot(dataframe=volcanos[0], \n",
    "                point_size=7,\n",
    "                p=pp,\n",
    "                # xlabel=f'Mean Difference',\n",
    "                # ylabel=f'-log10({pp})',\n",
    "                # title=f'Inferred TF activity {data_csv.tf[1]} mutant vs wild-type',\n",
    "            )"
   ]
  },
  {
   "cell_type": "code",
   "execution_count": 276,
   "metadata": {},
   "outputs": [
    {
     "name": "stdout",
     "output_type": "stream",
     "text": [
      "Help on function VolcanoPlot in module dash_bio.component_factory._volcano:\n",
      "\n",
      "VolcanoPlot(dataframe, effect_size='EFFECTSIZE', p='P', snp='SNP', gene='GENE', annotation=None, logp=True, xlabel=None, ylabel='-log10(p)', point_size=5, col=None, effect_size_line=None, effect_size_line_color='grey', effect_size_line_width=0.5, genomewideline_value=7.301029995663981, genomewideline_color='grey', genomewideline_width=1, highlight=True, highlight_color='red', **kwargs)\n",
      "    Return a Dash Bio VolcanoPlot figure.\n",
      "    \n",
      "    Keyword arguments:\n",
      "    - dataframe (dataframe; required): A pandas dataframe which must contain at\n",
      "        least the following two columns:\n",
      "                - a numeric quantity to plot such as a p-value or zscore\n",
      "                - a numeric quantity measuring the strength of association,\n",
      "                  typically an odds ratio, regression coefficient, or log fold\n",
      "                  change. Here, it is referred to as `effect_size`.\n",
      "    - effect_size (string; default 'EFFECTSIZE'): A string denoting the\n",
      "        column name for the effect size. This column must be numeric and must\n",
      "        not contain missing nor NaN values.\n",
      "    - p (string; default 'P'): A string denoting the column name for the\n",
      "        float quantity to be plotted on the y-axis. This column must be\n",
      "        numeric. It does not have to be a p-value. It can be any\n",
      "        numeric quantity such as peak heights, Bayes factors, test\n",
      "        statistics. If it is not a p-value, make sure to set logp = False.\n",
      "    - snp (string; default 'SNP'): A string denoting the column name for\n",
      "        the SNP names (e.g., rs number). More generally, this column could\n",
      "        be anything that identifies each point being plotted. For example,\n",
      "        in an Epigenomewide association study (EWAS), this could be the\n",
      "        probe name or cg number. This column should be a character. This\n",
      "        argument is optional, however it is necessary to specify it if you\n",
      "        want to highlight points on the plot using the highlight argument\n",
      "        in the figure method.\n",
      "    - gene (string; default 'GENE'): A string denoting the column name for\n",
      "        the GENE names. More generally, this could be any annotation\n",
      "        information that should be included in the plot.\n",
      "    - annotation (string; optional): A string denoting the column to use\n",
      "        as annotations. This could be any annotation information that you\n",
      "        want to include in the plot (e.g., zscore, effect size, minor\n",
      "        allele frequency).\n",
      "    - logp (bool; default True): If True, the -log10 of the p-value is\n",
      "        plotted. It isn't very useful to plot raw p-values; however,\n",
      "        plotting the raw value could be useful for other genome-wide plots\n",
      "        (e.g., peak heights, Bayes factors, test statistics, and other\n",
      "        \"scores\").\n",
      "    - xlabel (string; optional): Label of the x axis.\n",
      "    - ylabel (string; default '-log10(p)'): Label of the y axis.\n",
      "    - point_size (number; default 5): Size of the points of the Scatter\n",
      "        plot.\n",
      "    - col (string; optional): Color of the points of the Scatter plot. Can\n",
      "        be in any color format accepted by plotly.graph_objects.\n",
      "    - effect_size_line (bool | list; default [-1, 1]): A boolean which\n",
      "        must be either False to deactivate the option, or a list/array containing\n",
      "        the upper and lower bounds of the effect size values. Significant\n",
      "        data points will have lower values than the lower bound, or higher\n",
      "        values than the higher bound.  Keeping the default value will\n",
      "        result in assigning the list [-1, 1] to the argument.\n",
      "    - effect_size_line_color (string; default 'grey'): Color of the effect\n",
      "        size lines.\n",
      "    - effect_size_line_width (number; default 2): Width of the effect size\n",
      "        lines.\n",
      "    - genomewideline_value (bool | number; default -log10(5e-8)): A\n",
      "        boolean which must be either False to deactivate the option, or a\n",
      "        numerical value corresponding to the p-value above which the data\n",
      "        points are considered significant.\n",
      "    - genomewideline_color (string; default 'red'): Color of the\n",
      "        genome-wide line. Can be in any color format accepted by\n",
      "        plotly.graph_objects.\n",
      "    - genomewideline_width (number; default 1): Width of the genome-wide\n",
      "        line.\n",
      "    - highlight (bool; default True): Whether the data points considered\n",
      "        significant should be highlighted or not.\n",
      "    - highlight_color (string; default 'red'): Color of the data points\n",
      "        highlighted because considered significant. Can be in any color\n",
      "        format accepted by plotly.graph_objects.\n",
      "    \n",
      "        # ...\n",
      "        Example 1: Random Volcano Plot\n",
      "        '''\n",
      "        dataframe = pd.DataFrame(\n",
      "            np.random.randint(0,100,size=(100, 2)),\n",
      "            columns=['P', 'EFFECTSIZE'])\n",
      "        fig = create_volcano(dataframe, title=dict(text='XYZ Volcano plot'))\n",
      "    \n",
      "        plotly.offline.plot(fig, image='png')\n",
      "        '''\n",
      "    - Additional keys (misc.): Arbitrary arguments can be passed to modify the\n",
      "        Layout and styling of the graph. A full reference of acceptable args is\n",
      "        available [here](https://plotly.com/python-api-reference/generated/plotly.graph_objects\n",
      "        .Layout.html).\n",
      "    \n",
      "        Some commonly used layout keys are:\n",
      "        - title (dict: optional): Dict with compatible properties for the title of\n",
      "            the figure layout.\n",
      "        - xaxis (dict: optional): Dict with compatible properties for the x-axis of\n",
      "            the figure layout.\n",
      "        - yaxis (dict: optional): Dict with compatible properties for the y-axis of\n",
      "            the figure layout.\n",
      "        - height (number; optional): Sets the plot's height (in px).\n",
      "        - width (number; optional): Sets the plot's width (in px).\n",
      "        - margin (dict | plotly.graph_objects.layout.Margin instance): A dict or Margin\n",
      "            instance that sets the separation between the main plotting space and\n",
      "            the outside of the figure.\n",
      "        - legend (dict | plotly.graph_objects.layout.Legend instance): A dict or Legend\n",
      "            instance with compatible properties.\n",
      "\n"
     ]
    }
   ],
   "source": [
    "help(dash_bio.VolcanoPlot)"
   ]
  },
  {
   "cell_type": "code",
   "execution_count": null,
   "metadata": {},
   "outputs": [],
   "source": [
    "cancerss = df['cancer'].unique()\n",
    "cancer_results = []\n",
    "cancer_results2 = []\n",
    "cancer_results3 = []\n",
    "\n",
    "\n",
    "for cancer in tqdm(cancerss):\n",
    "\n",
    "    random = None\n",
    "    nonrandom = None\n",
    "    \n",
    "    for model in random_models:\n",
    "        model.eval()\n",
    "\n",
    "        X = torch.from_numpy(sga)[split_mutants(cancer, None)]\n",
    "        C = torch.from_numpy(can)[split_mutants(cancer, None)]\n",
    "        preds, tf, hid_tmr, emb_tmr, emb_sga, attn_wt = model(X, C, pathways=False)\n",
    "        r = hid_tmr.data.numpy()\n",
    "\n",
    "\n",
    "        if random is None:\n",
    "            random = r\n",
    "        else:\n",
    "            random += r\n",
    "\n",
    "\n",
    "\n",
    "    for model in models:\n",
    "        model.eval()\n",
    "\n",
    "        X = torch.from_numpy(sga)[split_mutants(cancer, None)]\n",
    "        C = torch.from_numpy(can)[split_mutants(cancer, None)]\n",
    "        preds, tf, hid_tmr, emb_tmr, emb_sga, attn_wt = model(X, C, pathways=False)\n",
    "        s = hid_tmr.data.numpy()\n",
    "\n",
    "\n",
    "        if nonrandom is None:\n",
    "            nonrandom = s\n",
    "        else:\n",
    "            nonrandom += s\n",
    "\n",
    "\n",
    "    random = random / len(random_models)\n",
    "    nonrandom = nonrandom / len(models)\n",
    "    cancer_results.append([Counter(fdrcorrection(ttest_1samp(random[:, i], random[:, i][:]).pvalue)[0])[True]/len(random) for i in range(hid_tmr.shape[1])])\n",
    "    cancer_results2.append([Counter(fdrcorrection(ttest_1samp(nonrandom[:, i], nonrandom[:, i][:]).pvalue)[0])[True]/len(random) for i in range(hid_tmr.shape[1])])\n"
   ]
  },
  {
   "cell_type": "code",
   "execution_count": 194,
   "metadata": {},
   "outputs": [],
   "source": [
    "random = np.array(random)\n",
    "nonrandom = np.array(nonrandom)"
   ]
  },
  {
   "cell_type": "code",
   "execution_count": 195,
   "metadata": {},
   "outputs": [],
   "source": [
    "pvalues = ttest_ind(random[:, :], nonrandom[:, :]).pvalue\n",
    "fdr = fdrcorrection(pvalues)\n",
    "effectsize = (abs(random) / abs(nonrandom)).mean(0)\n"
   ]
  },
  {
   "cell_type": "code",
   "execution_count": 117,
   "metadata": {},
   "outputs": [],
   "source": [
    "# plt.figure(figsize=(10, 45))\n",
    "# # pdf = pd.read_csv('pathway_heatmap.csv').set_index('Unnamed: 0')\n",
    "# pdf = 1-pd.DataFrame(cancer_results2, index=cancerss, columns=data_csv.tf).T\n",
    "# pdf.index.name='Transcription Factors'\n",
    "# sns.heatmap(pdf, cmap='viridis', square=False, yticklabels=True)\n",
    "# plt.ylabel(pdf.index.name)\n",
    "# plt.xlabel('Cancer Type')\n",
    "# plt.tight_layout()\n",
    "\n",
    "# plt.savefig('heatmap_tf.png', dpi=300)\n",
    "# plt.show()\n"
   ]
  },
  {
   "cell_type": "code",
   "execution_count": 205,
   "metadata": {},
   "outputs": [],
   "source": [
    "df = pd.DataFrame(np.column_stack([daata['tmr'], daata['can']]), columns=['tmr', 'cancer'])\n",
    "df['cancer'] = df['cancer'].astype(int).replace(daata['idx2can'])\n",
    "\n",
    "def split_mutants2(cancer, gene):    \n",
    "    _sm = f'SM_{gene}'\n",
    "    _scna = f'SCNA_{gene}'\n",
    "\n",
    "    if cancer is None:\n",
    "        dframe = data_csv.sga_sga.loc[df.tmr]\n",
    "\n",
    "    else:\n",
    "        dframe = data_csv.sga_sga.loc[df[df.cancer==cancer].tmr]\n",
    "    \n",
    "    wt = dframe[(dframe[_sm] == 0) & (dframe[_scna] == 0)]\n",
    "    sm = dframe[(dframe[_sm] == 1) & (dframe[_scna] == 0)]\n",
    "    scna = dframe[(dframe[_sm] == 0) & (dframe[_scna] == 1)]\n",
    "    sm_scna = dframe[(dframe[_sm] == 1) & (dframe[_scna] == 1)]\n",
    "    \n",
    "    return wt.index.values, sm.index.values, scna.index.values, sm_scna.index.values"
   ]
  },
  {
   "cell_type": "code",
   "execution_count": 201,
   "metadata": {},
   "outputs": [
    {
     "data": {
      "text/html": [
       "<div>\n",
       "<style scoped>\n",
       "    .dataframe tbody tr th:only-of-type {\n",
       "        vertical-align: middle;\n",
       "    }\n",
       "\n",
       "    .dataframe tbody tr th {\n",
       "        vertical-align: top;\n",
       "    }\n",
       "\n",
       "    .dataframe thead th {\n",
       "        text-align: right;\n",
       "    }\n",
       "</style>\n",
       "<table border=\"1\" class=\"dataframe\">\n",
       "  <thead>\n",
       "    <tr style=\"text-align: right;\">\n",
       "      <th></th>\n",
       "      <th>P</th>\n",
       "      <th>EFFECTSIZE</th>\n",
       "      <th>SNP</th>\n",
       "      <th>GENE</th>\n",
       "    </tr>\n",
       "  </thead>\n",
       "  <tbody>\n",
       "    <tr>\n",
       "      <th>0</th>\n",
       "      <td>2.003061e-210</td>\n",
       "      <td>-0.555415</td>\n",
       "      <td></td>\n",
       "      <td>HALLMARK_MTORC1_SIGNALING</td>\n",
       "    </tr>\n",
       "    <tr>\n",
       "      <th>1</th>\n",
       "      <td>1.256923e-182</td>\n",
       "      <td>-0.177555</td>\n",
       "      <td></td>\n",
       "      <td>HALLMARK_MYC_TARGETS_V2</td>\n",
       "    </tr>\n",
       "    <tr>\n",
       "      <th>2</th>\n",
       "      <td>5.126659e-217</td>\n",
       "      <td>-0.244459</td>\n",
       "      <td></td>\n",
       "      <td>HALLMARK_INTERFERON_GAMMA_RESPONSE</td>\n",
       "    </tr>\n",
       "  </tbody>\n",
       "</table>\n",
       "</div>"
      ],
      "text/plain": [
       "               P  EFFECTSIZE SNP                                GENE\n",
       "0  2.003061e-210   -0.555415               HALLMARK_MTORC1_SIGNALING\n",
       "1  1.256923e-182   -0.177555                 HALLMARK_MYC_TARGETS_V2\n",
       "2  5.126659e-217   -0.244459      HALLMARK_INTERFERON_GAMMA_RESPONSE"
      ]
     },
     "execution_count": 201,
     "metadata": {},
     "output_type": "execute_result"
    }
   ],
   "source": [
    "pvalues = ttest_ind(random[:, :], nonrandom[:, :]).pvalue\n",
    "fdr = fdrcorrection(pvalues)\n",
    "effectsize = (abs(random) / abs(nonrandom)).mean(0)\n",
    "\n",
    "\n",
    "tf_volcano = pd.DataFrame([fdr[1], effectsize]).T\n",
    "tf_volcano.columns = ['P', 'EFFECTSIZE']\n",
    "tf_volcano['EFFECTSIZE'] = np.log10(tf_volcano['EFFECTSIZE'])\n",
    "tf_volcano['SNP'] = ''\n",
    "tf_volcano['GENE'] = hallmark.Description\n",
    "tf_volcano.head(3)"
   ]
  },
  {
   "cell_type": "code",
   "execution_count": 202,
   "metadata": {},
   "outputs": [
    {
     "data": {
      "application/vnd.plotly.v1+json": {
       "config": {
        "plotlyServerURL": "https://plot.ly"
       },
       "data": [
        {
         "marker": {
          "color": "red",
          "size": 7
         },
         "mode": "markers",
         "name": "Point(s) of interest",
         "text": [
          "SNP: <br>GENE: HALLMARK_OXIDATIVE_PHOSPHORYLATION",
          "SNP: <br>GENE: HALLMARK_TNFA_SIGNALING_VIA_NFKB",
          "SNP: <br>GENE: HALLMARK_DNA_REPAIR",
          "SNP: <br>GENE: HALLMARK_COMPLEMENT",
          "SNP: <br>GENE: HALLMARK_APOPTOSIS",
          "SNP: <br>GENE: HALLMARK_E2F_TARGETS",
          "SNP: <br>GENE: HALLMARK_UV_RESPONSE_DN",
          "SNP: <br>GENE: HALLMARK_ANGIOGENESIS",
          "SNP: <br>GENE: HALLMARK_PANCREAS_BETA_CELLS",
          "SNP: <br>GENE: HALLMARK_PROTEIN_SECRETION",
          "SNP: <br>GENE: HALLMARK_HEME_METABOLISM",
          "SNP: <br>GENE: HALLMARK_MITOTIC_SPINDLE",
          "SNP: <br>GENE: HALLMARK_KRAS_SIGNALING_UP",
          "SNP: <br>GENE: HALLMARK_APICAL_SURFACE",
          "SNP: <br>GENE: HALLMARK_APICAL_JUNCTION",
          "SNP: <br>GENE: HALLMARK_KRAS_SIGNALING_DN"
         ],
         "type": "scattergl",
         "x": [
          1.61844193370967,
          -1.2304505699940105,
          -2.1548459602283554,
          -1.0132675840295475,
          -1.0909138668575644,
          -1.850457023849314,
          -2.2999575079428216,
          -2.7980028839506454,
          -1.8293365436809539,
          -1.7350847981428845,
          -1.3231470560491398,
          -1.6930859698162721,
          -1.0395122667219265,
          -1.6306922080720214,
          -1.3706430201106423,
          -1.4437594509305363
         ],
         "y": [
          50.5403308231704,
          169.02736098043164,
          202.27717964224132,
          262.7570667267247,
          223.47622942165074,
          164.10440045789787,
          231.52081499483762,
          232.72469877561525,
          87.12377976262451,
          206.00546702451385,
          192.92017899464668,
          226.27928758489668,
          210.6398382486446,
          252.96825096197813,
          195.9325702992501,
          201.31598666469165
         ]
        },
        {
         "marker": {
          "color": "#2186f4",
          "size": 7
         },
         "mode": "markers",
         "name": "Dataset",
         "text": [
          "SNP: <br>GENE: HALLMARK_MTORC1_SIGNALING",
          "SNP: <br>GENE: HALLMARK_MYC_TARGETS_V2",
          "SNP: <br>GENE: HALLMARK_INTERFERON_GAMMA_RESPONSE",
          "SNP: <br>GENE: HALLMARK_MYC_TARGETS_V1",
          "SNP: <br>GENE: HALLMARK_GLYCOLYSIS",
          "SNP: <br>GENE: HALLMARK_UNFOLDED_PROTEIN_RESPONSE",
          "SNP: <br>GENE: HALLMARK_HYPOXIA",
          "SNP: <br>GENE: HALLMARK_EPITHELIAL_MESENCHYMAL_TRANSITION",
          "SNP: <br>GENE: HALLMARK_INTERFERON_ALPHA_RESPONSE",
          "SNP: <br>GENE: HALLMARK_XENOBIOTIC_METABOLISM",
          "SNP: <br>GENE: HALLMARK_REACTIVE_OXYGEN_SPECIES_PATHWAY",
          "SNP: <br>GENE: HALLMARK_INFLAMMATORY_RESPONSE",
          "SNP: <br>GENE: HALLMARK_IL6_JAK_STAT3_SIGNALING",
          "SNP: <br>GENE: HALLMARK_FATTY_ACID_METABOLISM",
          "SNP: <br>GENE: HALLMARK_UV_RESPONSE_UP",
          "SNP: <br>GENE: HALLMARK_ADIPOGENESIS",
          "SNP: <br>GENE: HALLMARK_COAGULATION",
          "SNP: <br>GENE: HALLMARK_PI3K_AKT_MTOR_SIGNALING",
          "SNP: <br>GENE: HALLMARK_HEDGEHOG_SIGNALING",
          "SNP: <br>GENE: HALLMARK_ALLOGRAFT_REJECTION",
          "SNP: <br>GENE: HALLMARK_PEROXISOME",
          "SNP: <br>GENE: HALLMARK_P53_PATHWAY",
          "SNP: <br>GENE: HALLMARK_IL2_STAT5_SIGNALING",
          "SNP: <br>GENE: HALLMARK_G2M_CHECKPOINT",
          "SNP: <br>GENE: HALLMARK_CHOLESTEROL_HOMEOSTASIS",
          "SNP: <br>GENE: HALLMARK_BILE_ACID_METABOLISM",
          "SNP: <br>GENE: HALLMARK_TGF_BETA_SIGNALING",
          "SNP: <br>GENE: HALLMARK_ANDROGEN_RESPONSE",
          "SNP: <br>GENE: HALLMARK_SPERMATOGENESIS",
          "SNP: <br>GENE: HALLMARK_NOTCH_SIGNALING",
          "SNP: <br>GENE: HALLMARK_MYOGENESIS",
          "SNP: <br>GENE: HALLMARK_ESTROGEN_RESPONSE_EARLY",
          "SNP: <br>GENE: HALLMARK_ESTROGEN_RESPONSE_LATE",
          "SNP: <br>GENE: HALLMARK_WNT_BETA_CATENIN_SIGNALING"
         ],
         "type": "scattergl",
         "x": [
          -0.5554149656068521,
          -0.17755480402492632,
          -0.244459343564361,
          -0.7171533917661224,
          -0.7774268277606499,
          -0.3995975009824415,
          -0.8455437337895387,
          -0.35671376335045357,
          0.6320019393697951,
          -0.5049475765106004,
          -0.5514355874933927,
          -0.937239500469521,
          -0.6860484066074403,
          -0.16521096704606153,
          -0.09497143592236384,
          -0.9305810571811737,
          -0.8267890509737568,
          0.25189928483571683,
          -0.04965040096887136,
          -0.4382677930375749,
          -0.8816608479365058,
          -0.3810913861174141,
          -0.6974458241090733,
          -0.7267381861748811,
          -0.9006200473663905,
          -0.679904918361889,
          -0.9841706164536339,
          -0.5693461699324507,
          -0.1243490061399623,
          -0.9345818735523946,
          -0.3089361990560648,
          -0.500743464963042,
          -0.6117207196123678,
          -0.3349321957340782
         ],
         "y": [
          209.6983057434481,
          181.90069122409065,
          216.29016555598778,
          205.7829166248486,
          240.14606777677648,
          213.89906165397687,
          176.1721637612303,
          65.98260508843751,
          3.209838808510929,
          76.66924064031883,
          192.64486045666527,
          244.1170775993226,
          209.27189111940422,
          209.3180626307561,
          124.22847103578044,
          189.96166043324868,
          145.99623151635177,
          104.59922852733993,
          7.8081303152082,
          149.0972632121484,
          242.39566797445482,
          46.4013849484185,
          197.88031693211627,
          118.15912296142724,
          135.19710230379337,
          225.08723572768324,
          216.33278248992812,
          194.59244388059884,
          21.231431248628773,
          214.55053581870925,
          174.48302700870047,
          190.31914499941547,
          185.55728116824892,
          163.95419444057725
         ]
        }
       ],
       "layout": {
        "hovermode": "closest",
        "legend": {
         "bgcolor": "#ebf1fa",
         "font": {
          "family": "sans-serif"
         },
         "x": 1.01,
         "yanchor": "top"
        },
        "shapes": [
         {
          "line": {
           "color": "grey",
           "dash": "dash",
           "width": 0.5
          },
          "name": "effect size min line",
          "type": "line",
          "x0": -1,
          "x1": -1,
          "xref": "x",
          "y0": 3.209838808510929,
          "y1": 262.7570667267247,
          "yref": "y"
         },
         {
          "line": {
           "color": "grey",
           "dash": "dash",
           "width": 0.5
          },
          "name": "effect size max line",
          "type": "line",
          "x0": 1,
          "x1": 1,
          "xref": "x",
          "y0": 3.209838808510929,
          "y1": 262.7570667267247,
          "yref": "y"
         },
         {
          "line": {
           "color": "grey",
           "dash": "dash",
           "width": 1
          },
          "name": "genomewide_line",
          "type": "line",
          "x0": -2.937903028148178,
          "x1": 2.937903028148178,
          "xref": "x",
          "y0": 7.301029995663981,
          "y1": 7.301029995663981,
          "yref": "y"
         }
        ],
        "template": {
         "data": {
          "bar": [
           {
            "error_x": {
             "color": "#2a3f5f"
            },
            "error_y": {
             "color": "#2a3f5f"
            },
            "marker": {
             "line": {
              "color": "#E5ECF6",
              "width": 0.5
             },
             "pattern": {
              "fillmode": "overlay",
              "size": 10,
              "solidity": 0.2
             }
            },
            "type": "bar"
           }
          ],
          "barpolar": [
           {
            "marker": {
             "line": {
              "color": "#E5ECF6",
              "width": 0.5
             },
             "pattern": {
              "fillmode": "overlay",
              "size": 10,
              "solidity": 0.2
             }
            },
            "type": "barpolar"
           }
          ],
          "carpet": [
           {
            "aaxis": {
             "endlinecolor": "#2a3f5f",
             "gridcolor": "white",
             "linecolor": "white",
             "minorgridcolor": "white",
             "startlinecolor": "#2a3f5f"
            },
            "baxis": {
             "endlinecolor": "#2a3f5f",
             "gridcolor": "white",
             "linecolor": "white",
             "minorgridcolor": "white",
             "startlinecolor": "#2a3f5f"
            },
            "type": "carpet"
           }
          ],
          "choropleth": [
           {
            "colorbar": {
             "outlinewidth": 0,
             "ticks": ""
            },
            "type": "choropleth"
           }
          ],
          "contour": [
           {
            "colorbar": {
             "outlinewidth": 0,
             "ticks": ""
            },
            "colorscale": [
             [
              0,
              "#0d0887"
             ],
             [
              0.1111111111111111,
              "#46039f"
             ],
             [
              0.2222222222222222,
              "#7201a8"
             ],
             [
              0.3333333333333333,
              "#9c179e"
             ],
             [
              0.4444444444444444,
              "#bd3786"
             ],
             [
              0.5555555555555556,
              "#d8576b"
             ],
             [
              0.6666666666666666,
              "#ed7953"
             ],
             [
              0.7777777777777778,
              "#fb9f3a"
             ],
             [
              0.8888888888888888,
              "#fdca26"
             ],
             [
              1,
              "#f0f921"
             ]
            ],
            "type": "contour"
           }
          ],
          "contourcarpet": [
           {
            "colorbar": {
             "outlinewidth": 0,
             "ticks": ""
            },
            "type": "contourcarpet"
           }
          ],
          "heatmap": [
           {
            "colorbar": {
             "outlinewidth": 0,
             "ticks": ""
            },
            "colorscale": [
             [
              0,
              "#0d0887"
             ],
             [
              0.1111111111111111,
              "#46039f"
             ],
             [
              0.2222222222222222,
              "#7201a8"
             ],
             [
              0.3333333333333333,
              "#9c179e"
             ],
             [
              0.4444444444444444,
              "#bd3786"
             ],
             [
              0.5555555555555556,
              "#d8576b"
             ],
             [
              0.6666666666666666,
              "#ed7953"
             ],
             [
              0.7777777777777778,
              "#fb9f3a"
             ],
             [
              0.8888888888888888,
              "#fdca26"
             ],
             [
              1,
              "#f0f921"
             ]
            ],
            "type": "heatmap"
           }
          ],
          "heatmapgl": [
           {
            "colorbar": {
             "outlinewidth": 0,
             "ticks": ""
            },
            "colorscale": [
             [
              0,
              "#0d0887"
             ],
             [
              0.1111111111111111,
              "#46039f"
             ],
             [
              0.2222222222222222,
              "#7201a8"
             ],
             [
              0.3333333333333333,
              "#9c179e"
             ],
             [
              0.4444444444444444,
              "#bd3786"
             ],
             [
              0.5555555555555556,
              "#d8576b"
             ],
             [
              0.6666666666666666,
              "#ed7953"
             ],
             [
              0.7777777777777778,
              "#fb9f3a"
             ],
             [
              0.8888888888888888,
              "#fdca26"
             ],
             [
              1,
              "#f0f921"
             ]
            ],
            "type": "heatmapgl"
           }
          ],
          "histogram": [
           {
            "marker": {
             "pattern": {
              "fillmode": "overlay",
              "size": 10,
              "solidity": 0.2
             }
            },
            "type": "histogram"
           }
          ],
          "histogram2d": [
           {
            "colorbar": {
             "outlinewidth": 0,
             "ticks": ""
            },
            "colorscale": [
             [
              0,
              "#0d0887"
             ],
             [
              0.1111111111111111,
              "#46039f"
             ],
             [
              0.2222222222222222,
              "#7201a8"
             ],
             [
              0.3333333333333333,
              "#9c179e"
             ],
             [
              0.4444444444444444,
              "#bd3786"
             ],
             [
              0.5555555555555556,
              "#d8576b"
             ],
             [
              0.6666666666666666,
              "#ed7953"
             ],
             [
              0.7777777777777778,
              "#fb9f3a"
             ],
             [
              0.8888888888888888,
              "#fdca26"
             ],
             [
              1,
              "#f0f921"
             ]
            ],
            "type": "histogram2d"
           }
          ],
          "histogram2dcontour": [
           {
            "colorbar": {
             "outlinewidth": 0,
             "ticks": ""
            },
            "colorscale": [
             [
              0,
              "#0d0887"
             ],
             [
              0.1111111111111111,
              "#46039f"
             ],
             [
              0.2222222222222222,
              "#7201a8"
             ],
             [
              0.3333333333333333,
              "#9c179e"
             ],
             [
              0.4444444444444444,
              "#bd3786"
             ],
             [
              0.5555555555555556,
              "#d8576b"
             ],
             [
              0.6666666666666666,
              "#ed7953"
             ],
             [
              0.7777777777777778,
              "#fb9f3a"
             ],
             [
              0.8888888888888888,
              "#fdca26"
             ],
             [
              1,
              "#f0f921"
             ]
            ],
            "type": "histogram2dcontour"
           }
          ],
          "mesh3d": [
           {
            "colorbar": {
             "outlinewidth": 0,
             "ticks": ""
            },
            "type": "mesh3d"
           }
          ],
          "parcoords": [
           {
            "line": {
             "colorbar": {
              "outlinewidth": 0,
              "ticks": ""
             }
            },
            "type": "parcoords"
           }
          ],
          "pie": [
           {
            "automargin": true,
            "type": "pie"
           }
          ],
          "scatter": [
           {
            "fillpattern": {
             "fillmode": "overlay",
             "size": 10,
             "solidity": 0.2
            },
            "type": "scatter"
           }
          ],
          "scatter3d": [
           {
            "line": {
             "colorbar": {
              "outlinewidth": 0,
              "ticks": ""
             }
            },
            "marker": {
             "colorbar": {
              "outlinewidth": 0,
              "ticks": ""
             }
            },
            "type": "scatter3d"
           }
          ],
          "scattercarpet": [
           {
            "marker": {
             "colorbar": {
              "outlinewidth": 0,
              "ticks": ""
             }
            },
            "type": "scattercarpet"
           }
          ],
          "scattergeo": [
           {
            "marker": {
             "colorbar": {
              "outlinewidth": 0,
              "ticks": ""
             }
            },
            "type": "scattergeo"
           }
          ],
          "scattergl": [
           {
            "marker": {
             "colorbar": {
              "outlinewidth": 0,
              "ticks": ""
             }
            },
            "type": "scattergl"
           }
          ],
          "scattermapbox": [
           {
            "marker": {
             "colorbar": {
              "outlinewidth": 0,
              "ticks": ""
             }
            },
            "type": "scattermapbox"
           }
          ],
          "scatterpolar": [
           {
            "marker": {
             "colorbar": {
              "outlinewidth": 0,
              "ticks": ""
             }
            },
            "type": "scatterpolar"
           }
          ],
          "scatterpolargl": [
           {
            "marker": {
             "colorbar": {
              "outlinewidth": 0,
              "ticks": ""
             }
            },
            "type": "scatterpolargl"
           }
          ],
          "scatterternary": [
           {
            "marker": {
             "colorbar": {
              "outlinewidth": 0,
              "ticks": ""
             }
            },
            "type": "scatterternary"
           }
          ],
          "surface": [
           {
            "colorbar": {
             "outlinewidth": 0,
             "ticks": ""
            },
            "colorscale": [
             [
              0,
              "#0d0887"
             ],
             [
              0.1111111111111111,
              "#46039f"
             ],
             [
              0.2222222222222222,
              "#7201a8"
             ],
             [
              0.3333333333333333,
              "#9c179e"
             ],
             [
              0.4444444444444444,
              "#bd3786"
             ],
             [
              0.5555555555555556,
              "#d8576b"
             ],
             [
              0.6666666666666666,
              "#ed7953"
             ],
             [
              0.7777777777777778,
              "#fb9f3a"
             ],
             [
              0.8888888888888888,
              "#fdca26"
             ],
             [
              1,
              "#f0f921"
             ]
            ],
            "type": "surface"
           }
          ],
          "table": [
           {
            "cells": {
             "fill": {
              "color": "#EBF0F8"
             },
             "line": {
              "color": "white"
             }
            },
            "header": {
             "fill": {
              "color": "#C8D4E3"
             },
             "line": {
              "color": "white"
             }
            },
            "type": "table"
           }
          ]
         },
         "layout": {
          "annotationdefaults": {
           "arrowcolor": "#2a3f5f",
           "arrowhead": 0,
           "arrowwidth": 1
          },
          "autotypenumbers": "strict",
          "coloraxis": {
           "colorbar": {
            "outlinewidth": 0,
            "ticks": ""
           }
          },
          "colorscale": {
           "diverging": [
            [
             0,
             "#8e0152"
            ],
            [
             0.1,
             "#c51b7d"
            ],
            [
             0.2,
             "#de77ae"
            ],
            [
             0.3,
             "#f1b6da"
            ],
            [
             0.4,
             "#fde0ef"
            ],
            [
             0.5,
             "#f7f7f7"
            ],
            [
             0.6,
             "#e6f5d0"
            ],
            [
             0.7,
             "#b8e186"
            ],
            [
             0.8,
             "#7fbc41"
            ],
            [
             0.9,
             "#4d9221"
            ],
            [
             1,
             "#276419"
            ]
           ],
           "sequential": [
            [
             0,
             "#0d0887"
            ],
            [
             0.1111111111111111,
             "#46039f"
            ],
            [
             0.2222222222222222,
             "#7201a8"
            ],
            [
             0.3333333333333333,
             "#9c179e"
            ],
            [
             0.4444444444444444,
             "#bd3786"
            ],
            [
             0.5555555555555556,
             "#d8576b"
            ],
            [
             0.6666666666666666,
             "#ed7953"
            ],
            [
             0.7777777777777778,
             "#fb9f3a"
            ],
            [
             0.8888888888888888,
             "#fdca26"
            ],
            [
             1,
             "#f0f921"
            ]
           ],
           "sequentialminus": [
            [
             0,
             "#0d0887"
            ],
            [
             0.1111111111111111,
             "#46039f"
            ],
            [
             0.2222222222222222,
             "#7201a8"
            ],
            [
             0.3333333333333333,
             "#9c179e"
            ],
            [
             0.4444444444444444,
             "#bd3786"
            ],
            [
             0.5555555555555556,
             "#d8576b"
            ],
            [
             0.6666666666666666,
             "#ed7953"
            ],
            [
             0.7777777777777778,
             "#fb9f3a"
            ],
            [
             0.8888888888888888,
             "#fdca26"
            ],
            [
             1,
             "#f0f921"
            ]
           ]
          },
          "colorway": [
           "#636efa",
           "#EF553B",
           "#00cc96",
           "#ab63fa",
           "#FFA15A",
           "#19d3f3",
           "#FF6692",
           "#B6E880",
           "#FF97FF",
           "#FECB52"
          ],
          "font": {
           "color": "#2a3f5f"
          },
          "geo": {
           "bgcolor": "white",
           "lakecolor": "white",
           "landcolor": "#E5ECF6",
           "showlakes": true,
           "showland": true,
           "subunitcolor": "white"
          },
          "hoverlabel": {
           "align": "left"
          },
          "hovermode": "closest",
          "mapbox": {
           "style": "light"
          },
          "paper_bgcolor": "white",
          "plot_bgcolor": "#E5ECF6",
          "polar": {
           "angularaxis": {
            "gridcolor": "white",
            "linecolor": "white",
            "ticks": ""
           },
           "bgcolor": "#E5ECF6",
           "radialaxis": {
            "gridcolor": "white",
            "linecolor": "white",
            "ticks": ""
           }
          },
          "scene": {
           "xaxis": {
            "backgroundcolor": "#E5ECF6",
            "gridcolor": "white",
            "gridwidth": 2,
            "linecolor": "white",
            "showbackground": true,
            "ticks": "",
            "zerolinecolor": "white"
           },
           "yaxis": {
            "backgroundcolor": "#E5ECF6",
            "gridcolor": "white",
            "gridwidth": 2,
            "linecolor": "white",
            "showbackground": true,
            "ticks": "",
            "zerolinecolor": "white"
           },
           "zaxis": {
            "backgroundcolor": "#E5ECF6",
            "gridcolor": "white",
            "gridwidth": 2,
            "linecolor": "white",
            "showbackground": true,
            "ticks": "",
            "zerolinecolor": "white"
           }
          },
          "shapedefaults": {
           "line": {
            "color": "#2a3f5f"
           }
          },
          "ternary": {
           "aaxis": {
            "gridcolor": "white",
            "linecolor": "white",
            "ticks": ""
           },
           "baxis": {
            "gridcolor": "white",
            "linecolor": "white",
            "ticks": ""
           },
           "bgcolor": "#E5ECF6",
           "caxis": {
            "gridcolor": "white",
            "linecolor": "white",
            "ticks": ""
           }
          },
          "title": {
           "x": 0.05
          },
          "xaxis": {
           "automargin": true,
           "gridcolor": "white",
           "linecolor": "white",
           "ticks": "",
           "title": {
            "standoff": 15
           },
           "zerolinecolor": "white",
           "zerolinewidth": 2
          },
          "yaxis": {
           "automargin": true,
           "gridcolor": "white",
           "linecolor": "white",
           "ticks": "",
           "title": {
            "standoff": 15
           },
           "zerolinecolor": "white",
           "zerolinewidth": 2
          }
         }
        },
        "title": {
         "font": {
          "family": "sans-serif",
          "size": 20
         },
         "text": "Volcano Plot",
         "x": 0.5,
         "xanchor": "right",
         "yanchor": "top"
        },
        "xaxis": {
         "range": [
          -2.937903028148178,
          2.937903028148178
         ],
         "title": {
          "text": "Effect Size"
         },
         "zeroline": false
        },
        "yaxis": {
         "title": {
          "text": "-log10(p)"
         },
         "zeroline": false
        }
       }
      },
      "text/html": [
       "<div>                            <div id=\"4abd2fab-0bc8-4547-af84-c5b3076f6222\" class=\"plotly-graph-div\" style=\"height:525px; width:100%;\"></div>            <script type=\"text/javascript\">                require([\"plotly\"], function(Plotly) {                    window.PLOTLYENV=window.PLOTLYENV || {};                                    if (document.getElementById(\"4abd2fab-0bc8-4547-af84-c5b3076f6222\")) {                    Plotly.newPlot(                        \"4abd2fab-0bc8-4547-af84-c5b3076f6222\",                        [{\"marker\":{\"color\":\"red\",\"size\":7},\"mode\":\"markers\",\"name\":\"Point(s) of interest\",\"text\":[\"SNP: <br>GENE: HALLMARK_OXIDATIVE_PHOSPHORYLATION\",\"SNP: <br>GENE: HALLMARK_TNFA_SIGNALING_VIA_NFKB\",\"SNP: <br>GENE: HALLMARK_DNA_REPAIR\",\"SNP: <br>GENE: HALLMARK_COMPLEMENT\",\"SNP: <br>GENE: HALLMARK_APOPTOSIS\",\"SNP: <br>GENE: HALLMARK_E2F_TARGETS\",\"SNP: <br>GENE: HALLMARK_UV_RESPONSE_DN\",\"SNP: <br>GENE: HALLMARK_ANGIOGENESIS\",\"SNP: <br>GENE: HALLMARK_PANCREAS_BETA_CELLS\",\"SNP: <br>GENE: HALLMARK_PROTEIN_SECRETION\",\"SNP: <br>GENE: HALLMARK_HEME_METABOLISM\",\"SNP: <br>GENE: HALLMARK_MITOTIC_SPINDLE\",\"SNP: <br>GENE: HALLMARK_KRAS_SIGNALING_UP\",\"SNP: <br>GENE: HALLMARK_APICAL_SURFACE\",\"SNP: <br>GENE: HALLMARK_APICAL_JUNCTION\",\"SNP: <br>GENE: HALLMARK_KRAS_SIGNALING_DN\"],\"x\":[1.61844193370967,-1.2304505699940105,-2.1548459602283554,-1.0132675840295475,-1.0909138668575644,-1.850457023849314,-2.2999575079428216,-2.7980028839506454,-1.8293365436809539,-1.7350847981428845,-1.3231470560491398,-1.6930859698162721,-1.0395122667219265,-1.6306922080720214,-1.3706430201106423,-1.4437594509305363],\"y\":[50.5403308231704,169.02736098043164,202.27717964224132,262.7570667267247,223.47622942165074,164.10440045789787,231.52081499483762,232.72469877561525,87.12377976262451,206.00546702451385,192.92017899464668,226.27928758489668,210.6398382486446,252.96825096197813,195.9325702992501,201.31598666469165],\"type\":\"scattergl\"},{\"marker\":{\"color\":\"#2186f4\",\"size\":7},\"mode\":\"markers\",\"name\":\"Dataset\",\"text\":[\"SNP: <br>GENE: HALLMARK_MTORC1_SIGNALING\",\"SNP: <br>GENE: HALLMARK_MYC_TARGETS_V2\",\"SNP: <br>GENE: HALLMARK_INTERFERON_GAMMA_RESPONSE\",\"SNP: <br>GENE: HALLMARK_MYC_TARGETS_V1\",\"SNP: <br>GENE: HALLMARK_GLYCOLYSIS\",\"SNP: <br>GENE: HALLMARK_UNFOLDED_PROTEIN_RESPONSE\",\"SNP: <br>GENE: HALLMARK_HYPOXIA\",\"SNP: <br>GENE: HALLMARK_EPITHELIAL_MESENCHYMAL_TRANSITION\",\"SNP: <br>GENE: HALLMARK_INTERFERON_ALPHA_RESPONSE\",\"SNP: <br>GENE: HALLMARK_XENOBIOTIC_METABOLISM\",\"SNP: <br>GENE: HALLMARK_REACTIVE_OXYGEN_SPECIES_PATHWAY\",\"SNP: <br>GENE: HALLMARK_INFLAMMATORY_RESPONSE\",\"SNP: <br>GENE: HALLMARK_IL6_JAK_STAT3_SIGNALING\",\"SNP: <br>GENE: HALLMARK_FATTY_ACID_METABOLISM\",\"SNP: <br>GENE: HALLMARK_UV_RESPONSE_UP\",\"SNP: <br>GENE: HALLMARK_ADIPOGENESIS\",\"SNP: <br>GENE: HALLMARK_COAGULATION\",\"SNP: <br>GENE: HALLMARK_PI3K_AKT_MTOR_SIGNALING\",\"SNP: <br>GENE: HALLMARK_HEDGEHOG_SIGNALING\",\"SNP: <br>GENE: HALLMARK_ALLOGRAFT_REJECTION\",\"SNP: <br>GENE: HALLMARK_PEROXISOME\",\"SNP: <br>GENE: HALLMARK_P53_PATHWAY\",\"SNP: <br>GENE: HALLMARK_IL2_STAT5_SIGNALING\",\"SNP: <br>GENE: HALLMARK_G2M_CHECKPOINT\",\"SNP: <br>GENE: HALLMARK_CHOLESTEROL_HOMEOSTASIS\",\"SNP: <br>GENE: HALLMARK_BILE_ACID_METABOLISM\",\"SNP: <br>GENE: HALLMARK_TGF_BETA_SIGNALING\",\"SNP: <br>GENE: HALLMARK_ANDROGEN_RESPONSE\",\"SNP: <br>GENE: HALLMARK_SPERMATOGENESIS\",\"SNP: <br>GENE: HALLMARK_NOTCH_SIGNALING\",\"SNP: <br>GENE: HALLMARK_MYOGENESIS\",\"SNP: <br>GENE: HALLMARK_ESTROGEN_RESPONSE_EARLY\",\"SNP: <br>GENE: HALLMARK_ESTROGEN_RESPONSE_LATE\",\"SNP: <br>GENE: HALLMARK_WNT_BETA_CATENIN_SIGNALING\"],\"x\":[-0.5554149656068521,-0.17755480402492632,-0.244459343564361,-0.7171533917661224,-0.7774268277606499,-0.3995975009824415,-0.8455437337895387,-0.35671376335045357,0.6320019393697951,-0.5049475765106004,-0.5514355874933927,-0.937239500469521,-0.6860484066074403,-0.16521096704606153,-0.09497143592236384,-0.9305810571811737,-0.8267890509737568,0.25189928483571683,-0.04965040096887136,-0.4382677930375749,-0.8816608479365058,-0.3810913861174141,-0.6974458241090733,-0.7267381861748811,-0.9006200473663905,-0.679904918361889,-0.9841706164536339,-0.5693461699324507,-0.1243490061399623,-0.9345818735523946,-0.3089361990560648,-0.500743464963042,-0.6117207196123678,-0.3349321957340782],\"y\":[209.6983057434481,181.90069122409065,216.29016555598778,205.7829166248486,240.14606777677648,213.89906165397687,176.1721637612303,65.98260508843751,3.209838808510929,76.66924064031883,192.64486045666527,244.1170775993226,209.27189111940422,209.3180626307561,124.22847103578044,189.96166043324868,145.99623151635177,104.59922852733993,7.8081303152082,149.0972632121484,242.39566797445482,46.4013849484185,197.88031693211627,118.15912296142724,135.19710230379337,225.08723572768324,216.33278248992812,194.59244388059884,21.231431248628773,214.55053581870925,174.48302700870047,190.31914499941547,185.55728116824892,163.95419444057725],\"type\":\"scattergl\"}],                        {\"hovermode\":\"closest\",\"legend\":{\"bgcolor\":\"#ebf1fa\",\"font\":{\"family\":\"sans-serif\"},\"x\":1.01,\"yanchor\":\"top\"},\"shapes\":[{\"line\":{\"color\":\"grey\",\"dash\":\"dash\",\"width\":0.5},\"name\":\"effect size min line\",\"type\":\"line\",\"x0\":-1,\"x1\":-1,\"xref\":\"x\",\"y0\":3.209838808510929,\"y1\":262.7570667267247,\"yref\":\"y\"},{\"line\":{\"color\":\"grey\",\"dash\":\"dash\",\"width\":0.5},\"name\":\"effect size max line\",\"type\":\"line\",\"x0\":1,\"x1\":1,\"xref\":\"x\",\"y0\":3.209838808510929,\"y1\":262.7570667267247,\"yref\":\"y\"},{\"line\":{\"color\":\"grey\",\"dash\":\"dash\",\"width\":1},\"name\":\"genomewide_line\",\"type\":\"line\",\"x0\":-2.937903028148178,\"x1\":2.937903028148178,\"xref\":\"x\",\"y0\":7.301029995663981,\"y1\":7.301029995663981,\"yref\":\"y\"}],\"title\":{\"font\":{\"family\":\"sans-serif\",\"size\":20},\"text\":\"Volcano Plot\",\"x\":0.5,\"xanchor\":\"right\",\"yanchor\":\"top\"},\"xaxis\":{\"range\":[-2.937903028148178,2.937903028148178],\"title\":{\"text\":\"Effect Size\"},\"zeroline\":false},\"yaxis\":{\"title\":{\"text\":\"-log10(p)\"},\"zeroline\":false},\"template\":{\"data\":{\"histogram2dcontour\":[{\"type\":\"histogram2dcontour\",\"colorbar\":{\"outlinewidth\":0,\"ticks\":\"\"},\"colorscale\":[[0.0,\"#0d0887\"],[0.1111111111111111,\"#46039f\"],[0.2222222222222222,\"#7201a8\"],[0.3333333333333333,\"#9c179e\"],[0.4444444444444444,\"#bd3786\"],[0.5555555555555556,\"#d8576b\"],[0.6666666666666666,\"#ed7953\"],[0.7777777777777778,\"#fb9f3a\"],[0.8888888888888888,\"#fdca26\"],[1.0,\"#f0f921\"]]}],\"choropleth\":[{\"type\":\"choropleth\",\"colorbar\":{\"outlinewidth\":0,\"ticks\":\"\"}}],\"histogram2d\":[{\"type\":\"histogram2d\",\"colorbar\":{\"outlinewidth\":0,\"ticks\":\"\"},\"colorscale\":[[0.0,\"#0d0887\"],[0.1111111111111111,\"#46039f\"],[0.2222222222222222,\"#7201a8\"],[0.3333333333333333,\"#9c179e\"],[0.4444444444444444,\"#bd3786\"],[0.5555555555555556,\"#d8576b\"],[0.6666666666666666,\"#ed7953\"],[0.7777777777777778,\"#fb9f3a\"],[0.8888888888888888,\"#fdca26\"],[1.0,\"#f0f921\"]]}],\"heatmap\":[{\"type\":\"heatmap\",\"colorbar\":{\"outlinewidth\":0,\"ticks\":\"\"},\"colorscale\":[[0.0,\"#0d0887\"],[0.1111111111111111,\"#46039f\"],[0.2222222222222222,\"#7201a8\"],[0.3333333333333333,\"#9c179e\"],[0.4444444444444444,\"#bd3786\"],[0.5555555555555556,\"#d8576b\"],[0.6666666666666666,\"#ed7953\"],[0.7777777777777778,\"#fb9f3a\"],[0.8888888888888888,\"#fdca26\"],[1.0,\"#f0f921\"]]}],\"heatmapgl\":[{\"type\":\"heatmapgl\",\"colorbar\":{\"outlinewidth\":0,\"ticks\":\"\"},\"colorscale\":[[0.0,\"#0d0887\"],[0.1111111111111111,\"#46039f\"],[0.2222222222222222,\"#7201a8\"],[0.3333333333333333,\"#9c179e\"],[0.4444444444444444,\"#bd3786\"],[0.5555555555555556,\"#d8576b\"],[0.6666666666666666,\"#ed7953\"],[0.7777777777777778,\"#fb9f3a\"],[0.8888888888888888,\"#fdca26\"],[1.0,\"#f0f921\"]]}],\"contourcarpet\":[{\"type\":\"contourcarpet\",\"colorbar\":{\"outlinewidth\":0,\"ticks\":\"\"}}],\"contour\":[{\"type\":\"contour\",\"colorbar\":{\"outlinewidth\":0,\"ticks\":\"\"},\"colorscale\":[[0.0,\"#0d0887\"],[0.1111111111111111,\"#46039f\"],[0.2222222222222222,\"#7201a8\"],[0.3333333333333333,\"#9c179e\"],[0.4444444444444444,\"#bd3786\"],[0.5555555555555556,\"#d8576b\"],[0.6666666666666666,\"#ed7953\"],[0.7777777777777778,\"#fb9f3a\"],[0.8888888888888888,\"#fdca26\"],[1.0,\"#f0f921\"]]}],\"surface\":[{\"type\":\"surface\",\"colorbar\":{\"outlinewidth\":0,\"ticks\":\"\"},\"colorscale\":[[0.0,\"#0d0887\"],[0.1111111111111111,\"#46039f\"],[0.2222222222222222,\"#7201a8\"],[0.3333333333333333,\"#9c179e\"],[0.4444444444444444,\"#bd3786\"],[0.5555555555555556,\"#d8576b\"],[0.6666666666666666,\"#ed7953\"],[0.7777777777777778,\"#fb9f3a\"],[0.8888888888888888,\"#fdca26\"],[1.0,\"#f0f921\"]]}],\"mesh3d\":[{\"type\":\"mesh3d\",\"colorbar\":{\"outlinewidth\":0,\"ticks\":\"\"}}],\"scatter\":[{\"fillpattern\":{\"fillmode\":\"overlay\",\"size\":10,\"solidity\":0.2},\"type\":\"scatter\"}],\"parcoords\":[{\"type\":\"parcoords\",\"line\":{\"colorbar\":{\"outlinewidth\":0,\"ticks\":\"\"}}}],\"scatterpolargl\":[{\"type\":\"scatterpolargl\",\"marker\":{\"colorbar\":{\"outlinewidth\":0,\"ticks\":\"\"}}}],\"bar\":[{\"error_x\":{\"color\":\"#2a3f5f\"},\"error_y\":{\"color\":\"#2a3f5f\"},\"marker\":{\"line\":{\"color\":\"#E5ECF6\",\"width\":0.5},\"pattern\":{\"fillmode\":\"overlay\",\"size\":10,\"solidity\":0.2}},\"type\":\"bar\"}],\"scattergeo\":[{\"type\":\"scattergeo\",\"marker\":{\"colorbar\":{\"outlinewidth\":0,\"ticks\":\"\"}}}],\"scatterpolar\":[{\"type\":\"scatterpolar\",\"marker\":{\"colorbar\":{\"outlinewidth\":0,\"ticks\":\"\"}}}],\"histogram\":[{\"marker\":{\"pattern\":{\"fillmode\":\"overlay\",\"size\":10,\"solidity\":0.2}},\"type\":\"histogram\"}],\"scattergl\":[{\"type\":\"scattergl\",\"marker\":{\"colorbar\":{\"outlinewidth\":0,\"ticks\":\"\"}}}],\"scatter3d\":[{\"type\":\"scatter3d\",\"line\":{\"colorbar\":{\"outlinewidth\":0,\"ticks\":\"\"}},\"marker\":{\"colorbar\":{\"outlinewidth\":0,\"ticks\":\"\"}}}],\"scattermapbox\":[{\"type\":\"scattermapbox\",\"marker\":{\"colorbar\":{\"outlinewidth\":0,\"ticks\":\"\"}}}],\"scatterternary\":[{\"type\":\"scatterternary\",\"marker\":{\"colorbar\":{\"outlinewidth\":0,\"ticks\":\"\"}}}],\"scattercarpet\":[{\"type\":\"scattercarpet\",\"marker\":{\"colorbar\":{\"outlinewidth\":0,\"ticks\":\"\"}}}],\"carpet\":[{\"aaxis\":{\"endlinecolor\":\"#2a3f5f\",\"gridcolor\":\"white\",\"linecolor\":\"white\",\"minorgridcolor\":\"white\",\"startlinecolor\":\"#2a3f5f\"},\"baxis\":{\"endlinecolor\":\"#2a3f5f\",\"gridcolor\":\"white\",\"linecolor\":\"white\",\"minorgridcolor\":\"white\",\"startlinecolor\":\"#2a3f5f\"},\"type\":\"carpet\"}],\"table\":[{\"cells\":{\"fill\":{\"color\":\"#EBF0F8\"},\"line\":{\"color\":\"white\"}},\"header\":{\"fill\":{\"color\":\"#C8D4E3\"},\"line\":{\"color\":\"white\"}},\"type\":\"table\"}],\"barpolar\":[{\"marker\":{\"line\":{\"color\":\"#E5ECF6\",\"width\":0.5},\"pattern\":{\"fillmode\":\"overlay\",\"size\":10,\"solidity\":0.2}},\"type\":\"barpolar\"}],\"pie\":[{\"automargin\":true,\"type\":\"pie\"}]},\"layout\":{\"autotypenumbers\":\"strict\",\"colorway\":[\"#636efa\",\"#EF553B\",\"#00cc96\",\"#ab63fa\",\"#FFA15A\",\"#19d3f3\",\"#FF6692\",\"#B6E880\",\"#FF97FF\",\"#FECB52\"],\"font\":{\"color\":\"#2a3f5f\"},\"hovermode\":\"closest\",\"hoverlabel\":{\"align\":\"left\"},\"paper_bgcolor\":\"white\",\"plot_bgcolor\":\"#E5ECF6\",\"polar\":{\"bgcolor\":\"#E5ECF6\",\"angularaxis\":{\"gridcolor\":\"white\",\"linecolor\":\"white\",\"ticks\":\"\"},\"radialaxis\":{\"gridcolor\":\"white\",\"linecolor\":\"white\",\"ticks\":\"\"}},\"ternary\":{\"bgcolor\":\"#E5ECF6\",\"aaxis\":{\"gridcolor\":\"white\",\"linecolor\":\"white\",\"ticks\":\"\"},\"baxis\":{\"gridcolor\":\"white\",\"linecolor\":\"white\",\"ticks\":\"\"},\"caxis\":{\"gridcolor\":\"white\",\"linecolor\":\"white\",\"ticks\":\"\"}},\"coloraxis\":{\"colorbar\":{\"outlinewidth\":0,\"ticks\":\"\"}},\"colorscale\":{\"sequential\":[[0.0,\"#0d0887\"],[0.1111111111111111,\"#46039f\"],[0.2222222222222222,\"#7201a8\"],[0.3333333333333333,\"#9c179e\"],[0.4444444444444444,\"#bd3786\"],[0.5555555555555556,\"#d8576b\"],[0.6666666666666666,\"#ed7953\"],[0.7777777777777778,\"#fb9f3a\"],[0.8888888888888888,\"#fdca26\"],[1.0,\"#f0f921\"]],\"sequentialminus\":[[0.0,\"#0d0887\"],[0.1111111111111111,\"#46039f\"],[0.2222222222222222,\"#7201a8\"],[0.3333333333333333,\"#9c179e\"],[0.4444444444444444,\"#bd3786\"],[0.5555555555555556,\"#d8576b\"],[0.6666666666666666,\"#ed7953\"],[0.7777777777777778,\"#fb9f3a\"],[0.8888888888888888,\"#fdca26\"],[1.0,\"#f0f921\"]],\"diverging\":[[0,\"#8e0152\"],[0.1,\"#c51b7d\"],[0.2,\"#de77ae\"],[0.3,\"#f1b6da\"],[0.4,\"#fde0ef\"],[0.5,\"#f7f7f7\"],[0.6,\"#e6f5d0\"],[0.7,\"#b8e186\"],[0.8,\"#7fbc41\"],[0.9,\"#4d9221\"],[1,\"#276419\"]]},\"xaxis\":{\"gridcolor\":\"white\",\"linecolor\":\"white\",\"ticks\":\"\",\"title\":{\"standoff\":15},\"zerolinecolor\":\"white\",\"automargin\":true,\"zerolinewidth\":2},\"yaxis\":{\"gridcolor\":\"white\",\"linecolor\":\"white\",\"ticks\":\"\",\"title\":{\"standoff\":15},\"zerolinecolor\":\"white\",\"automargin\":true,\"zerolinewidth\":2},\"scene\":{\"xaxis\":{\"backgroundcolor\":\"#E5ECF6\",\"gridcolor\":\"white\",\"linecolor\":\"white\",\"showbackground\":true,\"ticks\":\"\",\"zerolinecolor\":\"white\",\"gridwidth\":2},\"yaxis\":{\"backgroundcolor\":\"#E5ECF6\",\"gridcolor\":\"white\",\"linecolor\":\"white\",\"showbackground\":true,\"ticks\":\"\",\"zerolinecolor\":\"white\",\"gridwidth\":2},\"zaxis\":{\"backgroundcolor\":\"#E5ECF6\",\"gridcolor\":\"white\",\"linecolor\":\"white\",\"showbackground\":true,\"ticks\":\"\",\"zerolinecolor\":\"white\",\"gridwidth\":2}},\"shapedefaults\":{\"line\":{\"color\":\"#2a3f5f\"}},\"annotationdefaults\":{\"arrowcolor\":\"#2a3f5f\",\"arrowhead\":0,\"arrowwidth\":1},\"geo\":{\"bgcolor\":\"white\",\"landcolor\":\"#E5ECF6\",\"subunitcolor\":\"white\",\"showland\":true,\"showlakes\":true,\"lakecolor\":\"white\"},\"title\":{\"x\":0.05},\"mapbox\":{\"style\":\"light\"}}}},                        {\"responsive\": true}                    ).then(function(){\n",
       "                            \n",
       "var gd = document.getElementById('4abd2fab-0bc8-4547-af84-c5b3076f6222');\n",
       "var x = new MutationObserver(function (mutations, observer) {{\n",
       "        var display = window.getComputedStyle(gd).display;\n",
       "        if (!display || display === 'none') {{\n",
       "            console.log([gd, 'removed!']);\n",
       "            Plotly.purge(gd);\n",
       "            observer.disconnect();\n",
       "        }}\n",
       "}});\n",
       "\n",
       "// Listen for the removal of the full notebook cells\n",
       "var notebookContainer = gd.closest('#notebook-container');\n",
       "if (notebookContainer) {{\n",
       "    x.observe(notebookContainer, {childList: true});\n",
       "}}\n",
       "\n",
       "// Listen for the clearing of the current output cell\n",
       "var outputEl = gd.closest('.output');\n",
       "if (outputEl) {{\n",
       "    x.observe(outputEl, {childList: true});\n",
       "}}\n",
       "\n",
       "                        })                };                });            </script>        </div>"
      ]
     },
     "metadata": {},
     "output_type": "display_data"
    }
   ],
   "source": [
    "dash_bio.VolcanoPlot(dataframe=tf_volcano, \n",
    "                point_size=7,\n",
    "            )"
   ]
  },
  {
   "cell_type": "code",
   "execution_count": null,
   "metadata": {},
   "outputs": [],
   "source": [
    "tf_volcano.to_csv('pathway_volcano.csv', index=None)"
   ]
  }
 ],
 "metadata": {
  "kernelspec": {
   "display_name": "Python 3.7.0 ('deepbio')",
   "language": "python",
   "name": "python3"
  },
  "language_info": {
   "codemirror_mode": {
    "name": "ipython",
    "version": 3
   },
   "file_extension": ".py",
   "mimetype": "text/x-python",
   "name": "python",
   "nbconvert_exporter": "python",
   "pygments_lexer": "ipython3",
   "version": "3.7.0"
  },
  "orig_nbformat": 4,
  "vscode": {
   "interpreter": {
    "hash": "6acab715838f00affcecba94e2037a8e32fb53ad3a082152ed1c0f4b0ff3b1f7"
   }
  }
 },
 "nbformat": 4,
 "nbformat_minor": 2
}
