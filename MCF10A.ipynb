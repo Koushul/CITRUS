{
 "cells": [
  {
   "cell_type": "code",
   "execution_count": 15,
   "metadata": {},
   "outputs": [],
   "source": [
    "import pandas as pd\n",
    "import numpy as np\n",
    "from tqdm.notebook import tqdm"
   ]
  },
  {
   "cell_type": "code",
   "execution_count": 16,
   "metadata": {},
   "outputs": [],
   "source": [
    "hallmark = pd.read_excel('/ihome/hosmanbeyoglu/kor11/tools/CITRUS/FW__MCF10A_wild_type_and_PIK3CA_H1047R_knock-in_cell_lines/Supplementary Table S4.xlsx', \n",
    "    sheet_name='MCF10A_hallmark_PI3K_Activation')"
   ]
  },
  {
   "cell_type": "code",
   "execution_count": 17,
   "metadata": {},
   "outputs": [],
   "source": [
    "from utils import Data, get_ppi_edge_list\n",
    "\n",
    "data_csv = Data(\n",
    "    fGEP_SGA = 'data/CITRUS_GEP_SGAseparated.csv',\n",
    "    fgene_tf_SGA = 'data/CITRUS_gene_tf_SGAseparated.csv',\n",
    "    fcancerType_SGA = 'data/CITRUS_canType_SGAseparated.csv',\n",
    "    fSGA_SGA = 'data/CITRUS_SGA_SGAseparated.csv',\n",
    ")"
   ]
  },
  {
   "cell_type": "code",
   "execution_count": 18,
   "metadata": {},
   "outputs": [],
   "source": [
    "hallmark_mask = np.load('hallmark_mask.npy')"
   ]
  },
  {
   "cell_type": "code",
   "execution_count": 19,
   "metadata": {},
   "outputs": [],
   "source": [
    "import os\n",
    "import argparse\n",
    "from utils import bool_ext, load_dataset, split_dataset, evaluate, checkCorrelations\n",
    "from models import CITRUS\n",
    "import pickle\n",
    "import torch\n",
    "import numpy as np\n",
    "import pandas as pd\n",
    "import warnings \n",
    "from pathlib import Path\n",
    "from tqdm import tqdm\n",
    "warnings.filterwarnings(\"ignore\")\n",
    "from sklearn import metrics\n",
    "\n",
    "import yaml\n",
    "\n",
    "with open('args.yaml', 'r') as f:\n",
    "    args_dict = yaml.safe_load(f)\n",
    "\n",
    "device = 'cuda' if torch.cuda.is_available() else 'cpu'\n",
    "\n",
    "if device == 'cuda':\n",
    "    device_name = torch.cuda.get_device_name(0)\n",
    "else:\n",
    "    device_name = 'cpu'\n",
    "\n",
    "\n",
    "parser = argparse.ArgumentParser()\n",
    "args = argparse.Namespace(**args_dict)\n",
    "args.tf_gene = np.load('tf_gene.npy')"
   ]
  },
  {
   "cell_type": "code",
   "execution_count": 20,
   "metadata": {},
   "outputs": [
    {
     "name": "stderr",
     "output_type": "stream",
     "text": [
      "100%|██████████| 10/10 [00:00<00:00, 11.39it/s]\n",
      "100%|██████████| 3/3 [00:00<00:00, 17.92it/s]\n"
     ]
    }
   ],
   "source": [
    "dataset, dataset_test = load_dataset(\n",
    "    input_dir=args.input_dir,\n",
    "    mask01=args.mask01,\n",
    "    dataset_name=args.dataset_name,\n",
    "    gep_normalization=args.gep_normalization,\n",
    ")\n",
    "\n",
    "train_set, test_set = split_dataset(dataset, ratio=0.66)\n",
    "\n",
    "daata = pickle.load( open(\"/ihome/hosmanbeyoglu/kor11/tools/CITRUS/data/dataset_CITRUS.pkl\", \"rb\") )\n",
    "cancers = daata['idx2can']\n",
    "\n",
    "\n",
    "models = []\n",
    "for m in tqdm(list(Path('/ix/hosmanbeyoglu/kor11/output').iterdir())):\n",
    "    model = CITRUS(args) \n",
    "    model.build(device=device)\n",
    "    model.to(device);\n",
    "    model.load_model(m, device=device)\n",
    "    model.eval()\n",
    "    models.append(model)\n",
    "\n",
    "\n",
    "random_models = []\n",
    "for m in tqdm(list(Path('/ihome/hosmanbeyoglu/kor11/tools/CITRUS/output').glob('random_model*.pth'))):\n",
    "    model = CITRUS(args) \n",
    "    model.build(device=device)\n",
    "    model.to(device);\n",
    "    model.load_model(m, device=device)\n",
    "    model.eval()\n",
    "    random_models.append(model)"
   ]
  },
  {
   "cell_type": "code",
   "execution_count": 21,
   "metadata": {},
   "outputs": [],
   "source": [
    "from utils import Data \n",
    "\n",
    "data_csv = Data(\n",
    "    fGEP_SGA = 'data/CITRUS_GEP_SGAseparated.csv',\n",
    "    fgene_tf_SGA = 'data/CITRUS_gene_tf_SGAseparated.csv',\n",
    "    fcancerType_SGA = 'data/CITRUS_canType_SGAseparated.csv',\n",
    "    fSGA_SGA = 'data/CITRUS_SGA_SGAseparated.csv',\n",
    ")\n",
    "\n",
    "data = pickle.load( open(\"/ihome/hosmanbeyoglu/kor11/tools/CITRUS/data/dataset_CITRUS.pkl\", \"rb\"))\n",
    "\n",
    "\n",
    "df = pd.DataFrame(np.column_stack([data['tmr'], data['can']]), columns=['tmr', 'cancer'])\n",
    "df['cancer'] = df['cancer'].astype(int).replace(data['idx2can'])\n",
    "xdf = pd.read_parquet('xdf.parquet') \n",
    "\n",
    "\n",
    "import gzip\n",
    "\n",
    "def split_mutants(cancer, gene):    \n",
    "    if gene is None:\n",
    "        dframe = data_csv.sga_sga.loc[df[df.cancer==cancer].tmr]\n",
    "        idx = xdf[xdf.id.isin(dframe.index)].idx.values\n",
    "        return idx\n",
    "        \n",
    "\n",
    "\n",
    "    _sm = f'SM_{gene}'\n",
    "    _scna = f'SCNA_{gene}'\n",
    "    \n",
    "    if not cancer:\n",
    "        dframe = data_csv.sga_sga.loc[df.tmr]\n",
    "    else:\n",
    "        dframe = data_csv.sga_sga.loc[df[df.cancer==cancer].tmr]\n",
    "    \n",
    "    wt = dframe[(dframe[_sm] == 0) & (dframe[_scna] == 0)]\n",
    "    sm = dframe[(dframe[_sm] == 1) & (dframe[_scna] == 0)]\n",
    "    idx = xdf[xdf.id.isin(wt.index)].idx.values\n",
    "    idy = xdf[xdf.id.isin(sm.index)].idx.values\n",
    "\n",
    "    return idx, idy\n",
    "    \n",
    "\n",
    "\n",
    "f = gzip.GzipFile('sga.npy.gz', 'r')\n",
    "sga = np.load(f)\n",
    "f.close()\n",
    "\n",
    "g = gzip.GzipFile('can.npy.gz', 'r')\n",
    "can = np.load(g)\n",
    "g.close()"
   ]
  },
  {
   "cell_type": "code",
   "execution_count": 22,
   "metadata": {},
   "outputs": [],
   "source": [
    "from statsmodels.stats.multitest import fdrcorrection"
   ]
  },
  {
   "cell_type": "code",
   "execution_count": 53,
   "metadata": {},
   "outputs": [
    {
     "name": "stderr",
     "output_type": "stream",
     "text": [
      "100%|██████████| 17/17 [01:52<00:00,  6.63s/it]\n"
     ]
    }
   ],
   "source": [
    "\n",
    "cancerss = df['cancer'].unique()\n",
    "cancer_results = []\n",
    "\n",
    "for cancer in tqdm(cancerss):\n",
    "\n",
    "    random = None\n",
    "    nonrandom = None\n",
    "    \n",
    "    for model in random_models:\n",
    "        model.eval()\n",
    "\n",
    "        X = torch.from_numpy(sga)[split_mutants(cancer, None)]\n",
    "        C = torch.from_numpy(can)[split_mutants(cancer, None)]\n",
    "        r = model(X, C, pathways=True).data.numpy()\n",
    "\n",
    "        if random is None:\n",
    "            random = r\n",
    "        else:\n",
    "            random += r\n",
    "\n",
    "\n",
    "\n",
    "    for model in models:\n",
    "        model.eval()\n",
    "\n",
    "        X = torch.from_numpy(sga)[split_mutants(cancer, None)]\n",
    "        C = torch.from_numpy(can)[split_mutants(cancer, None)]\n",
    "        s = model(X, C, pathways=True).data.numpy()\n",
    "\n",
    "        if nonrandom is None:\n",
    "            nonrandom = s\n",
    "        else:\n",
    "            nonrandom += s\n",
    "\n",
    "\n",
    "    random = random / len(random_models)\n",
    "    nonrandom = nonrandom / len(models)\n",
    "    cancer_results.append([Counter(fdrcorrection(ttest_1samp(random[:, i], random[:, i][:]).pvalue)[0])[True]/len(random) for i in range(50)])\n",
    "\n"
   ]
  },
  {
   "cell_type": "code",
   "execution_count": 61,
   "metadata": {},
   "outputs": [],
   "source": [
    "(1-pd.DataFrame(cancer_results, index=cancerss, columns=hallmark.Description.values).T).to_csv('pathway_heatmap.csv')"
   ]
  },
  {
   "cell_type": "code",
   "execution_count": 69,
   "metadata": {},
   "outputs": [],
   "source": [
    "import matplotlib.pyplot as plt"
   ]
  },
  {
   "cell_type": "code",
   "execution_count": 88,
   "metadata": {},
   "outputs": [
    {
     "data": {
      "image/png": "[encoded data removed]",
      "text/plain": [
       "<Figure size 1080x1080 with 2 Axes>"
      ]
     },
     "metadata": {
      "needs_background": "light"
     },
     "output_type": "display_data"
    }
   ],
   "source": [
    "plt.figure(figsize=(15, 15))\n",
    "pdf = pd.read_csv('pathway_heatmap.csv').set_index('Unnamed: 0')\n",
    "pdf.index.name='Pathways'\n",
    "sns.heatmap(pdf, cmap='viridis', square=False)\n",
    "plt.ylabel('Pathways')\n",
    "plt.xlabel('Cancer Type')\n",
    "plt.tight_layout()\n",
    "\n",
    "plt.savefig('heatmap.png', dpi=300)\n",
    "plt.show()\n"
   ]
  },
  {
   "cell_type": "code",
   "execution_count": 29,
   "metadata": {},
   "outputs": [],
   "source": [
    "from scipy.stats import ttest_1samp\n",
    "from statsmodels.stats.multitest import fdrcorrection\n",
    "from collections import Counter\n",
    "import seaborn as sns"
   ]
  },
  {
   "cell_type": "code",
   "execution_count": 36,
   "metadata": {},
   "outputs": [
    {
     "data": {
      "text/plain": [
       "[0.8566433566433567,\n",
       " 0.986013986013986,\n",
       " 0.993006993006993,\n",
       " 0.33916083916083917,\n",
       " 0.5559440559440559,\n",
       " 0.9230769230769231,\n",
       " 0.9965034965034965,\n",
       " 0.9685314685314685,\n",
       " 0.5664335664335665,\n",
       " 0.513986013986014,\n",
       " 0.5,\n",
       " 1.0,\n",
       " 0.972027972027972,\n",
       " 0.6293706293706294,\n",
       " 0.7482517482517482,\n",
       " 0.48951048951048953,\n",
       " 0.9825174825174825,\n",
       " 0.972027972027972,\n",
       " 0.7762237762237763,\n",
       " 0.965034965034965,\n",
       " 0.9230769230769231,\n",
       " 0.7377622377622378,\n",
       " 0.3986013986013986,\n",
       " 0.3951048951048951,\n",
       " 0.9195804195804196,\n",
       " 0.9545454545454546,\n",
       " 0.972027972027972,\n",
       " 0.9790209790209791,\n",
       " 0.43356643356643354,\n",
       " 0.9335664335664335,\n",
       " 0.5034965034965035,\n",
       " 0.8566433566433567,\n",
       " 0.9790209790209791,\n",
       " 0.9440559440559441,\n",
       " 0.7482517482517482,\n",
       " 0.4090909090909091,\n",
       " 0.6223776223776224,\n",
       " 0.5559440559440559,\n",
       " 0.7062937062937062,\n",
       " 0.9090909090909091,\n",
       " 0.9335664335664335,\n",
       " 0.7867132867132867,\n",
       " 0.8286713286713286,\n",
       " 0.43006993006993005,\n",
       " 0.986013986013986,\n",
       " 0.965034965034965,\n",
       " 0.9790209790209791,\n",
       " 0.8041958041958042,\n",
       " 0.9335664335664335,\n",
       " 0.7062937062937062]"
      ]
     },
     "execution_count": 36,
     "metadata": {},
     "output_type": "execute_result"
    }
   ],
   "source": []
  },
  {
   "cell_type": "code",
   "execution_count": 27,
   "metadata": {},
   "outputs": [
    {
     "data": {
      "text/plain": [
       "[0.9265734265734266,\n",
       " 0.8391608391608392,\n",
       " 0.8671328671328671,\n",
       " 0.9020979020979021,\n",
       " 0.8741258741258742,\n",
       " 0.9020979020979021,\n",
       " 0.8706293706293706,\n",
       " 0.916083916083916,\n",
       " 0.8706293706293706,\n",
       " 0.8951048951048951,\n",
       " 0.8426573426573427,\n",
       " 0.8566433566433567,\n",
       " 0.8986013986013986,\n",
       " 0.9230769230769231,\n",
       " 0.8846153846153846,\n",
       " 0.8776223776223776,\n",
       " 0.8671328671328671,\n",
       " 0.8741258741258742,\n",
       " 0.8986013986013986,\n",
       " 0.9125874125874126,\n",
       " 0.8881118881118881,\n",
       " 0.8916083916083916,\n",
       " 0.8706293706293706,\n",
       " 0.8671328671328671,\n",
       " 0.9125874125874126,\n",
       " 0.8916083916083916,\n",
       " 0.9195804195804196,\n",
       " 0.8846153846153846,\n",
       " 0.8811188811188811,\n",
       " 0.8566433566433567,\n",
       " 0.9125874125874126,\n",
       " 0.9090909090909091,\n",
       " 0.916083916083916,\n",
       " 0.9055944055944056,\n",
       " 0.8566433566433567,\n",
       " 0.8846153846153846,\n",
       " 0.8881118881118881,\n",
       " 0.9020979020979021,\n",
       " 0.8951048951048951,\n",
       " 0.8706293706293706,\n",
       " 0.8846153846153846,\n",
       " 0.9020979020979021,\n",
       " 0.8986013986013986,\n",
       " 0.8706293706293706,\n",
       " 0.8846153846153846,\n",
       " 0.8811188811188811,\n",
       " 0.9090909090909091,\n",
       " 0.8951048951048951,\n",
       " 0.9055944055944056,\n",
       " 0.8496503496503497]"
      ]
     },
     "execution_count": 27,
     "metadata": {},
     "output_type": "execute_result"
    }
   ],
   "source": [
    "[Counter(fdrcorrection(ttest_1samp(nonrandom[:, i], nonrandom[:, i][:]).pvalue)[0])[True]/len(random) for i in range(50)]"
   ]
  },
  {
   "cell_type": "code",
   "execution_count": 24,
   "metadata": {},
   "outputs": [
    {
     "data": {
      "text/plain": [
       "[0.3228966580749612,\n",
       " 0.3056089131453084,\n",
       " 0.3207356899587547,\n",
       " 0.3023434502141517,\n",
       " 0.3099308493777216,\n",
       " 0.3081540533710628,\n",
       " 0.3011909338855082,\n",
       " 0.3060411067685497,\n",
       " 0.3019592781046038,\n",
       " 0.3128601617130239]"
      ]
     },
     "execution_count": 24,
     "metadata": {},
     "output_type": "execute_result"
    }
   ],
   "source": [
    "[m.pval_corr for m in models]"
   ]
  },
  {
   "cell_type": "code",
   "execution_count": 28,
   "metadata": {},
   "outputs": [],
   "source": [
    "from scipy.stats import ttest_ind\n",
    "import seaborn as sns\n",
    "from scipy.stats import spearmanr\n",
    "import matplotlib.pyplot as plt"
   ]
  },
  {
   "cell_type": "code",
   "execution_count": 13,
   "metadata": {},
   "outputs": [],
   "source": [
    "# results = pd.DataFrame(np.array([m.performance for m in models]).mean(0), columns = ['corr', 'mse'])\n",
    "# results['corr_std'] = np.array([m.performance for m in models]).std(0)[:, 0]\n",
    "# results['mse_std'] = np.array([m.performance for m in models]).std(0)[:, 1]\n",
    "# results = results[['corr', 'corr_std', 'mse', 'mse_std']]\n",
    "# results.index = models[0].cancers"
   ]
  },
  {
   "cell_type": "code",
   "execution_count": 14,
   "metadata": {},
   "outputs": [],
   "source": [
    "# results.to_csv('perf_shuffled_across.csv')"
   ]
  },
  {
   "cell_type": "code",
   "execution_count": 57,
   "metadata": {},
   "outputs": [],
   "source": []
  },
  {
   "cell_type": "code",
   "execution_count": 81,
   "metadata": {},
   "outputs": [
    {
     "data": {
      "text/plain": [
       "((4415,), (150,))"
      ]
     },
     "execution_count": 81,
     "metadata": {},
     "output_type": "execute_result"
    }
   ],
   "source": []
  },
  {
   "cell_type": "code",
   "execution_count": 28,
   "metadata": {},
   "outputs": [],
   "source": [
    "clinical_from_cbioportal = pd.read_table('https://media.githubusercontent.com/media/cBioPortal/datahub/master/public/hnsc_tcga_pan_can_atlas_2018/data_clinical_patient.txt')\n",
    "clinical_from_cbioportal = clinical_from_cbioportal.drop([0, 1, 2, 3])\n",
    "clinical_from_cbioportal = clinical_from_cbioportal.set_index('#Patient Identifier')\n",
    "traits = clinical_from_cbioportal[['Subtype']].copy()\n",
    "traits.index.name = None\n",
    "traits.columns = ['hpv']\n",
    "traits = traits.dropna()\n",
    "traits.hpv = traits.hpv.replace({'HNSC_HPV-': 0, 'HNSC_HPV+': 1})"
   ]
  },
  {
   "cell_type": "code",
   "execution_count": 69,
   "metadata": {},
   "outputs": [],
   "source": [
    "idx = xdf[xdf.id.isin(traits[traits.hpv==1].index)].idx.values\n",
    "idy = xdf[xdf.id.isin(traits[traits.hpv==0].index)].idx.values"
   ]
  },
  {
   "cell_type": "code",
   "execution_count": 31,
   "metadata": {},
   "outputs": [],
   "source": [
    "from tqdm import tqdm"
   ]
  },
  {
   "cell_type": "code",
   "execution_count": 53,
   "metadata": {},
   "outputs": [
    {
     "name": "stderr",
     "output_type": "stream",
     "text": [
      "100%|██████████| 10/10 [00:19<00:00,  2.00s/it]\n"
     ]
    }
   ],
   "source": [
    "R = None\n",
    "S = None\n",
    "\n",
    "for model in tqdm(models):\n",
    "    model.eval()\n",
    "\n",
    "    X = torch.from_numpy(sga)[idx]\n",
    "    C = torch.from_numpy(can[idx])\n",
    "    r = model(X, C, pathways=True).data.numpy()\n",
    "\n",
    "    if R is None:\n",
    "        R = r\n",
    "    else:\n",
    "        R += r\n",
    "\n",
    "    X = torch.from_numpy(sga)[idy]\n",
    "    C = torch.from_numpy(can[idy])\n",
    "    s = model(X, C, pathways=True).data.numpy()\n",
    "\n",
    "    if S is None:\n",
    "        S = s\n",
    "    else:\n",
    "        S += s    "
   ]
  },
  {
   "cell_type": "code",
   "execution_count": 65,
   "metadata": {},
   "outputs": [
    {
     "data": {
      "text/plain": [
       "Index(['pvalue'], dtype='object')"
      ]
     },
     "execution_count": 65,
     "metadata": {},
     "output_type": "execute_result"
    }
   ],
   "source": [
    "dx.columns"
   ]
  },
  {
   "cell_type": "code",
   "execution_count": 72,
   "metadata": {},
   "outputs": [],
   "source": [
    "dx = pd.DataFrame(ttest_ind(R, S).pvalue, \n",
    "        index=hallmark.Description, \n",
    "        columns=['pvalue']).sort_values(by='pvalue', ascending=True)\n",
    "\n",
    "dx.to_csv('./NFE2L2.csv')"
   ]
  },
  {
   "cell_type": "code",
   "execution_count": 33,
   "metadata": {},
   "outputs": [
    {
     "data": {
      "text/plain": [
       "SpearmanrResult(correlation=-0.07645024980002056, pvalue=0.5977177899674204)"
      ]
     },
     "execution_count": 33,
     "metadata": {},
     "output_type": "execute_result"
    }
   ],
   "source": [
    "R = R / len(models)\n",
    "S = S / len(models)\n",
    "\n",
    "p_predicted = pd.DataFrame(ttest_ind(R, S).pvalue, \n",
    "        index=hallmark.Description, \n",
    "        columns=['pvalue']).sort_values(by='pvalue', ascending=True).loc[hallmark.Description].pvalue.values\n",
    "\n",
    "p_exp = hallmark['pvalue'].values\n",
    "spearmanr(p_predicted, p_exp)"
   ]
  },
  {
   "cell_type": "code",
   "execution_count": 11,
   "metadata": {},
   "outputs": [],
   "source": [
    "import numpy as np\n",
    "import pandas as pd"
   ]
  },
  {
   "cell_type": "code",
   "execution_count": 4,
   "metadata": {},
   "outputs": [
    {
     "name": "stderr",
     "output_type": "stream",
     "text": [
      "100%|██████████| 13/13 [00:41<00:00,  3.22s/it]\n"
     ]
    }
   ],
   "source": [
    "from tqdm import tqdm\n",
    "from pathlib import Path\n",
    "import pickle \n",
    "\n",
    "run = list()\n",
    "\n",
    "for d in tqdm(list(Path('/ix/hosmanbeyoglu/kor11/CITRUS_PKL').glob('*.pkl'))):\n",
    "    dataset = pickle.load( open(d, \"rb\") )\n",
    "    run.append(dataset) \n",
    "    \n",
    "tfs = list()\n",
    "for i in range(len(run)):\n",
    "    tfs.append(run[i][\"hid_tmr\"])"
   ]
  },
  {
   "cell_type": "code",
   "execution_count": 8,
   "metadata": {},
   "outputs": [],
   "source": [
    "tf_ensemble = 0\n",
    "for i in range(len(run)):\n",
    "    tf_ensemble += tfs[i]\n",
    "    \n",
    "tf_ensemble = tf_ensemble/len(run)"
   ]
  },
  {
   "cell_type": "code",
   "execution_count": 25,
   "metadata": {},
   "outputs": [
    {
     "data": {
      "text/html": [
       "<div>\n",
       "<style scoped>\n",
       "    .dataframe tbody tr th:only-of-type {\n",
       "        vertical-align: middle;\n",
       "    }\n",
       "\n",
       "    .dataframe tbody tr th {\n",
       "        vertical-align: top;\n",
       "    }\n",
       "\n",
       "    .dataframe thead th {\n",
       "        text-align: right;\n",
       "    }\n",
       "</style>\n",
       "<table border=\"1\" class=\"dataframe\">\n",
       "  <thead>\n",
       "    <tr style=\"text-align: right;\">\n",
       "      <th></th>\n",
       "      <th>0</th>\n",
       "      <th>1</th>\n",
       "      <th>2</th>\n",
       "      <th>3</th>\n",
       "      <th>4</th>\n",
       "      <th>5</th>\n",
       "      <th>6</th>\n",
       "      <th>7</th>\n",
       "      <th>8</th>\n",
       "      <th>9</th>\n",
       "      <th>...</th>\n",
       "      <th>310</th>\n",
       "      <th>311</th>\n",
       "      <th>312</th>\n",
       "      <th>313</th>\n",
       "      <th>314</th>\n",
       "      <th>315</th>\n",
       "      <th>316</th>\n",
       "      <th>317</th>\n",
       "      <th>318</th>\n",
       "      <th>319</th>\n",
       "    </tr>\n",
       "  </thead>\n",
       "  <tbody>\n",
       "    <tr>\n",
       "      <th>8</th>\n",
       "      <td>0.724059</td>\n",
       "      <td>-0.345777</td>\n",
       "      <td>0.533876</td>\n",
       "      <td>0.274598</td>\n",
       "      <td>-0.216675</td>\n",
       "      <td>0.741299</td>\n",
       "      <td>-0.191870</td>\n",
       "      <td>0.073369</td>\n",
       "      <td>0.504060</td>\n",
       "      <td>0.265650</td>\n",
       "      <td>...</td>\n",
       "      <td>-0.772245</td>\n",
       "      <td>-0.442598</td>\n",
       "      <td>-0.731769</td>\n",
       "      <td>0.216854</td>\n",
       "      <td>0.381547</td>\n",
       "      <td>0.195883</td>\n",
       "      <td>0.415247</td>\n",
       "      <td>0.845829</td>\n",
       "      <td>-0.321920</td>\n",
       "      <td>0.239764</td>\n",
       "    </tr>\n",
       "    <tr>\n",
       "      <th>25</th>\n",
       "      <td>0.799076</td>\n",
       "      <td>-0.363978</td>\n",
       "      <td>0.474229</td>\n",
       "      <td>0.131638</td>\n",
       "      <td>-0.288875</td>\n",
       "      <td>0.845225</td>\n",
       "      <td>-0.139799</td>\n",
       "      <td>0.072042</td>\n",
       "      <td>0.416422</td>\n",
       "      <td>0.109785</td>\n",
       "      <td>...</td>\n",
       "      <td>-0.641740</td>\n",
       "      <td>-0.577534</td>\n",
       "      <td>-0.776019</td>\n",
       "      <td>0.209670</td>\n",
       "      <td>0.310812</td>\n",
       "      <td>0.326084</td>\n",
       "      <td>0.297525</td>\n",
       "      <td>1.112511</td>\n",
       "      <td>-0.413679</td>\n",
       "      <td>0.163640</td>\n",
       "    </tr>\n",
       "    <tr>\n",
       "      <th>33</th>\n",
       "      <td>0.630442</td>\n",
       "      <td>-0.342871</td>\n",
       "      <td>0.442607</td>\n",
       "      <td>0.217076</td>\n",
       "      <td>-0.271857</td>\n",
       "      <td>0.778734</td>\n",
       "      <td>-0.249646</td>\n",
       "      <td>0.012957</td>\n",
       "      <td>0.550132</td>\n",
       "      <td>0.130122</td>\n",
       "      <td>...</td>\n",
       "      <td>-0.508508</td>\n",
       "      <td>-0.413839</td>\n",
       "      <td>-0.663965</td>\n",
       "      <td>0.223625</td>\n",
       "      <td>0.286649</td>\n",
       "      <td>0.075163</td>\n",
       "      <td>0.426995</td>\n",
       "      <td>0.716764</td>\n",
       "      <td>-0.324654</td>\n",
       "      <td>0.294979</td>\n",
       "    </tr>\n",
       "    <tr>\n",
       "      <th>35</th>\n",
       "      <td>0.316574</td>\n",
       "      <td>-0.611317</td>\n",
       "      <td>0.094221</td>\n",
       "      <td>0.019382</td>\n",
       "      <td>-0.215554</td>\n",
       "      <td>1.021958</td>\n",
       "      <td>-0.003361</td>\n",
       "      <td>-0.106718</td>\n",
       "      <td>0.578056</td>\n",
       "      <td>0.457875</td>\n",
       "      <td>...</td>\n",
       "      <td>-0.500437</td>\n",
       "      <td>-0.096140</td>\n",
       "      <td>-0.556799</td>\n",
       "      <td>0.159318</td>\n",
       "      <td>0.214532</td>\n",
       "      <td>0.211188</td>\n",
       "      <td>0.974130</td>\n",
       "      <td>0.667016</td>\n",
       "      <td>-0.041272</td>\n",
       "      <td>0.340927</td>\n",
       "    </tr>\n",
       "    <tr>\n",
       "      <th>37</th>\n",
       "      <td>0.621495</td>\n",
       "      <td>-0.385567</td>\n",
       "      <td>0.295777</td>\n",
       "      <td>0.201740</td>\n",
       "      <td>-0.294825</td>\n",
       "      <td>1.282272</td>\n",
       "      <td>-0.020725</td>\n",
       "      <td>0.088449</td>\n",
       "      <td>0.377462</td>\n",
       "      <td>0.004710</td>\n",
       "      <td>...</td>\n",
       "      <td>-0.672029</td>\n",
       "      <td>-0.375155</td>\n",
       "      <td>-0.717200</td>\n",
       "      <td>0.223117</td>\n",
       "      <td>0.317477</td>\n",
       "      <td>0.190096</td>\n",
       "      <td>0.739546</td>\n",
       "      <td>0.951125</td>\n",
       "      <td>-0.282254</td>\n",
       "      <td>0.208477</td>\n",
       "    </tr>\n",
       "    <tr>\n",
       "      <th>...</th>\n",
       "      <td>...</td>\n",
       "      <td>...</td>\n",
       "      <td>...</td>\n",
       "      <td>...</td>\n",
       "      <td>...</td>\n",
       "      <td>...</td>\n",
       "      <td>...</td>\n",
       "      <td>...</td>\n",
       "      <td>...</td>\n",
       "      <td>...</td>\n",
       "      <td>...</td>\n",
       "      <td>...</td>\n",
       "      <td>...</td>\n",
       "      <td>...</td>\n",
       "      <td>...</td>\n",
       "      <td>...</td>\n",
       "      <td>...</td>\n",
       "      <td>...</td>\n",
       "      <td>...</td>\n",
       "      <td>...</td>\n",
       "      <td>...</td>\n",
       "    </tr>\n",
       "    <tr>\n",
       "      <th>4614</th>\n",
       "      <td>0.638325</td>\n",
       "      <td>-0.440274</td>\n",
       "      <td>0.358625</td>\n",
       "      <td>0.185809</td>\n",
       "      <td>-0.352990</td>\n",
       "      <td>1.380663</td>\n",
       "      <td>-0.157253</td>\n",
       "      <td>0.148165</td>\n",
       "      <td>0.551628</td>\n",
       "      <td>0.032013</td>\n",
       "      <td>...</td>\n",
       "      <td>-0.555230</td>\n",
       "      <td>-0.373554</td>\n",
       "      <td>-0.590118</td>\n",
       "      <td>0.106041</td>\n",
       "      <td>0.309127</td>\n",
       "      <td>0.226812</td>\n",
       "      <td>0.810398</td>\n",
       "      <td>0.806068</td>\n",
       "      <td>-0.370461</td>\n",
       "      <td>0.178743</td>\n",
       "    </tr>\n",
       "    <tr>\n",
       "      <th>4615</th>\n",
       "      <td>0.529161</td>\n",
       "      <td>-0.265350</td>\n",
       "      <td>0.336692</td>\n",
       "      <td>0.082009</td>\n",
       "      <td>-0.184504</td>\n",
       "      <td>0.623915</td>\n",
       "      <td>-0.079366</td>\n",
       "      <td>0.020346</td>\n",
       "      <td>0.347692</td>\n",
       "      <td>0.300064</td>\n",
       "      <td>...</td>\n",
       "      <td>-0.568785</td>\n",
       "      <td>-0.481278</td>\n",
       "      <td>-0.666045</td>\n",
       "      <td>0.173187</td>\n",
       "      <td>0.136652</td>\n",
       "      <td>0.227933</td>\n",
       "      <td>0.270746</td>\n",
       "      <td>0.829084</td>\n",
       "      <td>-0.198004</td>\n",
       "      <td>0.202158</td>\n",
       "    </tr>\n",
       "    <tr>\n",
       "      <th>4618</th>\n",
       "      <td>0.288261</td>\n",
       "      <td>-0.161690</td>\n",
       "      <td>0.295936</td>\n",
       "      <td>0.095132</td>\n",
       "      <td>-0.295854</td>\n",
       "      <td>1.150134</td>\n",
       "      <td>-0.103112</td>\n",
       "      <td>0.006895</td>\n",
       "      <td>0.424984</td>\n",
       "      <td>0.170083</td>\n",
       "      <td>...</td>\n",
       "      <td>-0.549821</td>\n",
       "      <td>-0.467286</td>\n",
       "      <td>-0.735134</td>\n",
       "      <td>0.218477</td>\n",
       "      <td>0.350273</td>\n",
       "      <td>0.113049</td>\n",
       "      <td>0.759140</td>\n",
       "      <td>0.789518</td>\n",
       "      <td>-0.272559</td>\n",
       "      <td>0.147998</td>\n",
       "    </tr>\n",
       "    <tr>\n",
       "      <th>4620</th>\n",
       "      <td>0.599857</td>\n",
       "      <td>-0.351496</td>\n",
       "      <td>0.290445</td>\n",
       "      <td>0.042431</td>\n",
       "      <td>-0.187098</td>\n",
       "      <td>1.063681</td>\n",
       "      <td>-0.051042</td>\n",
       "      <td>0.114153</td>\n",
       "      <td>0.356304</td>\n",
       "      <td>0.269035</td>\n",
       "      <td>...</td>\n",
       "      <td>-0.746522</td>\n",
       "      <td>-0.381131</td>\n",
       "      <td>-0.720233</td>\n",
       "      <td>0.233318</td>\n",
       "      <td>0.138772</td>\n",
       "      <td>0.239691</td>\n",
       "      <td>0.471016</td>\n",
       "      <td>1.067172</td>\n",
       "      <td>-0.229864</td>\n",
       "      <td>0.195996</td>\n",
       "    </tr>\n",
       "    <tr>\n",
       "      <th>4635</th>\n",
       "      <td>0.775514</td>\n",
       "      <td>-0.352893</td>\n",
       "      <td>0.526093</td>\n",
       "      <td>0.301037</td>\n",
       "      <td>-0.274747</td>\n",
       "      <td>1.105539</td>\n",
       "      <td>-0.218206</td>\n",
       "      <td>0.165311</td>\n",
       "      <td>0.586047</td>\n",
       "      <td>0.127990</td>\n",
       "      <td>...</td>\n",
       "      <td>-0.715884</td>\n",
       "      <td>-0.455904</td>\n",
       "      <td>-0.811477</td>\n",
       "      <td>0.226446</td>\n",
       "      <td>0.443282</td>\n",
       "      <td>0.129686</td>\n",
       "      <td>0.671633</td>\n",
       "      <td>0.796540</td>\n",
       "      <td>-0.348380</td>\n",
       "      <td>0.261589</td>\n",
       "    </tr>\n",
       "  </tbody>\n",
       "</table>\n",
       "<p>576 rows × 320 columns</p>\n",
       "</div>"
      ],
      "text/plain": [
       "           0         1         2         3         4         5         6    \\\n",
       "8     0.724059 -0.345777  0.533876  0.274598 -0.216675  0.741299 -0.191870   \n",
       "25    0.799076 -0.363978  0.474229  0.131638 -0.288875  0.845225 -0.139799   \n",
       "33    0.630442 -0.342871  0.442607  0.217076 -0.271857  0.778734 -0.249646   \n",
       "35    0.316574 -0.611317  0.094221  0.019382 -0.215554  1.021958 -0.003361   \n",
       "37    0.621495 -0.385567  0.295777  0.201740 -0.294825  1.282272 -0.020725   \n",
       "...        ...       ...       ...       ...       ...       ...       ...   \n",
       "4614  0.638325 -0.440274  0.358625  0.185809 -0.352990  1.380663 -0.157253   \n",
       "4615  0.529161 -0.265350  0.336692  0.082009 -0.184504  0.623915 -0.079366   \n",
       "4618  0.288261 -0.161690  0.295936  0.095132 -0.295854  1.150134 -0.103112   \n",
       "4620  0.599857 -0.351496  0.290445  0.042431 -0.187098  1.063681 -0.051042   \n",
       "4635  0.775514 -0.352893  0.526093  0.301037 -0.274747  1.105539 -0.218206   \n",
       "\n",
       "           7         8         9    ...       310       311       312  \\\n",
       "8     0.073369  0.504060  0.265650  ... -0.772245 -0.442598 -0.731769   \n",
       "25    0.072042  0.416422  0.109785  ... -0.641740 -0.577534 -0.776019   \n",
       "33    0.012957  0.550132  0.130122  ... -0.508508 -0.413839 -0.663965   \n",
       "35   -0.106718  0.578056  0.457875  ... -0.500437 -0.096140 -0.556799   \n",
       "37    0.088449  0.377462  0.004710  ... -0.672029 -0.375155 -0.717200   \n",
       "...        ...       ...       ...  ...       ...       ...       ...   \n",
       "4614  0.148165  0.551628  0.032013  ... -0.555230 -0.373554 -0.590118   \n",
       "4615  0.020346  0.347692  0.300064  ... -0.568785 -0.481278 -0.666045   \n",
       "4618  0.006895  0.424984  0.170083  ... -0.549821 -0.467286 -0.735134   \n",
       "4620  0.114153  0.356304  0.269035  ... -0.746522 -0.381131 -0.720233   \n",
       "4635  0.165311  0.586047  0.127990  ... -0.715884 -0.455904 -0.811477   \n",
       "\n",
       "           313       314       315       316       317       318       319  \n",
       "8     0.216854  0.381547  0.195883  0.415247  0.845829 -0.321920  0.239764  \n",
       "25    0.209670  0.310812  0.326084  0.297525  1.112511 -0.413679  0.163640  \n",
       "33    0.223625  0.286649  0.075163  0.426995  0.716764 -0.324654  0.294979  \n",
       "35    0.159318  0.214532  0.211188  0.974130  0.667016 -0.041272  0.340927  \n",
       "37    0.223117  0.317477  0.190096  0.739546  0.951125 -0.282254  0.208477  \n",
       "...        ...       ...       ...       ...       ...       ...       ...  \n",
       "4614  0.106041  0.309127  0.226812  0.810398  0.806068 -0.370461  0.178743  \n",
       "4615  0.173187  0.136652  0.227933  0.270746  0.829084 -0.198004  0.202158  \n",
       "4618  0.218477  0.350273  0.113049  0.759140  0.789518 -0.272559  0.147998  \n",
       "4620  0.233318  0.138772  0.239691  0.471016  1.067172 -0.229864  0.195996  \n",
       "4635  0.226446  0.443282  0.129686  0.671633  0.796540 -0.348380  0.261589  \n",
       "\n",
       "[576 rows x 320 columns]"
      ]
     },
     "execution_count": 25,
     "metadata": {},
     "output_type": "execute_result"
    }
   ],
   "source": [
    "pd.DataFrame(tf_ensemble).iloc[split_mutants('BRCA', None)]"
   ]
  },
  {
   "cell_type": "code",
   "execution_count": 24,
   "metadata": {},
   "outputs": [
    {
     "data": {
      "text/plain": [
       "array([   8,   25,   33,   35,   37,   49,   53,   69,   75,  100,  111,\n",
       "        114,  115,  120,  130,  168,  198,  199,  217,  229,  232,  257,\n",
       "        259,  260,  275,  288,  290,  291,  295,  306,  310,  312,  318,\n",
       "        322,  342,  343,  349,  351,  353,  373,  374,  396,  403,  408,\n",
       "        411,  442,  449,  458,  460,  461,  482,  485,  490,  495,  498,\n",
       "        515,  524,  533,  537,  538,  539,  561,  565,  569,  576,  578,\n",
       "        579,  580,  589,  595,  598,  606,  612,  616,  619,  627,  637,\n",
       "        643,  654,  669,  675,  681,  685,  693,  704,  723,  724,  739,\n",
       "        763,  797,  804,  805,  820,  822,  836,  839,  848,  853,  854,\n",
       "        857,  870,  883,  910,  915,  917,  927,  931,  938,  945,  964,\n",
       "        975,  980,  986,  989,  999, 1007, 1016, 1020, 1035, 1043, 1081,\n",
       "       1090, 1097, 1098, 1101, 1107, 1112, 1121, 1124, 1126, 1143, 1160,\n",
       "       1164, 1171, 1181, 1189, 1194, 1200, 1211, 1215, 1217, 1233, 1237,\n",
       "       1257, 1259, 1262, 1264, 1270, 1275, 1277, 1287, 1292, 1299, 1301,\n",
       "       1346, 1351, 1365, 1372, 1413, 1416, 1426, 1432, 1436, 1441, 1446,\n",
       "       1447, 1448, 1451, 1471, 1472, 1475, 1483, 1486, 1487, 1490, 1497,\n",
       "       1502, 1504, 1507, 1509, 1522, 1525, 1534, 1536, 1537, 1541, 1551,\n",
       "       1556, 1561, 1566, 1586, 1589, 1592, 1594, 1621, 1627, 1634, 1636,\n",
       "       1642, 1647, 1654, 1658, 1669, 1675, 1702, 1707, 1718, 1728, 1729,\n",
       "       1734, 1758, 1768, 1771, 1778, 1784, 1787, 1804, 1808, 1811, 1813,\n",
       "       1821, 1830, 1852, 1870, 1885, 1950, 1952, 1956, 1962, 1970, 1984,\n",
       "       1986, 1996, 2002, 2004, 2011, 2013, 2014, 2017, 2018, 2023, 2026,\n",
       "       2033, 2038, 2045, 2046, 2049, 2051, 2054, 2062, 2073, 2082, 2097,\n",
       "       2107, 2126, 2137, 2160, 2161, 2168, 2171, 2177, 2199, 2204, 2205,\n",
       "       2212, 2219, 2233, 2245, 2248, 2252, 2265, 2269, 2276, 2277, 2281,\n",
       "       2285, 2298, 2302, 2303, 2313, 2318, 2319, 2325, 2327, 2336, 2342,\n",
       "       2351, 2363, 2366, 2387, 2389, 2393, 2396, 2398, 2402, 2403, 2407,\n",
       "       2419, 2420, 2433, 2439, 2445, 2458, 2465, 2467, 2468, 2469, 2479,\n",
       "       2483, 2486, 2489, 2503, 2512, 2516, 2518, 2530, 2531, 2534, 2535,\n",
       "       2547, 2563, 2567, 2568, 2577, 2582, 2586, 2588, 2599, 2601, 2623,\n",
       "       2630, 2644, 2645, 2662, 2665, 2678, 2684, 2689, 2698, 2708, 2715,\n",
       "       2731, 2734, 2737, 2743, 2746, 2757, 2761, 2765, 2766, 2780, 2805,\n",
       "       2813, 2818, 2830, 2833, 2851, 2856, 2862, 2868, 2874, 2879, 2893,\n",
       "       2910, 2916, 2925, 2932, 2943, 2944, 2946, 2947, 2960, 2965, 2979,\n",
       "       3001, 3014, 3016, 3018, 3025, 3028, 3031, 3038, 3040, 3070, 3081,\n",
       "       3091, 3106, 3115, 3118, 3122, 3125, 3126, 3132, 3133, 3139, 3155,\n",
       "       3159, 3169, 3190, 3213, 3214, 3216, 3227, 3233, 3235, 3241, 3247,\n",
       "       3260, 3268, 3272, 3273, 3291, 3332, 3336, 3357, 3358, 3367, 3392,\n",
       "       3395, 3407, 3422, 3425, 3449, 3452, 3457, 3468, 3472, 3473, 3480,\n",
       "       3488, 3491, 3500, 3502, 3512, 3520, 3527, 3533, 3539, 3559, 3567,\n",
       "       3571, 3577, 3579, 3580, 3581, 3604, 3609, 3615, 3617, 3618, 3627,\n",
       "       3634, 3640, 3649, 3654, 3662, 3680, 3689, 3690, 3691, 3708, 3711,\n",
       "       3712, 3715, 3719, 3727, 3728, 3745, 3759, 3770, 3771, 3779, 3805,\n",
       "       3825, 3826, 3833, 3835, 3867, 3870, 3876, 3877, 3878, 3883, 3885,\n",
       "       3898, 3910, 3938, 3969, 3981, 3990, 4005, 4013, 4036, 4065, 4075,\n",
       "       4080, 4084, 4102, 4109, 4115, 4117, 4152, 4160, 4164, 4167, 4182,\n",
       "       4183, 4185, 4188, 4193, 4209, 4224, 4226, 4229, 4238, 4241, 4242,\n",
       "       4248, 4253, 4256, 4260, 4269, 4270, 4273, 4282, 4290, 4301, 4328,\n",
       "       4335, 4345, 4347, 4350, 4368, 4371, 4372, 4375, 4376, 4379, 4380,\n",
       "       4384, 4390, 4393, 4403, 4421, 4440, 4446, 4456, 4464, 4466, 4493,\n",
       "       4495, 4498, 4499, 4500, 4501, 4508, 4530, 4531, 4544, 4553, 4561,\n",
       "       4567, 4572, 4581, 4584, 4586, 4589, 4599, 4600, 4602, 4611, 4614,\n",
       "       4615, 4618, 4620, 4635])"
      ]
     },
     "execution_count": 24,
     "metadata": {},
     "output_type": "execute_result"
    }
   ],
   "source": [
    "cancerss = df['cancer'].unique()\n",
    "cancer_results = []\n",
    "\n",
    "for cancer in tqdm(cancerss):\n",
    "\n",
    "    random = None\n",
    "    nonrandom = None\n",
    "    \n",
    "    for model in random_models:\n",
    "        model.eval()\n",
    "\n",
    "        X = torch.from_numpy(sga)[split_mutants(cancer, None)]\n",
    "        C = torch.from_numpy(can)[split_mutants(cancer, None)]\n",
    "        r = model(X, C, pathways=False).data.numpy()\n",
    "\n",
    "        if random is None:\n",
    "            random = r\n",
    "        else:\n",
    "            random += r\n",
    "\n",
    "\n",
    "\n",
    "    for model in models:\n",
    "        model.eval()\n",
    "\n",
    "        X = torch.from_numpy(sga)[split_mutants(cancer, None)]\n",
    "        C = torch.from_numpy(can)[split_mutants(cancer, None)]\n",
    "        s = model(X, C, pathways=False).data.numpy()\n",
    "\n",
    "        if nonrandom is None:\n",
    "            nonrandom = s\n",
    "        else:\n",
    "            nonrandom += s\n",
    "\n",
    "\n",
    "    random = random / len(random_models)\n",
    "    nonrandom = nonrandom / len(models)\n",
    "    cancer_results.append([Counter(fdrcorrection(ttest_1samp(random[:, i], random[:, i][:]).pvalue)[0])[True]/len(random) for i in range(50)])\n",
    "\n"
   ]
  },
  {
   "cell_type": "code",
   "execution_count": 26,
   "metadata": {},
   "outputs": [
    {
     "data": {
      "text/plain": [
       "CITRUS(\n",
       "  (layer_sga_emb): Embedding(11999, 256, padding_idx=0)\n",
       "  (layer_can_emb): Embedding(18, 256, padding_idx=0)\n",
       "  (layer_w_0): Linear(in_features=256, out_features=256, bias=True)\n",
       "  (layer_beta): Linear(in_features=256, out_features=16, bias=True)\n",
       "  (layer_dropout_1): Dropout(p=0.2, inplace=False)\n",
       "  (layer_dropout_2): Dropout(p=0.2, inplace=False)\n",
       "  (layer_dropout_3): Dropout(p=0.1, inplace=False)\n",
       "  (layer_w_1): Linear(in_features=256, out_features=50, bias=True)\n",
       "  (bnorm_pathways): BatchNorm1d(50, eps=1e-05, momentum=0.1, affine=True, track_running_stats=True)\n",
       "  (pathways): Linear(in_features=50, out_features=320, bias=True)\n",
       "  (bnorm_tf): BatchNorm1d(320, eps=1e-05, momentum=0.1, affine=True, track_running_stats=True)\n",
       "  (layer_w_2): Linear(in_features=320, out_features=5541, bias=True)\n",
       "  (loss): MSELoss()\n",
       ")"
      ]
     },
     "execution_count": 26,
     "metadata": {},
     "output_type": "execute_result"
    }
   ],
   "source": [
    "models[0]"
   ]
  }
 ],
 "metadata": {
  "kernelspec": {
   "display_name": "Python 3.7.0 ('deepbio')",
   "language": "python",
   "name": "python3"
  },
  "language_info": {
   "codemirror_mode": {
    "name": "ipython",
    "version": 3
   },
   "file_extension": ".py",
   "mimetype": "text/x-python",
   "name": "python",
   "nbconvert_exporter": "python",
   "pygments_lexer": "ipython3",
   "version": "3.7.0"
  },
  "orig_nbformat": 4,
  "vscode": {
   "interpreter": {
    "hash": "6acab715838f00affcecba94e2037a8e32fb53ad3a082152ed1c0f4b0ff3b1f7"
   }
  }
 },
 "nbformat": 4,
 "nbformat_minor": 2
}
