{
 "cells": [
  {
   "cell_type": "code",
   "execution_count": 1,
   "metadata": {},
   "outputs": [],
   "source": [
    "import pandas as pd\n",
    "import numpy as np\n",
    "from tqdm.notebook import tqdm"
   ]
  },
  {
   "cell_type": "code",
   "execution_count": 2,
   "metadata": {},
   "outputs": [],
   "source": [
    "hallmark = pd.read_excel('/ihome/hosmanbeyoglu/kor11/tools/CITRUS/FW__MCF10A_wild_type_and_PIK3CA_H1047R_knock-in_cell_lines/Supplementary Table S4.xlsx', \n",
    "    sheet_name='MCF10A_hallmark_PI3K_Activation')"
   ]
  },
  {
   "cell_type": "code",
   "execution_count": 3,
   "metadata": {},
   "outputs": [],
   "source": [
    "from utils import Data, get_ppi_edge_list\n",
    "\n",
    "data_csv = Data(\n",
    "    fGEP_SGA = 'data/CITRUS_GEP_SGAseparated.csv',\n",
    "    fgene_tf_SGA = 'data/CITRUS_gene_tf_SGAseparated.csv',\n",
    "    fcancerType_SGA = 'data/CITRUS_canType_SGAseparated.csv',\n",
    "    fSGA_SGA = 'data/CITRUS_SGA_SGAseparated.csv',\n",
    ")"
   ]
  },
  {
   "cell_type": "code",
   "execution_count": 4,
   "metadata": {},
   "outputs": [
    {
     "name": "stderr",
     "output_type": "stream",
     "text": [
      "\u001b[38;21m(utils.py : 457) -    DEBUG | Loaded 352251 edges from the SIGNOR and SNAP Networks\u001b[0m\n"
     ]
    }
   ],
   "source": [
    "ppi = pd.DataFrame(get_ppi_edge_list(sparse=False)[:, :2], columns=['A', 'B'])"
   ]
  },
  {
   "cell_type": "code",
   "execution_count": 5,
   "metadata": {},
   "outputs": [],
   "source": [
    "# tf_ppi = ppi[ppi.A.isin(data_csv.tf) | ppi.B.isin(data_csv.tf)]\n",
    "# tfs = pd.DataFrame(data_csv.tf)\n",
    "# tfs.columns = ['tf']\n",
    "# tfs['interacts_with'] = tfs.tf.apply(lambda x: set(tf_ppi[(tf_ppi==x).any(axis=1)].values.reshape(-1)))\n",
    "# tfs = dict(zip(tfs['tf'], tfs['interacts_with']))\n",
    "# def does_interact(tf, geneset):\n",
    "#     if tf in geneset or len(tfs.get(tf, set()).intersection(geneset)) > 0:\n",
    "#         return True            \n",
    "#     return False"
   ]
  },
  {
   "cell_type": "code",
   "execution_count": 6,
   "metadata": {},
   "outputs": [],
   "source": [
    "# pbar = tqdm(total=len(hallmark.values))\n",
    "# hallmark_mask = np.zeros((hallmark.shape[0], len(data_csv.tf)), dtype=int)\n",
    "\n",
    "# for idx, (pathway, genes) in enumerate(hallmark.values):\n",
    "#     for idy, tf in enumerate(data_csv.tf):\n",
    "#         pbar.set_description(f'{pathway[9:]} | ({idy}/{len(data_csv.tf)}) - {tf}')\n",
    "#         if does_interact(tf, genes.split('/')):\n",
    "#             hallmark_mask[idx, idy] = 1\n",
    "    \n",
    "#     pbar.update(1)\n",
    "# pbar.close()\n",
    "\n",
    "# np.save('hallmark_mask.npy', hallmark_mask)"
   ]
  },
  {
   "cell_type": "code",
   "execution_count": 7,
   "metadata": {},
   "outputs": [],
   "source": [
    "hallmark_mask = np.load('hallmark_mask.npy')"
   ]
  },
  {
   "cell_type": "code",
   "execution_count": 8,
   "metadata": {},
   "outputs": [],
   "source": [
    "import os\n",
    "import argparse\n",
    "from utils import bool_ext, load_dataset, split_dataset, evaluate, checkCorrelations\n",
    "from models import CITRUS\n",
    "import pickle\n",
    "import torch\n",
    "import numpy as np\n",
    "import pandas as pd\n",
    "import warnings \n",
    "from pathlib import Path\n",
    "from tqdm.notebook import tqdm\n",
    "warnings.filterwarnings(\"ignore\")\n",
    "from sklearn import metrics\n",
    "\n",
    "import yaml\n",
    "\n",
    "with open('args.yaml', 'r') as f:\n",
    "    args_dict = yaml.safe_load(f)\n",
    "\n",
    "device = 'cuda' if torch.cuda.is_available() else 'cpu'\n",
    "\n",
    "if device == 'cuda':\n",
    "    device_name = torch.cuda.get_device_name(0)\n",
    "else:\n",
    "    device_name = 'cpu'\n",
    "\n",
    "\n",
    "parser = argparse.ArgumentParser()\n",
    "args = argparse.Namespace(**args_dict)\n",
    "args.tf_gene = np.load('tf_gene.npy')"
   ]
  },
  {
   "cell_type": "code",
   "execution_count": 10,
   "metadata": {},
   "outputs": [
    {
     "data": {
      "application/json": {
       "ascii": false,
       "bar_format": null,
       "colour": null,
       "elapsed": 0.0056951045989990234,
       "initial": 0,
       "n": 0,
       "ncols": null,
       "nrows": null,
       "postfix": null,
       "prefix": "",
       "rate": null,
       "total": 10,
       "unit": "it",
       "unit_divisor": 1000,
       "unit_scale": false
      },
      "application/vnd.jupyter.widget-view+json": {
       "model_id": "31795d26dbcd4dcc850d092260b97618",
       "version_major": 2,
       "version_minor": 0
      },
      "text/plain": [
       "  0%|          | 0/10 [00:00<?, ?it/s]"
      ]
     },
     "metadata": {},
     "output_type": "display_data"
    }
   ],
   "source": [
    "dataset, dataset_test = load_dataset(\n",
    "    input_dir=args.input_dir,\n",
    "    mask01=args.mask01,\n",
    "    dataset_name=args.dataset_name,\n",
    "    gep_normalization=args.gep_normalization,\n",
    ")\n",
    "\n",
    "train_set, test_set = split_dataset(dataset, ratio=0.66)\n",
    "\n",
    "daata = pickle.load( open(\"/ihome/hosmanbeyoglu/kor11/tools/CITRUS/data/dataset_CITRUS.pkl\", \"rb\") )\n",
    "cancers = daata['idx2can']\n",
    "\n",
    "\n",
    "models = []\n",
    "for m in tqdm(list(Path('/ix/hosmanbeyoglu/kor11/output').iterdir())):\n",
    "    model = CITRUS(args) \n",
    "    model.build(device=device)\n",
    "    model.to(device);\n",
    "    model.load_model(m, device=device)\n",
    "    model.eval()\n",
    "    models.append(model)"
   ]
  },
  {
   "cell_type": "code",
   "execution_count": 11,
   "metadata": {},
   "outputs": [
    {
     "data": {
      "text/plain": [
       "[0.3228966580749612,\n",
       " 0.3056089131453084,\n",
       " 0.3207356899587547,\n",
       " 0.3023434502141517,\n",
       " 0.3099308493777216,\n",
       " 0.3081540533710628,\n",
       " 0.3011909338855082,\n",
       " 0.3060411067685497,\n",
       " 0.3019592781046038,\n",
       " 0.3128601617130239]"
      ]
     },
     "execution_count": 11,
     "metadata": {},
     "output_type": "execute_result"
    }
   ],
   "source": [
    "[m.pval_corr for m in models]"
   ]
  },
  {
   "cell_type": "code",
   "execution_count": 12,
   "metadata": {},
   "outputs": [],
   "source": [
    "from scipy.stats import ttest_ind\n",
    "import seaborn as sns\n",
    "from scipy.stats import spearmanr\n",
    "import matplotlib.pyplot as plt"
   ]
  },
  {
   "cell_type": "code",
   "execution_count": 52,
   "metadata": {},
   "outputs": [],
   "source": [
    "# results = pd.DataFrame(np.array([m.performance for m in models]).mean(0), columns = ['corr', 'mse'])\n",
    "# results['corr_std'] = np.array([m.performance for m in models]).std(0)[:, 0]\n",
    "# results['mse_std'] = np.array([m.performance for m in models]).std(0)[:, 1]\n",
    "# results = results[['corr', 'corr_std', 'mse', 'mse_std']]\n",
    "# results.index = models[0].cancers"
   ]
  },
  {
   "cell_type": "code",
   "execution_count": 54,
   "metadata": {},
   "outputs": [],
   "source": [
    "# results.to_csv('perf_shuffled_across.csv')"
   ]
  },
  {
   "cell_type": "code",
   "execution_count": 13,
   "metadata": {},
   "outputs": [],
   "source": [
    "from utils import Data \n",
    "\n",
    "data_csv = Data(\n",
    "    fGEP_SGA = 'data/CITRUS_GEP_SGAseparated.csv',\n",
    "    fgene_tf_SGA = 'data/CITRUS_gene_tf_SGAseparated.csv',\n",
    "    fcancerType_SGA = 'data/CITRUS_canType_SGAseparated.csv',\n",
    "    fSGA_SGA = 'data/CITRUS_SGA_SGAseparated.csv',\n",
    ")\n",
    "\n",
    "data = pickle.load( open(\"/ihome/hosmanbeyoglu/kor11/tools/CITRUS/data/dataset_CITRUS.pkl\", \"rb\"))\n",
    "\n",
    "\n",
    "df = pd.DataFrame(np.column_stack([data['tmr'], data['can']]), columns=['tmr', 'cancer'])\n",
    "df['cancer'] = df['cancer'].astype(int).replace(data['idx2can'])\n",
    "xdf = pd.read_parquet('xdf.parquet') "
   ]
  },
  {
   "cell_type": "code",
   "execution_count": 52,
   "metadata": {},
   "outputs": [
    {
     "data": {
      "text/plain": [
       "((4415,), (150,))"
      ]
     },
     "execution_count": 52,
     "metadata": {},
     "output_type": "execute_result"
    }
   ],
   "source": [
    "import gzip\n",
    "\n",
    "def split_mutants(cancer, gene):    \n",
    "    _sm = f'SM_{gene}'\n",
    "    _scna = f'SCNA_{gene}'\n",
    "    \n",
    "    if not cancer:\n",
    "        dframe = data_csv.sga_sga.loc[df.tmr]\n",
    "    else:\n",
    "        dframe = data_csv.sga_sga.loc[df[df.cancer==cancer].tmr]\n",
    "    \n",
    "    wt = dframe[(dframe[_sm] == 0) & (dframe[_scna] == 0)]\n",
    "    sm = dframe[(dframe[_sm] == 1) & (dframe[_scna] == 0)]\n",
    "    # scna = dframe[(dframe[_sm] == 0) & (dframe[_scna] == 1)]\n",
    "    # sm_scna = dframe[(dframe[_sm] == 1) & (dframe[_scna] == 1)]\n",
    "    idx = xdf[xdf.id.isin(wt.index)].idx.values\n",
    "    idy = xdf[xdf.id.isin(sm.index)].idx.values\n",
    "\n",
    "    return idx, idy\n",
    "    \n",
    "\n",
    "\n",
    "idx, idy = split_mutants(None, 'NFE2L2')\n",
    "\n",
    "\n",
    "# # wt = pd.read_parquet('wt.parquet')\n",
    "# # sm_mut = pd.read_parquet('sm_mut.parquet')\n",
    "\n",
    "f = gzip.GzipFile('sga.npy.gz', 'r')\n",
    "sga = np.load(f)\n",
    "f.close()\n",
    "\n",
    "g = gzip.GzipFile('can.npy.gz', 'r')\n",
    "can = np.load(g)\n",
    "g.close()\n",
    "\n",
    "idx.shape, idy.shape"
   ]
  },
  {
   "cell_type": "code",
   "execution_count": 28,
   "metadata": {},
   "outputs": [],
   "source": [
    "clinical_from_cbioportal = pd.read_table('https://media.githubusercontent.com/media/cBioPortal/datahub/master/public/hnsc_tcga_pan_can_atlas_2018/data_clinical_patient.txt')\n",
    "clinical_from_cbioportal = clinical_from_cbioportal.drop([0, 1, 2, 3])\n",
    "clinical_from_cbioportal = clinical_from_cbioportal.set_index('#Patient Identifier')\n",
    "traits = clinical_from_cbioportal[['Subtype']].copy()\n",
    "traits.index.name = None\n",
    "traits.columns = ['hpv']\n",
    "traits = traits.dropna()\n",
    "traits.hpv = traits.hpv.replace({'HNSC_HPV-': 0, 'HNSC_HPV+': 1})"
   ]
  },
  {
   "cell_type": "code",
   "execution_count": 69,
   "metadata": {},
   "outputs": [],
   "source": [
    "idx = xdf[xdf.id.isin(traits[traits.hpv==1].index)].idx.values\n",
    "idy = xdf[xdf.id.isin(traits[traits.hpv==0].index)].idx.values"
   ]
  },
  {
   "cell_type": "code",
   "execution_count": 80,
   "metadata": {},
   "outputs": [
    {
     "data": {
      "text/plain": [
       "((60,), (314,))"
      ]
     },
     "execution_count": 80,
     "metadata": {},
     "output_type": "execute_result"
    }
   ],
   "source": [
    "idx.shape, idy.shape"
   ]
  },
  {
   "cell_type": "code",
   "execution_count": 31,
   "metadata": {},
   "outputs": [],
   "source": [
    "from tqdm import tqdm"
   ]
  },
  {
   "cell_type": "code",
   "execution_count": 53,
   "metadata": {},
   "outputs": [
    {
     "name": "stderr",
     "output_type": "stream",
     "text": [
      "100%|██████████| 10/10 [00:19<00:00,  2.00s/it]\n"
     ]
    }
   ],
   "source": [
    "R = None\n",
    "S = None\n",
    "\n",
    "for model in tqdm(models):\n",
    "    model.eval()\n",
    "\n",
    "    X = torch.from_numpy(sga)[idx]\n",
    "    C = torch.from_numpy(can[idx])\n",
    "    r = model(X, C, pathways=True).data.numpy()\n",
    "\n",
    "    if R is None:\n",
    "        R = r\n",
    "    else:\n",
    "        R += r\n",
    "\n",
    "    X = torch.from_numpy(sga)[idy]\n",
    "    C = torch.from_numpy(can[idy])\n",
    "    s = model(X, C, pathways=True).data.numpy()\n",
    "\n",
    "    if S is None:\n",
    "        S = s\n",
    "    else:\n",
    "        S += s    "
   ]
  },
  {
   "cell_type": "code",
   "execution_count": 65,
   "metadata": {},
   "outputs": [
    {
     "data": {
      "text/plain": [
       "Index(['pvalue'], dtype='object')"
      ]
     },
     "execution_count": 65,
     "metadata": {},
     "output_type": "execute_result"
    }
   ],
   "source": [
    "dx.columns"
   ]
  },
  {
   "cell_type": "code",
   "execution_count": 67,
   "metadata": {},
   "outputs": [],
   "source": [
    "dx = pd.DataFrame(ttest_ind(R, S).pvalue, \n",
    "        index=hallmark.Description, \n",
    "        columns=['pvalue']).sort_values(by='pvalue', ascending=True)\n",
    "\n",
    "dx.to_csv('./NFE2L2.csv')"
   ]
  },
  {
   "cell_type": "code",
   "execution_count": 33,
   "metadata": {},
   "outputs": [
    {
     "data": {
      "text/plain": [
       "SpearmanrResult(correlation=-0.07645024980002056, pvalue=0.5977177899674204)"
      ]
     },
     "execution_count": 33,
     "metadata": {},
     "output_type": "execute_result"
    }
   ],
   "source": [
    "R = R / len(models)\n",
    "S = S / len(models)\n",
    "\n",
    "p_predicted = pd.DataFrame(ttest_ind(R, S).pvalue, \n",
    "        index=hallmark.Description, \n",
    "        columns=['pvalue']).sort_values(by='pvalue', ascending=True).loc[hallmark.Description].pvalue.values\n",
    "\n",
    "p_exp = hallmark['pvalue'].values\n",
    "spearmanr(p_predicted, p_exp)"
   ]
  },
  {
   "cell_type": "code",
   "execution_count": 22,
   "metadata": {},
   "outputs": [
    {
     "data": {
      "text/plain": [
       "((0, 50), (0, 50))"
      ]
     },
     "execution_count": 22,
     "metadata": {},
     "output_type": "execute_result"
    }
   ],
   "source": [
    "R.shape, S.shape"
   ]
  },
  {
   "cell_type": "code",
   "execution_count": null,
   "metadata": {},
   "outputs": [],
   "source": [
    "from statsmodels.stats.multitest import fdrcorrection"
   ]
  },
  {
   "cell_type": "code",
   "execution_count": 79,
   "metadata": {},
   "outputs": [],
   "source": [
    "pd.DataFrame(ttest_ind(R, S).pvalue, \n",
    "        index=hallmark.Description, \n",
    "        columns=['pvalue']).sort_values(by='pvalue', ascending=True).to_csv('HPV_analysis.csv')"
   ]
  },
  {
   "cell_type": "code",
   "execution_count": null,
   "metadata": {},
   "outputs": [],
   "source": [
    "np.save('p_predicted2.npy', p_predicted)\n",
    "np.save('p_exp2.npy', p_exp)"
   ]
  },
  {
   "cell_type": "code",
   "execution_count": 37,
   "metadata": {},
   "outputs": [
    {
     "data": {
      "text/plain": [
       "array([-0.03885234, -0.01304751, -0.0700935 , -0.05409943, -0.04236699,\n",
       "       -0.06662035, -0.07512558, -0.04664319, -0.06729268, -0.04858711])"
      ]
     },
     "execution_count": 37,
     "metadata": {},
     "output_type": "execute_result"
    }
   ],
   "source": []
  },
  {
   "cell_type": "code",
   "execution_count": 39,
   "metadata": {},
   "outputs": [
    {
     "data": {
      "text/plain": [
       "array([0.84551702, 0.87585314, 0.86683599, 0.87819618, 0.88397833,\n",
       "       0.83529452, 0.90377233, 0.88774731, 0.86372933, 0.84456712,\n",
       "       0.86610128, 0.86751381, 0.79801956, 0.92775074, 0.86453251,\n",
       "       0.86601414, 0.87669903])"
      ]
     },
     "execution_count": 39,
     "metadata": {},
     "output_type": "execute_result"
    }
   ],
   "source": []
  },
  {
   "cell_type": "code",
   "execution_count": null,
   "metadata": {},
   "outputs": [],
   "source": []
  }
 ],
 "metadata": {
  "kernelspec": {
   "display_name": "Python 3.7.0 ('deepbio')",
   "language": "python",
   "name": "python3"
  },
  "language_info": {
   "codemirror_mode": {
    "name": "ipython",
    "version": 3
   },
   "file_extension": ".py",
   "mimetype": "text/x-python",
   "name": "python",
   "nbconvert_exporter": "python",
   "pygments_lexer": "ipython3",
   "version": "3.7.0"
  },
  "orig_nbformat": 4,
  "vscode": {
   "interpreter": {
    "hash": "6acab715838f00affcecba94e2037a8e32fb53ad3a082152ed1c0f4b0ff3b1f7"
   }
  }
 },
 "nbformat": 4,
 "nbformat_minor": 2
}
