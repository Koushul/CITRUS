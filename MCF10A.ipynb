{
 "cells": [
  {
   "cell_type": "code",
   "execution_count": 1,
   "metadata": {},
   "outputs": [],
   "source": [
    "import pandas as pd\n",
    "import numpy as np\n",
    "from tqdm.notebook import tqdm"
   ]
  },
  {
   "cell_type": "code",
   "execution_count": 2,
   "metadata": {},
   "outputs": [],
   "source": [
    "hallmark = pd.read_excel('/ihome/hosmanbeyoglu/kor11/tools/CITRUS/FW__MCF10A_wild_type_and_PIK3CA_H1047R_knock-in_cell_lines/Supplementary Table S4.xlsx', \n",
    "    sheet_name='MCF10A_hallmark_PI3K_Activation')"
   ]
  },
  {
   "cell_type": "code",
   "execution_count": 3,
   "metadata": {},
   "outputs": [],
   "source": [
    "from utils import Data, get_ppi_edge_list\n",
    "\n",
    "data_csv = Data(\n",
    "    fGEP_SGA = 'data/CITRUS_GEP_SGAseparated.csv',\n",
    "    fgene_tf_SGA = 'data/CITRUS_gene_tf_SGAseparated.csv',\n",
    "    fcancerType_SGA = 'data/CITRUS_canType_SGAseparated.csv',\n",
    "    fSGA_SGA = 'data/CITRUS_SGA_SGAseparated.csv',\n",
    ")"
   ]
  },
  {
   "cell_type": "code",
   "execution_count": 4,
   "metadata": {},
   "outputs": [
    {
     "name": "stderr",
     "output_type": "stream",
     "text": [
      "\u001b[38;21m(utils.py : 457) -    DEBUG | Loaded 352251 edges from the SIGNOR and SNAP Networks\u001b[0m\n"
     ]
    }
   ],
   "source": [
    "ppi = pd.DataFrame(get_ppi_edge_list(sparse=False)[:, :2], columns=['A', 'B'])"
   ]
  },
  {
   "cell_type": "code",
   "execution_count": 5,
   "metadata": {},
   "outputs": [],
   "source": [
    "# tf_ppi = ppi[ppi.A.isin(data_csv.tf) | ppi.B.isin(data_csv.tf)]\n",
    "# tfs = pd.DataFrame(data_csv.tf)\n",
    "# tfs.columns = ['tf']\n",
    "# tfs['interacts_with'] = tfs.tf.apply(lambda x: set(tf_ppi[(tf_ppi==x).any(axis=1)].values.reshape(-1)))\n",
    "# tfs = dict(zip(tfs['tf'], tfs['interacts_with']))\n",
    "# def does_interact(tf, geneset):\n",
    "#     if tf in geneset or len(tfs.get(tf, set()).intersection(geneset)) > 0:\n",
    "#         return True            \n",
    "#     return False"
   ]
  },
  {
   "cell_type": "code",
   "execution_count": 6,
   "metadata": {},
   "outputs": [],
   "source": [
    "# pbar = tqdm(total=len(hallmark.values))\n",
    "# hallmark_mask = np.zeros((hallmark.shape[0], len(data_csv.tf)), dtype=int)\n",
    "\n",
    "# for idx, (pathway, genes) in enumerate(hallmark.values):\n",
    "#     for idy, tf in enumerate(data_csv.tf):\n",
    "#         pbar.set_description(f'{pathway[9:]} | ({idy}/{len(data_csv.tf)}) - {tf}')\n",
    "#         if does_interact(tf, genes.split('/')):\n",
    "#             hallmark_mask[idx, idy] = 1\n",
    "    \n",
    "#     pbar.update(1)\n",
    "# pbar.close()\n",
    "\n",
    "# np.save('hallmark_mask.npy', hallmark_mask)"
   ]
  },
  {
   "cell_type": "code",
   "execution_count": 7,
   "metadata": {},
   "outputs": [],
   "source": [
    "hallmark_mask = np.load('hallmark_mask.npy')"
   ]
  },
  {
   "cell_type": "code",
   "execution_count": 8,
   "metadata": {},
   "outputs": [],
   "source": [
    "import os\n",
    "import argparse\n",
    "from utils import bool_ext, load_dataset, split_dataset, evaluate, checkCorrelations\n",
    "from models import CITRUS\n",
    "import pickle\n",
    "import torch\n",
    "import numpy as np\n",
    "import pandas as pd\n",
    "import warnings \n",
    "from pathlib import Path\n",
    "from tqdm.notebook import tqdm\n",
    "warnings.filterwarnings(\"ignore\")\n",
    "from sklearn import metrics\n",
    "\n",
    "import yaml\n",
    "\n",
    "with open('args.yaml', 'r') as f:\n",
    "    args_dict = yaml.safe_load(f)\n",
    "\n",
    "device = 'cuda' if torch.cuda.is_available() else 'cpu'\n",
    "\n",
    "if device == 'cuda':\n",
    "    device_name = torch.cuda.get_device_name(0)\n",
    "else:\n",
    "    device_name = 'cpu'\n",
    "\n",
    "\n",
    "parser = argparse.ArgumentParser()\n",
    "args = argparse.Namespace(**args_dict)\n",
    "args.tf_gene = np.load('tf_gene.npy')"
   ]
  },
  {
   "cell_type": "code",
   "execution_count": 10,
   "metadata": {},
   "outputs": [
    {
     "data": {
      "application/json": {
       "ascii": false,
       "bar_format": null,
       "colour": null,
       "elapsed": 0.0056951045989990234,
       "initial": 0,
       "n": 0,
       "ncols": null,
       "nrows": null,
       "postfix": null,
       "prefix": "",
       "rate": null,
       "total": 10,
       "unit": "it",
       "unit_divisor": 1000,
       "unit_scale": false
      },
      "application/vnd.jupyter.widget-view+json": {
       "model_id": "31795d26dbcd4dcc850d092260b97618",
       "version_major": 2,
       "version_minor": 0
      },
      "text/plain": [
       "  0%|          | 0/10 [00:00<?, ?it/s]"
      ]
     },
     "metadata": {},
     "output_type": "display_data"
    }
   ],
   "source": [
    "dataset, dataset_test = load_dataset(\n",
    "    input_dir=args.input_dir,\n",
    "    mask01=args.mask01,\n",
    "    dataset_name=args.dataset_name,\n",
    "    gep_normalization=args.gep_normalization,\n",
    ")\n",
    "\n",
    "train_set, test_set = split_dataset(dataset, ratio=0.66)\n",
    "\n",
    "daata = pickle.load( open(\"/ihome/hosmanbeyoglu/kor11/tools/CITRUS/data/dataset_CITRUS.pkl\", \"rb\") )\n",
    "cancers = daata['idx2can']\n",
    "\n",
    "\n",
    "models = []\n",
    "for m in tqdm(list(Path('/ix/hosmanbeyoglu/kor11/output').iterdir())):\n",
    "    model = CITRUS(args) \n",
    "    model.build(device=device)\n",
    "    model.to(device);\n",
    "    model.load_model(m, device=device)\n",
    "    model.eval()\n",
    "    models.append(model)"
   ]
  },
  {
   "cell_type": "code",
   "execution_count": 11,
   "metadata": {},
   "outputs": [
    {
     "data": {
      "text/plain": [
       "[0.3228966580749612,\n",
       " 0.3056089131453084,\n",
       " 0.3207356899587547,\n",
       " 0.3023434502141517,\n",
       " 0.3099308493777216,\n",
       " 0.3081540533710628,\n",
       " 0.3011909338855082,\n",
       " 0.3060411067685497,\n",
       " 0.3019592781046038,\n",
       " 0.3128601617130239]"
      ]
     },
     "execution_count": 11,
     "metadata": {},
     "output_type": "execute_result"
    }
   ],
   "source": [
    "[m.pval_corr for m in models]"
   ]
  },
  {
   "cell_type": "code",
   "execution_count": 12,
   "metadata": {},
   "outputs": [],
   "source": [
    "from scipy.stats import ttest_ind\n",
    "import seaborn as sns\n",
    "from scipy.stats import spearmanr\n",
    "import matplotlib.pyplot as plt"
   ]
  },
  {
   "cell_type": "code",
   "execution_count": 52,
   "metadata": {},
   "outputs": [],
   "source": [
    "# results = pd.DataFrame(np.array([m.performance for m in models]).mean(0), columns = ['corr', 'mse'])\n",
    "# results['corr_std'] = np.array([m.performance for m in models]).std(0)[:, 0]\n",
    "# results['mse_std'] = np.array([m.performance for m in models]).std(0)[:, 1]\n",
    "# results = results[['corr', 'corr_std', 'mse', 'mse_std']]\n",
    "# results.index = models[0].cancers"
   ]
  },
  {
   "cell_type": "code",
   "execution_count": 54,
   "metadata": {},
   "outputs": [],
   "source": [
    "# results.to_csv('perf_shuffled_across.csv')"
   ]
  },
  {
   "cell_type": "code",
   "execution_count": 13,
   "metadata": {},
   "outputs": [],
   "source": [
    "from utils import Data \n",
    "\n",
    "data_csv = Data(\n",
    "    fGEP_SGA = 'data/CITRUS_GEP_SGAseparated.csv',\n",
    "    fgene_tf_SGA = 'data/CITRUS_gene_tf_SGAseparated.csv',\n",
    "    fcancerType_SGA = 'data/CITRUS_canType_SGAseparated.csv',\n",
    "    fSGA_SGA = 'data/CITRUS_SGA_SGAseparated.csv',\n",
    ")\n",
    "\n",
    "data = pickle.load( open(\"/ihome/hosmanbeyoglu/kor11/tools/CITRUS/data/dataset_CITRUS.pkl\", \"rb\"))\n",
    "\n",
    "\n",
    "df = pd.DataFrame(np.column_stack([data['tmr'], data['can']]), columns=['tmr', 'cancer'])\n",
    "df['cancer'] = df['cancer'].astype(int).replace(data['idx2can'])\n",
    "xdf = pd.read_parquet('xdf.parquet') "
   ]
  },
  {
   "cell_type": "code",
   "execution_count": 52,
   "metadata": {},
   "outputs": [
    {
     "data": {
      "text/plain": [
       "((4415,), (150,))"
      ]
     },
     "execution_count": 52,
     "metadata": {},
     "output_type": "execute_result"
    }
   ],
   "source": [
    "import gzip\n",
    "\n",
    "def split_mutants(cancer, gene):    \n",
    "    _sm = f'SM_{gene}'\n",
    "    _scna = f'SCNA_{gene}'\n",
    "    \n",
    "    if not cancer:\n",
    "        dframe = data_csv.sga_sga.loc[df.tmr]\n",
    "    else:\n",
    "        dframe = data_csv.sga_sga.loc[df[df.cancer==cancer].tmr]\n",
    "    \n",
    "    wt = dframe[(dframe[_sm] == 0) & (dframe[_scna] == 0)]\n",
    "    sm = dframe[(dframe[_sm] == 1) & (dframe[_scna] == 0)]\n",
    "    # scna = dframe[(dframe[_sm] == 0) & (dframe[_scna] == 1)]\n",
    "    # sm_scna = dframe[(dframe[_sm] == 1) & (dframe[_scna] == 1)]\n",
    "    idx = xdf[xdf.id.isin(wt.index)].idx.values\n",
    "    idy = xdf[xdf.id.isin(sm.index)].idx.values\n",
    "\n",
    "    return idx, idy\n",
    "    \n",
    "\n",
    "\n",
    "idx, idy = split_mutants(None, 'NFE2L2')\n",
    "\n",
    "\n",
    "# # wt = pd.read_parquet('wt.parquet')\n",
    "# # sm_mut = pd.read_parquet('sm_mut.parquet')\n",
    "\n",
    "f = gzip.GzipFile('sga.npy.gz', 'r')\n",
    "sga = np.load(f)\n",
    "f.close()\n",
    "\n",
    "g = gzip.GzipFile('can.npy.gz', 'r')\n",
    "can = np.load(g)\n",
    "g.close()\n",
    "\n",
    "idx.shape, idy.shape"
   ]
  },
  {
   "cell_type": "code",
   "execution_count": 28,
   "metadata": {},
   "outputs": [],
   "source": [
    "clinical_from_cbioportal = pd.read_table('https://media.githubusercontent.com/media/cBioPortal/datahub/master/public/hnsc_tcga_pan_can_atlas_2018/data_clinical_patient.txt')\n",
    "clinical_from_cbioportal = clinical_from_cbioportal.drop([0, 1, 2, 3])\n",
    "clinical_from_cbioportal = clinical_from_cbioportal.set_index('#Patient Identifier')\n",
    "traits = clinical_from_cbioportal[['Subtype']].copy()\n",
    "traits.index.name = None\n",
    "traits.columns = ['hpv']\n",
    "traits = traits.dropna()\n",
    "traits.hpv = traits.hpv.replace({'HNSC_HPV-': 0, 'HNSC_HPV+': 1})"
   ]
  },
  {
   "cell_type": "code",
   "execution_count": 69,
   "metadata": {},
   "outputs": [],
   "source": [
    "idx = xdf[xdf.id.isin(traits[traits.hpv==1].index)].idx.values\n",
    "idy = xdf[xdf.id.isin(traits[traits.hpv==0].index)].idx.values"
   ]
  },
  {
   "cell_type": "code",
   "execution_count": 80,
   "metadata": {},
   "outputs": [
    {
     "data": {
      "text/plain": [
       "((60,), (314,))"
      ]
     },
     "execution_count": 80,
     "metadata": {},
     "output_type": "execute_result"
    }
   ],
   "source": [
    "idx.shape, idy.shape"
   ]
  },
  {
   "cell_type": "code",
   "execution_count": 31,
   "metadata": {},
   "outputs": [],
   "source": [
    "from tqdm import tqdm"
   ]
  },
  {
   "cell_type": "code",
   "execution_count": 53,
   "metadata": {},
   "outputs": [
    {
     "name": "stderr",
     "output_type": "stream",
     "text": [
      "100%|██████████| 10/10 [00:19<00:00,  2.00s/it]\n"
     ]
    }
   ],
   "source": [
    "R = None\n",
    "S = None\n",
    "\n",
    "for model in tqdm(models):\n",
    "    model.eval()\n",
    "\n",
    "    X = torch.from_numpy(sga)[idx]\n",
    "    C = torch.from_numpy(can[idx])\n",
    "    r = model(X, C, pathways=True).data.numpy()\n",
    "\n",
    "    if R is None:\n",
    "        R = r\n",
    "    else:\n",
    "        R += r\n",
    "\n",
    "    X = torch.from_numpy(sga)[idy]\n",
    "    C = torch.from_numpy(can[idy])\n",
    "    s = model(X, C, pathways=True).data.numpy()\n",
    "\n",
    "    if S is None:\n",
    "        S = s\n",
    "    else:\n",
    "        S += s    "
   ]
  },
  {
   "cell_type": "code",
   "execution_count": 65,
   "metadata": {},
   "outputs": [
    {
     "data": {
      "text/plain": [
       "Index(['pvalue'], dtype='object')"
      ]
     },
     "execution_count": 65,
     "metadata": {},
     "output_type": "execute_result"
    }
   ],
   "source": [
    "dx.columns"
   ]
  },
  {
   "cell_type": "code",
   "execution_count": 72,
   "metadata": {},
   "outputs": [],
   "source": [
    "dx = pd.DataFrame(ttest_ind(R, S).pvalue, \n",
    "        index=hallmark.Description, \n",
    "        columns=['pvalue']).sort_values(by='pvalue', ascending=True)\n",
    "\n",
    "dx.to_csv('./NFE2L2.csv')"
   ]
  },
  {
   "cell_type": "code",
   "execution_count": 33,
   "metadata": {},
   "outputs": [
    {
     "data": {
      "text/plain": [
       "SpearmanrResult(correlation=-0.07645024980002056, pvalue=0.5977177899674204)"
      ]
     },
     "execution_count": 33,
     "metadata": {},
     "output_type": "execute_result"
    }
   ],
   "source": [
    "R = R / len(models)\n",
    "S = S / len(models)\n",
    "\n",
    "p_predicted = pd.DataFrame(ttest_ind(R, S).pvalue, \n",
    "        index=hallmark.Description, \n",
    "        columns=['pvalue']).sort_values(by='pvalue', ascending=True).loc[hallmark.Description].pvalue.values\n",
    "\n",
    "p_exp = hallmark['pvalue'].values\n",
    "spearmanr(p_predicted, p_exp)"
   ]
  },
  {
   "cell_type": "code",
   "execution_count": 22,
   "metadata": {},
   "outputs": [
    {
     "data": {
      "text/plain": [
       "((0, 50), (0, 50))"
      ]
     },
     "execution_count": 22,
     "metadata": {},
     "output_type": "execute_result"
    }
   ],
   "source": [
    "R.shape, S.shape"
   ]
  },
  {
   "cell_type": "code",
   "execution_count": null,
   "metadata": {},
   "outputs": [],
   "source": [
    "from statsmodels.stats.multitest import fdrcorrection"
   ]
  },
  {
   "cell_type": "code",
   "execution_count": 79,
   "metadata": {},
   "outputs": [],
   "source": [
    "pd.DataFrame(ttest_ind(R, S).pvalue, \n",
    "        index=hallmark.Description, \n",
    "        columns=['pvalue']).sort_values(by='pvalue', ascending=True).to_csv('HPV_analysis.csv')"
   ]
  },
  {
   "cell_type": "code",
   "execution_count": null,
   "metadata": {},
   "outputs": [],
   "source": [
    "np.save('p_predicted2.npy', p_predicted)\n",
    "np.save('p_exp2.npy', p_exp)"
   ]
  },
  {
   "cell_type": "code",
   "execution_count": 37,
   "metadata": {},
   "outputs": [
    {
     "data": {
      "text/plain": [
       "array([-0.03885234, -0.01304751, -0.0700935 , -0.05409943, -0.04236699,\n",
       "       -0.06662035, -0.07512558, -0.04664319, -0.06729268, -0.04858711])"
      ]
     },
     "execution_count": 37,
     "metadata": {},
     "output_type": "execute_result"
    }
   ],
   "source": []
  },
  {
   "cell_type": "code",
   "execution_count": 39,
   "metadata": {},
   "outputs": [
    {
     "data": {
      "text/plain": [
       "array([0.84551702, 0.87585314, 0.86683599, 0.87819618, 0.88397833,\n",
       "       0.83529452, 0.90377233, 0.88774731, 0.86372933, 0.84456712,\n",
       "       0.86610128, 0.86751381, 0.79801956, 0.92775074, 0.86453251,\n",
       "       0.86601414, 0.87669903])"
      ]
     },
     "execution_count": 39,
     "metadata": {},
     "output_type": "execute_result"
    }
   ],
   "source": []
  },
  {
   "cell_type": "code",
   "execution_count": 73,
   "metadata": {},
   "outputs": [
    {
     "data": {
      "text/html": [
       "<div>\n",
       "<style scoped>\n",
       "    .dataframe tbody tr th:only-of-type {\n",
       "        vertical-align: middle;\n",
       "    }\n",
       "\n",
       "    .dataframe tbody tr th {\n",
       "        vertical-align: top;\n",
       "    }\n",
       "\n",
       "    .dataframe thead th {\n",
       "        text-align: right;\n",
       "    }\n",
       "</style>\n",
       "<table border=\"1\" class=\"dataframe\">\n",
       "  <thead>\n",
       "    <tr style=\"text-align: right;\">\n",
       "      <th></th>\n",
       "      <th>Description</th>\n",
       "      <th>pvalue</th>\n",
       "    </tr>\n",
       "  </thead>\n",
       "  <tbody>\n",
       "    <tr>\n",
       "      <th>0</th>\n",
       "      <td>HALLMARK_COAGULATION</td>\n",
       "      <td>9.033616e-31</td>\n",
       "    </tr>\n",
       "    <tr>\n",
       "      <th>1</th>\n",
       "      <td>HALLMARK_APOPTOSIS</td>\n",
       "      <td>1.538968e-26</td>\n",
       "    </tr>\n",
       "    <tr>\n",
       "      <th>2</th>\n",
       "      <td>HALLMARK_DNA_REPAIR</td>\n",
       "      <td>1.135789e-24</td>\n",
       "    </tr>\n",
       "    <tr>\n",
       "      <th>3</th>\n",
       "      <td>HALLMARK_APICAL_JUNCTION</td>\n",
       "      <td>1.340319e-20</td>\n",
       "    </tr>\n",
       "    <tr>\n",
       "      <th>4</th>\n",
       "      <td>HALLMARK_INTERFERON_GAMMA_RESPONSE</td>\n",
       "      <td>9.466889e-17</td>\n",
       "    </tr>\n",
       "    <tr>\n",
       "      <th>5</th>\n",
       "      <td>HALLMARK_BILE_ACID_METABOLISM</td>\n",
       "      <td>6.400703e-16</td>\n",
       "    </tr>\n",
       "    <tr>\n",
       "      <th>6</th>\n",
       "      <td>HALLMARK_PANCREAS_BETA_CELLS</td>\n",
       "      <td>1.350776e-15</td>\n",
       "    </tr>\n",
       "    <tr>\n",
       "      <th>7</th>\n",
       "      <td>HALLMARK_COMPLEMENT</td>\n",
       "      <td>6.458875e-14</td>\n",
       "    </tr>\n",
       "    <tr>\n",
       "      <th>8</th>\n",
       "      <td>HALLMARK_TGF_BETA_SIGNALING</td>\n",
       "      <td>2.144005e-13</td>\n",
       "    </tr>\n",
       "    <tr>\n",
       "      <th>9</th>\n",
       "      <td>HALLMARK_P53_PATHWAY</td>\n",
       "      <td>6.742763e-12</td>\n",
       "    </tr>\n",
       "    <tr>\n",
       "      <th>10</th>\n",
       "      <td>HALLMARK_XENOBIOTIC_METABOLISM</td>\n",
       "      <td>3.038132e-11</td>\n",
       "    </tr>\n",
       "    <tr>\n",
       "      <th>11</th>\n",
       "      <td>HALLMARK_IL6_JAK_STAT3_SIGNALING</td>\n",
       "      <td>1.364285e-09</td>\n",
       "    </tr>\n",
       "    <tr>\n",
       "      <th>12</th>\n",
       "      <td>HALLMARK_ANDROGEN_RESPONSE</td>\n",
       "      <td>4.581817e-09</td>\n",
       "    </tr>\n",
       "    <tr>\n",
       "      <th>13</th>\n",
       "      <td>HALLMARK_E2F_TARGETS</td>\n",
       "      <td>5.577044e-09</td>\n",
       "    </tr>\n",
       "    <tr>\n",
       "      <th>14</th>\n",
       "      <td>HALLMARK_UNFOLDED_PROTEIN_RESPONSE</td>\n",
       "      <td>8.848548e-09</td>\n",
       "    </tr>\n",
       "    <tr>\n",
       "      <th>15</th>\n",
       "      <td>HALLMARK_ANGIOGENESIS</td>\n",
       "      <td>5.688986e-08</td>\n",
       "    </tr>\n",
       "    <tr>\n",
       "      <th>16</th>\n",
       "      <td>HALLMARK_APICAL_SURFACE</td>\n",
       "      <td>9.328143e-08</td>\n",
       "    </tr>\n",
       "    <tr>\n",
       "      <th>17</th>\n",
       "      <td>HALLMARK_MYC_TARGETS_V2</td>\n",
       "      <td>9.645467e-08</td>\n",
       "    </tr>\n",
       "    <tr>\n",
       "      <th>18</th>\n",
       "      <td>HALLMARK_EPITHELIAL_MESENCHYMAL_TRANSITION</td>\n",
       "      <td>4.603500e-07</td>\n",
       "    </tr>\n",
       "    <tr>\n",
       "      <th>19</th>\n",
       "      <td>HALLMARK_GLYCOLYSIS</td>\n",
       "      <td>1.457971e-06</td>\n",
       "    </tr>\n",
       "    <tr>\n",
       "      <th>20</th>\n",
       "      <td>HALLMARK_INFLAMMATORY_RESPONSE</td>\n",
       "      <td>1.604574e-06</td>\n",
       "    </tr>\n",
       "    <tr>\n",
       "      <th>21</th>\n",
       "      <td>HALLMARK_HYPOXIA</td>\n",
       "      <td>3.324912e-06</td>\n",
       "    </tr>\n",
       "    <tr>\n",
       "      <th>22</th>\n",
       "      <td>HALLMARK_CHOLESTEROL_HOMEOSTASIS</td>\n",
       "      <td>4.794299e-04</td>\n",
       "    </tr>\n",
       "    <tr>\n",
       "      <th>23</th>\n",
       "      <td>HALLMARK_TNFA_SIGNALING_VIA_NFKB</td>\n",
       "      <td>5.392522e-04</td>\n",
       "    </tr>\n",
       "    <tr>\n",
       "      <th>24</th>\n",
       "      <td>HALLMARK_INTERFERON_ALPHA_RESPONSE</td>\n",
       "      <td>6.133587e-04</td>\n",
       "    </tr>\n",
       "    <tr>\n",
       "      <th>25</th>\n",
       "      <td>HALLMARK_PEROXISOME</td>\n",
       "      <td>1.048244e-03</td>\n",
       "    </tr>\n",
       "    <tr>\n",
       "      <th>26</th>\n",
       "      <td>HALLMARK_ESTROGEN_RESPONSE_EARLY</td>\n",
       "      <td>1.446594e-03</td>\n",
       "    </tr>\n",
       "    <tr>\n",
       "      <th>27</th>\n",
       "      <td>HALLMARK_UV_RESPONSE_DN</td>\n",
       "      <td>1.648336e-03</td>\n",
       "    </tr>\n",
       "    <tr>\n",
       "      <th>28</th>\n",
       "      <td>HALLMARK_SPERMATOGENESIS</td>\n",
       "      <td>5.056077e-03</td>\n",
       "    </tr>\n",
       "    <tr>\n",
       "      <th>29</th>\n",
       "      <td>HALLMARK_MTORC1_SIGNALING</td>\n",
       "      <td>5.275401e-03</td>\n",
       "    </tr>\n",
       "    <tr>\n",
       "      <th>30</th>\n",
       "      <td>HALLMARK_PROTEIN_SECRETION</td>\n",
       "      <td>7.711687e-03</td>\n",
       "    </tr>\n",
       "    <tr>\n",
       "      <th>31</th>\n",
       "      <td>HALLMARK_FATTY_ACID_METABOLISM</td>\n",
       "      <td>1.324520e-02</td>\n",
       "    </tr>\n",
       "    <tr>\n",
       "      <th>32</th>\n",
       "      <td>HALLMARK_HEDGEHOG_SIGNALING</td>\n",
       "      <td>1.366832e-02</td>\n",
       "    </tr>\n",
       "    <tr>\n",
       "      <th>33</th>\n",
       "      <td>HALLMARK_MYC_TARGETS_V1</td>\n",
       "      <td>2.228288e-02</td>\n",
       "    </tr>\n",
       "    <tr>\n",
       "      <th>34</th>\n",
       "      <td>HALLMARK_IL2_STAT5_SIGNALING</td>\n",
       "      <td>3.303588e-02</td>\n",
       "    </tr>\n",
       "    <tr>\n",
       "      <th>35</th>\n",
       "      <td>HALLMARK_HEME_METABOLISM</td>\n",
       "      <td>3.815830e-02</td>\n",
       "    </tr>\n",
       "    <tr>\n",
       "      <th>36</th>\n",
       "      <td>HALLMARK_KRAS_SIGNALING_DN</td>\n",
       "      <td>4.553708e-02</td>\n",
       "    </tr>\n",
       "    <tr>\n",
       "      <th>37</th>\n",
       "      <td>HALLMARK_UV_RESPONSE_UP</td>\n",
       "      <td>6.064297e-02</td>\n",
       "    </tr>\n",
       "    <tr>\n",
       "      <th>38</th>\n",
       "      <td>HALLMARK_G2M_CHECKPOINT</td>\n",
       "      <td>8.603666e-02</td>\n",
       "    </tr>\n",
       "    <tr>\n",
       "      <th>39</th>\n",
       "      <td>HALLMARK_ADIPOGENESIS</td>\n",
       "      <td>9.068297e-02</td>\n",
       "    </tr>\n",
       "    <tr>\n",
       "      <th>40</th>\n",
       "      <td>HALLMARK_MITOTIC_SPINDLE</td>\n",
       "      <td>9.740252e-02</td>\n",
       "    </tr>\n",
       "    <tr>\n",
       "      <th>41</th>\n",
       "      <td>HALLMARK_KRAS_SIGNALING_UP</td>\n",
       "      <td>1.366991e-01</td>\n",
       "    </tr>\n",
       "    <tr>\n",
       "      <th>42</th>\n",
       "      <td>HALLMARK_REACTIVE_OXYGEN_SPECIES_PATHWAY</td>\n",
       "      <td>1.406215e-01</td>\n",
       "    </tr>\n",
       "    <tr>\n",
       "      <th>43</th>\n",
       "      <td>HALLMARK_ALLOGRAFT_REJECTION</td>\n",
       "      <td>2.064056e-01</td>\n",
       "    </tr>\n",
       "    <tr>\n",
       "      <th>44</th>\n",
       "      <td>HALLMARK_ESTROGEN_RESPONSE_LATE</td>\n",
       "      <td>2.121041e-01</td>\n",
       "    </tr>\n",
       "    <tr>\n",
       "      <th>45</th>\n",
       "      <td>HALLMARK_MYOGENESIS</td>\n",
       "      <td>2.870950e-01</td>\n",
       "    </tr>\n",
       "    <tr>\n",
       "      <th>46</th>\n",
       "      <td>HALLMARK_NOTCH_SIGNALING</td>\n",
       "      <td>4.322595e-01</td>\n",
       "    </tr>\n",
       "    <tr>\n",
       "      <th>47</th>\n",
       "      <td>HALLMARK_PI3K_AKT_MTOR_SIGNALING</td>\n",
       "      <td>6.430304e-01</td>\n",
       "    </tr>\n",
       "    <tr>\n",
       "      <th>48</th>\n",
       "      <td>HALLMARK_OXIDATIVE_PHOSPHORYLATION</td>\n",
       "      <td>8.399400e-01</td>\n",
       "    </tr>\n",
       "    <tr>\n",
       "      <th>49</th>\n",
       "      <td>HALLMARK_WNT_BETA_CATENIN_SIGNALING</td>\n",
       "      <td>9.042423e-01</td>\n",
       "    </tr>\n",
       "  </tbody>\n",
       "</table>\n",
       "</div>"
      ],
      "text/plain": [
       "                                   Description        pvalue\n",
       "0                         HALLMARK_COAGULATION  9.033616e-31\n",
       "1                           HALLMARK_APOPTOSIS  1.538968e-26\n",
       "2                          HALLMARK_DNA_REPAIR  1.135789e-24\n",
       "3                     HALLMARK_APICAL_JUNCTION  1.340319e-20\n",
       "4           HALLMARK_INTERFERON_GAMMA_RESPONSE  9.466889e-17\n",
       "5                HALLMARK_BILE_ACID_METABOLISM  6.400703e-16\n",
       "6                 HALLMARK_PANCREAS_BETA_CELLS  1.350776e-15\n",
       "7                          HALLMARK_COMPLEMENT  6.458875e-14\n",
       "8                  HALLMARK_TGF_BETA_SIGNALING  2.144005e-13\n",
       "9                         HALLMARK_P53_PATHWAY  6.742763e-12\n",
       "10              HALLMARK_XENOBIOTIC_METABOLISM  3.038132e-11\n",
       "11            HALLMARK_IL6_JAK_STAT3_SIGNALING  1.364285e-09\n",
       "12                  HALLMARK_ANDROGEN_RESPONSE  4.581817e-09\n",
       "13                        HALLMARK_E2F_TARGETS  5.577044e-09\n",
       "14          HALLMARK_UNFOLDED_PROTEIN_RESPONSE  8.848548e-09\n",
       "15                       HALLMARK_ANGIOGENESIS  5.688986e-08\n",
       "16                     HALLMARK_APICAL_SURFACE  9.328143e-08\n",
       "17                     HALLMARK_MYC_TARGETS_V2  9.645467e-08\n",
       "18  HALLMARK_EPITHELIAL_MESENCHYMAL_TRANSITION  4.603500e-07\n",
       "19                         HALLMARK_GLYCOLYSIS  1.457971e-06\n",
       "20              HALLMARK_INFLAMMATORY_RESPONSE  1.604574e-06\n",
       "21                            HALLMARK_HYPOXIA  3.324912e-06\n",
       "22            HALLMARK_CHOLESTEROL_HOMEOSTASIS  4.794299e-04\n",
       "23            HALLMARK_TNFA_SIGNALING_VIA_NFKB  5.392522e-04\n",
       "24          HALLMARK_INTERFERON_ALPHA_RESPONSE  6.133587e-04\n",
       "25                         HALLMARK_PEROXISOME  1.048244e-03\n",
       "26            HALLMARK_ESTROGEN_RESPONSE_EARLY  1.446594e-03\n",
       "27                     HALLMARK_UV_RESPONSE_DN  1.648336e-03\n",
       "28                    HALLMARK_SPERMATOGENESIS  5.056077e-03\n",
       "29                   HALLMARK_MTORC1_SIGNALING  5.275401e-03\n",
       "30                  HALLMARK_PROTEIN_SECRETION  7.711687e-03\n",
       "31              HALLMARK_FATTY_ACID_METABOLISM  1.324520e-02\n",
       "32                 HALLMARK_HEDGEHOG_SIGNALING  1.366832e-02\n",
       "33                     HALLMARK_MYC_TARGETS_V1  2.228288e-02\n",
       "34                HALLMARK_IL2_STAT5_SIGNALING  3.303588e-02\n",
       "35                    HALLMARK_HEME_METABOLISM  3.815830e-02\n",
       "36                  HALLMARK_KRAS_SIGNALING_DN  4.553708e-02\n",
       "37                     HALLMARK_UV_RESPONSE_UP  6.064297e-02\n",
       "38                     HALLMARK_G2M_CHECKPOINT  8.603666e-02\n",
       "39                       HALLMARK_ADIPOGENESIS  9.068297e-02\n",
       "40                    HALLMARK_MITOTIC_SPINDLE  9.740252e-02\n",
       "41                  HALLMARK_KRAS_SIGNALING_UP  1.366991e-01\n",
       "42    HALLMARK_REACTIVE_OXYGEN_SPECIES_PATHWAY  1.406215e-01\n",
       "43                HALLMARK_ALLOGRAFT_REJECTION  2.064056e-01\n",
       "44             HALLMARK_ESTROGEN_RESPONSE_LATE  2.121041e-01\n",
       "45                         HALLMARK_MYOGENESIS  2.870950e-01\n",
       "46                    HALLMARK_NOTCH_SIGNALING  4.322595e-01\n",
       "47            HALLMARK_PI3K_AKT_MTOR_SIGNALING  6.430304e-01\n",
       "48          HALLMARK_OXIDATIVE_PHOSPHORYLATION  8.399400e-01\n",
       "49         HALLMARK_WNT_BETA_CATENIN_SIGNALING  9.042423e-01"
      ]
     },
     "execution_count": 73,
     "metadata": {},
     "output_type": "execute_result"
    }
   ],
   "source": [
    "pd.read_csv('NFE2L2.csv')"
   ]
  }
 ],
 "metadata": {
  "kernelspec": {
   "display_name": "Python 3.7.0 ('deepbio')",
   "language": "python",
   "name": "python3"
  },
  "language_info": {
   "codemirror_mode": {
    "name": "ipython",
    "version": 3
   },
   "file_extension": ".py",
   "mimetype": "text/x-python",
   "name": "python",
   "nbconvert_exporter": "python",
   "pygments_lexer": "ipython3",
   "version": "3.7.0"
  },
  "orig_nbformat": 4,
  "vscode": {
   "interpreter": {
    "hash": "6acab715838f00affcecba94e2037a8e32fb53ad3a082152ed1c0f4b0ff3b1f7"
   }
  }
 },
 "nbformat": 4,
 "nbformat_minor": 2
}
