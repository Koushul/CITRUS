{
 "cells": [
  {
   "cell_type": "code",
   "execution_count": 1,
   "metadata": {},
   "outputs": [],
   "source": [
    "import pandas as pd\n",
    "import numpy as np\n",
    "from tqdm.notebook import tqdm"
   ]
  },
  {
   "cell_type": "code",
   "execution_count": 2,
   "metadata": {},
   "outputs": [],
   "source": [
    "hallmark = pd.read_excel('/ihome/hosmanbeyoglu/kor11/tools/CITRUS/FW__MCF10A_wild_type_and_PIK3CA_H1047R_knock-in_cell_lines/Supplementary Table S4.xlsx', \n",
    "    sheet_name='MCF10A_hallmark_PI3K_Inhibition')"
   ]
  },
  {
   "cell_type": "code",
   "execution_count": 3,
   "metadata": {},
   "outputs": [],
   "source": [
    "from utils import Data, get_ppi_edge_list\n",
    "\n",
    "data_csv = Data(\n",
    "    fGEP_SGA = 'data/CITRUS_GEP_SGAseparated.csv',\n",
    "    fgene_tf_SGA = 'data/CITRUS_gene_tf_SGAseparated.csv',\n",
    "    fcancerType_SGA = 'data/CITRUS_canType_SGAseparated.csv',\n",
    "    fSGA_SGA = 'data/CITRUS_SGA_SGAseparated.csv',\n",
    ")"
   ]
  },
  {
   "cell_type": "code",
   "execution_count": 4,
   "metadata": {},
   "outputs": [
    {
     "name": "stderr",
     "output_type": "stream",
     "text": [
      "\u001b[38;21m(utils.py : 457) -    DEBUG | Loaded 352251 edges from the SIGNOR and SNAP Networks\u001b[0m\n"
     ]
    }
   ],
   "source": [
    "ppi = pd.DataFrame(get_ppi_edge_list(sparse=False)[:, :2], columns=['A', 'B'])"
   ]
  },
  {
   "cell_type": "code",
   "execution_count": 5,
   "metadata": {},
   "outputs": [],
   "source": [
    "# tf_ppi = ppi[ppi.A.isin(data_csv.tf) | ppi.B.isin(data_csv.tf)]\n",
    "# tfs = pd.DataFrame(data_csv.tf)\n",
    "# tfs.columns = ['tf']\n",
    "# tfs['interacts_with'] = tfs.tf.apply(lambda x: set(tf_ppi[(tf_ppi==x).any(axis=1)].values.reshape(-1)))\n",
    "# tfs = dict(zip(tfs['tf'], tfs['interacts_with']))\n",
    "# def does_interact(tf, geneset):\n",
    "#     if tf in geneset or len(tfs.get(tf, set()).intersection(geneset)) > 0:\n",
    "#         return True            \n",
    "#     return False"
   ]
  },
  {
   "cell_type": "code",
   "execution_count": 6,
   "metadata": {},
   "outputs": [],
   "source": [
    "# pbar = tqdm(total=len(hallmark.values))\n",
    "# hallmark_mask = np.zeros((hallmark.shape[0], len(data_csv.tf)), dtype=int)\n",
    "\n",
    "# for idx, (pathway, genes) in enumerate(hallmark.values):\n",
    "#     for idy, tf in enumerate(data_csv.tf):\n",
    "#         pbar.set_description(f'{pathway[9:]} | ({idy}/{len(data_csv.tf)}) - {tf}')\n",
    "#         if does_interact(tf, genes.split('/')):\n",
    "#             hallmark_mask[idx, idy] = 1\n",
    "    \n",
    "#     pbar.update(1)\n",
    "# pbar.close()\n",
    "\n",
    "# np.save('hallmark_mask.npy', hallmark_mask)"
   ]
  },
  {
   "cell_type": "code",
   "execution_count": 7,
   "metadata": {},
   "outputs": [],
   "source": [
    "hallmark_mask = np.load('hallmark_mask.npy')"
   ]
  },
  {
   "cell_type": "code",
   "execution_count": 8,
   "metadata": {},
   "outputs": [],
   "source": [
    "import os\n",
    "import argparse\n",
    "from utils import bool_ext, load_dataset, split_dataset, evaluate, checkCorrelations\n",
    "from models import CITRUS\n",
    "import pickle\n",
    "import torch\n",
    "import numpy as np\n",
    "import pandas as pd\n",
    "import warnings \n",
    "from pathlib import Path\n",
    "from tqdm.notebook import tqdm\n",
    "warnings.filterwarnings(\"ignore\")\n",
    "from sklearn import metrics\n",
    "\n",
    "import yaml\n",
    "\n",
    "with open('args.yaml', 'r') as f:\n",
    "    args_dict = yaml.safe_load(f)\n",
    "\n",
    "device = 'cuda' if torch.cuda.is_available() else 'cpu'\n",
    "\n",
    "if device == 'cuda':\n",
    "    device_name = torch.cuda.get_device_name(0)\n",
    "else:\n",
    "    device_name = 'cpu'\n",
    "\n",
    "\n",
    "parser = argparse.ArgumentParser()\n",
    "args = argparse.Namespace(**args_dict)\n",
    "args.tf_gene = np.load('tf_gene.npy')"
   ]
  },
  {
   "cell_type": "code",
   "execution_count": 9,
   "metadata": {},
   "outputs": [
    {
     "data": {
      "application/vnd.jupyter.widget-view+json": {
       "model_id": "5077f9a01dd34935998deb5539815ccc",
       "version_major": 2,
       "version_minor": 0
      },
      "text/plain": [
       "  0%|          | 0/13 [00:00<?, ?it/s]"
      ]
     },
     "metadata": {},
     "output_type": "display_data"
    },
    {
     "name": "stdout",
     "output_type": "stream",
     "text": [
      "Saving model to ./output/model_4.pth\n"
     ]
    }
   ],
   "source": [
    "dataset, dataset_test = load_dataset(\n",
    "    input_dir=args.input_dir,\n",
    "    mask01=args.mask01,\n",
    "    dataset_name=args.dataset_name,\n",
    "    gep_normalization=args.gep_normalization,\n",
    ")\n",
    "\n",
    "train_set, test_set = split_dataset(dataset, ratio=0.66)\n",
    "\n",
    "daata = pickle.load( open(\"/ihome/hosmanbeyoglu/kor11/tools/CITRUS/data/dataset_CITRUS.pkl\", \"rb\") )\n",
    "cancers = daata['idx2can']\n",
    "\n",
    "\n",
    "models = []\n",
    "for m in tqdm(list(Path('./output').iterdir())):\n",
    "    model = CITRUS(args) \n",
    "    model.build(device=device)\n",
    "    model.to(device);\n",
    "    model.load_state_dict(torch.load(m, map_location=torch.device('cpu')))\n",
    "    model.eval()\n",
    "\n",
    "    preds, tf, hid_tmr, tf, _, _  = model.forward(\n",
    "                torch.tensor(test_set['sga']), \n",
    "                torch.from_numpy(test_set['can'])\n",
    "            )\n",
    "        \n",
    "    genes_ = test_set['gep'].shape[1]\n",
    "    test_df = pd.DataFrame(np.concatenate([test_set['gep'], \n",
    "                                            test_set['can'], \n",
    "                                            preds.detach().cpu().numpy()], axis=1))\n",
    "\n",
    "    test_cancers = {}\n",
    "    for ix, canc in cancers.items():\n",
    "        test_cancers[canc] =  {}\n",
    "        test_cancers[canc]['test'] = test_df[test_df[genes_]==ix+1].values[:, :genes_]    \n",
    "        test_cancers[canc]['pred'] = test_df[test_df[genes_]==ix+1].values[:, genes_+1:] \n",
    "        \n",
    "    o = ['BLCA', 'BRCA', 'CESC', 'COAD', \n",
    "        'ESCA', 'GBM', 'HNSC', 'KIRC', \n",
    "        'KIRP', 'LIHC', 'LUAD', 'LUSC', \n",
    "        'PCPG', 'PRAD', 'STAD', 'THCA', \n",
    "        'UCEC']\n",
    "\n",
    "    _corrs = []\n",
    "    _mses = []\n",
    "    for canc in o:\n",
    "            corr = checkCorrelations(test_cancers[canc]['test'], test_cancers[canc]['pred'], return_value=True)\n",
    "            mse = metrics.mean_squared_error(test_cancers[canc]['test'], test_cancers[canc]['pred'])\n",
    "            \n",
    "            _corrs.append(corr)\n",
    "            _mses.append(mse)\n",
    "            \n",
    "    model.performance = np.column_stack([_corrs, _mses])\n",
    "    model.cancers = o\n",
    "    \n",
    "    if model.my_pvals() > 0.3 and model.performance[:, 0].mean() > 0.8:\n",
    "        models.append(model)\n",
    "\n",
    "    model.save_model(os.path.join(args.output_dir, m.name))\n",
    "    break"
   ]
  },
  {
   "cell_type": "code",
   "execution_count": 10,
   "metadata": {},
   "outputs": [],
   "source": [
    "checkpoint = torch.load(m)"
   ]
  },
  {
   "cell_type": "code",
   "execution_count": null,
   "metadata": {},
   "outputs": [],
   "source": []
  },
  {
   "cell_type": "code",
   "execution_count": 14,
   "metadata": {},
   "outputs": [],
   "source": [
    "model = CITRUS(args) \n",
    "model.build(device=device)\n",
    "model.to(device);\n",
    "checkpoint = torch.load(m, map_location=torch.device('cpu'))\n",
    "model.load_state_dict(checkpoint['state_dict'])\n",
    "model.eval()\n",
    "model.performance = checkpoint['performance']\n",
    "model.cancers = checkpoint['cancers']\n",
    "model.pval_corr = checkpoint['pval_corr']\n"
   ]
  },
  {
   "cell_type": "code",
   "execution_count": 27,
   "metadata": {},
   "outputs": [
    {
     "data": {
      "text/plain": [
       "6"
      ]
     },
     "execution_count": 27,
     "metadata": {},
     "output_type": "execute_result"
    }
   ],
   "source": [
    "len(models)"
   ]
  },
  {
   "cell_type": "code",
   "execution_count": 16,
   "metadata": {},
   "outputs": [],
   "source": [
    "from captum.attr import LayerConductance, LayerActivation, LayerIntegratedGradients\n",
    "from captum.attr import IntegratedGradients\n",
    "from scipy.stats import ttest_ind\n",
    "import seaborn as sns\n",
    "from scipy.stats import spearmanr\n",
    "import matplotlib.pyplot as plt"
   ]
  },
  {
   "cell_type": "code",
   "execution_count": 17,
   "metadata": {},
   "outputs": [],
   "source": [
    "wt = pd.read_parquet('wt.parquet')\n",
    "sm_mut = pd.read_parquet('sm_mut.parquet')"
   ]
  },
  {
   "cell_type": "code",
   "execution_count": 18,
   "metadata": {},
   "outputs": [
    {
     "data": {
      "application/vnd.jupyter.widget-view+json": {
       "model_id": "75f45dc03b604d0ba69540966ff80691",
       "version_major": 2,
       "version_minor": 0
      },
      "text/plain": [
       "  0%|          | 0/1 [00:00<?, ?it/s]"
      ]
     },
     "metadata": {},
     "output_type": "display_data"
    }
   ],
   "source": [
    "R = None\n",
    "S = None\n",
    "\n",
    "for model in tqdm(models):\n",
    "    model.eval()\n",
    "\n",
    "    X = torch.from_numpy(model.sga)[model.idx]\n",
    "    C = torch.from_numpy(model.can[model.idx])\n",
    "    r = model(X, C, pathways=True).data.numpy()\n",
    "\n",
    "    if R is None:\n",
    "        R = r\n",
    "    else:\n",
    "        R += r\n",
    "\n",
    "    X = torch.from_numpy(model.sga)[model.idy]\n",
    "    C = torch.from_numpy(model.can[model.idy])\n",
    "    s = model(X, C, pathways=True).data.numpy()\n",
    "\n",
    "    if S is None:\n",
    "        S = s\n",
    "    else:\n",
    "        S += s    "
   ]
  },
  {
   "cell_type": "code",
   "execution_count": 19,
   "metadata": {},
   "outputs": [
    {
     "data": {
      "text/plain": [
       "((351, 50), (198, 50))"
      ]
     },
     "execution_count": 19,
     "metadata": {},
     "output_type": "execute_result"
    }
   ],
   "source": [
    "R.shape, S.shape"
   ]
  },
  {
   "cell_type": "code",
   "execution_count": 20,
   "metadata": {},
   "outputs": [],
   "source": [
    "R = R / len(models)\n",
    "S = S / len(models)"
   ]
  },
  {
   "cell_type": "code",
   "execution_count": 21,
   "metadata": {},
   "outputs": [],
   "source": [
    "p_predicted = pd.DataFrame(ttest_ind(R, S).pvalue, \n",
    "        index=hallmark.Description, \n",
    "        columns=['pvalue']).sort_values(by='pvalue', ascending=True).loc[hallmark.Description].pvalue.values"
   ]
  },
  {
   "cell_type": "code",
   "execution_count": 22,
   "metadata": {},
   "outputs": [],
   "source": [
    "p_exp = hallmark['pvalue'].values"
   ]
  },
  {
   "cell_type": "code",
   "execution_count": 23,
   "metadata": {},
   "outputs": [],
   "source": [
    "np.save('p_predicted.npy', p_predicted)\n",
    "np.save('p_exp.npy', p_exp)"
   ]
  },
  {
   "cell_type": "code",
   "execution_count": 24,
   "metadata": {},
   "outputs": [
    {
     "data": {
      "image/png": "[encoded data removed]",
      "text/plain": [
       "<Figure size 432x288 with 1 Axes>"
      ]
     },
     "metadata": {
      "needs_background": "light"
     },
     "output_type": "display_data"
    }
   ],
   "source": [
    "sns.scatterplot(-np.log(p_predicted), -np.log(p_exp))\n",
    "plt.title(f'spearmanr: {spearmanr(p_predicted, p_exp).correlation:.5f}')\n",
    "plt.show()"
   ]
  },
  {
   "cell_type": "code",
   "execution_count": 82,
   "metadata": {},
   "outputs": [],
   "source": []
  },
  {
   "cell_type": "code",
   "execution_count": null,
   "metadata": {},
   "outputs": [],
   "source": []
  },
  {
   "cell_type": "code",
   "execution_count": null,
   "metadata": {},
   "outputs": [],
   "source": [
    "# M = model\n",
    "# M.analysis_mode = True\n",
    "# lc = LayerConductance(M, M.pathways)\n",
    "\n",
    "# results = []\n",
    "# AA = []\n",
    "\n",
    "# for frame, name in zip([wt, sm_mut, scna_mut, sm_scna_mut], ['WT', 'SM', 'SCNA', 'SM_SCNA']):\n",
    "#     if len(frame) == 0:\n",
    "#         break\n",
    "#     scores = []\n",
    "\n",
    "#     idx = xdf[xdf.id.isin(frame.index)].idx.values\n",
    "#     X = torch.from_numpy(dataset['sga'])\n",
    "\n",
    "#     # G = [i for i in data.gene_tf_sga.index if 'AKT' in i] + [i for i in data.gene_tf_sga.index if 'PIK' in i]\n",
    "#     # G = ['PIK3CA']\n",
    "#     # G = [i for i in data.gene_tf_sga.index if 'AKT' in i]\n",
    "#     # G = [i for i in data.gene_tf_sga.index if 'PIK' in i]\n",
    "    \n",
    "#     # G = ['AKT1', 'PIK3CA', 'AKT2']\n",
    "    \n",
    "#     G = ['NFE2L2']\n",
    "    \n",
    "#     # G = merged2['PI3K/AKT Signaling in Cancer']\n",
    "    \n",
    "#     # G = ['AKT1']\n",
    "\n",
    "#     for ix in tqdm([list(data.gep_sga.columns).index(g) for g in G if g in data.gep_sga.columns]):\n",
    "#         a = lc.attribute((X[idx], torch.from_numpy(dataset['can'][idx])), n_steps=5, \n",
    "#                         attribute_to_layer_input=True, target=[ix]*len(X[idx]))\n",
    "#         ig_attr_test_sum = a.detach().cpu().numpy().sum(0)\n",
    "#         ig_attr_test_norm_sum = ig_attr_test_sum / np.linalg.norm(ig_attr_test_sum, ord=1)\n",
    "#         scores.append(ig_attr_test_norm_sum)\n",
    "        \n",
    "#     AA.append(a)\n",
    "#     g = np.array(_pathways[2])\n",
    "#     at = np.sum(scores, 0)\n",
    "\n",
    "#     assert g.shape == at.shape\n",
    "\n",
    "#     df = pd.DataFrame([g, at]).T\n",
    "#     df.columns = ['Pathways', f'score_{name}']\n",
    "#     results.append(df.set_index('Pathways'))\n",
    "    \n",
    "# AA = np.array([i.detach().numpy() for i in AA])"
   ]
  }
 ],
 "metadata": {
  "kernelspec": {
   "display_name": "Python 3.8.8",
   "language": "python",
   "name": "python3"
  },
  "language_info": {
   "codemirror_mode": {
    "name": "ipython",
    "version": 3
   },
   "file_extension": ".py",
   "mimetype": "text/x-python",
   "name": "python",
   "nbconvert_exporter": "python",
   "pygments_lexer": "ipython3",
   "version": "3.8.8"
  },
  "orig_nbformat": 4,
  "vscode": {
   "interpreter": {
    "hash": "5ca4c60b9725142802a45bac1edd24b8f9bd942fe20cefa4620c7c67c6b30065"
   }
  }
 },
 "nbformat": 4,
 "nbformat_minor": 2
}
