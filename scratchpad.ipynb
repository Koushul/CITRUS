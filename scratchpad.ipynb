{
 "cells": [
  {
   "cell_type": "code",
   "execution_count": 15,
   "metadata": {},
   "outputs": [],
   "source": [
    "import seaborn as sns\n",
    "import matplotlib.pyplot as plt\n",
    "import numpy as np\n",
    "import pandas as pd\n",
    "import torch\n",
    "import argparse\n",
    "from utils import cfh, logger, Data, bool_ext, checkCorrelations, generate_masks_from_ppi\n",
    "import os\n",
    "import argparse\n",
    "import random\n",
    "from utils import cfh, logger, Data, bool_ext, checkCorrelations, generate_masks_from_ppi\n",
    "from biomodels import BioCitrus\n",
    "import torch\n",
    "import numpy as np\n",
    "import sys\n",
    "from biomodels import weightConstraint\n",
    "from utils import logger, get_minibatch, evaluate, EarlyStopping, shuffle_data\n",
    "from tqdm import tqdm\n",
    "from pathlib import Path\n",
    "from IPython.display import clear_output\n",
    "from collections import Counter\n",
    "import warnings\n",
    "\n",
    "%load_ext autoreload\n",
    "%autoreload 2\n",
    "warnings.filterwarnings(\"ignore\") ##This is bad but temporary"
   ]
  },
  {
   "cell_type": "code",
   "execution_count": 16,
   "metadata": {},
   "outputs": [],
   "source": [
    "data = Data(\n",
    "    fGEP_SGA = 'data/CITRUS_GEP_SGAseparated.csv',\n",
    "    fgene_tf_SGA = 'data/CITRUS_gene_tf_SGAseparated.csv',\n",
    "    fcancerType_SGA = 'data/CITRUS_canType_SGAseparated.csv',\n",
    "    fSGA_SGA = 'data/CITRUS_SGA_SGAseparated.csv',\n",
    ")"
   ]
  },
  {
   "cell_type": "code",
   "execution_count": 20,
   "metadata": {},
   "outputs": [
    {
     "data": {
      "text/plain": [
       "10552"
      ]
     },
     "execution_count": 20,
     "metadata": {},
     "output_type": "execute_result"
    }
   ],
   "source": [
    "np.unique([i.split('_')[1] for i in data.sga_sga.columns]).__len__()"
   ]
  },
  {
   "cell_type": "code",
   "execution_count": 97,
   "metadata": {},
   "outputs": [],
   "source": [
    "_dual_alterations = np.array([('SM_'+i, 'SCNA_'+i) for i in data.sga_genes]).reshape(-1)\n",
    "df = pd.DataFrame(columns=_dual_alterations)\n",
    "df = data.sga_sga.reindex(columns=set(_dual_alterations).union(set(data.sga_sga.columns))).fillna(0)\n",
    "df = df.astype(int)\n",
    "df = df[_dual_alterations]\n"
   ]
  },
  {
   "cell_type": "code",
   "execution_count": 99,
   "metadata": {},
   "outputs": [
    {
     "data": {
      "text/plain": [
       "(5803, 21104)"
      ]
     },
     "execution_count": 99,
     "metadata": {},
     "output_type": "execute_result"
    }
   ],
   "source": [
    "df.shape"
   ]
  },
  {
   "cell_type": "code",
   "execution_count": 49,
   "metadata": {},
   "outputs": [
    {
     "data": {
      "text/plain": [
       "(5803,)"
      ]
     },
     "execution_count": 49,
     "metadata": {},
     "output_type": "execute_result"
    }
   ],
   "source": [
    "data.sga_sga.get('SM_A1BG', np.zeros(data.sga_sga.shape[0]).astype(int)).shape"
   ]
  },
  {
   "cell_type": "code",
   "execution_count": 7,
   "metadata": {},
   "outputs": [],
   "source": [
    "def pad_list(stag_arr):\n",
    "    pad = len(max(stag_arr, key=len))\n",
    "    return np.array([i + [0]*(pad-len(i)) for i in stag_arr])"
   ]
  },
  {
   "cell_type": "code",
   "execution_count": 3,
   "metadata": {},
   "outputs": [],
   "source": [
    "df = pd.DataFrame(np.where(data.sga_sga.values != 0)).T\n",
    "df.columns = ['idx', 'indices']"
   ]
  },
  {
   "cell_type": "code",
   "execution_count": 4,
   "metadata": {},
   "outputs": [],
   "source": [
    "sga = [df[df.idx==i].indices.values.tolist() for i in df.idx.unique()]"
   ]
  },
  {
   "cell_type": "code",
   "execution_count": 13,
   "metadata": {},
   "outputs": [
    {
     "data": {
      "text/plain": [
       "array([[  63,   74,   78, ...,    0,    0,    0],\n",
       "       [  49,   53,  112, ...,    0,    0,    0],\n",
       "       [ 211,  442, 1290, ...,    0,    0,    0],\n",
       "       [ 106,  113,  144, ...,    0,    0,    0]])"
      ]
     },
     "execution_count": 13,
     "metadata": {},
     "output_type": "execute_result"
    }
   ],
   "source": [
    "pad_list(sga)[[1, 3, 6, 7]]"
   ]
  },
  {
   "cell_type": "code",
   "execution_count": null,
   "metadata": {},
   "outputs": [],
   "source": [
    "# %load_ext autoreload\n",
    "# %autoreload 2"
   ]
  },
  {
   "cell_type": "code",
   "execution_count": null,
   "metadata": {},
   "outputs": [],
   "source": [
    "parser = argparse.ArgumentParser()\n",
    "\n",
    "parser.add_argument(\n",
    "    \"--input_dir\", \n",
    "    help=\"directory of input files\", \n",
    "    type=str, \n",
    "    default=\"./data\"\n",
    ")\n",
    "parser.add_argument(\n",
    "    \"--output_dir\",\n",
    "    help=\"directory of output files\",\n",
    "    type=str,\n",
    "    default=\"./output\",\n",
    ")\n",
    "\n",
    "parser.add_argument(\n",
    "    \"--algo\", \n",
    "    help=\"clustering algorithm to use on the portein-protein network (DPCLUS, MCODE, COACH)\", \n",
    "    type=str, \n",
    "    default='COACH'\n",
    ")\n",
    "\n",
    "\n",
    "parser.add_argument(\n",
    "    \"--learning_rate\", \n",
    "    help=\"learning rate for Adam\", \n",
    "    type=float, \n",
    "    default=1e-2\n",
    ")\n",
    "parser.add_argument(\n",
    "    \"--max_iter\", \n",
    "    help=\"maximum number of training iterations\", \n",
    "    type=int, \n",
    "    default=300\n",
    ")\n",
    "parser.add_argument(\n",
    "    \"--max_fscore\",\n",
    "    help=\"Max F1 score to early stop model from training\",\n",
    "    type=float,\n",
    "    default=0.7\n",
    ")\n",
    "parser.add_argument(\n",
    "    \"--batch_size\", \n",
    "    help=\"training batch size\", \n",
    "    type=int, \n",
    "    default=100\n",
    ")\n",
    "parser.add_argument(\n",
    "    \"--test_batch_size\", \n",
    "    help=\"test batch size\", \n",
    "    type=int, \n",
    "    default=100\n",
    ")\n",
    "parser.add_argument(\n",
    "    \"--test_inc_size\",\n",
    "    help=\"increment interval size between log outputs\",\n",
    "    type=int,\n",
    "    default=256\n",
    ")\n",
    "parser.add_argument(\n",
    "    \"--dropout_rate\", \n",
    "    help=\"dropout rate\", \n",
    "    type=float, \n",
    "    default=0.1\n",
    ")\n",
    "\n",
    "parser.add_argument(\n",
    "    \"--weight_decay\", \n",
    "    help=\"coefficient of l2 regularizer\", \n",
    "    type=float, \n",
    "    default=1e-2\n",
    ")\n",
    "parser.add_argument(\n",
    "    \"--activation\",\n",
    "    help=\"activation function used in hidden layer\",\n",
    "    type=str,\n",
    "    default=\"tanh\",\n",
    ")\n",
    "parser.add_argument(\n",
    "    \"--patience\", \n",
    "    help=\"earlystopping patience\", \n",
    "    type=int, \n",
    "    default=20\n",
    ")\n",
    "parser.add_argument(\n",
    "    \"--mask01\",\n",
    "    help=\"wether to ignore the float value and convert mask to 01\",\n",
    "    type=bool_ext,\n",
    "    default=True,\n",
    ")\n",
    "parser.add_argument(\n",
    "    \"--gep_normalization\", \n",
    "    help=\"how to normalize gep\", \n",
    "    type=str, \n",
    "    default=\"scaleRow\"\n",
    ")\n",
    "\n",
    "parser.add_argument(\n",
    "    \"--cancer_type\",\n",
    "    help=\"whether to use cancer type or not\",\n",
    "    type=bool_ext,\n",
    "    default=False,\n",
    ")\n",
    "parser.add_argument(\n",
    "    \"--train_model\",\n",
    "    help=\"whether to train model or load model\",\n",
    "    type=bool_ext,\n",
    "    default=True,\n",
    ")\n",
    "parser.add_argument(\n",
    "    \"--dataset_name\",\n",
    "    help=\"the dataset name loaded and saved\",\n",
    "    type=str,\n",
    "    default=\"dataset_CITRUS\",\n",
    ")\n",
    "parser.add_argument(\n",
    "    \"--tag\", \n",
    "    help=\"a tag passed from command line\", \n",
    "    type=str, \n",
    "    default=\"\"\n",
    ")\n",
    "parser.add_argument(\n",
    "    \"--run_count\", \n",
    "    help=\"the count for training\", \n",
    "    type=str, \n",
    "    default=\"1\"\n",
    ")\n",
    "\n",
    "parser.add_argument(\n",
    "    \"--ppi_weights\", \n",
    "    help=\"\", \n",
    "    type=bool_ext, \n",
    "    default=False\n",
    ")\n",
    "\n",
    "parser.add_argument(\n",
    "    \"--verbose\", \n",
    "    help=\"\", \n",
    "    type=bool_ext, \n",
    "    default=False\n",
    ")\n",
    "\n",
    "parser.add_argument(\n",
    "    \"--constrain\", \n",
    "    help=\"force weight and biases to be strictly non-negative\", \n",
    "    type=bool_ext, \n",
    "    default=False\n",
    ")\n",
    "\n",
    "parser.add_argument(\n",
    "    \"--biases\", \n",
    "    help=\"enable all nn.Linear biases\", \n",
    "    type=bool_ext, \n",
    "    default=True\n",
    ")\n",
    "\n",
    "parser.add_argument(\n",
    "    \"--sparse\", \n",
    "    help=\"only use SIGNOR data, resulting in sparser connections\", \n",
    "    type=bool_ext, \n",
    "    default=False\n",
    ")\n",
    "\n",
    "args = parser.parse_args([])\n",
    "\n",
    "data = Data(\n",
    "    fGEP_SGA = 'data/CITRUS_GEP_SGAseparated.csv',\n",
    "    fgene_tf_SGA = 'data/CITRUS_gene_tf_SGAseparated.csv',\n",
    "    fcancerType_SGA = 'data/CITRUS_canType_SGAseparated.csv',\n",
    "    fSGA_SGA = 'data/CITRUS_SGA_SGAseparated.csv',\n",
    "    cancer_type='BRCA'\n",
    ")\n",
    "\n",
    "train_set, test_set = data.get_train_test()\n",
    "args.gep_size = train_set['gep'].shape[1]\n",
    "args.tf_gene = data.gene_tf_sga.values.T\n",
    "args.can_size = len(np.unique(data.cancer_types))\n",
    "\n",
    "\n",
    "sga_mask, sga_weights, tf_mask, tf_weights = generate_masks_from_ppi(sga = data.sga_sga, tf = data.gene_tf_sga, clust_algo=args.algo, sparse=args.sparse)\n",
    "\n",
    "\n",
    "sga_mask = sga_mask\n",
    "sga_weights = sga_weights.t()\n",
    "tf_mask = tf_mask.t()\n",
    "tf_weights = tf_weights\n"
   ]
  },
  {
   "cell_type": "code",
   "execution_count": null,
   "metadata": {},
   "outputs": [],
   "source": [
    "from captum.attr import LayerConductance, LayerActivation, LayerIntegratedGradients\n",
    "from captum.attr import IntegratedGradients"
   ]
  },
  {
   "cell_type": "code",
   "execution_count": null,
   "metadata": {},
   "outputs": [],
   "source": [
    "models = []\n",
    "for i in range(30):\n",
    "    \n",
    "    model = BioCitrus(\n",
    "        args = args, \n",
    "        sga_ppi_mask = sga_mask, \n",
    "        ppi_tf_mask = tf_mask, \n",
    "        sga_ppi_weights = None, \n",
    "        ppi_tf_weights = None,\n",
    "        enable_bias = args.biases\n",
    "    )\n",
    "\n",
    "    model.load_state_dict(torch.load(f'/ix/hosmanbeyoglu/kor11/CITRUS_models/BRCA_{i}.pth', \n",
    "                                map_location=torch.device('cpu')))\n",
    "    \n",
    "    model.eval()\n",
    "    \n",
    "    models.append(model)\n",
    "    clear_output(wait=True)"
   ]
  },
  {
   "cell_type": "code",
   "execution_count": null,
   "metadata": {},
   "outputs": [],
   "source": [
    "X = torch.tensor(test_set['sga'])\n",
    "Y = test_set['gep']"
   ]
  },
  {
   "cell_type": "code",
   "execution_count": null,
   "metadata": {},
   "outputs": [],
   "source": [
    "list(data.gep_sga.columns).index('PIK3CA')"
   ]
  },
  {
   "cell_type": "code",
   "execution_count": 3,
   "metadata": {},
   "outputs": [],
   "source": [
    "all_attr_scores = np.load('all_attr_scores.npy')"
   ]
  },
  {
   "cell_type": "code",
   "execution_count": 4,
   "metadata": {},
   "outputs": [
    {
     "ename": "NameError",
     "evalue": "name 'models' is not defined",
     "output_type": "error",
     "traceback": [
      "\u001b[0;31m---------------------------------------------------------------------------\u001b[0m",
      "\u001b[0;31mNameError\u001b[0m                                 Traceback (most recent call last)",
      "\u001b[0;32m<ipython-input-4-3efb2b221517>\u001b[0m in \u001b[0;36m<module>\u001b[0;34m\u001b[0m\n\u001b[0;32m----> 1\u001b[0;31m \u001b[0mmodels\u001b[0m \u001b[0;34m=\u001b[0m \u001b[0mnp\u001b[0m\u001b[0;34m.\u001b[0m\u001b[0marray\u001b[0m\u001b[0;34m(\u001b[0m\u001b[0mmodels\u001b[0m\u001b[0;34m)\u001b[0m\u001b[0;34m[\u001b[0m\u001b[0;34m[\u001b[0m\u001b[0;36m21\u001b[0m\u001b[0;34m,\u001b[0m \u001b[0;36m20\u001b[0m\u001b[0;34m,\u001b[0m \u001b[0;36m10\u001b[0m\u001b[0;34m,\u001b[0m \u001b[0;36m17\u001b[0m\u001b[0;34m,\u001b[0m \u001b[0;36m5\u001b[0m\u001b[0;34m,\u001b[0m \u001b[0;36m11\u001b[0m\u001b[0;34m,\u001b[0m \u001b[0;36m12\u001b[0m\u001b[0;34m,\u001b[0m \u001b[0;36m14\u001b[0m\u001b[0;34m,\u001b[0m \u001b[0;36m6\u001b[0m\u001b[0;34m,\u001b[0m \u001b[0;36m25\u001b[0m\u001b[0;34m]\u001b[0m\u001b[0;34m]\u001b[0m\u001b[0;34m\u001b[0m\u001b[0m\n\u001b[0m",
      "\u001b[0;31mNameError\u001b[0m: name 'models' is not defined"
     ]
    }
   ],
   "source": [
    "models = np.array(models)[[21, 20, 10, 17, 5, 11, 12, 14, 6, 25]]"
   ]
  },
  {
   "cell_type": "code",
   "execution_count": null,
   "metadata": {},
   "outputs": [],
   "source": [
    "dff = pd.DataFrame(all_attr_scores[0], \n",
    "    columns=data.sga_sga.columns, index=data.gep_sga.columns).sum(0).sort_values(ascending=False)"
   ]
  },
  {
   "cell_type": "code",
   "execution_count": null,
   "metadata": {},
   "outputs": [],
   "source": [
    "df = pd.DataFrame([data.sga_sga.sum().loc[dff.index].values, dff.values], \n",
    "                  columns=dff.index, index=['alt_freq', 'int_grad']).T"
   ]
  },
  {
   "cell_type": "code",
   "execution_count": null,
   "metadata": {},
   "outputs": [],
   "source": [
    "df['int_grad'] = ((df['int_grad'] - df['int_grad'].min())/(df['int_grad'].max()-df['int_grad'].min()))*10000"
   ]
  },
  {
   "cell_type": "code",
   "execution_count": null,
   "metadata": {},
   "outputs": [
    {
     "data": {
      "text/plain": [
       "1.6811278043547329"
      ]
     },
     "execution_count": 17,
     "metadata": {},
     "output_type": "execute_result"
    }
   ],
   "source": [
    "df['int_grad'].mean()"
   ]
  },
  {
   "cell_type": "code",
   "execution_count": null,
   "metadata": {},
   "outputs": [],
   "source": [
    "df['int_grad'] = np.log10(df['int_grad'])\n",
    "df['alt_freq'] = np.log10(df['alt_freq'])"
   ]
  },
  {
   "cell_type": "code",
   "execution_count": null,
   "metadata": {},
   "outputs": [],
   "source": [
    "# plt.figure(figsize=(10, 8))\n",
    "# ax = sns.scatterplot(data=df, x='alt_freq', y='int_grad')\n",
    "# plt.xlabel('Log10 Alteration Frequency')\n",
    "# plt.ylabel('Log10 Integrated Gradient Importance')\n",
    "# # plt.savefig('frequency_plots.png', dpi=180)\n",
    "# plt.show()"
   ]
  },
  {
   "cell_type": "code",
   "execution_count": null,
   "metadata": {},
   "outputs": [],
   "source": [
    "def tf_activity(model, target_gene):\n",
    "    lc = LayerConductance(model, model.gep_output_layer)\n",
    "    ix = list(data.gep_sga.columns).index(target_gene)\n",
    "    a = lc.attribute(X, n_steps=5, attribute_to_layer_input=False, target=[ix]*len(X))\n",
    "    \n",
    "    ig_attr_test_sum = a.detach().numpy().sum(0)\n",
    "    ig_attr_test_norm_sum = ig_attr_test_sum / np.linalg.norm(ig_attr_test_sum, ord=1)\n",
    "    \n",
    "    g = np.array(data.gene_tf_sga.columns)[np.where(ig_attr_test_norm_sum != 0)[0]]\n",
    "    at = ig_attr_test_norm_sum[np.where(ig_attr_test_norm_sum != 0)[0]]\n",
    "    \n",
    "    df = pd.DataFrame([g, at]).T\n",
    "    df.columns = ['TF', 'score']\n",
    "    \n",
    "    return df.sort_values(by='score', ascending=False)"
   ]
  },
  {
   "cell_type": "code",
   "execution_count": 21,
   "metadata": {},
   "outputs": [],
   "source": [
    "with open('/ihome/hosmanbeyoglu/kor11/tools/CITRUS/COACH_clusters_large.txt', \"r\") as fh:\n",
    "        lines = fh.readlines()\n",
    "        clusterindex_to_genes = {}\n",
    "        for i, c in enumerate(lines):\n",
    "            clustlist = c.strip().split(\" \")\n",
    "            if len(c) == 0:\n",
    "                continue\n",
    "            clusterindex_to_genes[i] = clustlist \n",
    "\n",
    "from collections import defaultdict\n",
    "gene_to_clusterindices = defaultdict(list) ## 'MAPK1':[0, 75, 129, 373]\n",
    "\n",
    "## Create mapping between genes and the protein clusters\n",
    "for c in clusterindex_to_genes.keys():\n",
    "    for g in clusterindex_to_genes[c]:\n",
    "        gene_to_clusterindices[g].append(c)  "
   ]
  },
  {
   "cell_type": "code",
   "execution_count": null,
   "metadata": {},
   "outputs": [],
   "source": [
    "cancers = ['BLCA', 'BRCA', 'CESC', 'COAD', 'ESCA', 'GBM', 'HNSC', 'KIRC',\n",
    "       'KIRP', 'LIHC', 'LUAD', 'LUSC', 'PCPG', 'PRAD', 'STAD', 'THCA',\n",
    "       'UCEC']"
   ]
  },
  {
   "cell_type": "code",
   "execution_count": null,
   "metadata": {},
   "outputs": [
    {
     "data": {
      "text/html": [
       "<div>\n",
       "<style scoped>\n",
       "    .dataframe tbody tr th:only-of-type {\n",
       "        vertical-align: middle;\n",
       "    }\n",
       "\n",
       "    .dataframe tbody tr th {\n",
       "        vertical-align: top;\n",
       "    }\n",
       "\n",
       "    .dataframe thead th {\n",
       "        text-align: right;\n",
       "    }\n",
       "</style>\n",
       "<table border=\"1\" class=\"dataframe\">\n",
       "  <thead>\n",
       "    <tr style=\"text-align: right;\">\n",
       "      <th></th>\n",
       "      <th>cancer type</th>\n",
       "      <th>mse</th>\n",
       "      <th>pearson</th>\n",
       "    </tr>\n",
       "  </thead>\n",
       "  <tbody>\n",
       "    <tr>\n",
       "      <th>0</th>\n",
       "      <td>BLCA</td>\n",
       "      <td>0.429+/-0.013</td>\n",
       "      <td>2.853+/-0.081</td>\n",
       "    </tr>\n",
       "    <tr>\n",
       "      <th>1</th>\n",
       "      <td>BRCA</td>\n",
       "      <td>0.435+/-0.016</td>\n",
       "      <td>2.67+/-0.071</td>\n",
       "    </tr>\n",
       "    <tr>\n",
       "      <th>2</th>\n",
       "      <td>CESC</td>\n",
       "      <td>0.334+/-0.015</td>\n",
       "      <td>3.423+/-0.107</td>\n",
       "    </tr>\n",
       "    <tr>\n",
       "      <th>3</th>\n",
       "      <td>COAD</td>\n",
       "      <td>0.427+/-0.012</td>\n",
       "      <td>3.161+/-0.055</td>\n",
       "    </tr>\n",
       "    <tr>\n",
       "      <th>4</th>\n",
       "      <td>ESCA</td>\n",
       "      <td>0.374+/-0.007</td>\n",
       "      <td>3.779+/-0.082</td>\n",
       "    </tr>\n",
       "    <tr>\n",
       "      <th>5</th>\n",
       "      <td>GBM</td>\n",
       "      <td>0.286+/-0.012</td>\n",
       "      <td>4.659+/-0.068</td>\n",
       "    </tr>\n",
       "    <tr>\n",
       "      <th>6</th>\n",
       "      <td>HNSC</td>\n",
       "      <td>0.439+/-0.014</td>\n",
       "      <td>2.739+/-0.071</td>\n",
       "    </tr>\n",
       "    <tr>\n",
       "      <th>7</th>\n",
       "      <td>KIRC</td>\n",
       "      <td>0.359+/-0.022</td>\n",
       "      <td>3.449+/-0.116</td>\n",
       "    </tr>\n",
       "    <tr>\n",
       "      <th>8</th>\n",
       "      <td>KIRP</td>\n",
       "      <td>0.275+/-0.01</td>\n",
       "      <td>4.016+/-0.09</td>\n",
       "    </tr>\n",
       "    <tr>\n",
       "      <th>9</th>\n",
       "      <td>LIHC</td>\n",
       "      <td>0.389+/-0.014</td>\n",
       "      <td>3.145+/-0.086</td>\n",
       "    </tr>\n",
       "    <tr>\n",
       "      <th>10</th>\n",
       "      <td>LUAD</td>\n",
       "      <td>0.412+/-0.018</td>\n",
       "      <td>2.9+/-0.151</td>\n",
       "    </tr>\n",
       "    <tr>\n",
       "      <th>11</th>\n",
       "      <td>LUSC</td>\n",
       "      <td>0.446+/-0.013</td>\n",
       "      <td>2.72+/-0.072</td>\n",
       "    </tr>\n",
       "    <tr>\n",
       "      <th>12</th>\n",
       "      <td>PCPG</td>\n",
       "      <td>0.223+/-0.015</td>\n",
       "      <td>4.437+/-0.069</td>\n",
       "    </tr>\n",
       "    <tr>\n",
       "      <th>13</th>\n",
       "      <td>PRAD</td>\n",
       "      <td>0.348+/-0.014</td>\n",
       "      <td>3.125+/-0.1</td>\n",
       "    </tr>\n",
       "    <tr>\n",
       "      <th>14</th>\n",
       "      <td>STAD</td>\n",
       "      <td>0.405+/-0.016</td>\n",
       "      <td>3.079+/-0.143</td>\n",
       "    </tr>\n",
       "    <tr>\n",
       "      <th>15</th>\n",
       "      <td>THCA</td>\n",
       "      <td>0.252+/-0.012</td>\n",
       "      <td>4.136+/-0.06</td>\n",
       "    </tr>\n",
       "    <tr>\n",
       "      <th>16</th>\n",
       "      <td>UCEC</td>\n",
       "      <td>0.454+/-0.005</td>\n",
       "      <td>2.811+/-0.043</td>\n",
       "    </tr>\n",
       "  </tbody>\n",
       "</table>\n",
       "</div>"
      ],
      "text/plain": [
       "   cancer type            mse        pearson\n",
       "0         BLCA  0.429+/-0.013  2.853+/-0.081\n",
       "1         BRCA  0.435+/-0.016   2.67+/-0.071\n",
       "2         CESC  0.334+/-0.015  3.423+/-0.107\n",
       "3         COAD  0.427+/-0.012  3.161+/-0.055\n",
       "4         ESCA  0.374+/-0.007  3.779+/-0.082\n",
       "5          GBM  0.286+/-0.012  4.659+/-0.068\n",
       "6         HNSC  0.439+/-0.014  2.739+/-0.071\n",
       "7         KIRC  0.359+/-0.022  3.449+/-0.116\n",
       "8         KIRP   0.275+/-0.01   4.016+/-0.09\n",
       "9         LIHC  0.389+/-0.014  3.145+/-0.086\n",
       "10        LUAD  0.412+/-0.018    2.9+/-0.151\n",
       "11        LUSC  0.446+/-0.013   2.72+/-0.072\n",
       "12        PCPG  0.223+/-0.015  4.437+/-0.069\n",
       "13        PRAD  0.348+/-0.014    3.125+/-0.1\n",
       "14        STAD  0.405+/-0.016  3.079+/-0.143\n",
       "15        THCA  0.252+/-0.012   4.136+/-0.06\n",
       "16        UCEC  0.454+/-0.005  2.811+/-0.043"
      ]
     },
     "execution_count": 25,
     "metadata": {},
     "output_type": "execute_result"
    }
   ],
   "source": [
    "# r = []\n",
    "# for cancer in cancers:\n",
    "#     m = np.load(f'./metrics/{cancer}_shuffled_metrics.npy')\n",
    "#     mean_loss, mean_corr = np.around(np.array([x[-1] for x in m]).mean(0), 3)\n",
    "#     std_loss, std_corr = np.round(np.array([x[-1] for x in m]).std(0), 3)\n",
    "#     r.append((cancer, f'{mean_corr}+/-{std_corr}', f'{mean_loss}+/-{std_loss}'))\n",
    "# pd.DataFrame(r, columns = ['cancer type', 'mse', 'pearson'])"
   ]
  },
  {
   "cell_type": "code",
   "execution_count": null,
   "metadata": {},
   "outputs": [],
   "source": [
    "data = Data(\n",
    "    fGEP_SGA = 'data/CITRUS_GEP_SGAseparated.csv',\n",
    "    fgene_tf_SGA = 'data/CITRUS_gene_tf_SGAseparated.csv',\n",
    "    fcancerType_SGA = 'data/CITRUS_canType_SGAseparated.csv',\n",
    "    fSGA_SGA = 'data/CITRUS_SGA_SGAseparated.csv',\n",
    "    cancer_type='BRCA'\n",
    ")\n",
    "\n",
    "train_set, test_set = data.get_train_test()\n"
   ]
  },
  {
   "cell_type": "code",
   "execution_count": 74,
   "metadata": {},
   "outputs": [
    {
     "data": {
      "text/plain": [
       "(720, 11998)"
      ]
     },
     "execution_count": 74,
     "metadata": {},
     "output_type": "execute_result"
    }
   ],
   "source": [
    "df = data.sga_sga\n",
    "X = df.values\n",
    "X.shape"
   ]
  },
  {
   "cell_type": "code",
   "execution_count": 75,
   "metadata": {},
   "outputs": [
    {
     "data": {
      "text/plain": [
       "(265, 11998)"
      ]
     },
     "execution_count": 75,
     "metadata": {},
     "output_type": "execute_result"
    }
   ],
   "source": [
    "X1 = df[(df['SM_PIK3CA']==1)]\n",
    "X1.shape"
   ]
  },
  {
   "cell_type": "code",
   "execution_count": 76,
   "metadata": {},
   "outputs": [
    {
     "data": {
      "text/plain": [
       "(455, 11998)"
      ]
     },
     "execution_count": 76,
     "metadata": {},
     "output_type": "execute_result"
    }
   ],
   "source": [
    "X0 = df[(df['SM_PIK3CA']==0)]\n",
    "X0.shape"
   ]
  },
  {
   "cell_type": "code",
   "execution_count": 30,
   "metadata": {},
   "outputs": [],
   "source": [
    "tf_profiles1 = np.load('tf_profiles_1.npy')\n",
    "tf_profiles2 = np.load('tf_profiles_2.npy')\n"
   ]
  },
  {
   "cell_type": "code",
   "execution_count": 32,
   "metadata": {},
   "outputs": [],
   "source": [
    "r = [tf_profiles1, tf_profiles2]"
   ]
  },
  {
   "cell_type": "code",
   "execution_count": 33,
   "metadata": {},
   "outputs": [],
   "source": [
    "from scipy.stats import mannwhitneyu"
   ]
  },
  {
   "cell_type": "code",
   "execution_count": 34,
   "metadata": {},
   "outputs": [
    {
     "name": "stdout",
     "output_type": "stream",
     "text": [
      "(50, 3)\n"
     ]
    }
   ],
   "source": [
    "rf = pd.DataFrame([data.gene_tf_sga.columns, \n",
    "        [mannwhitneyu(r[0][:, i][:], r[1][:, i]).pvalue * 5541 for i in range(320)]]).T.sort_values(by=1)\n",
    "\n",
    "rf.columns = ['TF', 'P']\n",
    "rf['EFFECTSIZE'] = abs(tf_profiles1.mean(0)  - tf_profiles2.mean(0))\n",
    "print(rf[rf.P < 0.05].shape)\n",
    "# rf[rf.AdjPvalue < 0.05].sort_values(by='foldchange', ascending=False)\n",
    "rf = rf[rf.P < 1]"
   ]
  },
  {
   "cell_type": "code",
   "execution_count": 35,
   "metadata": {},
   "outputs": [],
   "source": [
    "rf.P = rf.P.astype(np.float)"
   ]
  },
  {
   "cell_type": "code",
   "execution_count": 38,
   "metadata": {},
   "outputs": [
    {
     "data": {
      "text/html": [
       "<div>\n",
       "<style scoped>\n",
       "    .dataframe tbody tr th:only-of-type {\n",
       "        vertical-align: middle;\n",
       "    }\n",
       "\n",
       "    .dataframe tbody tr th {\n",
       "        vertical-align: top;\n",
       "    }\n",
       "\n",
       "    .dataframe thead th {\n",
       "        text-align: right;\n",
       "    }\n",
       "</style>\n",
       "<table border=\"1\" class=\"dataframe\">\n",
       "  <thead>\n",
       "    <tr style=\"text-align: right;\">\n",
       "      <th></th>\n",
       "      <th>TF</th>\n",
       "      <th>P</th>\n",
       "      <th>EFFECTSIZE</th>\n",
       "    </tr>\n",
       "  </thead>\n",
       "  <tbody>\n",
       "    <tr>\n",
       "      <th>294</th>\n",
       "      <td>HEY1</td>\n",
       "      <td>1.247146e-108</td>\n",
       "      <td>1.288033e-01</td>\n",
       "    </tr>\n",
       "    <tr>\n",
       "      <th>128</th>\n",
       "      <td>TCF12</td>\n",
       "      <td>5.787345e-35</td>\n",
       "      <td>7.084708e-01</td>\n",
       "    </tr>\n",
       "    <tr>\n",
       "      <th>121</th>\n",
       "      <td>NFYC</td>\n",
       "      <td>5.657469e-08</td>\n",
       "      <td>1.046785e-07</td>\n",
       "    </tr>\n",
       "    <tr>\n",
       "      <th>153</th>\n",
       "      <td>FLI1</td>\n",
       "      <td>1.543887e-06</td>\n",
       "      <td>5.049044e-01</td>\n",
       "    </tr>\n",
       "    <tr>\n",
       "      <th>83</th>\n",
       "      <td>ERG</td>\n",
       "      <td>1.681252e-06</td>\n",
       "      <td>0.000000e+00</td>\n",
       "    </tr>\n",
       "    <tr>\n",
       "      <th>...</th>\n",
       "      <td>...</td>\n",
       "      <td>...</td>\n",
       "      <td>...</td>\n",
       "    </tr>\n",
       "    <tr>\n",
       "      <th>257</th>\n",
       "      <td>ETV1</td>\n",
       "      <td>6.305362e-01</td>\n",
       "      <td>0.000000e+00</td>\n",
       "    </tr>\n",
       "    <tr>\n",
       "      <th>47</th>\n",
       "      <td>RUNX1</td>\n",
       "      <td>8.064497e-01</td>\n",
       "      <td>1.074662e-06</td>\n",
       "    </tr>\n",
       "    <tr>\n",
       "      <th>154</th>\n",
       "      <td>HIC1</td>\n",
       "      <td>8.492413e-01</td>\n",
       "      <td>4.700601e-03</td>\n",
       "    </tr>\n",
       "    <tr>\n",
       "      <th>26</th>\n",
       "      <td>HIVEP1</td>\n",
       "      <td>8.729153e-01</td>\n",
       "      <td>1.254514e-06</td>\n",
       "    </tr>\n",
       "    <tr>\n",
       "      <th>43</th>\n",
       "      <td>ETV6</td>\n",
       "      <td>9.222162e-01</td>\n",
       "      <td>2.053237e-05</td>\n",
       "    </tr>\n",
       "  </tbody>\n",
       "</table>\n",
       "<p>71 rows × 3 columns</p>\n",
       "</div>"
      ],
      "text/plain": [
       "         TF              P    EFFECTSIZE\n",
       "294    HEY1  1.247146e-108  1.288033e-01\n",
       "128   TCF12   5.787345e-35  7.084708e-01\n",
       "121    NFYC   5.657469e-08  1.046785e-07\n",
       "153    FLI1   1.543887e-06  5.049044e-01\n",
       "83      ERG   1.681252e-06  0.000000e+00\n",
       "..      ...            ...           ...\n",
       "257    ETV1   6.305362e-01  0.000000e+00\n",
       "47    RUNX1   8.064497e-01  1.074662e-06\n",
       "154    HIC1   8.492413e-01  4.700601e-03\n",
       "26   HIVEP1   8.729153e-01  1.254514e-06\n",
       "43     ETV6   9.222162e-01  2.053237e-05\n",
       "\n",
       "[71 rows x 3 columns]"
      ]
     },
     "execution_count": 38,
     "metadata": {},
     "output_type": "execute_result"
    }
   ],
   "source": [
    "rf"
   ]
  },
  {
   "cell_type": "code",
   "execution_count": 5,
   "metadata": {},
   "outputs": [],
   "source": [
    "import requests\n",
    "import json \n",
    "import pandas as pd\n",
    "\n",
    "class Enrichr(object):\n",
    "    \n",
    "    def __init__(self):\n",
    "        self.ENRICHR_URL_ADDLIST = 'https://maayanlab.cloud/Enrichr/addList'\n",
    "        self.ENRICHR_URL = 'https://maayanlab.cloud/Enrichr/enrich'\n",
    "        self.QUERY_STR = '?userListId=%s&backgroundType=%s'\n",
    "        self.libraries = [\n",
    "            'VirusMINT', \n",
    "            'GO_Biological_Process_2021', \n",
    "            'MSigDB_Hallmark_2020', \n",
    "            'KEGG_2021_Human', \n",
    "            'Reactome_2016']\n",
    "        \n",
    "    \n",
    "    def _addlist(self, module_number, geneset):\n",
    "        genes_str = '\\n'.join(geneset)\n",
    "        description = ''\n",
    "        payload = {\n",
    "            'list': (None, genes_str),\n",
    "            'description': (None, description)\n",
    "        }\n",
    "        response = requests.post(self.ENRICHR_URL_ADDLIST, files=payload)\n",
    "        data = json.loads(response.text)\n",
    "        \n",
    "        return data['userListId']\n",
    "    \n",
    "    def get_enrichment_results(self, geneset, gene_set_library = 'GO_Biological_Process_2021'):\n",
    "        user_list_id = self._addlist(geneset)\n",
    "        response = requests.get(\n",
    "        self.ENRICHR_URL + self.QUERY_STR % (user_list_id, gene_set_library))\n",
    "        data = json.loads(response.text)\n",
    "        df = pd.DataFrame(data[gene_set_library])[[1, 2, 3, 4, 5, 6]]\n",
    "        df.columns = ['Terms', 'Pval', 'OddsRatio', 'Score', 'Genes', 'AdjPval']\n",
    "        \n",
    "        return df[round(df.AdjPval, 3) < 0.05].sort_values(by='AdjPval')"
   ]
  },
  {
   "cell_type": "code",
   "execution_count": 7,
   "metadata": {},
   "outputs": [
    {
     "ename": "NameError",
     "evalue": "name 'models' is not defined",
     "output_type": "error",
     "traceback": [
      "\u001b[0;31m---------------------------------------------------------------------------\u001b[0m",
      "\u001b[0;31mNameError\u001b[0m                                 Traceback (most recent call last)",
      "\u001b[0;32m<ipython-input-7-8ce51f55e1c4>\u001b[0m in \u001b[0;36m<module>\u001b[0;34m\u001b[0m\n\u001b[0;32m----> 1\u001b[0;31m \u001b[0mmodel\u001b[0m \u001b[0;34m=\u001b[0m \u001b[0mmodels\u001b[0m\u001b[0;34m[\u001b[0m\u001b[0;36m0\u001b[0m\u001b[0;34m]\u001b[0m\u001b[0;34m\u001b[0m\u001b[0m\n\u001b[0m\u001b[1;32m      2\u001b[0m \u001b[0mtarget_gene\u001b[0m \u001b[0;34m=\u001b[0m \u001b[0;34m'PIK3CA'\u001b[0m\u001b[0;34m\u001b[0m\u001b[0m\n",
      "\u001b[0;31mNameError\u001b[0m: name 'models' is not defined"
     ]
    }
   ],
   "source": [
    "model = models[0]\n",
    "target_gene = 'PIK3CA'"
   ]
  },
  {
   "cell_type": "code",
   "execution_count": null,
   "metadata": {},
   "outputs": [],
   "source": [
    "\n",
    "\n",
    "lc = LayerConductance(model, model.ppi_layer)\n",
    "ix = list(data.gep_sga.columns).index(target_gene)\n",
    "a = lc.attribute(X, n_steps=5, attribute_to_layer_input=False, target=[ix]*len(X))\n",
    "\n",
    "ig_attr_test_sum = a.detach().numpy().sum(0)\n",
    "ig_attr_test_norm_sum = ig_attr_test_sum / np.linalg.norm(ig_attr_test_sum, ord=1)"
   ]
  },
  {
   "cell_type": "code",
   "execution_count": 6,
   "metadata": {},
   "outputs": [
    {
     "ename": "NameError",
     "evalue": "name 'model' is not defined",
     "output_type": "error",
     "traceback": [
      "\u001b[0;31m---------------------------------------------------------------------------\u001b[0m",
      "\u001b[0;31mNameError\u001b[0m                                 Traceback (most recent call last)",
      "\u001b[0;32m<ipython-input-6-cbc9fb8d95a2>\u001b[0m in \u001b[0;36m<module>\u001b[0;34m\u001b[0m\n\u001b[0;32m----> 1\u001b[0;31m \u001b[0mmodel\u001b[0m\u001b[0;34m.\u001b[0m\u001b[0mppi_layer\u001b[0m\u001b[0;34m.\u001b[0m\u001b[0mdata\u001b[0m\u001b[0;34m.\u001b[0m\u001b[0mshape\u001b[0m\u001b[0;34m\u001b[0m\u001b[0m\n\u001b[0m",
      "\u001b[0;31mNameError\u001b[0m: name 'model' is not defined"
     ]
    }
   ],
   "source": [
    "model.ppi_layer.data.shape"
   ]
  },
  {
   "cell_type": "code",
   "execution_count": null,
   "metadata": {},
   "outputs": [],
   "source": [
    "\n",
    "g = np.array(data.gene_tf_sga.columns)\n",
    "at = ig_attr_test_norm_sum"
   ]
  }
 ],
 "metadata": {
  "kernelspec": {
   "display_name": "Python 3.7.0 ('deepbio')",
   "language": "python",
   "name": "python3"
  },
  "language_info": {
   "codemirror_mode": {
    "name": "ipython",
    "version": 3
   },
   "file_extension": ".py",
   "mimetype": "text/x-python",
   "name": "python",
   "nbconvert_exporter": "python",
   "pygments_lexer": "ipython3",
   "version": "3.7.0"
  },
  "orig_nbformat": 4,
  "vscode": {
   "interpreter": {
    "hash": "6acab715838f00affcecba94e2037a8e32fb53ad3a082152ed1c0f4b0ff3b1f7"
   }
  }
 },
 "nbformat": 4,
 "nbformat_minor": 2
}
