{
 "cells": [
  {
   "cell_type": "code",
   "execution_count": 1,
   "metadata": {},
   "outputs": [],
   "source": [
    "import seaborn as sns\n",
    "import matplotlib.pyplot as plt\n",
    "import numpy as np\n",
    "import pandas as pd\n",
    "import torch\n",
    "import argparse\n",
    "from utils import cfh, logger, Data, bool_ext, checkCorrelations, generate_masks_from_ppi\n",
    "import os\n",
    "import argparse\n",
    "import random\n",
    "from utils import cfh, logger, Data, bool_ext, checkCorrelations, generate_masks_from_ppi\n",
    "from biomodels import BioCitrus\n",
    "import torch\n",
    "import numpy as np\n",
    "import sys\n",
    "from biomodels import weightConstraint\n",
    "from utils import logger, get_minibatch, evaluate, EarlyStopping, shuffle_data\n",
    "from tqdm import tqdm\n",
    "from pathlib import Path\n",
    "from IPython.display import clear_output\n",
    "from collections import Counter\n",
    "import warnings\n",
    "\n",
    "%load_ext autoreload\n",
    "%autoreload 2\n",
    "warnings.filterwarnings(\"ignore\") ##This is bad but temporary"
   ]
  },
  {
   "cell_type": "code",
   "execution_count": 2,
   "metadata": {},
   "outputs": [],
   "source": [
    "from captum.attr import LayerConductance, LayerActivation, LayerIntegratedGradients\n",
    "from captum.attr import IntegratedGradients"
   ]
  },
  {
   "cell_type": "code",
   "execution_count": 3,
   "metadata": {},
   "outputs": [
    {
     "name": "stderr",
     "output_type": "stream",
     "text": [
      "\u001b[38;21m(biomodels.py : 157) -    DEBUG | alterations.weight | True | (21104, 10552)\u001b[0m\n",
      "\u001b[38;21m(biomodels.py : 157) -    DEBUG | genes.weight | True | (10552, 1387)\u001b[0m\n",
      "\u001b[38;21m(biomodels.py : 157) -    DEBUG | pathways.weight | True | (1387, 1066)\u001b[0m\n",
      "\u001b[38;21m(biomodels.py : 157) -    DEBUG | processes.weight | True | (1066, 447)\u001b[0m\n",
      "\u001b[38;21m(biomodels.py : 157) -    DEBUG | entities.weight | True | (447, 147)\u001b[0m\n",
      "\u001b[38;21m(biomodels.py : 157) -    DEBUG | concepts.weight | True | (147, 26)\u001b[0m\n",
      "\u001b[38;21m(biomodels.py : 157) -    DEBUG | tf_layer.weight | True | (26, 320)\u001b[0m\n",
      "\u001b[38;21m(biomodels.py : 157) -    DEBUG | gep_output_layer.weight | True | (320, 5541)\u001b[0m\n"
     ]
    },
    {
     "name": "stdout",
     "output_type": "stream",
     "text": [
      "\n"
     ]
    }
   ],
   "source": [
    "from utils import generate_masks\n",
    "parser = argparse.ArgumentParser()\n",
    "parser.add_argument(\n",
    "    \"--learning_rate\", \n",
    "    help=\"learning rate for Adam\", \n",
    "    type=float, \n",
    "    default=1e-3\n",
    ")\n",
    "\n",
    "parser.add_argument(\n",
    "    \"--max_iter\", \n",
    "    help=\"maximum number of training iterations\", \n",
    "    type=int, \n",
    "    default=300\n",
    ")\n",
    "\n",
    "parser.add_argument(\n",
    "    \"--max_fscore\",\n",
    "    help=\"Max F1 score to early stop model from training\",\n",
    "    type=float,\n",
    "    default=0.7\n",
    ")\n",
    "\n",
    "parser.add_argument(\n",
    "    \"--batch_size\", \n",
    "    help=\"training batch size\", \n",
    "    type=int, \n",
    "    default=100\n",
    ")\n",
    "\n",
    "parser.add_argument(\n",
    "    \"--test_batch_size\", \n",
    "    help=\"test batch size\", \n",
    "    type=int, \n",
    "    default=100\n",
    ")\n",
    "\n",
    "parser.add_argument(\n",
    "    \"--test_inc_size\",\n",
    "    help=\"increment interval size between log outputs\",\n",
    "    type=int,\n",
    "    default=64\n",
    ")\n",
    "\n",
    "\n",
    "parser.add_argument(\n",
    "    \"--weight_decay\", \n",
    "    help=\"coefficient of l2 regularizer\", \n",
    "    type=float, \n",
    "    default=1e-2\n",
    ")\n",
    "\n",
    "parser.add_argument(\n",
    "    \"--patience\", \n",
    "    help=\"earlystopping patience\", \n",
    "    type=int, \n",
    "    default=10\n",
    ")\n",
    "\n",
    "\n",
    "parser.add_argument(\n",
    "    \"--verbose\", \n",
    "    help=\"\", \n",
    "    type=bool_ext, \n",
    "    default=False\n",
    ")\n",
    "\n",
    "parser.add_argument(\n",
    "    \"--constrain\", \n",
    "    help=\"force weight and biases to be strictly non-negative\", \n",
    "    type=bool_ext, \n",
    "    default=True\n",
    ")\n",
    "\n",
    "parser.add_argument(\n",
    "    \"--biases\", \n",
    "    help=\"enable all nn.Linear biases\", \n",
    "    type=bool_ext, \n",
    "    default=True\n",
    ")\n",
    "\n",
    "\n",
    "args = parser.parse_args([])\n",
    "\n",
    "data = Data(\n",
    "    fGEP_SGA = 'data/CITRUS_GEP_SGAseparated.csv',\n",
    "    fgene_tf_SGA = 'data/CITRUS_gene_tf_SGAseparated.csv',\n",
    "    fcancerType_SGA = 'data/CITRUS_canType_SGAseparated.csv',\n",
    "    fSGA_SGA = 'data/CITRUS_SGA_SGAseparated.csv',\n",
    "    cancer_type='BRCA'\n",
    ")\n",
    "\n",
    "train_set, test_set = data.get_train_test()\n",
    "args.gep_size = train_set['gep'].shape[1]\n",
    "args.tf_gene = data.gene_tf_sga.values.T\n",
    "args.can_size = len(np.unique(data.cancer_types))\n",
    "\n",
    "\n",
    "sga_mask = generate_masks(data)    \n",
    "    \n",
    "maps = np.load('./pnet_prostate_paper/train/maps.npy', allow_pickle=True)\n",
    "mask_1 = maps[0].loc[list(set(data.sga_genes).intersection(set(maps[0].index)))].values\n",
    "mask_2 = maps[1].values\n",
    "mask_3 = maps[2].values\n",
    "mask_4 = maps[3].values\n",
    "mask_5 = maps[4].values\n",
    "  \n",
    "model = BioCitrus(\n",
    "    args = args, \n",
    "    sga_ppi_mask = sga_mask, \n",
    "    mask_1 = mask_1,\n",
    "    mask_2 = mask_2,\n",
    "    mask_3 = mask_3,\n",
    "    mask_4 = mask_4,\n",
    "    mask_5 = mask_5,\n",
    "    enable_bias = args.biases\n",
    ")\n",
    "\n",
    "model.load_state_dict(torch.load(f'/ix/hosmanbeyoglu/kor11/CITRUS_models/modelx.pth', \n",
    "                                map_location=torch.device('cpu')))\n",
    "    \n",
    "model.eval();\n"
   ]
  },
  {
   "cell_type": "code",
   "execution_count": 4,
   "metadata": {},
   "outputs": [],
   "source": [
    "X = torch.tensor(test_set['sga'])\n",
    "Y = test_set['gep']"
   ]
  },
  {
   "cell_type": "code",
   "execution_count": 5,
   "metadata": {},
   "outputs": [],
   "source": [
    "def tf_activity(model, target_gene):\n",
    "    lc = LayerConductance(model, model.gep_output_layer)\n",
    "    ix = list(data.gep_sga.columns).index(target_gene)\n",
    "    a = lc.attribute(X, n_steps=7, attribute_to_layer_input=True, target=[ix]*len(X))\n",
    "    \n",
    "    ig_attr_test_sum = a.detach().cpu().numpy().sum(0)\n",
    "    ig_attr_test_norm_sum = ig_attr_test_sum / np.linalg.norm(ig_attr_test_sum, ord=1)\n",
    "    \n",
    "    g = np.array(data.gene_tf_sga.columns)[np.where(ig_attr_test_norm_sum != 0)[0]]\n",
    "    at = ig_attr_test_norm_sum[np.where(ig_attr_test_norm_sum != 0)[0]]\n",
    "    \n",
    "    # g = np.array(data.gene_tf_sga.columns)\n",
    "    # at = ig_attr_test_norm_sum\n",
    "    \n",
    "    df = pd.DataFrame([g, at]).T\n",
    "    df.columns = ['TF', 'score']\n",
    "    \n",
    "    return df.sort_values(by='score', ascending=False)"
   ]
  },
  {
   "cell_type": "code",
   "execution_count": 6,
   "metadata": {},
   "outputs": [
    {
     "data": {
      "text/html": [
       "<div>\n",
       "<style scoped>\n",
       "    .dataframe tbody tr th:only-of-type {\n",
       "        vertical-align: middle;\n",
       "    }\n",
       "\n",
       "    .dataframe tbody tr th {\n",
       "        vertical-align: top;\n",
       "    }\n",
       "\n",
       "    .dataframe thead th {\n",
       "        text-align: right;\n",
       "    }\n",
       "</style>\n",
       "<table border=\"1\" class=\"dataframe\">\n",
       "  <thead>\n",
       "    <tr style=\"text-align: right;\">\n",
       "      <th></th>\n",
       "      <th>label</th>\n",
       "      <th>score</th>\n",
       "    </tr>\n",
       "  </thead>\n",
       "  <tbody>\n",
       "    <tr>\n",
       "      <th>2125</th>\n",
       "      <td>SCNA_C1orf116</td>\n",
       "      <td>0.204214</td>\n",
       "    </tr>\n",
       "    <tr>\n",
       "      <th>4423</th>\n",
       "      <td>SCNA_CYHR1</td>\n",
       "      <td>0.165613</td>\n",
       "    </tr>\n",
       "    <tr>\n",
       "      <th>7803</th>\n",
       "      <td>SCNA_H3F3B</td>\n",
       "      <td>0.069187</td>\n",
       "    </tr>\n",
       "    <tr>\n",
       "      <th>7095</th>\n",
       "      <td>SCNA_GDPD4</td>\n",
       "      <td>0.050431</td>\n",
       "    </tr>\n",
       "    <tr>\n",
       "      <th>10325</th>\n",
       "      <td>SCNA_MACC1</td>\n",
       "      <td>0.039382</td>\n",
       "    </tr>\n",
       "    <tr>\n",
       "      <th>6790</th>\n",
       "      <td>SM_FSTL5</td>\n",
       "      <td>0.039171</td>\n",
       "    </tr>\n",
       "    <tr>\n",
       "      <th>7423</th>\n",
       "      <td>SCNA_GPR111</td>\n",
       "      <td>0.031909</td>\n",
       "    </tr>\n",
       "    <tr>\n",
       "      <th>6397</th>\n",
       "      <td>SCNA_FCGR1A</td>\n",
       "      <td>0.024535</td>\n",
       "    </tr>\n",
       "    <tr>\n",
       "      <th>2237</th>\n",
       "      <td>SCNA_C2CD4D</td>\n",
       "      <td>0.021551</td>\n",
       "    </tr>\n",
       "    <tr>\n",
       "      <th>8639</th>\n",
       "      <td>SCNA_IL18BP</td>\n",
       "      <td>0.02118</td>\n",
       "    </tr>\n",
       "  </tbody>\n",
       "</table>\n",
       "</div>"
      ],
      "text/plain": [
       "               label     score\n",
       "2125   SCNA_C1orf116  0.204214\n",
       "4423      SCNA_CYHR1  0.165613\n",
       "7803      SCNA_H3F3B  0.069187\n",
       "7095      SCNA_GDPD4  0.050431\n",
       "10325     SCNA_MACC1  0.039382\n",
       "6790        SM_FSTL5  0.039171\n",
       "7423     SCNA_GPR111  0.031909\n",
       "6397     SCNA_FCGR1A  0.024535\n",
       "2237     SCNA_C2CD4D  0.021551\n",
       "8639     SCNA_IL18BP   0.02118"
      ]
     },
     "execution_count": 6,
     "metadata": {},
     "output_type": "execute_result"
    }
   ],
   "source": [
    "lc = LayerConductance(model, model.alterations)\n",
    "ix = list(data.gep_sga.columns).index('PIK3CA')\n",
    "a = lc.attribute(X, n_steps=7, attribute_to_layer_input=True, target=[ix]*len(X))\n",
    "\n",
    "ig_attr_test_sum = a.detach().cpu().numpy().sum(0)\n",
    "ig_attr_test_norm_sum = ig_attr_test_sum / np.linalg.norm(ig_attr_test_sum, ord=1)\n",
    "\n",
    "g = np.array(data.sga_sga.columns)\n",
    "at = ig_attr_test_norm_sum\n",
    "\n",
    "assert g.shape == at.shape\n",
    "\n",
    "df = pd.DataFrame([g, at]).T\n",
    "df.columns = ['label', 'score']\n",
    "df.sort_values(by='score', ascending=False)[:10]"
   ]
  },
  {
   "cell_type": "code",
   "execution_count": 7,
   "metadata": {},
   "outputs": [
    {
     "data": {
      "text/html": [
       "<div>\n",
       "<style scoped>\n",
       "    .dataframe tbody tr th:only-of-type {\n",
       "        vertical-align: middle;\n",
       "    }\n",
       "\n",
       "    .dataframe tbody tr th {\n",
       "        vertical-align: top;\n",
       "    }\n",
       "\n",
       "    .dataframe thead th {\n",
       "        text-align: right;\n",
       "    }\n",
       "</style>\n",
       "<table border=\"1\" class=\"dataframe\">\n",
       "  <thead>\n",
       "    <tr style=\"text-align: right;\">\n",
       "      <th></th>\n",
       "      <th>label</th>\n",
       "      <th>score</th>\n",
       "    </tr>\n",
       "  </thead>\n",
       "  <tbody>\n",
       "    <tr>\n",
       "      <th>18958</th>\n",
       "      <td>SM_TP53</td>\n",
       "      <td>0.0</td>\n",
       "    </tr>\n",
       "  </tbody>\n",
       "</table>\n",
       "</div>"
      ],
      "text/plain": [
       "         label score\n",
       "18958  SM_TP53   0.0"
      ]
     },
     "execution_count": 7,
     "metadata": {},
     "output_type": "execute_result"
    }
   ],
   "source": [
    "df[df.label=='SM_TP53']"
   ]
  },
  {
   "cell_type": "code",
   "execution_count": 12,
   "metadata": {},
   "outputs": [
    {
     "data": {
      "text/plain": [
       "((1387,), (21104,))"
      ]
     },
     "execution_count": 12,
     "metadata": {},
     "output_type": "execute_result"
    }
   ],
   "source": [
    "at.shape, g.shape"
   ]
  },
  {
   "cell_type": "code",
   "execution_count": 64,
   "metadata": {},
   "outputs": [
    {
     "data": {
      "text/plain": [
       "[(10552, 1387), (1387, 1066), (1066, 447), (447, 147), (147, 26), (26, 1)]"
      ]
     },
     "execution_count": 64,
     "metadata": {},
     "output_type": "execute_result"
    }
   ],
   "source": [
    "[m.shape for m in maps]"
   ]
  },
  {
   "cell_type": "code",
   "execution_count": 9,
   "metadata": {},
   "outputs": [
    {
     "data": {
      "text/html": [
       "<div>\n",
       "<style scoped>\n",
       "    .dataframe tbody tr th:only-of-type {\n",
       "        vertical-align: middle;\n",
       "    }\n",
       "\n",
       "    .dataframe tbody tr th {\n",
       "        vertical-align: top;\n",
       "    }\n",
       "\n",
       "    .dataframe thead th {\n",
       "        text-align: right;\n",
       "    }\n",
       "</style>\n",
       "<table border=\"1\" class=\"dataframe\">\n",
       "  <thead>\n",
       "    <tr style=\"text-align: right;\">\n",
       "      <th></th>\n",
       "      <th>label</th>\n",
       "      <th>score</th>\n",
       "    </tr>\n",
       "  </thead>\n",
       "  <tbody>\n",
       "    <tr>\n",
       "      <th>0</th>\n",
       "      <td>A1BG</td>\n",
       "      <td>NaN</td>\n",
       "    </tr>\n",
       "    <tr>\n",
       "      <th>1</th>\n",
       "      <td>A1CF</td>\n",
       "      <td>NaN</td>\n",
       "    </tr>\n",
       "    <tr>\n",
       "      <th>2</th>\n",
       "      <td>A2M</td>\n",
       "      <td>NaN</td>\n",
       "    </tr>\n",
       "    <tr>\n",
       "      <th>3</th>\n",
       "      <td>A2ML1</td>\n",
       "      <td>NaN</td>\n",
       "    </tr>\n",
       "    <tr>\n",
       "      <th>4</th>\n",
       "      <td>A4GNT</td>\n",
       "      <td>NaN</td>\n",
       "    </tr>\n",
       "    <tr>\n",
       "      <th>5</th>\n",
       "      <td>AADAC</td>\n",
       "      <td>NaN</td>\n",
       "    </tr>\n",
       "    <tr>\n",
       "      <th>6</th>\n",
       "      <td>AADACL2</td>\n",
       "      <td>NaN</td>\n",
       "    </tr>\n",
       "    <tr>\n",
       "      <th>7</th>\n",
       "      <td>AADAT</td>\n",
       "      <td>NaN</td>\n",
       "    </tr>\n",
       "    <tr>\n",
       "      <th>8</th>\n",
       "      <td>AANAT</td>\n",
       "      <td>NaN</td>\n",
       "    </tr>\n",
       "    <tr>\n",
       "      <th>9</th>\n",
       "      <td>AARS</td>\n",
       "      <td>NaN</td>\n",
       "    </tr>\n",
       "  </tbody>\n",
       "</table>\n",
       "</div>"
      ],
      "text/plain": [
       "     label score\n",
       "0     A1BG   NaN\n",
       "1     A1CF   NaN\n",
       "2      A2M   NaN\n",
       "3    A2ML1   NaN\n",
       "4    A4GNT   NaN\n",
       "5    AADAC   NaN\n",
       "6  AADACL2   NaN\n",
       "7    AADAT   NaN\n",
       "8    AANAT   NaN\n",
       "9     AARS   NaN"
      ]
     },
     "execution_count": 9,
     "metadata": {},
     "output_type": "execute_result"
    }
   ],
   "source": [
    "lc = LayerConductance(model, model.genes)\n",
    "ix = list(data.gep_sga.columns).index('PIK3CA')\n",
    "a = lc.attribute(X, n_steps=7, attribute_to_layer_input=True, target=[ix]*len(X))\n",
    "\n",
    "ig_attr_test_sum = a.detach().cpu().numpy().sum(0)\n",
    "ig_attr_test_norm_sum = ig_attr_test_sum / np.linalg.norm(ig_attr_test_sum, ord=1)\n",
    "\n",
    "g = np.array(maps[0].index)\n",
    "at = ig_attr_test_norm_sum\n",
    "\n",
    "assert g.shape == at.shape\n",
    "\n",
    "df = pd.DataFrame([g, at]).T\n",
    "df.columns = ['label', 'score']\n",
    "df.sort_values(by='score', ascending=False)[:10]"
   ]
  },
  {
   "cell_type": "code",
   "execution_count": null,
   "metadata": {},
   "outputs": [],
   "source": [
    "# plt.figure(figsize=(10, 8))\n",
    "# ax = sns.scatterplot(data=df, x='alt_freq', y='int_grad')\n",
    "# plt.xlabel('Log10 Alteration Frequency')\n",
    "# plt.ylabel('Log10 Integrated Gradient Importance')\n",
    "# # plt.savefig('frequency_plots.png', dpi=180)\n",
    "# plt.show()"
   ]
  },
  {
   "cell_type": "code",
   "execution_count": null,
   "metadata": {},
   "outputs": [],
   "source": [
    "def tf_activity(model, target_gene):\n",
    "    lc = LayerConductance(model, model.gep_output_layer)\n",
    "    ix = list(data.gep_sga.columns).index(target_gene)\n",
    "    a = lc.attribute(X, n_steps=5, attribute_to_layer_input=False, target=[ix]*len(X))\n",
    "    \n",
    "    ig_attr_test_sum = a.detach().numpy().sum(0)\n",
    "    ig_attr_test_norm_sum = ig_attr_test_sum / np.linalg.norm(ig_attr_test_sum, ord=1)\n",
    "    \n",
    "    g = np.array(data.gene_tf_sga.columns)[np.where(ig_attr_test_norm_sum != 0)[0]]\n",
    "    at = ig_attr_test_norm_sum[np.where(ig_attr_test_norm_sum != 0)[0]]\n",
    "    \n",
    "    df = pd.DataFrame([g, at]).T\n",
    "    df.columns = ['TF', 'score']\n",
    "    \n",
    "    return df.sort_values(by='score', ascending=False)"
   ]
  },
  {
   "cell_type": "code",
   "execution_count": 21,
   "metadata": {},
   "outputs": [],
   "source": [
    "with open('/ihome/hosmanbeyoglu/kor11/tools/CITRUS/COACH_clusters_large.txt', \"r\") as fh:\n",
    "        lines = fh.readlines()\n",
    "        clusterindex_to_genes = {}\n",
    "        for i, c in enumerate(lines):\n",
    "            clustlist = c.strip().split(\" \")\n",
    "            if len(c) == 0:\n",
    "                continue\n",
    "            clusterindex_to_genes[i] = clustlist \n",
    "\n",
    "from collections import defaultdict\n",
    "gene_to_clusterindices = defaultdict(list) ## 'MAPK1':[0, 75, 129, 373]\n",
    "\n",
    "## Create mapping between genes and the protein clusters\n",
    "for c in clusterindex_to_genes.keys():\n",
    "    for g in clusterindex_to_genes[c]:\n",
    "        gene_to_clusterindices[g].append(c)  "
   ]
  },
  {
   "cell_type": "code",
   "execution_count": null,
   "metadata": {},
   "outputs": [],
   "source": [
    "cancers = ['BLCA', 'BRCA', 'CESC', 'COAD', 'ESCA', 'GBM', 'HNSC', 'KIRC',\n",
    "       'KIRP', 'LIHC', 'LUAD', 'LUSC', 'PCPG', 'PRAD', 'STAD', 'THCA',\n",
    "       'UCEC']"
   ]
  },
  {
   "cell_type": "code",
   "execution_count": null,
   "metadata": {},
   "outputs": [
    {
     "data": {
      "text/html": [
       "<div>\n",
       "<style scoped>\n",
       "    .dataframe tbody tr th:only-of-type {\n",
       "        vertical-align: middle;\n",
       "    }\n",
       "\n",
       "    .dataframe tbody tr th {\n",
       "        vertical-align: top;\n",
       "    }\n",
       "\n",
       "    .dataframe thead th {\n",
       "        text-align: right;\n",
       "    }\n",
       "</style>\n",
       "<table border=\"1\" class=\"dataframe\">\n",
       "  <thead>\n",
       "    <tr style=\"text-align: right;\">\n",
       "      <th></th>\n",
       "      <th>cancer type</th>\n",
       "      <th>mse</th>\n",
       "      <th>pearson</th>\n",
       "    </tr>\n",
       "  </thead>\n",
       "  <tbody>\n",
       "    <tr>\n",
       "      <th>0</th>\n",
       "      <td>BLCA</td>\n",
       "      <td>0.429+/-0.013</td>\n",
       "      <td>2.853+/-0.081</td>\n",
       "    </tr>\n",
       "    <tr>\n",
       "      <th>1</th>\n",
       "      <td>BRCA</td>\n",
       "      <td>0.435+/-0.016</td>\n",
       "      <td>2.67+/-0.071</td>\n",
       "    </tr>\n",
       "    <tr>\n",
       "      <th>2</th>\n",
       "      <td>CESC</td>\n",
       "      <td>0.334+/-0.015</td>\n",
       "      <td>3.423+/-0.107</td>\n",
       "    </tr>\n",
       "    <tr>\n",
       "      <th>3</th>\n",
       "      <td>COAD</td>\n",
       "      <td>0.427+/-0.012</td>\n",
       "      <td>3.161+/-0.055</td>\n",
       "    </tr>\n",
       "    <tr>\n",
       "      <th>4</th>\n",
       "      <td>ESCA</td>\n",
       "      <td>0.374+/-0.007</td>\n",
       "      <td>3.779+/-0.082</td>\n",
       "    </tr>\n",
       "    <tr>\n",
       "      <th>5</th>\n",
       "      <td>GBM</td>\n",
       "      <td>0.286+/-0.012</td>\n",
       "      <td>4.659+/-0.068</td>\n",
       "    </tr>\n",
       "    <tr>\n",
       "      <th>6</th>\n",
       "      <td>HNSC</td>\n",
       "      <td>0.439+/-0.014</td>\n",
       "      <td>2.739+/-0.071</td>\n",
       "    </tr>\n",
       "    <tr>\n",
       "      <th>7</th>\n",
       "      <td>KIRC</td>\n",
       "      <td>0.359+/-0.022</td>\n",
       "      <td>3.449+/-0.116</td>\n",
       "    </tr>\n",
       "    <tr>\n",
       "      <th>8</th>\n",
       "      <td>KIRP</td>\n",
       "      <td>0.275+/-0.01</td>\n",
       "      <td>4.016+/-0.09</td>\n",
       "    </tr>\n",
       "    <tr>\n",
       "      <th>9</th>\n",
       "      <td>LIHC</td>\n",
       "      <td>0.389+/-0.014</td>\n",
       "      <td>3.145+/-0.086</td>\n",
       "    </tr>\n",
       "    <tr>\n",
       "      <th>10</th>\n",
       "      <td>LUAD</td>\n",
       "      <td>0.412+/-0.018</td>\n",
       "      <td>2.9+/-0.151</td>\n",
       "    </tr>\n",
       "    <tr>\n",
       "      <th>11</th>\n",
       "      <td>LUSC</td>\n",
       "      <td>0.446+/-0.013</td>\n",
       "      <td>2.72+/-0.072</td>\n",
       "    </tr>\n",
       "    <tr>\n",
       "      <th>12</th>\n",
       "      <td>PCPG</td>\n",
       "      <td>0.223+/-0.015</td>\n",
       "      <td>4.437+/-0.069</td>\n",
       "    </tr>\n",
       "    <tr>\n",
       "      <th>13</th>\n",
       "      <td>PRAD</td>\n",
       "      <td>0.348+/-0.014</td>\n",
       "      <td>3.125+/-0.1</td>\n",
       "    </tr>\n",
       "    <tr>\n",
       "      <th>14</th>\n",
       "      <td>STAD</td>\n",
       "      <td>0.405+/-0.016</td>\n",
       "      <td>3.079+/-0.143</td>\n",
       "    </tr>\n",
       "    <tr>\n",
       "      <th>15</th>\n",
       "      <td>THCA</td>\n",
       "      <td>0.252+/-0.012</td>\n",
       "      <td>4.136+/-0.06</td>\n",
       "    </tr>\n",
       "    <tr>\n",
       "      <th>16</th>\n",
       "      <td>UCEC</td>\n",
       "      <td>0.454+/-0.005</td>\n",
       "      <td>2.811+/-0.043</td>\n",
       "    </tr>\n",
       "  </tbody>\n",
       "</table>\n",
       "</div>"
      ],
      "text/plain": [
       "   cancer type            mse        pearson\n",
       "0         BLCA  0.429+/-0.013  2.853+/-0.081\n",
       "1         BRCA  0.435+/-0.016   2.67+/-0.071\n",
       "2         CESC  0.334+/-0.015  3.423+/-0.107\n",
       "3         COAD  0.427+/-0.012  3.161+/-0.055\n",
       "4         ESCA  0.374+/-0.007  3.779+/-0.082\n",
       "5          GBM  0.286+/-0.012  4.659+/-0.068\n",
       "6         HNSC  0.439+/-0.014  2.739+/-0.071\n",
       "7         KIRC  0.359+/-0.022  3.449+/-0.116\n",
       "8         KIRP   0.275+/-0.01   4.016+/-0.09\n",
       "9         LIHC  0.389+/-0.014  3.145+/-0.086\n",
       "10        LUAD  0.412+/-0.018    2.9+/-0.151\n",
       "11        LUSC  0.446+/-0.013   2.72+/-0.072\n",
       "12        PCPG  0.223+/-0.015  4.437+/-0.069\n",
       "13        PRAD  0.348+/-0.014    3.125+/-0.1\n",
       "14        STAD  0.405+/-0.016  3.079+/-0.143\n",
       "15        THCA  0.252+/-0.012   4.136+/-0.06\n",
       "16        UCEC  0.454+/-0.005  2.811+/-0.043"
      ]
     },
     "execution_count": 25,
     "metadata": {},
     "output_type": "execute_result"
    }
   ],
   "source": [
    "# r = []\n",
    "# for cancer in cancers:\n",
    "#     m = np.load(f'./metrics/{cancer}_shuffled_metrics.npy')\n",
    "#     mean_loss, mean_corr = np.around(np.array([x[-1] for x in m]).mean(0), 3)\n",
    "#     std_loss, std_corr = np.round(np.array([x[-1] for x in m]).std(0), 3)\n",
    "#     r.append((cancer, f'{mean_corr}+/-{std_corr}', f'{mean_loss}+/-{std_loss}'))\n",
    "# pd.DataFrame(r, columns = ['cancer type', 'mse', 'pearson'])"
   ]
  },
  {
   "cell_type": "code",
   "execution_count": null,
   "metadata": {},
   "outputs": [],
   "source": [
    "data = Data(\n",
    "    fGEP_SGA = 'data/CITRUS_GEP_SGAseparated.csv',\n",
    "    fgene_tf_SGA = 'data/CITRUS_gene_tf_SGAseparated.csv',\n",
    "    fcancerType_SGA = 'data/CITRUS_canType_SGAseparated.csv',\n",
    "    fSGA_SGA = 'data/CITRUS_SGA_SGAseparated.csv',\n",
    "    cancer_type='BRCA'\n",
    ")\n",
    "\n",
    "train_set, test_set = data.get_train_test()\n"
   ]
  },
  {
   "cell_type": "code",
   "execution_count": 74,
   "metadata": {},
   "outputs": [
    {
     "data": {
      "text/plain": [
       "(720, 11998)"
      ]
     },
     "execution_count": 74,
     "metadata": {},
     "output_type": "execute_result"
    }
   ],
   "source": [
    "df = data.sga_sga\n",
    "X = df.values\n",
    "X.shape"
   ]
  },
  {
   "cell_type": "code",
   "execution_count": 75,
   "metadata": {},
   "outputs": [
    {
     "data": {
      "text/plain": [
       "(265, 11998)"
      ]
     },
     "execution_count": 75,
     "metadata": {},
     "output_type": "execute_result"
    }
   ],
   "source": [
    "X1 = df[(df['SM_PIK3CA']==1)]\n",
    "X1.shape"
   ]
  },
  {
   "cell_type": "code",
   "execution_count": 76,
   "metadata": {},
   "outputs": [
    {
     "data": {
      "text/plain": [
       "(455, 11998)"
      ]
     },
     "execution_count": 76,
     "metadata": {},
     "output_type": "execute_result"
    }
   ],
   "source": [
    "X0 = df[(df['SM_PIK3CA']==0)]\n",
    "X0.shape"
   ]
  },
  {
   "cell_type": "code",
   "execution_count": 30,
   "metadata": {},
   "outputs": [],
   "source": [
    "tf_profiles1 = np.load('tf_profiles_1.npy')\n",
    "tf_profiles2 = np.load('tf_profiles_2.npy')\n"
   ]
  },
  {
   "cell_type": "code",
   "execution_count": 32,
   "metadata": {},
   "outputs": [],
   "source": [
    "r = [tf_profiles1, tf_profiles2]"
   ]
  },
  {
   "cell_type": "code",
   "execution_count": 33,
   "metadata": {},
   "outputs": [],
   "source": [
    "from scipy.stats import mannwhitneyu"
   ]
  },
  {
   "cell_type": "code",
   "execution_count": 34,
   "metadata": {},
   "outputs": [
    {
     "name": "stdout",
     "output_type": "stream",
     "text": [
      "(50, 3)\n"
     ]
    }
   ],
   "source": [
    "rf = pd.DataFrame([data.gene_tf_sga.columns, \n",
    "        [mannwhitneyu(r[0][:, i][:], r[1][:, i]).pvalue * 5541 for i in range(320)]]).T.sort_values(by=1)\n",
    "\n",
    "rf.columns = ['TF', 'P']\n",
    "rf['EFFECTSIZE'] = abs(tf_profiles1.mean(0)  - tf_profiles2.mean(0))\n",
    "print(rf[rf.P < 0.05].shape)\n",
    "# rf[rf.AdjPvalue < 0.05].sort_values(by='foldchange', ascending=False)\n",
    "rf = rf[rf.P < 1]"
   ]
  },
  {
   "cell_type": "code",
   "execution_count": 35,
   "metadata": {},
   "outputs": [],
   "source": [
    "rf.P = rf.P.astype(np.float)"
   ]
  },
  {
   "cell_type": "code",
   "execution_count": 38,
   "metadata": {},
   "outputs": [
    {
     "data": {
      "text/html": [
       "<div>\n",
       "<style scoped>\n",
       "    .dataframe tbody tr th:only-of-type {\n",
       "        vertical-align: middle;\n",
       "    }\n",
       "\n",
       "    .dataframe tbody tr th {\n",
       "        vertical-align: top;\n",
       "    }\n",
       "\n",
       "    .dataframe thead th {\n",
       "        text-align: right;\n",
       "    }\n",
       "</style>\n",
       "<table border=\"1\" class=\"dataframe\">\n",
       "  <thead>\n",
       "    <tr style=\"text-align: right;\">\n",
       "      <th></th>\n",
       "      <th>TF</th>\n",
       "      <th>P</th>\n",
       "      <th>EFFECTSIZE</th>\n",
       "    </tr>\n",
       "  </thead>\n",
       "  <tbody>\n",
       "    <tr>\n",
       "      <th>294</th>\n",
       "      <td>HEY1</td>\n",
       "      <td>1.247146e-108</td>\n",
       "      <td>1.288033e-01</td>\n",
       "    </tr>\n",
       "    <tr>\n",
       "      <th>128</th>\n",
       "      <td>TCF12</td>\n",
       "      <td>5.787345e-35</td>\n",
       "      <td>7.084708e-01</td>\n",
       "    </tr>\n",
       "    <tr>\n",
       "      <th>121</th>\n",
       "      <td>NFYC</td>\n",
       "      <td>5.657469e-08</td>\n",
       "      <td>1.046785e-07</td>\n",
       "    </tr>\n",
       "    <tr>\n",
       "      <th>153</th>\n",
       "      <td>FLI1</td>\n",
       "      <td>1.543887e-06</td>\n",
       "      <td>5.049044e-01</td>\n",
       "    </tr>\n",
       "    <tr>\n",
       "      <th>83</th>\n",
       "      <td>ERG</td>\n",
       "      <td>1.681252e-06</td>\n",
       "      <td>0.000000e+00</td>\n",
       "    </tr>\n",
       "    <tr>\n",
       "      <th>...</th>\n",
       "      <td>...</td>\n",
       "      <td>...</td>\n",
       "      <td>...</td>\n",
       "    </tr>\n",
       "    <tr>\n",
       "      <th>257</th>\n",
       "      <td>ETV1</td>\n",
       "      <td>6.305362e-01</td>\n",
       "      <td>0.000000e+00</td>\n",
       "    </tr>\n",
       "    <tr>\n",
       "      <th>47</th>\n",
       "      <td>RUNX1</td>\n",
       "      <td>8.064497e-01</td>\n",
       "      <td>1.074662e-06</td>\n",
       "    </tr>\n",
       "    <tr>\n",
       "      <th>154</th>\n",
       "      <td>HIC1</td>\n",
       "      <td>8.492413e-01</td>\n",
       "      <td>4.700601e-03</td>\n",
       "    </tr>\n",
       "    <tr>\n",
       "      <th>26</th>\n",
       "      <td>HIVEP1</td>\n",
       "      <td>8.729153e-01</td>\n",
       "      <td>1.254514e-06</td>\n",
       "    </tr>\n",
       "    <tr>\n",
       "      <th>43</th>\n",
       "      <td>ETV6</td>\n",
       "      <td>9.222162e-01</td>\n",
       "      <td>2.053237e-05</td>\n",
       "    </tr>\n",
       "  </tbody>\n",
       "</table>\n",
       "<p>71 rows × 3 columns</p>\n",
       "</div>"
      ],
      "text/plain": [
       "         TF              P    EFFECTSIZE\n",
       "294    HEY1  1.247146e-108  1.288033e-01\n",
       "128   TCF12   5.787345e-35  7.084708e-01\n",
       "121    NFYC   5.657469e-08  1.046785e-07\n",
       "153    FLI1   1.543887e-06  5.049044e-01\n",
       "83      ERG   1.681252e-06  0.000000e+00\n",
       "..      ...            ...           ...\n",
       "257    ETV1   6.305362e-01  0.000000e+00\n",
       "47    RUNX1   8.064497e-01  1.074662e-06\n",
       "154    HIC1   8.492413e-01  4.700601e-03\n",
       "26   HIVEP1   8.729153e-01  1.254514e-06\n",
       "43     ETV6   9.222162e-01  2.053237e-05\n",
       "\n",
       "[71 rows x 3 columns]"
      ]
     },
     "execution_count": 38,
     "metadata": {},
     "output_type": "execute_result"
    }
   ],
   "source": [
    "rf"
   ]
  },
  {
   "cell_type": "code",
   "execution_count": 5,
   "metadata": {},
   "outputs": [],
   "source": [
    "import requests\n",
    "import json \n",
    "import pandas as pd\n",
    "\n",
    "class Enrichr(object):\n",
    "    \n",
    "    def __init__(self):\n",
    "        self.ENRICHR_URL_ADDLIST = 'https://maayanlab.cloud/Enrichr/addList'\n",
    "        self.ENRICHR_URL = 'https://maayanlab.cloud/Enrichr/enrich'\n",
    "        self.QUERY_STR = '?userListId=%s&backgroundType=%s'\n",
    "        self.libraries = [\n",
    "            'VirusMINT', \n",
    "            'GO_Biological_Process_2021', \n",
    "            'MSigDB_Hallmark_2020', \n",
    "            'KEGG_2021_Human', \n",
    "            'Reactome_2016']\n",
    "        \n",
    "    \n",
    "    def _addlist(self, module_number, geneset):\n",
    "        genes_str = '\\n'.join(geneset)\n",
    "        description = ''\n",
    "        payload = {\n",
    "            'list': (None, genes_str),\n",
    "            'description': (None, description)\n",
    "        }\n",
    "        response = requests.post(self.ENRICHR_URL_ADDLIST, files=payload)\n",
    "        data = json.loads(response.text)\n",
    "        \n",
    "        return data['userListId']\n",
    "    \n",
    "    def get_enrichment_results(self, geneset, gene_set_library = 'GO_Biological_Process_2021'):\n",
    "        user_list_id = self._addlist(geneset)\n",
    "        response = requests.get(\n",
    "        self.ENRICHR_URL + self.QUERY_STR % (user_list_id, gene_set_library))\n",
    "        data = json.loads(response.text)\n",
    "        df = pd.DataFrame(data[gene_set_library])[[1, 2, 3, 4, 5, 6]]\n",
    "        df.columns = ['Terms', 'Pval', 'OddsRatio', 'Score', 'Genes', 'AdjPval']\n",
    "        \n",
    "        return df[round(df.AdjPval, 3) < 0.05].sort_values(by='AdjPval')"
   ]
  },
  {
   "cell_type": "code",
   "execution_count": 7,
   "metadata": {},
   "outputs": [
    {
     "ename": "NameError",
     "evalue": "name 'models' is not defined",
     "output_type": "error",
     "traceback": [
      "\u001b[0;31m---------------------------------------------------------------------------\u001b[0m",
      "\u001b[0;31mNameError\u001b[0m                                 Traceback (most recent call last)",
      "\u001b[0;32m<ipython-input-7-8ce51f55e1c4>\u001b[0m in \u001b[0;36m<module>\u001b[0;34m\u001b[0m\n\u001b[0;32m----> 1\u001b[0;31m \u001b[0mmodel\u001b[0m \u001b[0;34m=\u001b[0m \u001b[0mmodels\u001b[0m\u001b[0;34m[\u001b[0m\u001b[0;36m0\u001b[0m\u001b[0;34m]\u001b[0m\u001b[0;34m\u001b[0m\u001b[0m\n\u001b[0m\u001b[1;32m      2\u001b[0m \u001b[0mtarget_gene\u001b[0m \u001b[0;34m=\u001b[0m \u001b[0;34m'PIK3CA'\u001b[0m\u001b[0;34m\u001b[0m\u001b[0m\n",
      "\u001b[0;31mNameError\u001b[0m: name 'models' is not defined"
     ]
    }
   ],
   "source": [
    "model = models[0]\n",
    "target_gene = 'PIK3CA'"
   ]
  },
  {
   "cell_type": "code",
   "execution_count": null,
   "metadata": {},
   "outputs": [],
   "source": [
    "\n",
    "\n",
    "lc = LayerConductance(model, model.ppi_layer)\n",
    "ix = list(data.gep_sga.columns).index(target_gene)\n",
    "a = lc.attribute(X, n_steps=5, attribute_to_layer_input=False, target=[ix]*len(X))\n",
    "\n",
    "ig_attr_test_sum = a.detach().numpy().sum(0)\n",
    "ig_attr_test_norm_sum = ig_attr_test_sum / np.linalg.norm(ig_attr_test_sum, ord=1)"
   ]
  },
  {
   "cell_type": "code",
   "execution_count": 6,
   "metadata": {},
   "outputs": [
    {
     "ename": "NameError",
     "evalue": "name 'model' is not defined",
     "output_type": "error",
     "traceback": [
      "\u001b[0;31m---------------------------------------------------------------------------\u001b[0m",
      "\u001b[0;31mNameError\u001b[0m                                 Traceback (most recent call last)",
      "\u001b[0;32m<ipython-input-6-cbc9fb8d95a2>\u001b[0m in \u001b[0;36m<module>\u001b[0;34m\u001b[0m\n\u001b[0;32m----> 1\u001b[0;31m \u001b[0mmodel\u001b[0m\u001b[0;34m.\u001b[0m\u001b[0mppi_layer\u001b[0m\u001b[0;34m.\u001b[0m\u001b[0mdata\u001b[0m\u001b[0;34m.\u001b[0m\u001b[0mshape\u001b[0m\u001b[0;34m\u001b[0m\u001b[0m\n\u001b[0m",
      "\u001b[0;31mNameError\u001b[0m: name 'model' is not defined"
     ]
    }
   ],
   "source": [
    "model.ppi_layer.data.shape"
   ]
  },
  {
   "cell_type": "code",
   "execution_count": null,
   "metadata": {},
   "outputs": [],
   "source": [
    "\n",
    "g = np.array(data.gene_tf_sga.columns)\n",
    "at = ig_attr_test_norm_sum"
   ]
  }
 ],
 "metadata": {
  "kernelspec": {
   "display_name": "Python 3.8.5 ('base')",
   "language": "python",
   "name": "python3"
  },
  "language_info": {
   "codemirror_mode": {
    "name": "ipython",
    "version": 3
   },
   "file_extension": ".py",
   "mimetype": "text/x-python",
   "name": "python",
   "nbconvert_exporter": "python",
   "pygments_lexer": "ipython3",
   "version": "3.8.5"
  },
  "orig_nbformat": 4,
  "vscode": {
   "interpreter": {
    "hash": "ba717acba6bbc10ecee861af44b959e6410892cef75714266950d58c109ec6e4"
   }
  }
 },
 "nbformat": 4,
 "nbformat_minor": 2
}
