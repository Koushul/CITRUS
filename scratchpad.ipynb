{
 "cells": [
  {
   "cell_type": "code",
   "execution_count": 1,
   "metadata": {},
   "outputs": [
    {
     "name": "stderr",
     "output_type": "stream",
     "text": [
      "/ihome/hosmanbeyoglu/kor11/.virtualenvs/deepbio/lib/python3.7/site-packages/tqdm/auto.py:22: TqdmWarning: IProgress not found. Please update jupyter and ipywidgets. See https://ipywidgets.readthedocs.io/en/stable/user_install.html\n",
      "  from .autonotebook import tqdm as notebook_tqdm\n"
     ]
    }
   ],
   "source": [
    "import seaborn as sns\n",
    "import matplotlib.pyplot as plt\n",
    "import numpy as np\n",
    "import pandas as pd\n",
    "import torch\n",
    "import argparse\n",
    "from utils import cfh, logger, Data, bool_ext, checkCorrelations, generate_masks_from_ppi\n",
    "import os\n",
    "import argparse\n",
    "import random\n",
    "from utils import cfh, logger, Data, bool_ext, checkCorrelations, generate_masks_from_ppi\n",
    "from biomodels import BioCitrus\n",
    "import torch\n",
    "import numpy as np\n",
    "import sys\n",
    "from biomodels import weightConstraint\n",
    "from utils import logger, get_minibatch, evaluate, EarlyStopping, shuffle_data\n",
    "from tqdm import tqdm\n",
    "\n",
    "import warnings\n",
    "warnings.filterwarnings(\"ignore\") ##This is bad but temporary"
   ]
  },
  {
   "cell_type": "code",
   "execution_count": 2,
   "metadata": {},
   "outputs": [
    {
     "name": "stderr",
     "output_type": "stream",
     "text": [
      "\u001b[38;5;39m(utils.py : 611) -     INFO | Loading data files\u001b[0m\n",
      "\u001b[38;21m(utils.py : 371) -    DEBUG | Loaded 352251 edges from the SIGNOR and SNAP Networks\u001b[0m\n",
      "\u001b[38;21m(utils.py : 395) -    DEBUG | Using induced overlap network with 10270 common genes\u001b[0m\n",
      "\u001b[38;5;39m(utils.py : 489) -     INFO | Using dense COACH clustering algorithm\u001b[0m\n",
      "\u001b[38;5;39m(utils.py : 550) -     INFO | Generated sga-ppi mask with 3862 clusters and 6533 edges\u001b[0m\n",
      "\u001b[38;5;39m(utils.py : 569) -     INFO | Generated ppi-tf mask with 3862 clusters and 268 edges\u001b[0m\n"
     ]
    }
   ],
   "source": [
    "parser = argparse.ArgumentParser()\n",
    "\n",
    "parser.add_argument(\n",
    "    \"--input_dir\", \n",
    "    help=\"directory of input files\", \n",
    "    type=str, \n",
    "    default=\"./data\"\n",
    ")\n",
    "parser.add_argument(\n",
    "    \"--output_dir\",\n",
    "    help=\"directory of output files\",\n",
    "    type=str,\n",
    "    default=\"./output\",\n",
    ")\n",
    "\n",
    "parser.add_argument(\n",
    "    \"--algo\", \n",
    "    help=\"clustering algorithm to use on the portein-protein network (DPCLUS, MCODE, COACH)\", \n",
    "    type=str, \n",
    "    default='COACH'\n",
    ")\n",
    "\n",
    "\n",
    "parser.add_argument(\n",
    "    \"--learning_rate\", \n",
    "    help=\"learning rate for Adam\", \n",
    "    type=float, \n",
    "    default=1e-2\n",
    ")\n",
    "parser.add_argument(\n",
    "    \"--max_iter\", \n",
    "    help=\"maximum number of training iterations\", \n",
    "    type=int, \n",
    "    default=300\n",
    ")\n",
    "parser.add_argument(\n",
    "    \"--max_fscore\",\n",
    "    help=\"Max F1 score to early stop model from training\",\n",
    "    type=float,\n",
    "    default=0.7\n",
    ")\n",
    "parser.add_argument(\n",
    "    \"--batch_size\", \n",
    "    help=\"training batch size\", \n",
    "    type=int, \n",
    "    default=100\n",
    ")\n",
    "parser.add_argument(\n",
    "    \"--test_batch_size\", \n",
    "    help=\"test batch size\", \n",
    "    type=int, \n",
    "    default=100\n",
    ")\n",
    "parser.add_argument(\n",
    "    \"--test_inc_size\",\n",
    "    help=\"increment interval size between log outputs\",\n",
    "    type=int,\n",
    "    default=256\n",
    ")\n",
    "parser.add_argument(\n",
    "    \"--dropout_rate\", \n",
    "    help=\"dropout rate\", \n",
    "    type=float, \n",
    "    default=0.1\n",
    ")\n",
    "\n",
    "parser.add_argument(\n",
    "    \"--weight_decay\", \n",
    "    help=\"coefficient of l2 regularizer\", \n",
    "    type=float, \n",
    "    default=1e-2\n",
    ")\n",
    "parser.add_argument(\n",
    "    \"--activation\",\n",
    "    help=\"activation function used in hidden layer\",\n",
    "    type=str,\n",
    "    default=\"tanh\",\n",
    ")\n",
    "parser.add_argument(\n",
    "    \"--patience\", \n",
    "    help=\"earlystopping patience\", \n",
    "    type=int, \n",
    "    default=20\n",
    ")\n",
    "parser.add_argument(\n",
    "    \"--mask01\",\n",
    "    help=\"wether to ignore the float value and convert mask to 01\",\n",
    "    type=bool_ext,\n",
    "    default=True,\n",
    ")\n",
    "parser.add_argument(\n",
    "    \"--gep_normalization\", \n",
    "    help=\"how to normalize gep\", \n",
    "    type=str, \n",
    "    default=\"scaleRow\"\n",
    ")\n",
    "\n",
    "parser.add_argument(\n",
    "    \"--cancer_type\",\n",
    "    help=\"whether to use cancer type or not\",\n",
    "    type=bool_ext,\n",
    "    default=False,\n",
    ")\n",
    "parser.add_argument(\n",
    "    \"--train_model\",\n",
    "    help=\"whether to train model or load model\",\n",
    "    type=bool_ext,\n",
    "    default=True,\n",
    ")\n",
    "parser.add_argument(\n",
    "    \"--dataset_name\",\n",
    "    help=\"the dataset name loaded and saved\",\n",
    "    type=str,\n",
    "    default=\"dataset_CITRUS\",\n",
    ")\n",
    "parser.add_argument(\n",
    "    \"--tag\", \n",
    "    help=\"a tag passed from command line\", \n",
    "    type=str, \n",
    "    default=\"\"\n",
    ")\n",
    "parser.add_argument(\n",
    "    \"--run_count\", \n",
    "    help=\"the count for training\", \n",
    "    type=str, \n",
    "    default=\"1\"\n",
    ")\n",
    "\n",
    "parser.add_argument(\n",
    "    \"--ppi_weights\", \n",
    "    help=\"\", \n",
    "    type=bool_ext, \n",
    "    default=False\n",
    ")\n",
    "\n",
    "parser.add_argument(\n",
    "    \"--verbose\", \n",
    "    help=\"\", \n",
    "    type=bool_ext, \n",
    "    default=False\n",
    ")\n",
    "\n",
    "parser.add_argument(\n",
    "    \"--constrain\", \n",
    "    help=\"force weight and biases to be strictly non-negative\", \n",
    "    type=bool_ext, \n",
    "    default=False\n",
    ")\n",
    "\n",
    "parser.add_argument(\n",
    "    \"--biases\", \n",
    "    help=\"enable all nn.Linear biases\", \n",
    "    type=bool_ext, \n",
    "    default=True\n",
    ")\n",
    "\n",
    "parser.add_argument(\n",
    "    \"--sparse\", \n",
    "    help=\"only use SIGNOR data, resulting in sparser connections\", \n",
    "    type=bool_ext, \n",
    "    default=False\n",
    ")\n",
    "\n",
    "args = parser.parse_args([])\n",
    "\n",
    "data = Data(\n",
    "    fGEP_SGA = 'data/CITRUS_GEP_SGAseparated.csv',\n",
    "    fgene_tf_SGA = 'data/CITRUS_gene_tf_SGAseparated.csv',\n",
    "    fcancerType_SGA = 'data/CITRUS_canType_SGAseparated.csv',\n",
    "    fSGA_SGA = 'data/CITRUS_SGA_SGAseparated.csv'\n",
    ")\n",
    "\n",
    "train_set, test_set = data.get_train_test()\n",
    "args.gep_size = train_set['gep'].shape[1]\n",
    "args.tf_gene = data.gene_tf_sga.values.T\n",
    "args.can_size = len(np.unique(data.cancer_types))\n",
    "\n",
    "\n",
    "sga_mask, sga_weights, tf_mask, tf_weights = generate_masks_from_ppi(sga = data.sga_sga, tf = data.gene_tf_sga, clust_algo=args.algo, sparse=args.sparse)\n",
    "\n",
    "\n",
    "sga_mask = sga_mask\n",
    "sga_weights = sga_weights.t()\n",
    "tf_mask = tf_mask.t()\n",
    "tf_weights = tf_weights\n"
   ]
  },
  {
   "cell_type": "code",
   "execution_count": 3,
   "metadata": {},
   "outputs": [
    {
     "name": "stderr",
     "output_type": "stream",
     "text": [
      "\u001b[38;21m(biomodels.py : 103) -    DEBUG | sga_layer.0.mask | False | (3862, 11998)\u001b[0m\n",
      "\u001b[38;21m(biomodels.py : 103) -    DEBUG | sga_layer.0.weight | True | (3862, 11998)\u001b[0m\n",
      "\u001b[38;21m(biomodels.py : 103) -    DEBUG | tf_layer.0.mask | False | (320, 3862)\u001b[0m\n",
      "\u001b[38;21m(biomodels.py : 103) -    DEBUG | tf_layer.0.weight | True | (320, 3862)\u001b[0m\n",
      "\u001b[38;21m(biomodels.py : 103) -    DEBUG | tf_layer.0.bias | True | (320,)\u001b[0m\n",
      "\u001b[38;21m(biomodels.py : 103) -    DEBUG | gep_output_layer.weight | True | (5541, 320)\u001b[0m\n",
      "\u001b[38;21m(biomodels.py : 105) -    DEBUG | Constraints Enabled: False\u001b[0m\n",
      "\u001b[38;21m(biomodels.py : 106) -    DEBUG | Biases Enabled: True\u001b[0m\n"
     ]
    },
    {
     "name": "stdout",
     "output_type": "stream",
     "text": [
      "\n"
     ]
    }
   ],
   "source": [
    "model = BioCitrus(\n",
    "    args = args, \n",
    "    sga_ppi_mask = sga_mask, \n",
    "    ppi_tf_mask = tf_mask, \n",
    "    sga_ppi_weights = None, \n",
    "    ppi_tf_weights = None,\n",
    "    enable_bias = True\n",
    ")"
   ]
  },
  {
   "cell_type": "code",
   "execution_count": 4,
   "metadata": {},
   "outputs": [],
   "source": [
    "from captum.attr import LayerConductance, LayerActivation, LayerIntegratedGradients\n",
    "from captum.attr import IntegratedGradients"
   ]
  },
  {
   "cell_type": "code",
   "execution_count": 5,
   "metadata": {},
   "outputs": [
    {
     "name": "stderr",
     "output_type": "stream",
     "text": [
      "\u001b[38;21m(biomodels.py : 103) -    DEBUG | sga_layer.0.mask | False | (3862, 11998)\u001b[0m\n",
      "\u001b[38;21m(biomodels.py : 103) -    DEBUG | sga_layer.0.weight | True | (3862, 11998)\u001b[0m\n",
      "\u001b[38;21m(biomodels.py : 103) -    DEBUG | tf_layer.0.mask | False | (320, 3862)\u001b[0m\n",
      "\u001b[38;21m(biomodels.py : 103) -    DEBUG | tf_layer.0.weight | True | (320, 3862)\u001b[0m\n",
      "\u001b[38;21m(biomodels.py : 103) -    DEBUG | tf_layer.0.bias | True | (320,)\u001b[0m\n",
      "\u001b[38;21m(biomodels.py : 103) -    DEBUG | gep_output_layer.weight | True | (5541, 320)\u001b[0m\n",
      "\u001b[38;21m(biomodels.py : 105) -    DEBUG | Constraints Enabled: False\u001b[0m\n",
      "\u001b[38;21m(biomodels.py : 106) -    DEBUG | Biases Enabled: True\u001b[0m\n"
     ]
    },
    {
     "name": "stdout",
     "output_type": "stream",
     "text": [
      "\n"
     ]
    },
    {
     "data": {
      "text/plain": [
       "<All keys matched successfully>"
      ]
     },
     "execution_count": 5,
     "metadata": {},
     "output_type": "execute_result"
    }
   ],
   "source": [
    "model = BioCitrus(\n",
    "    args = args, \n",
    "    sga_ppi_mask = sga_mask, \n",
    "    ppi_tf_mask = tf_mask, \n",
    "    sga_ppi_weights = None, \n",
    "    ppi_tf_weights = None,\n",
    "    enable_bias = args.biases\n",
    ")\n",
    "\n",
    "model.load_state_dict(torch.load('model.pth', map_location=torch.device('cpu')))"
   ]
  },
  {
   "cell_type": "code",
   "execution_count": 6,
   "metadata": {},
   "outputs": [
    {
     "data": {
      "text/plain": [
       "BioCitrus(\n",
       "  (sga_layer): Sequential(\n",
       "    (0): MaskedBioLayer(input_features=11998, output_features=3862, bias=False)\n",
       "    (1): Tanh()\n",
       "    (2): Dropout(p=0.1, inplace=False)\n",
       "  )\n",
       "  (tf_layer): Sequential(\n",
       "    (0): MaskedBioLayer(input_features=3862, output_features=320, bias=True)\n",
       "    (1): Tanh()\n",
       "    (2): Dropout(p=0.1, inplace=False)\n",
       "  )\n",
       "  (gep_output_layer): Linear(in_features=320, out_features=5541, bias=False)\n",
       "  (criterion): MSELoss()\n",
       ")"
      ]
     },
     "execution_count": 6,
     "metadata": {},
     "output_type": "execute_result"
    }
   ],
   "source": [
    "model.eval()"
   ]
  },
  {
   "cell_type": "code",
   "execution_count": 7,
   "metadata": {},
   "outputs": [
    {
     "data": {
      "text/plain": [
       "['BRCA2',\n",
       " 'PALB2',\n",
       " 'TERT',\n",
       " 'CHEK2',\n",
       " 'BRIP1',\n",
       " 'MYC',\n",
       " 'PIK3CA',\n",
       " 'ATM',\n",
       " 'ESR1',\n",
       " 'BRCA1',\n",
       " 'CCND1',\n",
       " 'TP53',\n",
       " 'CASP8',\n",
       " 'NOTCH2']"
      ]
     },
     "execution_count": 7,
     "metadata": {},
     "output_type": "execute_result"
    }
   ],
   "source": [
    "breast_cancer_genes = list(set(data.gep_sga.columns).intersection(\n",
    "    set(\n",
    "        ['BRCA1', 'BRCA2', 'CHEK2', 'ATM', 'PALB2', 'BRIP1',\n",
    "        'ESR1', 'NRIP1', 'TP53', 'MYC', 'PIK3CA', 'NOTCH2', 'CCND1', 'FGF', 'CDKN2A'\n",
    "        'CDKN2B', 'CASP8', 'TERT', 'PAX9']\n",
    "    )))\n",
    "\n",
    "breast_cancer_genes"
   ]
  },
  {
   "cell_type": "code",
   "execution_count": 8,
   "metadata": {},
   "outputs": [
    {
     "data": {
      "text/plain": [
       "torch.Size([1974, 11998])"
      ]
     },
     "execution_count": 8,
     "metadata": {},
     "output_type": "execute_result"
    }
   ],
   "source": [
    "X = torch.tensor(test_set['sga'])\n",
    "X.shape"
   ]
  },
  {
   "cell_type": "code",
   "execution_count": 9,
   "metadata": {},
   "outputs": [
    {
     "data": {
      "text/plain": [
       "(1974, 5541)"
      ]
     },
     "execution_count": 9,
     "metadata": {},
     "output_type": "execute_result"
    }
   ],
   "source": [
    "Y = test_set['gep']\n",
    "Y.shape"
   ]
  },
  {
   "cell_type": "code",
   "execution_count": 10,
   "metadata": {},
   "outputs": [
    {
     "name": "stderr",
     "output_type": "stream",
     "text": [
      "NOTCH2 : 100%|██████████| 14/14 [04:12<00:00, 18.06s/it]\n"
     ]
    }
   ],
   "source": [
    "attr_scores = []\n",
    "ig = IntegratedGradients(model)\n",
    "pbar = tqdm(total= len(breast_cancer_genes))\n",
    "for g in breast_cancer_genes:\n",
    "    pbar.set_description(f'{g} ')\n",
    "    idx = list(data.gep_sga.columns).index(g)\n",
    "    ig_attr_test = ig.attribute(X[:500], target=[idx]*len(X[:500]))\n",
    "    ig_attr_test_sum = ig_attr_test.detach().numpy().sum(0)\n",
    "    ig_attr_test_norm_sum = ig_attr_test_sum / np.linalg.norm(ig_attr_test_sum, ord=1)\n",
    "    attr_scores.append(ig_attr_test_norm_sum)\n",
    "    pbar.update()\n",
    "\n",
    "pbar.close()"
   ]
  },
  {
   "cell_type": "code",
   "execution_count": 11,
   "metadata": {},
   "outputs": [],
   "source": [
    "df = pd.DataFrame(np.array(attr_scores))\n",
    "df.index = breast_cancer_genes\n",
    "df.columns = data.alterations\n",
    "df = df.T"
   ]
  },
  {
   "cell_type": "code",
   "execution_count": 12,
   "metadata": {},
   "outputs": [],
   "source": [
    "d = df.loc[df.var(1) != 0]"
   ]
  },
  {
   "cell_type": "code",
   "execution_count": 15,
   "metadata": {},
   "outputs": [
    {
     "data": {
      "text/plain": [
       "<AxesSubplot:>"
      ]
     },
     "execution_count": 15,
     "metadata": {},
     "output_type": "execute_result"
    },
    {
     "data": {
      "image/png": "[encoded data removed]",
      "text/plain": [
       "<Figure size 864x432 with 1 Axes>"
      ]
     },
     "metadata": {
      "needs_background": "light"
     },
     "output_type": "display_data"
    }
   ],
   "source": [
    "d['PIK3CA'].sort_values(ascending=False)[:15].plot(kind='bar', figsize=(12,6))"
   ]
  },
  {
   "cell_type": "code",
   "execution_count": 17,
   "metadata": {},
   "outputs": [
    {
     "data": {
      "text/plain": [
       "<AxesSubplot:>"
      ]
     },
     "execution_count": 17,
     "metadata": {},
     "output_type": "execute_result"
    },
    {
     "data": {
      "image/png": "[encoded data removed]",
      "text/plain": [
       "<Figure size 432x288 with 1 Axes>"
      ]
     },
     "metadata": {
      "needs_background": "light"
     },
     "output_type": "display_data"
    }
   ],
   "source": [
    "d.sum(1).sort_values(ascending=False)[:20].plot(kind='bar')"
   ]
  },
  {
   "cell_type": "code",
   "execution_count": 21,
   "metadata": {},
   "outputs": [],
   "source": [
    "lc = LayerConductance(model, model.gep_output_layer)"
   ]
  },
  {
   "cell_type": "code",
   "execution_count": 22,
   "metadata": {},
   "outputs": [
    {
     "data": {
      "text/plain": [
       "torch.Size([5541, 320])"
      ]
     },
     "execution_count": 22,
     "metadata": {},
     "output_type": "execute_result"
    }
   ],
   "source": [
    "model.gep_output_layer.weight.shape"
   ]
  },
  {
   "cell_type": "code",
   "execution_count": 23,
   "metadata": {},
   "outputs": [],
   "source": [
    "a = lc.attribute(X[:500], n_steps=100, attribute_to_layer_input=True, target=[5056]*len(X[:500]))"
   ]
  },
  {
   "cell_type": "code",
   "execution_count": 24,
   "metadata": {},
   "outputs": [
    {
     "data": {
      "text/plain": [
       "torch.Size([500, 320])"
      ]
     },
     "execution_count": 24,
     "metadata": {},
     "output_type": "execute_result"
    }
   ],
   "source": [
    "a.shape"
   ]
  },
  {
   "cell_type": "code",
   "execution_count": 25,
   "metadata": {},
   "outputs": [],
   "source": [
    "ig_attr_test_sum = a.detach().numpy().sum(0)\n",
    "ig_attr_test_norm_sum = ig_attr_test_sum / np.linalg.norm(ig_attr_test_sum, ord=1)"
   ]
  },
  {
   "cell_type": "code",
   "execution_count": 26,
   "metadata": {},
   "outputs": [
    {
     "data": {
      "text/plain": [
       "(320,)"
      ]
     },
     "execution_count": 26,
     "metadata": {},
     "output_type": "execute_result"
    }
   ],
   "source": [
    "ig_attr_test_norm_sum.shape"
   ]
  },
  {
   "cell_type": "code",
   "execution_count": 27,
   "metadata": {},
   "outputs": [],
   "source": [
    "with open('/ihome/hosmanbeyoglu/kor11/tools/CITRUS/COACH_clusters_large.txt', \"r\") as fh:\n",
    "        lines = fh.readlines()\n",
    "        clusterindex_to_genes = {}\n",
    "        for i, c in enumerate(lines):\n",
    "            clustlist = c.strip().split(\" \")\n",
    "            if len(c) == 0:\n",
    "                continue\n",
    "            clusterindex_to_genes[i] = clustlist \n",
    "\n",
    "from collections import defaultdict\n",
    "gene_to_clusterindices = defaultdict(list) ## 'MAPK1':[0, 75, 129, 373]\n",
    "\n",
    "## Create mapping between genes and the protein clusters\n",
    "for c in clusterindex_to_genes.keys():\n",
    "    for g in clusterindex_to_genes[c]:\n",
    "        gene_to_clusterindices[g].append(c)  "
   ]
  },
  {
   "cell_type": "code",
   "execution_count": 31,
   "metadata": {},
   "outputs": [
    {
     "data": {
      "text/plain": [
       "(320,)"
      ]
     },
     "execution_count": 31,
     "metadata": {},
     "output_type": "execute_result"
    }
   ],
   "source": [
    "data.gene_tf_sga.columns.shape"
   ]
  },
  {
   "cell_type": "code",
   "execution_count": 28,
   "metadata": {},
   "outputs": [],
   "source": [
    "g = np.array(data.gene_tf_sga.columns)[np.where(ig_attr_test_norm_sum != 0)[0]]\n",
    "at = ig_attr_test_norm_sum[np.where(ig_attr_test_norm_sum != 0)[0]]"
   ]
  },
  {
   "cell_type": "code",
   "execution_count": 29,
   "metadata": {},
   "outputs": [
    {
     "data": {
      "text/plain": [
       "((40,), (40,))"
      ]
     },
     "execution_count": 29,
     "metadata": {},
     "output_type": "execute_result"
    }
   ],
   "source": [
    "at.shape, g.shape"
   ]
  },
  {
   "cell_type": "code",
   "execution_count": 30,
   "metadata": {},
   "outputs": [
    {
     "data": {
      "text/html": [
       "<div>\n",
       "<style scoped>\n",
       "    .dataframe tbody tr th:only-of-type {\n",
       "        vertical-align: middle;\n",
       "    }\n",
       "\n",
       "    .dataframe tbody tr th {\n",
       "        vertical-align: top;\n",
       "    }\n",
       "\n",
       "    .dataframe thead th {\n",
       "        text-align: right;\n",
       "    }\n",
       "</style>\n",
       "<table border=\"1\" class=\"dataframe\">\n",
       "  <thead>\n",
       "    <tr style=\"text-align: right;\">\n",
       "      <th></th>\n",
       "      <th>0</th>\n",
       "      <th>1</th>\n",
       "    </tr>\n",
       "  </thead>\n",
       "  <tbody>\n",
       "    <tr>\n",
       "      <th>31</th>\n",
       "      <td>SMARCC1</td>\n",
       "      <td>0.230398</td>\n",
       "    </tr>\n",
       "    <tr>\n",
       "      <th>17</th>\n",
       "      <td>FOXO3</td>\n",
       "      <td>0.180637</td>\n",
       "    </tr>\n",
       "    <tr>\n",
       "      <th>37</th>\n",
       "      <td>E2F1</td>\n",
       "      <td>0.163905</td>\n",
       "    </tr>\n",
       "    <tr>\n",
       "      <th>20</th>\n",
       "      <td>RUNX2</td>\n",
       "      <td>0.135669</td>\n",
       "    </tr>\n",
       "    <tr>\n",
       "      <th>5</th>\n",
       "      <td>SMARCC2</td>\n",
       "      <td>0.110729</td>\n",
       "    </tr>\n",
       "    <tr>\n",
       "      <th>21</th>\n",
       "      <td>FLI1</td>\n",
       "      <td>0.0564972</td>\n",
       "    </tr>\n",
       "    <tr>\n",
       "      <th>13</th>\n",
       "      <td>NFE2L2</td>\n",
       "      <td>0.0509953</td>\n",
       "    </tr>\n",
       "    <tr>\n",
       "      <th>7</th>\n",
       "      <td>FOXO1</td>\n",
       "      <td>0.0495939</td>\n",
       "    </tr>\n",
       "    <tr>\n",
       "      <th>15</th>\n",
       "      <td>RUNX3</td>\n",
       "      <td>0.0110788</td>\n",
       "    </tr>\n",
       "    <tr>\n",
       "      <th>2</th>\n",
       "      <td>TCF7L2</td>\n",
       "      <td>0.00878923</td>\n",
       "    </tr>\n",
       "    <tr>\n",
       "      <th>30</th>\n",
       "      <td>ZEB1</td>\n",
       "      <td>0.00142094</td>\n",
       "    </tr>\n",
       "    <tr>\n",
       "      <th>22</th>\n",
       "      <td>DNMT1</td>\n",
       "      <td>0.000246875</td>\n",
       "    </tr>\n",
       "    <tr>\n",
       "      <th>4</th>\n",
       "      <td>FOSL1</td>\n",
       "      <td>1.65202e-05</td>\n",
       "    </tr>\n",
       "    <tr>\n",
       "      <th>28</th>\n",
       "      <td>MZF1</td>\n",
       "      <td>8.48457e-06</td>\n",
       "    </tr>\n",
       "    <tr>\n",
       "      <th>39</th>\n",
       "      <td>FUBP1</td>\n",
       "      <td>8.41786e-06</td>\n",
       "    </tr>\n",
       "  </tbody>\n",
       "</table>\n",
       "</div>"
      ],
      "text/plain": [
       "          0            1\n",
       "31  SMARCC1     0.230398\n",
       "17    FOXO3     0.180637\n",
       "37     E2F1     0.163905\n",
       "20    RUNX2     0.135669\n",
       "5   SMARCC2     0.110729\n",
       "21     FLI1    0.0564972\n",
       "13   NFE2L2    0.0509953\n",
       "7     FOXO1    0.0495939\n",
       "15    RUNX3    0.0110788\n",
       "2    TCF7L2   0.00878923\n",
       "30     ZEB1   0.00142094\n",
       "22    DNMT1  0.000246875\n",
       "4     FOSL1  1.65202e-05\n",
       "28     MZF1  8.48457e-06\n",
       "39    FUBP1  8.41786e-06"
      ]
     },
     "execution_count": 30,
     "metadata": {},
     "output_type": "execute_result"
    }
   ],
   "source": [
    "df = pd.DataFrame([g, at]).T\n",
    "df.sort_values(by=1, ascending=False)[:15]"
   ]
  },
  {
   "cell_type": "code",
   "execution_count": 40,
   "metadata": {},
   "outputs": [
    {
     "name": "stdout",
     "output_type": "stream",
     "text": [
      "KLF5\n",
      "GRIP1\n",
      "TGIF2\n",
      "EP300\n",
      "VIM\n",
      "YY1\n",
      "RUNX1\n",
      "SAP130\n",
      "SKIL\n",
      "KDM5C\n",
      "MAFK\n",
      "ACTB\n",
      "SUV39H1\n",
      "SMARCA4\n",
      "PIN1\n",
      "ZEB1\n",
      "TGIF1\n",
      "SMAD3\n",
      "HIPK2\n",
      "FOXG1\n",
      "SMARCC2\n",
      "CEBPA\n",
      "HDAC5\n",
      "FOXO3\n",
      "HIF1A\n",
      "ZBTB16\n",
      "EID2\n",
      "ZMYM2\n",
      "SMARCC1\n",
      "CDKN1A\n",
      "ARID1A\n",
      "RUNX3\n",
      "MBD1\n",
      "SMAD7\n",
      "CTNNB1\n",
      "FOXP3\n",
      "HSPA8\n",
      "BRCA2\n",
      "SMAD1\n",
      "TP73\n",
      "DACH1\n",
      "HDAC1\n",
      "TP53\n",
      "CEBPD\n",
      "RBL1\n",
      "PLAGL1\n",
      "JUN\n",
      "SMAD5\n",
      "PPP2R1A\n",
      "ESR1\n",
      "BUB3\n",
      "RELA\n",
      "PML\n",
      "DDX5\n",
      "SMAD4\n",
      "LEF1\n",
      "NOTCH1\n",
      "SMAD2\n",
      "PIAS3\n",
      "MECOM\n",
      "CREBBP\n",
      "ATF3\n",
      "SIN3A\n",
      "GLI3\n",
      "NFYC\n",
      "FLI1\n",
      "BACH1\n",
      "MAPK8\n",
      "MAPK9\n",
      "ZEB2\n",
      "ZMYND11\n",
      "CEBPB\n",
      "PPARG\n",
      "RUNX2\n",
      "VDR\n",
      "NCOR1\n",
      "AR\n",
      "E2F5\n",
      "CDH1\n",
      "BRCA1\n",
      "E2F4\n",
      "SKI\n",
      "MYC\n",
      "MAPK14\n",
      "MEN1\n",
      "HSPA4\n",
      "PIK3CA\n",
      "NR3C1\n"
     ]
    }
   ],
   "source": [
    "for i in clusterindex_to_genes[2118]:\n",
    "    print(i)"
   ]
  },
  {
   "cell_type": "code",
   "execution_count": null,
   "metadata": {},
   "outputs": [],
   "source": []
  }
 ],
 "metadata": {
  "interpreter": {
   "hash": "6acab715838f00affcecba94e2037a8e32fb53ad3a082152ed1c0f4b0ff3b1f7"
  },
  "kernelspec": {
   "display_name": "Python 3.7.0 ('deepbio')",
   "language": "python",
   "name": "python3"
  },
  "language_info": {
   "codemirror_mode": {
    "name": "ipython",
    "version": 3
   },
   "file_extension": ".py",
   "mimetype": "text/x-python",
   "name": "python",
   "nbconvert_exporter": "python",
   "pygments_lexer": "ipython3",
   "version": "3.7.0"
  },
  "orig_nbformat": 4
 },
 "nbformat": 4,
 "nbformat_minor": 2
}
